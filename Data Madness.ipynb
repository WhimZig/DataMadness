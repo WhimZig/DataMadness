{
 "cells": [
  {
   "cell_type": "code",
   "execution_count": 12,
   "id": "b66d8631",
   "metadata": {},
   "outputs": [],
   "source": [
    "import requests\n",
    "from bs4 import BeautifulSoup\n",
    "import pandas as pd\n",
    "import numpy as np\n",
    "from typing import List, Tuple"
   ]
  },
  {
   "cell_type": "markdown",
   "id": "dbfe021d",
   "metadata": {},
   "source": [
    "## To-Do\n",
    "* Tag Teams\n",
    "* Stables\n",
    "* Trainer\n",
    "* Finisher\n",
    "* Trademark Moves"
   ]
  },
  {
   "cell_type": "code",
   "execution_count": 14,
   "id": "4f29c239-ea56-4fc0-a597-233f18acdc48",
   "metadata": {},
   "outputs": [],
   "source": [
    "def getGeneralInfo(wrestlerID: int) -> Tuple[pd.DataFrame, pd.DataFrame]:\n",
    "    \"\"\"\n",
    "        Arguments:\n",
    "            wrestlerID: wrestlingdata index for this wrestler, minimum is 1, maximum is 30195\n",
    "            \n",
    "        Returns:\n",
    "            GeneralInfo, Facts\n",
    "    \"\"\"\n",
    "    A = requests.get('https://www.wrestlingdata.com/index.php?befehl=bios&wrestler=%d'%wrestlerID)\n",
    "    wrestler = BeautifulSoup(A.text, 'html.parser')\n",
    "    children = list(wrestler.find(title=\"General Information\").parent.parent.children)\n",
    "    GeneralInfo = {c.attrs['title'] : [list(c.children)[3].text.strip('\\n')] for c in wrestler.find(title=\"General Information\").parent.parent.children if 'attrs' in c.__dict__ and 'title' in c.attrs}\n",
    "    wrestler_name = list(wrestler.find(style=\"width:100%;\", cellpadding=\"4\", cellspacing=\"2\").children)[1].find(style=\"font-size: 14px;\").text.strip('\\n')\n",
    "    res = pd.DataFrame(GeneralInfo, index = [wrestlerID])\n",
    "    res['wrestler_name'] = [wrestler_name]\n",
    "    tables2 = wrestler.find(title='Facts')\n",
    "    B = pd.read_html(str(list(list(tables2.parent.parent.parent.parent.parent.children)[3].children)[1].table))\n",
    "    return res.transpose(), B[0]"
   ]
  },
  {
   "cell_type": "code",
   "execution_count": 15,
   "id": "4b21018d-f61b-4ccc-a1ac-3492ab091e99",
   "metadata": {},
   "outputs": [],
   "source": [
    "def get50wrestlers(top_index: int) -> List[int]:\n",
    "    \"\"\"\n",
    "        Arguments:\n",
    "            top_index: the index of the 'Rankings' page, minimum is 1, maximum is 105\n",
    "        \n",
    "        Returns:\n",
    "            A list of wrestlerID's corresponding to the list of wrestlers on the Rankings page with the given page number \"top_index\"\n",
    "    \"\"\"\n",
    "    B = requests.get('https://www.wrestlingdata.com/index.php?befehl=bios&letter=2&seite=%d'%top_index)\n",
    "    wrestlerlist = BeautifulSoup(B.text, 'html.parser')\n",
    "    return [int(list(list(x.children)[2].children)[1].attrs['href'][32:]) for x in list(wrestlerlist.find(title=\"Liste der Wrestler\").children)[3:]]"
   ]
  },
  {
   "cell_type": "code",
   "execution_count": 16,
   "id": "96021c50-cead-45f1-a1e6-861fe3099225",
   "metadata": {},
   "outputs": [],
   "source": [
    "def getSample(sample_indices: List[int]) -> Tuple[pd.DataFrame, pd.DataFrame]:\n",
    "    \"\"\"\n",
    "        Arguments:\n",
    "            sample_indices: A list of wrestlerID's to be used as index for this sample\n",
    "        \n",
    "        Returns:\n",
    "            generalInfo, allFacts\n",
    "    \"\"\"\n",
    "    sample_GeneralInfo = [None for _ in range(len(sample_indices))]\n",
    "    sample_Facts = [None for _ in range(len(sample_indices))]\n",
    "    for i in range(len(sample_indices)):\n",
    "        sample_GeneralInfo[i], sample_Facts[i] = getGeneralInfo(sample_indices[i])\n",
    "    generalInfo = pd.concat([x.transpose() for x in sample_GeneralInfo])\n",
    "    \n",
    "    res = pd.Index([])\n",
    "    for x in sample_Facts:\n",
    "        res = pd.concat([pd.Series(res), pd.Series(x[0].value_counts().index)])\n",
    "    fact_columns = res.value_counts().index\n",
    "    likely_columns = [x for x in fact_columns if len(x) < 40]\n",
    "    ts = [None for _ in generalInfo.index]\n",
    "    for i in range(len(generalInfo.index)):\n",
    "        t = sample_Facts[i].groupby(0).agg(**{\"%d\"%generalInfo.index[i]: (1, set)})\n",
    "        ts[i] = t.loc[t.index.intersection(likely_columns)].transpose()\n",
    "    allFacts = pd.concat(ts)\n",
    "    return generalInfo, allFacts"
   ]
  },
  {
   "cell_type": "code",
   "execution_count": 5,
   "id": "e510ce48-04e0-4c6a-b180-c244fed12eb9",
   "metadata": {},
   "outputs": [],
   "source": [
    "indices = [1,2,3] # take top 150 wrestlers of all time\n",
    "w150 = []\n",
    "for i in indices:\n",
    "    w150 += get50wrestlers(i)"
   ]
  },
  {
   "cell_type": "code",
   "execution_count": 6,
   "id": "b3d90b9d-c3b6-45d1-8ff7-08818e520614",
   "metadata": {},
   "outputs": [],
   "source": [
    "generalInfo, allFacts = getSample(w150)"
   ]
  },
  {
   "cell_type": "code",
   "execution_count": 7,
   "id": "eadb1121-7305-49a8-894d-3eda7ea876a2",
   "metadata": {},
   "outputs": [],
   "source": [
    "fact_counts = pd.DataFrame({col: allFacts[col].apply(lambda x : x.__len__() if type(x) == set else 0) for col in allFacts.columns})"
   ]
  },
  {
   "cell_type": "code",
   "execution_count": 8,
   "id": "95408d98-0548-44e4-8231-130f6240d732",
   "metadata": {},
   "outputs": [],
   "source": [
    "fact_counts.to_csv('facts_counts.csv')"
   ]
  }
 ],
 "metadata": {
  "kernelspec": {
   "display_name": "Python 3 (ipykernel)",
   "language": "python",
   "name": "python3"
  },
  "language_info": {
   "codemirror_mode": {
    "name": "ipython",
    "version": 3
   },
   "file_extension": ".py",
   "mimetype": "text/x-python",
   "name": "python",
   "nbconvert_exporter": "python",
   "pygments_lexer": "ipython3",
   "version": "3.9.7"
  }
 },
 "nbformat": 4,
 "nbformat_minor": 5
}
