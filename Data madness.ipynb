{
 "cells": [
  {
   "cell_type": "code",
   "execution_count": 108,
   "metadata": {
    "collapsed": true
   },
   "outputs": [],
   "source": [
    "import pandas as pd\n",
    "import numpy as np\n",
    "from unidecode import unidecode"
   ]
  },
  {
   "cell_type": "markdown",
   "source": [
    "# Cleaning up the data\n",
    "\n",
    "The first step will be to clean up (more) the two datasets. The code is given, but the general idea of the cleaning is just to make the data easier to parse.\n",
    "\n",
    "## Cleaning wrestler info\n",
    "\n",
    "We'll start with cleaning up the wrestling info that's contained. The first two methods are just helper methods used later, the core of the cleaning is in the clean_wrestler _info method.\n",
    "\n"
   ],
   "metadata": {
    "collapsed": false,
    "pycharm": {
     "name": "#%% md\n"
    }
   }
  },
  {
   "cell_type": "code",
   "execution_count": 109,
   "outputs": [],
   "source": [
    "def country_simplifier(row):\n",
    "    \"\"\"Due to the countries where pro wrestling is more popular, we will simplify the countries. This is mainly using only the 'main' wrestling countries, and leaving the others as 'other'.\n",
    "\n",
    "    The decision on keeping these 4 countries (USA, Japan, Mexico, and UK) as the 'main' wrestling countries was done due to knowledge of the field, as well as information obtained from the 5 star match dataframe.\n",
    "\n",
    "    This is also to deal with issues of the names being mispelled for whatever reason\"\"\"\n",
    "    if (row['Birth Country'] == 'United States of America') or (row['Birth Country'] == 'United States of Americ'):\n",
    "        return 'USA'\n",
    "    elif (row['Birth Country'] == 'Canada') or (row['Birth Country'] == 'Canad'):\n",
    "        # Because of how canada and US are linked in wrestling world, I'll mark the two together\n",
    "        return 'USA'\n",
    "    elif (row['Birth Country'] == 'Japa') or (row['Birth Country'] == 'Japan'):\n",
    "        return 'Japan'\n",
    "    elif (row['Birth Country'] == 'Mexico') or (row['Birth Country'] == 'Mexic'):\n",
    "        return 'Mexico'\n",
    "    elif (row['Birth Country'] == 'United Kingdom') or (row['Birth Country'] == 'United Kingdo'):\n",
    "        return 'UK'\n",
    "    else:\n",
    "        return 'Other'"
   ],
   "metadata": {
    "collapsed": false,
    "pycharm": {
     "name": "#%%\n"
    }
   }
  },
  {
   "cell_type": "code",
   "execution_count": 110,
   "outputs": [],
   "source": [
    "def extract_country(str_to_eval):\n",
    "    \"\"\"Birthplace has the country hidden inside, so this method exists to extract whatever the country might be.\n",
    "\n",
    "    This method was done because sometimes the place has extra location info (IE the city, or state), sometimes it's just a country. So an extra method is needed to distinguish between these two cases\"\"\"\n",
    "    #print(str_to_eval)\n",
    "    # should check if the string is empty?\n",
    "\n",
    "    start_index = str_to_eval.find('(')\n",
    "\n",
    "    # Start index being -1 means there's no (, so I'll assume that if there's no (, then the birthplace is already a country\n",
    "    if start_index == -1:\n",
    "        return str_to_eval\n",
    "    else:\n",
    "        # Have to increase it by one, I don't care about the (, but what's inside them\n",
    "        start_index += 1\n",
    "        end_index = str_to_eval.find(\")\")\n",
    "        return str_to_eval[start_index: end_index]\n"
   ],
   "metadata": {
    "collapsed": false,
    "pycharm": {
     "name": "#%%\n"
    }
   }
  },
  {
   "cell_type": "code",
   "execution_count": 111,
   "outputs": [],
   "source": [
    "def clean_wrestler_info(wrestler_info: pd.DataFrame):\n",
    "    \"\"\"Method to make the general wreslter info easier to parse\n",
    "\n",
    "    Modifies it in place, so it does not return anything\"\"\"\n",
    "    # This adds the country of birth as a column to the dataframe\n",
    "    # Done because country is usually easier to work with\n",
    "    birth_countries = wrestler_info[~wrestler_info['Birthplace'].isnull()]['Birthplace'].apply(extract_country)\n",
    "    wrestler_info['Birth Country'] = birth_countries\n",
    "\n",
    "    # Obtains the height and weight, and allows them to be input into the system\n",
    "    height_and_weight = wrestler_info[~wrestler_info['Weight and Height'].isnull()]['Weight and Height'].str.split('at', expand=True)\n",
    "\n",
    "    # Processing the weight\n",
    "    weight = height_and_weight[~height_and_weight[0].isnull()][0].apply(lambda st: st[st.find(\"(\")+1:st.find(\")\")])\n",
    "    weight = pd.to_numeric(weight.str[:-3], errors='coerce')\n",
    "    weight = weight[~weight.isnull()]\n",
    "    wrestler_info['Weight'] = weight\n",
    "\n",
    "    # Processing the height\n",
    "    height = height_and_weight[~height_and_weight[1].isnull()][1].apply(lambda st: st[st.find(\"(\")+1:st.find(\")\")])\n",
    "    height = pd.to_numeric(height.str[:-2], errors='coerce')\n",
    "    height = height[~height.isnull()]\n",
    "    wrestler_info['Height'] = height\n",
    "\n",
    "    wrestler_info.drop(['Weight and Height'], axis=1, inplace=True)\n",
    "\n",
    "    # Date of birth, debut, and death are contained in a weird string format. These lines take care of\n",
    "    # cleaning stuff up and transforming the inputs into datetime values. Which makes later operations easier\n",
    "    dob = wrestler_info['Date of Birth'].str.replace(r\"\\(.*\\)\",\"\", regex=True)\n",
    "    dob = pd.to_datetime(dob, errors='coerce')\n",
    "\n",
    "    debut = wrestler_info['Debut'].str.replace(r\"\\(.*\\)\",\"\", regex=True)\n",
    "    debut = pd.to_datetime(debut, errors='coerce')\n",
    "\n",
    "    death = wrestler_info['Date of Death'].str.replace(r\"\\(.*\\)\",\"\", regex=True)\n",
    "    death = pd.to_datetime(death, errors='coerce')\n",
    "\n",
    "    wrestler_info['Date of Birth'] = dob\n",
    "    wrestler_info['Debut'] = debut\n",
    "    wrestler_info['Date of Death'] = death\n",
    "\n",
    "    # Region based on the 'main' wrestling countries that was explained earlier on\n",
    "    wrestler_info['Region'] = wrestler_info.apply(lambda row: country_simplifier(row), axis=1)\n",
    "\n",
    "    # New column on whether the real name is known or not\n",
    "    wrestler_info['Name Known'] = np.where(wrestler_info['Real Name'] == 'unknown', False, True)\n",
    "\n",
    "    # Age when they had their debut\n",
    "    wrestler_info['Debut Age'] = ((wrestler_info['Debut'] - wrestler_info['Date of Birth']) / np.timedelta64(1, 'Y')).apply(np.floor)\n",
    "\n",
    "    # These columns aren't useful with the way we parsed them, so I'm just getting rid of them.\n",
    "    # Matches fought would've had the number of matches, but with the way we extracted it, it just told us if they had a match (which everyone did)\n",
    "    # Typical errors was used mainly for typos related to the wrestler's name\n",
    "    wrestler_info.drop(['Matches Fought', 'Typical Error(s)'], axis=1, inplace=True)\n",
    "\n",
    "    # Hair and mask matches are both types of betting matches, so we'll merge their information\n",
    "    wrestler_info['Betting Matches Won'] = (wrestler_info['Hair Matches Won'] + wrestler_info['Mask Wins'] + wrestler_info['Hair Match Won'] + wrestler_info['Mask Win']).fillna(0).astype(int)\n",
    "    wrestler_info['Betting Matches Lost'] = (wrestler_info['Hair Matches Lost'] + wrestler_info['Mask Losses'] + wrestler_info['Hair Match Lost'] + wrestler_info['Mask Loss']).fillna(0).astype(int)\n",
    "    wrestler_info['Participated in Betting Match'] = np.where((wrestler_info['Gimmick Matches Lost'] > 0) | (wrestler_info['Gimmick Matches Won']>0), True, False)\n",
    "\n",
    "    # Then dropping the 8 columns related to these gimmick matches\n",
    "    wrestler_info.drop(['Hair Matches Won', 'Mask Wins', 'Hair Match Won', 'Mask Win', 'Hair Matches Lost', 'Mask Losses', 'Hair Match Lost', 'Mask Loss'], axis=1, inplace=True)\n"
   ],
   "metadata": {
    "collapsed": false,
    "pycharm": {
     "name": "#%%\n"
    }
   }
  },
  {
   "cell_type": "code",
   "execution_count": 112,
   "outputs": [],
   "source": [
    "wrestler_df = pd.read_csv('all_info_wrestlers.csv')\n",
    "wrestler_df.drop(['Unnamed: 0'], axis=1, inplace=True)\n",
    "\n",
    "# Extra step for consistency at some other point\n",
    "wrestler_df['wrestler_name'] = wrestler_df['wrestler_name'].apply(lambda x: unidecode(x))\n",
    "\n",
    "clean_wrestler_info(wrestler_df)\n",
    "\n",
    "match_wrestler_info = pd.read_csv('Data/5_star_matches_wrestler_list.csv')\n",
    "match_wrestler_info.drop(['Unnamed: 0'], axis=1, inplace=True)"
   ],
   "metadata": {
    "collapsed": false,
    "pycharm": {
     "name": "#%%\n"
    }
   }
  },
  {
   "cell_type": "code",
   "execution_count": 113,
   "outputs": [
    {
     "data": {
      "text/plain": "          id                     Real Name  \\\n0       6990               Kazuchika Okada   \n1        216         Curtis Michael Hennig   \n2        458                Keiichi Yamada   \n3        766                 Satoru Sayama   \n4         64  Eduardo Gori Guerrero Llanes   \n...      ...                           ...   \n26260  30188            Catherine Costigan   \n26261  30189                Amber Leibrock   \n26262  30190       Gonzalo Mendiola Ortega   \n26263  30191          Otto Frederick Roehm   \n26264  30192          Isidor Gadar Niflot    \n\n                                              Birthplace Date of Birth  \\\n0                                    Anjo, Aichi (Japan)    1987-11-08   \n1      Robbinsdale, Minnesota (United States of America)    1958-03-28   \n2                           Hiroshima, Hiroshima (Japan)    1964-11-30   \n3                         Shimonoseki, Yamaguchi (Japan)    1957-11-24   \n4              El Paso, Texas (United States of America)    1967-10-09   \n...                                                  ...           ...   \n26260                                 Limerick (Ireland)           NaT   \n26261     Hayward, California (United States of America)    1988-02-08   \n26262      San Antonio, Texas (United States of America)    1933-04-09   \n26263                                                NaN    1882-08-02   \n26264                     Warszawa, Mazowieckie (Poland)    1881-04-16   \n\n           Debut         wrestler_name Date of Death  Height  Weight  Alias  \\\n0     2004-08-29       Kazuchika Okada           NaT    1.91   109.0      1   \n1     1981-01-30           Curt Hennig    2003-02-10    1.91   118.0      1   \n2     1984-03-03  Jushin Thunder Liger           NaT    1.68    94.0      1   \n3     1976-05-28      First Tiger Mask           NaT    1.73    96.0      1   \n4     1987-09-18        Eddie Guerrero    2005-11-13    1.73   100.0      1   \n...          ...                   ...           ...     ...     ...    ...   \n26260 2010-12-18   Catherine Costigan            NaT    1.63    48.0      1   \n26261 2015-06-09       Amber Leibrock            NaT    1.80    66.0      1   \n26262        NaT          Pancho Lomas    2011-10-22     NaN     NaN      1   \n26263        NaT           Otto Roehm     1958-05-29    1.65    70.0      1   \n26264 1908-04-15           John Niflot    1950-03-29    1.60    61.0      1   \n\n       ...  Booked Promotions  Familiy Tie             Birth Country  Region  \\\n0      ...                0.0            0                     Japan   Japan   \n1      ...                0.0            0  United States of America     USA   \n2      ...                0.0            0                     Japan   Japan   \n3      ...                0.0            0                     Japan   Japan   \n4      ...                0.0            0  United States of America     USA   \n...    ...                ...          ...                       ...     ...   \n26260  ...                NaN            0                   Ireland   Other   \n26261  ...                NaN            0  United States of America     USA   \n26262  ...                NaN            0  United States of America     USA   \n26263  ...                NaN            0                       NaN   Other   \n26264  ...                NaN            0                    Poland   Other   \n\n       Name Known  Debut Age  Gimmick Matches Won  Gimmick Matches Lost  \\\n0            True       16.0                    0                     0   \n1            True       22.0                    0                     0   \n2            True       19.0                    1                     0   \n3            True       18.0                    2                     0   \n4            True       19.0                    1                     1   \n...           ...        ...                  ...                   ...   \n26260        True        NaN                    0                     0   \n26261        True       27.0                    0                     0   \n26262        True        NaN                    0                     0   \n26263        True        NaN                    0                     0   \n26264        True       26.0                    0                     0   \n\n       Participated in Gimmick Match  Had Students  \n0                              False         False  \n1                              False          True  \n2                               True         False  \n3                               True          True  \n4                               True          True  \n...                              ...           ...  \n26260                          False         False  \n26261                          False         False  \n26262                          False         False  \n26263                          False         False  \n26264                          False         False  \n\n[26265 rows x 36 columns]",
      "text/html": "<div>\n<style scoped>\n    .dataframe tbody tr th:only-of-type {\n        vertical-align: middle;\n    }\n\n    .dataframe tbody tr th {\n        vertical-align: top;\n    }\n\n    .dataframe thead th {\n        text-align: right;\n    }\n</style>\n<table border=\"1\" class=\"dataframe\">\n  <thead>\n    <tr style=\"text-align: right;\">\n      <th></th>\n      <th>id</th>\n      <th>Real Name</th>\n      <th>Birthplace</th>\n      <th>Date of Birth</th>\n      <th>Debut</th>\n      <th>wrestler_name</th>\n      <th>Date of Death</th>\n      <th>Height</th>\n      <th>Weight</th>\n      <th>Alias</th>\n      <th>...</th>\n      <th>Booked Promotions</th>\n      <th>Familiy Tie</th>\n      <th>Birth Country</th>\n      <th>Region</th>\n      <th>Name Known</th>\n      <th>Debut Age</th>\n      <th>Gimmick Matches Won</th>\n      <th>Gimmick Matches Lost</th>\n      <th>Participated in Gimmick Match</th>\n      <th>Had Students</th>\n    </tr>\n  </thead>\n  <tbody>\n    <tr>\n      <th>0</th>\n      <td>6990</td>\n      <td>Kazuchika Okada</td>\n      <td>Anjo, Aichi (Japan)</td>\n      <td>1987-11-08</td>\n      <td>2004-08-29</td>\n      <td>Kazuchika Okada</td>\n      <td>NaT</td>\n      <td>1.91</td>\n      <td>109.0</td>\n      <td>1</td>\n      <td>...</td>\n      <td>0.0</td>\n      <td>0</td>\n      <td>Japan</td>\n      <td>Japan</td>\n      <td>True</td>\n      <td>16.0</td>\n      <td>0</td>\n      <td>0</td>\n      <td>False</td>\n      <td>False</td>\n    </tr>\n    <tr>\n      <th>1</th>\n      <td>216</td>\n      <td>Curtis Michael Hennig</td>\n      <td>Robbinsdale, Minnesota (United States of America)</td>\n      <td>1958-03-28</td>\n      <td>1981-01-30</td>\n      <td>Curt Hennig</td>\n      <td>2003-02-10</td>\n      <td>1.91</td>\n      <td>118.0</td>\n      <td>1</td>\n      <td>...</td>\n      <td>0.0</td>\n      <td>0</td>\n      <td>United States of America</td>\n      <td>USA</td>\n      <td>True</td>\n      <td>22.0</td>\n      <td>0</td>\n      <td>0</td>\n      <td>False</td>\n      <td>True</td>\n    </tr>\n    <tr>\n      <th>2</th>\n      <td>458</td>\n      <td>Keiichi Yamada</td>\n      <td>Hiroshima, Hiroshima (Japan)</td>\n      <td>1964-11-30</td>\n      <td>1984-03-03</td>\n      <td>Jushin Thunder Liger</td>\n      <td>NaT</td>\n      <td>1.68</td>\n      <td>94.0</td>\n      <td>1</td>\n      <td>...</td>\n      <td>0.0</td>\n      <td>0</td>\n      <td>Japan</td>\n      <td>Japan</td>\n      <td>True</td>\n      <td>19.0</td>\n      <td>1</td>\n      <td>0</td>\n      <td>True</td>\n      <td>False</td>\n    </tr>\n    <tr>\n      <th>3</th>\n      <td>766</td>\n      <td>Satoru Sayama</td>\n      <td>Shimonoseki, Yamaguchi (Japan)</td>\n      <td>1957-11-24</td>\n      <td>1976-05-28</td>\n      <td>First Tiger Mask</td>\n      <td>NaT</td>\n      <td>1.73</td>\n      <td>96.0</td>\n      <td>1</td>\n      <td>...</td>\n      <td>0.0</td>\n      <td>0</td>\n      <td>Japan</td>\n      <td>Japan</td>\n      <td>True</td>\n      <td>18.0</td>\n      <td>2</td>\n      <td>0</td>\n      <td>True</td>\n      <td>True</td>\n    </tr>\n    <tr>\n      <th>4</th>\n      <td>64</td>\n      <td>Eduardo Gori Guerrero Llanes</td>\n      <td>El Paso, Texas (United States of America)</td>\n      <td>1967-10-09</td>\n      <td>1987-09-18</td>\n      <td>Eddie Guerrero</td>\n      <td>2005-11-13</td>\n      <td>1.73</td>\n      <td>100.0</td>\n      <td>1</td>\n      <td>...</td>\n      <td>0.0</td>\n      <td>0</td>\n      <td>United States of America</td>\n      <td>USA</td>\n      <td>True</td>\n      <td>19.0</td>\n      <td>1</td>\n      <td>1</td>\n      <td>True</td>\n      <td>True</td>\n    </tr>\n    <tr>\n      <th>...</th>\n      <td>...</td>\n      <td>...</td>\n      <td>...</td>\n      <td>...</td>\n      <td>...</td>\n      <td>...</td>\n      <td>...</td>\n      <td>...</td>\n      <td>...</td>\n      <td>...</td>\n      <td>...</td>\n      <td>...</td>\n      <td>...</td>\n      <td>...</td>\n      <td>...</td>\n      <td>...</td>\n      <td>...</td>\n      <td>...</td>\n      <td>...</td>\n      <td>...</td>\n      <td>...</td>\n    </tr>\n    <tr>\n      <th>26260</th>\n      <td>30188</td>\n      <td>Catherine Costigan</td>\n      <td>Limerick (Ireland)</td>\n      <td>NaT</td>\n      <td>2010-12-18</td>\n      <td>Catherine Costigan</td>\n      <td>NaT</td>\n      <td>1.63</td>\n      <td>48.0</td>\n      <td>1</td>\n      <td>...</td>\n      <td>NaN</td>\n      <td>0</td>\n      <td>Ireland</td>\n      <td>Other</td>\n      <td>True</td>\n      <td>NaN</td>\n      <td>0</td>\n      <td>0</td>\n      <td>False</td>\n      <td>False</td>\n    </tr>\n    <tr>\n      <th>26261</th>\n      <td>30189</td>\n      <td>Amber Leibrock</td>\n      <td>Hayward, California (United States of America)</td>\n      <td>1988-02-08</td>\n      <td>2015-06-09</td>\n      <td>Amber Leibrock</td>\n      <td>NaT</td>\n      <td>1.80</td>\n      <td>66.0</td>\n      <td>1</td>\n      <td>...</td>\n      <td>NaN</td>\n      <td>0</td>\n      <td>United States of America</td>\n      <td>USA</td>\n      <td>True</td>\n      <td>27.0</td>\n      <td>0</td>\n      <td>0</td>\n      <td>False</td>\n      <td>False</td>\n    </tr>\n    <tr>\n      <th>26262</th>\n      <td>30190</td>\n      <td>Gonzalo Mendiola Ortega</td>\n      <td>San Antonio, Texas (United States of America)</td>\n      <td>1933-04-09</td>\n      <td>NaT</td>\n      <td>Pancho Lomas</td>\n      <td>2011-10-22</td>\n      <td>NaN</td>\n      <td>NaN</td>\n      <td>1</td>\n      <td>...</td>\n      <td>NaN</td>\n      <td>0</td>\n      <td>United States of America</td>\n      <td>USA</td>\n      <td>True</td>\n      <td>NaN</td>\n      <td>0</td>\n      <td>0</td>\n      <td>False</td>\n      <td>False</td>\n    </tr>\n    <tr>\n      <th>26263</th>\n      <td>30191</td>\n      <td>Otto Frederick Roehm</td>\n      <td>NaN</td>\n      <td>1882-08-02</td>\n      <td>NaT</td>\n      <td>Otto Roehm</td>\n      <td>1958-05-29</td>\n      <td>1.65</td>\n      <td>70.0</td>\n      <td>1</td>\n      <td>...</td>\n      <td>NaN</td>\n      <td>0</td>\n      <td>NaN</td>\n      <td>Other</td>\n      <td>True</td>\n      <td>NaN</td>\n      <td>0</td>\n      <td>0</td>\n      <td>False</td>\n      <td>False</td>\n    </tr>\n    <tr>\n      <th>26264</th>\n      <td>30192</td>\n      <td>Isidor Gadar Niflot</td>\n      <td>Warszawa, Mazowieckie (Poland)</td>\n      <td>1881-04-16</td>\n      <td>1908-04-15</td>\n      <td>John Niflot</td>\n      <td>1950-03-29</td>\n      <td>1.60</td>\n      <td>61.0</td>\n      <td>1</td>\n      <td>...</td>\n      <td>NaN</td>\n      <td>0</td>\n      <td>Poland</td>\n      <td>Other</td>\n      <td>True</td>\n      <td>26.0</td>\n      <td>0</td>\n      <td>0</td>\n      <td>False</td>\n      <td>False</td>\n    </tr>\n  </tbody>\n</table>\n<p>26265 rows × 36 columns</p>\n</div>"
     },
     "execution_count": 113,
     "metadata": {},
     "output_type": "execute_result"
    }
   ],
   "source": [
    "wrestler_df"
   ],
   "metadata": {
    "collapsed": false,
    "pycharm": {
     "name": "#%%\n"
    }
   }
  },
  {
   "cell_type": "markdown",
   "source": [
    "## Cleaning the 5 star matches\n",
    "\n",
    "The cleaning is adding the country of the promotion for each match, adding the 'gender' of the promotion, and adding a unique ID for each match.\n",
    "\n",
    "The country follows the same form as the region, it's done for analysis further on."
   ],
   "metadata": {
    "collapsed": false,
    "pycharm": {
     "name": "#%% md\n"
    }
   }
  },
  {
   "cell_type": "code",
   "execution_count": 114,
   "outputs": [],
   "source": [
    "promotion_country = {'CWF': 'USA', 'NJPW': 'Japan', 'UWF': 'Japan', 'AJPW': 'Japan', 'AJW': 'Japan', 'JCP': 'USA', 'WCW': 'USA', 'JWP': 'Japan', 'WWF': 'USA', 'AAA': 'Mexico', 'ECW': 'USA', 'Michinoku Pro': 'Japan', 'RINGS': 'Japan', 'Noah': 'Japan', 'ROH': 'USA', 'TNA': 'USA', 'WWE': 'USA', 'PWG': 'USA', 'La Triple W': 'Other', 'AEW': 'USA', 'OTT': 'Other', 'RPW': 'UK', 'Stardom': 'Japan'}"
   ],
   "metadata": {
    "collapsed": false,
    "pycharm": {
     "name": "#%%\n"
    }
   }
  },
  {
   "cell_type": "code",
   "execution_count": 115,
   "outputs": [],
   "source": [
    "match_wrestler_info['Promotion Country'] = match_wrestler_info['Promotion'].map(promotion_country)\n",
    "match_wrestler_info['match_id'] = (match_wrestler_info.index + 1)\n",
    "\n",
    "# This is an ugly way of rearranging the columns, but it helps so much with visualization\n",
    "cols = match_wrestler_info.columns.tolist()\n",
    "cols = cols[:8] + cols[-2:] + cols[8:-2]\n",
    "\n",
    "match_wrestler_info = match_wrestler_info[cols]"
   ],
   "metadata": {
    "collapsed": false,
    "pycharm": {
     "name": "#%%\n"
    }
   }
  },
  {
   "cell_type": "code",
   "execution_count": 116,
   "outputs": [
    {
     "data": {
      "text/plain": "                  Date                                              Match  \\\n0        April 7, 1982                           Ric Flair vs. Butch Reed   \n1       April 21, 1983                        Dynamite Kid vs. Tiger Mask   \n2     December 5, 1984                 Kazuo Yamazaki vs. Nobuhiko Takada   \n3     December 8, 1984  Bruiser Brody and Stan Hansen vs. Dory Funk Jr...   \n4        March 9, 1985                   Kuniaki Kobayashi vs. Tiger Mask   \n..                 ...                                                ...   \n191  November 13, 2021                          Adam Page vs. Kenny Omega   \n192  December 15, 2021                      Adam Page vs. Bryan Danielson   \n193    January 5, 2022                   Kazuchika Okada vs. Will Ospreay   \n194   January 26, 2022                      Cody Rhodes vs. Sammy Guevara   \n195   January 29, 2022                       Will Ospreay vs. Michael Oku   \n\n    Promotion                              Event  Rating  # of teams  \\\n0         CWF                   Miami Beach show    5.00           2   \n1        NJPW        Big Fight Series IINight 19    5.00           2   \n2         UWF             Year-End SpecialDay 10    5.00           2   \n3        AJPW      Real World Tag LeagueNight 15    5.00           2   \n4        AJPW  85 Gekitoh! Exciting WarsNight 14    5.00           2   \n..        ...                                ...     ...         ...   \n191       AEW                          Full Gear    5.50           2   \n192       AEW                   Winter is Coming    5.00           2   \n193      NJPW          Wrestle Kingdom 16Night 2    5.75           2   \n194       AEW                        Beach Break    5.00           2   \n195       RPW                        High Stakes    5.00           2   \n\n     Team Size    PPV Promotion Country  match_id  ...     Wrestler 3  \\\n0            1  False               USA         1  ...            NaN   \n1            1   True             Japan         2  ...            NaN   \n2            1   True             Japan         3  ...            NaN   \n3            2   True             Japan         4  ...  Dory Funk Jr.   \n4            1   True             Japan         5  ...            NaN   \n..         ...    ...               ...       ...  ...            ...   \n191          1   True               USA       192  ...            NaN   \n192          1  False               USA       193  ...            NaN   \n193          1   True             Japan       194  ...            NaN   \n194          1  False               USA       195  ...            NaN   \n195          1  False                UK       196  ...            NaN   \n\n     Wrestler 4 Wrestler 5 Wrestler 6 Wrestler 7 Wrestler 8 Wrestler 9  \\\n0           NaN        NaN        NaN        NaN        NaN        NaN   \n1           NaN        NaN        NaN        NaN        NaN        NaN   \n2           NaN        NaN        NaN        NaN        NaN        NaN   \n3    Terry Funk        NaN        NaN        NaN        NaN        NaN   \n4           NaN        NaN        NaN        NaN        NaN        NaN   \n..          ...        ...        ...        ...        ...        ...   \n191         NaN        NaN        NaN        NaN        NaN        NaN   \n192         NaN        NaN        NaN        NaN        NaN        NaN   \n193         NaN        NaN        NaN        NaN        NaN        NaN   \n194         NaN        NaN        NaN        NaN        NaN        NaN   \n195         NaN        NaN        NaN        NaN        NaN        NaN   \n\n    Wrestler 10 Wrestler 11 Wrestler 12  \n0           NaN         NaN         NaN  \n1           NaN         NaN         NaN  \n2           NaN         NaN         NaN  \n3           NaN         NaN         NaN  \n4           NaN         NaN         NaN  \n..          ...         ...         ...  \n191         NaN         NaN         NaN  \n192         NaN         NaN         NaN  \n193         NaN         NaN         NaN  \n194         NaN         NaN         NaN  \n195         NaN         NaN         NaN  \n\n[196 rows x 22 columns]",
      "text/html": "<div>\n<style scoped>\n    .dataframe tbody tr th:only-of-type {\n        vertical-align: middle;\n    }\n\n    .dataframe tbody tr th {\n        vertical-align: top;\n    }\n\n    .dataframe thead th {\n        text-align: right;\n    }\n</style>\n<table border=\"1\" class=\"dataframe\">\n  <thead>\n    <tr style=\"text-align: right;\">\n      <th></th>\n      <th>Date</th>\n      <th>Match</th>\n      <th>Promotion</th>\n      <th>Event</th>\n      <th>Rating</th>\n      <th># of teams</th>\n      <th>Team Size</th>\n      <th>PPV</th>\n      <th>Promotion Country</th>\n      <th>match_id</th>\n      <th>...</th>\n      <th>Wrestler 3</th>\n      <th>Wrestler 4</th>\n      <th>Wrestler 5</th>\n      <th>Wrestler 6</th>\n      <th>Wrestler 7</th>\n      <th>Wrestler 8</th>\n      <th>Wrestler 9</th>\n      <th>Wrestler 10</th>\n      <th>Wrestler 11</th>\n      <th>Wrestler 12</th>\n    </tr>\n  </thead>\n  <tbody>\n    <tr>\n      <th>0</th>\n      <td>April 7, 1982</td>\n      <td>Ric Flair vs. Butch Reed</td>\n      <td>CWF</td>\n      <td>Miami Beach show</td>\n      <td>5.00</td>\n      <td>2</td>\n      <td>1</td>\n      <td>False</td>\n      <td>USA</td>\n      <td>1</td>\n      <td>...</td>\n      <td>NaN</td>\n      <td>NaN</td>\n      <td>NaN</td>\n      <td>NaN</td>\n      <td>NaN</td>\n      <td>NaN</td>\n      <td>NaN</td>\n      <td>NaN</td>\n      <td>NaN</td>\n      <td>NaN</td>\n    </tr>\n    <tr>\n      <th>1</th>\n      <td>April 21, 1983</td>\n      <td>Dynamite Kid vs. Tiger Mask</td>\n      <td>NJPW</td>\n      <td>Big Fight Series IINight 19</td>\n      <td>5.00</td>\n      <td>2</td>\n      <td>1</td>\n      <td>True</td>\n      <td>Japan</td>\n      <td>2</td>\n      <td>...</td>\n      <td>NaN</td>\n      <td>NaN</td>\n      <td>NaN</td>\n      <td>NaN</td>\n      <td>NaN</td>\n      <td>NaN</td>\n      <td>NaN</td>\n      <td>NaN</td>\n      <td>NaN</td>\n      <td>NaN</td>\n    </tr>\n    <tr>\n      <th>2</th>\n      <td>December 5, 1984</td>\n      <td>Kazuo Yamazaki vs. Nobuhiko Takada</td>\n      <td>UWF</td>\n      <td>Year-End SpecialDay 10</td>\n      <td>5.00</td>\n      <td>2</td>\n      <td>1</td>\n      <td>True</td>\n      <td>Japan</td>\n      <td>3</td>\n      <td>...</td>\n      <td>NaN</td>\n      <td>NaN</td>\n      <td>NaN</td>\n      <td>NaN</td>\n      <td>NaN</td>\n      <td>NaN</td>\n      <td>NaN</td>\n      <td>NaN</td>\n      <td>NaN</td>\n      <td>NaN</td>\n    </tr>\n    <tr>\n      <th>3</th>\n      <td>December 8, 1984</td>\n      <td>Bruiser Brody and Stan Hansen vs. Dory Funk Jr...</td>\n      <td>AJPW</td>\n      <td>Real World Tag LeagueNight 15</td>\n      <td>5.00</td>\n      <td>2</td>\n      <td>2</td>\n      <td>True</td>\n      <td>Japan</td>\n      <td>4</td>\n      <td>...</td>\n      <td>Dory Funk Jr.</td>\n      <td>Terry Funk</td>\n      <td>NaN</td>\n      <td>NaN</td>\n      <td>NaN</td>\n      <td>NaN</td>\n      <td>NaN</td>\n      <td>NaN</td>\n      <td>NaN</td>\n      <td>NaN</td>\n    </tr>\n    <tr>\n      <th>4</th>\n      <td>March 9, 1985</td>\n      <td>Kuniaki Kobayashi vs. Tiger Mask</td>\n      <td>AJPW</td>\n      <td>85 Gekitoh! Exciting WarsNight 14</td>\n      <td>5.00</td>\n      <td>2</td>\n      <td>1</td>\n      <td>True</td>\n      <td>Japan</td>\n      <td>5</td>\n      <td>...</td>\n      <td>NaN</td>\n      <td>NaN</td>\n      <td>NaN</td>\n      <td>NaN</td>\n      <td>NaN</td>\n      <td>NaN</td>\n      <td>NaN</td>\n      <td>NaN</td>\n      <td>NaN</td>\n      <td>NaN</td>\n    </tr>\n    <tr>\n      <th>...</th>\n      <td>...</td>\n      <td>...</td>\n      <td>...</td>\n      <td>...</td>\n      <td>...</td>\n      <td>...</td>\n      <td>...</td>\n      <td>...</td>\n      <td>...</td>\n      <td>...</td>\n      <td>...</td>\n      <td>...</td>\n      <td>...</td>\n      <td>...</td>\n      <td>...</td>\n      <td>...</td>\n      <td>...</td>\n      <td>...</td>\n      <td>...</td>\n      <td>...</td>\n      <td>...</td>\n    </tr>\n    <tr>\n      <th>191</th>\n      <td>November 13, 2021</td>\n      <td>Adam Page vs. Kenny Omega</td>\n      <td>AEW</td>\n      <td>Full Gear</td>\n      <td>5.50</td>\n      <td>2</td>\n      <td>1</td>\n      <td>True</td>\n      <td>USA</td>\n      <td>192</td>\n      <td>...</td>\n      <td>NaN</td>\n      <td>NaN</td>\n      <td>NaN</td>\n      <td>NaN</td>\n      <td>NaN</td>\n      <td>NaN</td>\n      <td>NaN</td>\n      <td>NaN</td>\n      <td>NaN</td>\n      <td>NaN</td>\n    </tr>\n    <tr>\n      <th>192</th>\n      <td>December 15, 2021</td>\n      <td>Adam Page vs. Bryan Danielson</td>\n      <td>AEW</td>\n      <td>Winter is Coming</td>\n      <td>5.00</td>\n      <td>2</td>\n      <td>1</td>\n      <td>False</td>\n      <td>USA</td>\n      <td>193</td>\n      <td>...</td>\n      <td>NaN</td>\n      <td>NaN</td>\n      <td>NaN</td>\n      <td>NaN</td>\n      <td>NaN</td>\n      <td>NaN</td>\n      <td>NaN</td>\n      <td>NaN</td>\n      <td>NaN</td>\n      <td>NaN</td>\n    </tr>\n    <tr>\n      <th>193</th>\n      <td>January 5, 2022</td>\n      <td>Kazuchika Okada vs. Will Ospreay</td>\n      <td>NJPW</td>\n      <td>Wrestle Kingdom 16Night 2</td>\n      <td>5.75</td>\n      <td>2</td>\n      <td>1</td>\n      <td>True</td>\n      <td>Japan</td>\n      <td>194</td>\n      <td>...</td>\n      <td>NaN</td>\n      <td>NaN</td>\n      <td>NaN</td>\n      <td>NaN</td>\n      <td>NaN</td>\n      <td>NaN</td>\n      <td>NaN</td>\n      <td>NaN</td>\n      <td>NaN</td>\n      <td>NaN</td>\n    </tr>\n    <tr>\n      <th>194</th>\n      <td>January 26, 2022</td>\n      <td>Cody Rhodes vs. Sammy Guevara</td>\n      <td>AEW</td>\n      <td>Beach Break</td>\n      <td>5.00</td>\n      <td>2</td>\n      <td>1</td>\n      <td>False</td>\n      <td>USA</td>\n      <td>195</td>\n      <td>...</td>\n      <td>NaN</td>\n      <td>NaN</td>\n      <td>NaN</td>\n      <td>NaN</td>\n      <td>NaN</td>\n      <td>NaN</td>\n      <td>NaN</td>\n      <td>NaN</td>\n      <td>NaN</td>\n      <td>NaN</td>\n    </tr>\n    <tr>\n      <th>195</th>\n      <td>January 29, 2022</td>\n      <td>Will Ospreay vs. Michael Oku</td>\n      <td>RPW</td>\n      <td>High Stakes</td>\n      <td>5.00</td>\n      <td>2</td>\n      <td>1</td>\n      <td>False</td>\n      <td>UK</td>\n      <td>196</td>\n      <td>...</td>\n      <td>NaN</td>\n      <td>NaN</td>\n      <td>NaN</td>\n      <td>NaN</td>\n      <td>NaN</td>\n      <td>NaN</td>\n      <td>NaN</td>\n      <td>NaN</td>\n      <td>NaN</td>\n      <td>NaN</td>\n    </tr>\n  </tbody>\n</table>\n<p>196 rows × 22 columns</p>\n</div>"
     },
     "execution_count": 116,
     "metadata": {},
     "output_type": "execute_result"
    }
   ],
   "source": [
    "match_wrestler_info"
   ],
   "metadata": {
    "collapsed": false,
    "pycharm": {
     "name": "#%%\n"
    }
   }
  },
  {
   "cell_type": "markdown",
   "source": [
    "# Merging the datasets\n",
    "\n",
    "Here we merge the datasets.\n",
    "\n",
    "Because we're relying on the names of the wrestlers and the names contained in the matches to be the same, this does lead to problems. So this section is a bit longer than it would be if there was just an index to work with. The main way this is done is by matching up the names of the wrestlers on both datasets.\n",
    "\n",
    "There are additional steps, but that is to remove extra information that is no longer helpful (mainly the names of the other wrestlers in a match)"
   ],
   "metadata": {
    "collapsed": false,
    "pycharm": {
     "name": "#%% md\n"
    }
   }
  },
  {
   "cell_type": "code",
   "execution_count": 117,
   "outputs": [],
   "source": [
    "problems = []\n",
    "\n",
    "# Used for creating the resulting merged dataframe\n",
    "cur_row = 0\n",
    "\n",
    "# So it's the info stored in the wrestler_df, plus 8 (which is the match info that actually matters)5151\n",
    "merged_df = pd.DataFrame(index=range(12*len(match_wrestler_info.index)), columns=range(len(wrestler_df.columns)+10))\n",
    "\n",
    "for i in range(len(match_wrestler_info.index)):\n",
    "    # First for loop is to go through all of the rows\n",
    "    cur_match_info = match_wrestler_info.iloc[i][:10]\n",
    "    # Weird transpose it to make some concats easier later on\n",
    "    cur_match_info = pd.DataFrame(cur_match_info).transpose()\n",
    "\n",
    "    cur_wrestler_set = match_wrestler_info.iloc[i][10:]\n",
    "    #print(cur_match_info)\n",
    "\n",
    "    # Might be more efficient to precreate it as a df or something, but whatev for now\n",
    "    new_rows_to_add = []\n",
    "\n",
    "    for j in range(12):\n",
    "        # There's max 12 wrestlers in a match, so hard coding is good let's gooooo\n",
    "        cur_wrestler = cur_wrestler_set[j]\n",
    "\n",
    "        if pd.isna(cur_wrestler):\n",
    "            # Break should be valid, the wrestlers should be somewhat ordered\n",
    "            break\n",
    "\n",
    "        to_append = wrestler_df[wrestler_df['wrestler_name'] == cur_wrestler]\n",
    "\n",
    "        if len(to_append.index) != 1:\n",
    "            # It means that it's a different number than 1, so there's a problem somewhere\n",
    "            problems.append((cur_wrestler, i))\n",
    "            continue\n",
    "\n",
    "        merged_df.iloc[cur_row] = pd.concat([cur_match_info.reset_index(drop=True), to_append.reset_index(drop=True)], axis=1)\n",
    "\n",
    "        cur_row += 1\n",
    "\n",
    "merged_df.dropna(how='all', inplace=True)"
   ],
   "metadata": {
    "collapsed": false,
    "pycharm": {
     "name": "#%%\n"
    }
   }
  },
  {
   "cell_type": "markdown",
   "source": [
    "Due to how the wrestler's names can change, it was assumed that there would be some issues with the names. So the wrestlers for which the names didn't line up where separated. Then a manual fix was done with them, which was just looking up their names on the database to find their id's.\n",
    "\n",
    "There were some misc. issues, which are mentioned later on."
   ],
   "metadata": {
    "collapsed": false,
    "pycharm": {
     "name": "#%% md\n"
    }
   }
  },
  {
   "cell_type": "code",
   "execution_count": 118,
   "outputs": [],
   "source": [
    "problem_wrestlers = set()\n",
    "for i in range(len(problems)):\n",
    "    problem_wrestlers.add(problems[i][0])"
   ],
   "metadata": {
    "collapsed": false,
    "pycharm": {
     "name": "#%%\n"
    }
   }
  },
  {
   "cell_type": "code",
   "execution_count": 120,
   "outputs": [
    {
     "data": {
      "text/plain": "{'A.J. Styles',\n 'Aja Kong',\n 'Akira Hokuto',\n 'Andrade \"Cien\" Almas',\n 'Bandido',\n 'Big Van Vader',\n 'Black Taurus',\n 'Bull Nakano',\n 'Chigusa Nagayo',\n 'Cima',\n 'Cutie Suzuki',\n 'Dan Kroffat',\n 'Devil Masami',\n 'Donovan Dijak',\n 'Dragon Kid',\n 'Dynamite Kansai',\n 'Eddy Guerrero',\n 'El Hijo Del Santo',\n 'Etsuko Mita',\n 'Flamita',\n 'Fénix',\n 'Genichiro Tenryu',\n 'Hawk',\n 'Hikari Fukuoka',\n 'Jaguar Yokota',\n 'Kazue Nagahori',\n 'Keiji Mutoh',\n 'Killian Dain',\n 'Kyoko Inoue',\n 'Lioness Asuka',\n 'Luchasaurus',\n 'Manami Toyota',\n 'Mayumi Ozaki',\n \"Men's Teioh\",\n 'Michael Oku',\n 'Mika Komatsu',\n 'Mika Suzuki',\n 'Mika Takahashi',\n 'Mima Shimoda',\n 'Mitsuko Nishiwaki',\n 'Naoki Sano',\n 'Octagón',\n 'Pac',\n 'Pentagon Jr.',\n 'Pentagón Jr.',\n 'Psicosis',\n 'Razor Ramon',\n 'Rey Misterio Jr.',\n 'Sachiko Nakamura',\n 'Sakie Hasegawa',\n 'Samson Fuyuki',\n 'Sanada',\n 'Satoru Sayama',\n 'Shinobu Kandori',\n 'Shiryu',\n 'Shoichi Funaki',\n 'Sid Vicious',\n 'Stone Cold Steve Austin',\n 'Syuri',\n 'Taka Michinoku',\n 'Takako Inoue',\n 'The War Machine',\n 'Tiger Mask IV',\n 'Toshiyo Yamada',\n 'Tsuyoshi Kohsaka',\n 'Utami Hayashishita',\n 'Walter',\n 'Wild Pegasus',\n 'Yachiya Hirata',\n 'Yumi Ogura',\n 'Yumiko Hotta'}"
     },
     "execution_count": 120,
     "metadata": {},
     "output_type": "execute_result"
    }
   ],
   "source": [
    "problem_wrestlers"
   ],
   "metadata": {
    "collapsed": false,
    "pycharm": {
     "name": "#%%\n"
    }
   }
  },
  {
   "cell_type": "code",
   "execution_count": 121,
   "outputs": [],
   "source": [
    "problem_wrestler_fix = {'A.J. Styles': 350, 'Aja Kong': 577, 'Akira Hokuto': 578, 'Andrade \"Cien\" Almas' : 2581, 'Animal': 98,'Bandido': 27228, 'Big Van Vader': 51, 'Black Taurus': 5533, 'Bull Nakano': 595, 'Chigusa Nagayo': 2020, 'Cima': 968, 'Cutie Suzuki': 2070, 'Dan Kroffat': 839, 'Devil Masami': 2016, 'Donovan Dijak': 28415, 'Dragon Kid': 970, 'Dynamite Kansai': 2023, 'Eddy Guerrero': 64, 'El Hijo Del Santo': 835, 'Etsuko Mita': 2025, 'Flamita': 18326, 'Fénix': 17005, 'Genichiro Tenryu': 938, 'Hawk': 99, 'Hikari Fukuoka': 8758, 'Jaguar Yokota': 3161, 'Johnny Ace': 638, 'Kazue Nagahori': 18980, 'Killian Dain': 7723, 'Keiji Mutoh': 276, 'Kyoko Inoue': 674, 'Lioness Asuka': 623, 'Luchasaurus': 23527, 'Manami Toyota': 1380, 'Masanobu Fuchi': 1057, 'Mayumi Ozaki': 2022, \"Men's Teioh\": 1449, 'Michael Oku': 34867, 'Mika Komatsu': 18981, 'Mika Suzuki': 3181, 'Mika Takahashi': 27017, 'Mima Shimoda': 2026, 'Mitsuko Nishiwaki': 27168, 'Naoki Sano': 995, 'Octagón': 1576, 'Pac': 2606, 'Pentagon Jr.': 13328, 'Pentagón Jr.': 13328, 'Psicosis': 779, 'Razor Ramon': 44, 'Rey Misterio Jr.': 66, 'Sakie Hasegawa': 2489, 'Samson Fuyuki': 1008, 'Sanada': 3194, 'Satoru Asako': 1058, 'Shinobu Kandori': 2035, 'Shiryu': 150, 'Shoichi Funaki': 111, 'Sid Vicious': 82, 'Stone Cold Steve Austin': 9, 'Syuri': 10764, 'Taka Michinoku': 127, 'Takako Inoue': 675, 'The War Machine': 104, 'Tiger Mask IV': 351, 'Toshiyo Yamada': 2044, 'Tsuyoshi Kohsaka': 11796, 'Utami Hayashishita': 35239, 'Walter': 2372, 'Wild Pegasus': 24, 'Yumi Ogura': 3151, 'Yumiko Hotta': 2033, 'Satoru Sayama': 766}\n",
    "\n",
    "# I have to fix tiger mask separately because there's two of them :(\n",
    "# First is the first with NJPW, second is the first with AJPW\n",
    "tiger_masks = [766, 745]\n",
    "\n",
    "# These are the wrestlers that just aren't contained in the database, for whatever reason\n",
    "# They're both women, and both worked with AJW. Their matches were in house shows\n",
    "to_remove = ['Sachiko Nakamura', 'Yachiya Hirata']"
   ],
   "metadata": {
    "collapsed": false,
    "pycharm": {
     "name": "#%%\n"
    }
   }
  },
  {
   "cell_type": "markdown",
   "source": [
    "I'll document the parsing issues for posterity's sake:\n",
    "- A bunch of the wrestlers weren't found directly for some of the following reasons:\n",
    "    - Different spelling of name (for example, different subtitles, or adjectives)\n",
    "    - Accents, and other language specific things\n",
    "    - Multiple wrestlers with same name\n",
    "- Tiger mask appears in multiple matches, but in each match he represents a different person\n",
    "    - This was fixed by modifying the 5 star matches to have the name of the wrestler who fought, not just 'Tiger Mask'\n",
    "- Two wrestlers didn't exist in the database. Searching for them elsewhere also gave no significant results\n",
    "    - Both were female AJW wrestlers, whose match was in a 5 star house show\n",
    "    - They are: Sachiko Nakamura and Yachiya Hirata\n",
    "    - Manually searching for them gave few results, and most of it was mentioning how they appeared in this match.\n",
    "    - It was decided to just manually drop them\n",
    "- Wrestlers that are famous but have multiple people with same name:\n",
    "    - Johnny ace (John Laurinaitis)"
   ],
   "metadata": {
    "collapsed": false,
    "pycharm": {
     "name": "#%% md\n"
    }
   }
  },
  {
   "cell_type": "code",
   "execution_count": 122,
   "outputs": [],
   "source": [
    "ultra_problems = []\n",
    "\n",
    "# Used for creating the resulting merged dataframe\n",
    "cur_row = 0\n",
    "merged_df = pd.DataFrame(index=range(12*len(match_wrestler_info.index)), columns=range(len(wrestler_df.columns)+10))\n",
    "merged_df.columns = match_wrestler_info.columns[:10].union(wrestler_df.columns, sort=False)\n",
    "\n",
    "for i in range(len(match_wrestler_info.index)):\n",
    "    # First for loop is to go through all of the rows\n",
    "    cur_match_info = match_wrestler_info.iloc[i][:10]\n",
    "    # Weird transpose it to make some concats easier later on\n",
    "    cur_match_info = pd.DataFrame(cur_match_info).transpose()\n",
    "\n",
    "    cur_wrestler_set = match_wrestler_info.iloc[i][10:]\n",
    "    #print(cur_match_info)\n",
    "\n",
    "    # Might be more efficient to precreate it as a df or something, but whatev for now\n",
    "    new_rows_to_add = []\n",
    "\n",
    "    for j in range(12):\n",
    "        # There's max 12 wrestlers, so hard coding is good let's gooooo\n",
    "        cur_wrestler = cur_wrestler_set[j]\n",
    "\n",
    "        if pd.isna(cur_wrestler):\n",
    "            # Break should be valid, the wrestlers should be somewhat ordered\n",
    "            break\n",
    "\n",
    "        if cur_wrestler in to_remove:\n",
    "            # This is just a way of dealing with the few wrestlers that are not listed\n",
    "            break\n",
    "\n",
    "        if cur_wrestler in problem_wrestler_fix:\n",
    "            # So this is just a way of manually searching through the problem wrestler list\n",
    "\n",
    "            to_append = wrestler_df[wrestler_df['id'] == problem_wrestler_fix[cur_wrestler]]\n",
    "        else:\n",
    "            to_append = wrestler_df[wrestler_df['wrestler_name'] == cur_wrestler]\n",
    "\n",
    "        if len(to_append.index) != 1:\n",
    "            # It means that the wrestler wasn't parsed at all, which is not cool tbh\n",
    "            ultra_problems.append((cur_wrestler, i))\n",
    "            continue\n",
    "\n",
    "        merged_df.iloc[cur_row] = pd.concat([cur_match_info.reset_index(drop=True), to_append.reset_index(drop=True)], axis=1)\n",
    "\n",
    "        cur_row += 1\n",
    "\n",
    "merged_df.dropna(how='all', inplace=True)"
   ],
   "metadata": {
    "collapsed": false,
    "pycharm": {
     "name": "#%%\n"
    }
   }
  },
  {
   "cell_type": "code",
   "execution_count": 123,
   "outputs": [
    {
     "data": {
      "text/plain": "[]"
     },
     "execution_count": 123,
     "metadata": {},
     "output_type": "execute_result"
    }
   ],
   "source": [
    "ultra_problems"
   ],
   "metadata": {
    "collapsed": false,
    "pycharm": {
     "name": "#%%\n"
    }
   }
  },
  {
   "cell_type": "markdown",
   "source": [
    "We checked one last time for problems, and thankfully no problems were found!\n",
    "\n",
    "Here's the final dataset now."
   ],
   "metadata": {
    "collapsed": false,
    "pycharm": {
     "name": "#%% md\n"
    }
   }
  },
  {
   "cell_type": "code",
   "execution_count": 124,
   "outputs": [
    {
     "data": {
      "text/plain": "                  Date                                              Match  \\\n0        April 7, 1982                           Ric Flair vs. Butch Reed   \n1       April 21, 1983                        Dynamite Kid vs. Tiger Mask   \n2     December 5, 1984                 Kazuo Yamazaki vs. Nobuhiko Takada   \n3     December 8, 1984  Bruiser Brody and Stan Hansen vs. Dory Funk Jr...   \n4        March 9, 1985                   Kuniaki Kobayashi vs. Tiger Mask   \n..                 ...                                                ...   \n191  November 13, 2021                          Adam Page vs. Kenny Omega   \n192  December 15, 2021                      Adam Page vs. Bryan Danielson   \n193    January 5, 2022                   Kazuchika Okada vs. Will Ospreay   \n194   January 26, 2022                      Cody Rhodes vs. Sammy Guevara   \n195   January 29, 2022                       Will Ospreay vs. Michael Oku   \n\n    Promotion                              Event  Rating  # of teams  \\\n0         CWF                   Miami Beach show    5.00           2   \n1        NJPW        Big Fight Series IINight 19    5.00           2   \n2         UWF             Year-End SpecialDay 10    5.00           2   \n3        AJPW      Real World Tag LeagueNight 15    5.00           2   \n4        AJPW  85 Gekitoh! Exciting WarsNight 14    5.00           2   \n..        ...                                ...     ...         ...   \n191       AEW                          Full Gear    5.50           2   \n192       AEW                   Winter is Coming    5.00           2   \n193      NJPW          Wrestle Kingdom 16Night 2    5.75           2   \n194       AEW                        Beach Break    5.00           2   \n195       RPW                        High Stakes    5.00           2   \n\n     Team Size    PPV Promotion Country  match_id  ...     Wrestler 3  \\\n0            1  False               USA         1  ...            NaN   \n1            1   True             Japan         2  ...            NaN   \n2            1   True             Japan         3  ...            NaN   \n3            2   True             Japan         4  ...  Dory Funk Jr.   \n4            1   True             Japan         5  ...            NaN   \n..         ...    ...               ...       ...  ...            ...   \n191          1   True               USA       192  ...            NaN   \n192          1  False               USA       193  ...            NaN   \n193          1   True             Japan       194  ...            NaN   \n194          1  False               USA       195  ...            NaN   \n195          1  False                UK       196  ...            NaN   \n\n     Wrestler 4 Wrestler 5 Wrestler 6 Wrestler 7 Wrestler 8 Wrestler 9  \\\n0           NaN        NaN        NaN        NaN        NaN        NaN   \n1           NaN        NaN        NaN        NaN        NaN        NaN   \n2           NaN        NaN        NaN        NaN        NaN        NaN   \n3    Terry Funk        NaN        NaN        NaN        NaN        NaN   \n4           NaN        NaN        NaN        NaN        NaN        NaN   \n..          ...        ...        ...        ...        ...        ...   \n191         NaN        NaN        NaN        NaN        NaN        NaN   \n192         NaN        NaN        NaN        NaN        NaN        NaN   \n193         NaN        NaN        NaN        NaN        NaN        NaN   \n194         NaN        NaN        NaN        NaN        NaN        NaN   \n195         NaN        NaN        NaN        NaN        NaN        NaN   \n\n    Wrestler 10 Wrestler 11 Wrestler 12  \n0           NaN         NaN         NaN  \n1           NaN         NaN         NaN  \n2           NaN         NaN         NaN  \n3           NaN         NaN         NaN  \n4           NaN         NaN         NaN  \n..          ...         ...         ...  \n191         NaN         NaN         NaN  \n192         NaN         NaN         NaN  \n193         NaN         NaN         NaN  \n194         NaN         NaN         NaN  \n195         NaN         NaN         NaN  \n\n[196 rows x 22 columns]",
      "text/html": "<div>\n<style scoped>\n    .dataframe tbody tr th:only-of-type {\n        vertical-align: middle;\n    }\n\n    .dataframe tbody tr th {\n        vertical-align: top;\n    }\n\n    .dataframe thead th {\n        text-align: right;\n    }\n</style>\n<table border=\"1\" class=\"dataframe\">\n  <thead>\n    <tr style=\"text-align: right;\">\n      <th></th>\n      <th>Date</th>\n      <th>Match</th>\n      <th>Promotion</th>\n      <th>Event</th>\n      <th>Rating</th>\n      <th># of teams</th>\n      <th>Team Size</th>\n      <th>PPV</th>\n      <th>Promotion Country</th>\n      <th>match_id</th>\n      <th>...</th>\n      <th>Wrestler 3</th>\n      <th>Wrestler 4</th>\n      <th>Wrestler 5</th>\n      <th>Wrestler 6</th>\n      <th>Wrestler 7</th>\n      <th>Wrestler 8</th>\n      <th>Wrestler 9</th>\n      <th>Wrestler 10</th>\n      <th>Wrestler 11</th>\n      <th>Wrestler 12</th>\n    </tr>\n  </thead>\n  <tbody>\n    <tr>\n      <th>0</th>\n      <td>April 7, 1982</td>\n      <td>Ric Flair vs. Butch Reed</td>\n      <td>CWF</td>\n      <td>Miami Beach show</td>\n      <td>5.00</td>\n      <td>2</td>\n      <td>1</td>\n      <td>False</td>\n      <td>USA</td>\n      <td>1</td>\n      <td>...</td>\n      <td>NaN</td>\n      <td>NaN</td>\n      <td>NaN</td>\n      <td>NaN</td>\n      <td>NaN</td>\n      <td>NaN</td>\n      <td>NaN</td>\n      <td>NaN</td>\n      <td>NaN</td>\n      <td>NaN</td>\n    </tr>\n    <tr>\n      <th>1</th>\n      <td>April 21, 1983</td>\n      <td>Dynamite Kid vs. Tiger Mask</td>\n      <td>NJPW</td>\n      <td>Big Fight Series IINight 19</td>\n      <td>5.00</td>\n      <td>2</td>\n      <td>1</td>\n      <td>True</td>\n      <td>Japan</td>\n      <td>2</td>\n      <td>...</td>\n      <td>NaN</td>\n      <td>NaN</td>\n      <td>NaN</td>\n      <td>NaN</td>\n      <td>NaN</td>\n      <td>NaN</td>\n      <td>NaN</td>\n      <td>NaN</td>\n      <td>NaN</td>\n      <td>NaN</td>\n    </tr>\n    <tr>\n      <th>2</th>\n      <td>December 5, 1984</td>\n      <td>Kazuo Yamazaki vs. Nobuhiko Takada</td>\n      <td>UWF</td>\n      <td>Year-End SpecialDay 10</td>\n      <td>5.00</td>\n      <td>2</td>\n      <td>1</td>\n      <td>True</td>\n      <td>Japan</td>\n      <td>3</td>\n      <td>...</td>\n      <td>NaN</td>\n      <td>NaN</td>\n      <td>NaN</td>\n      <td>NaN</td>\n      <td>NaN</td>\n      <td>NaN</td>\n      <td>NaN</td>\n      <td>NaN</td>\n      <td>NaN</td>\n      <td>NaN</td>\n    </tr>\n    <tr>\n      <th>3</th>\n      <td>December 8, 1984</td>\n      <td>Bruiser Brody and Stan Hansen vs. Dory Funk Jr...</td>\n      <td>AJPW</td>\n      <td>Real World Tag LeagueNight 15</td>\n      <td>5.00</td>\n      <td>2</td>\n      <td>2</td>\n      <td>True</td>\n      <td>Japan</td>\n      <td>4</td>\n      <td>...</td>\n      <td>Dory Funk Jr.</td>\n      <td>Terry Funk</td>\n      <td>NaN</td>\n      <td>NaN</td>\n      <td>NaN</td>\n      <td>NaN</td>\n      <td>NaN</td>\n      <td>NaN</td>\n      <td>NaN</td>\n      <td>NaN</td>\n    </tr>\n    <tr>\n      <th>4</th>\n      <td>March 9, 1985</td>\n      <td>Kuniaki Kobayashi vs. Tiger Mask</td>\n      <td>AJPW</td>\n      <td>85 Gekitoh! Exciting WarsNight 14</td>\n      <td>5.00</td>\n      <td>2</td>\n      <td>1</td>\n      <td>True</td>\n      <td>Japan</td>\n      <td>5</td>\n      <td>...</td>\n      <td>NaN</td>\n      <td>NaN</td>\n      <td>NaN</td>\n      <td>NaN</td>\n      <td>NaN</td>\n      <td>NaN</td>\n      <td>NaN</td>\n      <td>NaN</td>\n      <td>NaN</td>\n      <td>NaN</td>\n    </tr>\n    <tr>\n      <th>...</th>\n      <td>...</td>\n      <td>...</td>\n      <td>...</td>\n      <td>...</td>\n      <td>...</td>\n      <td>...</td>\n      <td>...</td>\n      <td>...</td>\n      <td>...</td>\n      <td>...</td>\n      <td>...</td>\n      <td>...</td>\n      <td>...</td>\n      <td>...</td>\n      <td>...</td>\n      <td>...</td>\n      <td>...</td>\n      <td>...</td>\n      <td>...</td>\n      <td>...</td>\n      <td>...</td>\n    </tr>\n    <tr>\n      <th>191</th>\n      <td>November 13, 2021</td>\n      <td>Adam Page vs. Kenny Omega</td>\n      <td>AEW</td>\n      <td>Full Gear</td>\n      <td>5.50</td>\n      <td>2</td>\n      <td>1</td>\n      <td>True</td>\n      <td>USA</td>\n      <td>192</td>\n      <td>...</td>\n      <td>NaN</td>\n      <td>NaN</td>\n      <td>NaN</td>\n      <td>NaN</td>\n      <td>NaN</td>\n      <td>NaN</td>\n      <td>NaN</td>\n      <td>NaN</td>\n      <td>NaN</td>\n      <td>NaN</td>\n    </tr>\n    <tr>\n      <th>192</th>\n      <td>December 15, 2021</td>\n      <td>Adam Page vs. Bryan Danielson</td>\n      <td>AEW</td>\n      <td>Winter is Coming</td>\n      <td>5.00</td>\n      <td>2</td>\n      <td>1</td>\n      <td>False</td>\n      <td>USA</td>\n      <td>193</td>\n      <td>...</td>\n      <td>NaN</td>\n      <td>NaN</td>\n      <td>NaN</td>\n      <td>NaN</td>\n      <td>NaN</td>\n      <td>NaN</td>\n      <td>NaN</td>\n      <td>NaN</td>\n      <td>NaN</td>\n      <td>NaN</td>\n    </tr>\n    <tr>\n      <th>193</th>\n      <td>January 5, 2022</td>\n      <td>Kazuchika Okada vs. Will Ospreay</td>\n      <td>NJPW</td>\n      <td>Wrestle Kingdom 16Night 2</td>\n      <td>5.75</td>\n      <td>2</td>\n      <td>1</td>\n      <td>True</td>\n      <td>Japan</td>\n      <td>194</td>\n      <td>...</td>\n      <td>NaN</td>\n      <td>NaN</td>\n      <td>NaN</td>\n      <td>NaN</td>\n      <td>NaN</td>\n      <td>NaN</td>\n      <td>NaN</td>\n      <td>NaN</td>\n      <td>NaN</td>\n      <td>NaN</td>\n    </tr>\n    <tr>\n      <th>194</th>\n      <td>January 26, 2022</td>\n      <td>Cody Rhodes vs. Sammy Guevara</td>\n      <td>AEW</td>\n      <td>Beach Break</td>\n      <td>5.00</td>\n      <td>2</td>\n      <td>1</td>\n      <td>False</td>\n      <td>USA</td>\n      <td>195</td>\n      <td>...</td>\n      <td>NaN</td>\n      <td>NaN</td>\n      <td>NaN</td>\n      <td>NaN</td>\n      <td>NaN</td>\n      <td>NaN</td>\n      <td>NaN</td>\n      <td>NaN</td>\n      <td>NaN</td>\n      <td>NaN</td>\n    </tr>\n    <tr>\n      <th>195</th>\n      <td>January 29, 2022</td>\n      <td>Will Ospreay vs. Michael Oku</td>\n      <td>RPW</td>\n      <td>High Stakes</td>\n      <td>5.00</td>\n      <td>2</td>\n      <td>1</td>\n      <td>False</td>\n      <td>UK</td>\n      <td>196</td>\n      <td>...</td>\n      <td>NaN</td>\n      <td>NaN</td>\n      <td>NaN</td>\n      <td>NaN</td>\n      <td>NaN</td>\n      <td>NaN</td>\n      <td>NaN</td>\n      <td>NaN</td>\n      <td>NaN</td>\n      <td>NaN</td>\n    </tr>\n  </tbody>\n</table>\n<p>196 rows × 22 columns</p>\n</div>"
     },
     "execution_count": 124,
     "metadata": {},
     "output_type": "execute_result"
    }
   ],
   "source": [
    "match_wrestler_info"
   ],
   "metadata": {
    "collapsed": false,
    "pycharm": {
     "name": "#%%\n"
    }
   }
  },
  {
   "cell_type": "markdown",
   "source": [
    "# Why we're using these ratings\n",
    "Before proceeding with the analysis, we want to quickly explain why we're focusing on 5 star matches for wrestling, instead of something like number of matches won, titles, or something else.\n",
    "\n",
    "As the wikipedia entry for 5 star matches states (https://en.wikipedia.org/wiki/List_of_professional_wrestling_matches_rated_5_or_more_stars_by_Dave_Meltzer), getting one is a great achievement. We've decided to use these matches instead of other wrestling info (for example, titles or matches won) because it is one of the few metrics that remains solely under the discretion of the wrestler. The other metrics might be influenced by company politics, popularity, or storyline requirements. These matches at the very least guarantee a quality performance regardless of other things that might affect.\n",
    "\n",
    "This is not a perfect judge of a wrestler's quality. Knowing how to play the politics game to your advantage is a skill. Knowing how to become popular with the crowd is a skill (or if you're a heel, knowing how to make them hate you). Promo work (having them argue to create tension) is another metric that is mainly ignored. Another factor that is not addressed directly is teamwork, which is important for tag team matches. Knowing how to make a storyline work and advance it through more than just direct fighting is another important skill not mentioned here.\n",
    "\n",
    "Another important detail is that this does not measure consistency. For some of the most famous wrestlers they might not have had the 5 star matches, but their skills in other fields were consistent enough that they excelled (for example The Rock). This is reflected in the fact that these are only the highlights. It might be the case that other wrestlers haven't reached the heights, but consistently put out enjoyable shows and as such might be considered \"better\".\n",
    "\n",
    "Lastly, this commentary is taken from profightdb (http://www.profightdb.com/wrestler-star-ratings/darby-allin-12652.html), but is very accurate as a reminder:\n",
    "    \"Please note that ratings are given to the overall match; not to the performers within them. Therefore, high or low ratings may reflect aspects of the match including booking, length and performance of partners/opponents, over which the performers may have little or no control. Please also note that a match that received a particular rating many years ago may have been judged on a different criteria from today's.\""
   ],
   "metadata": {
    "collapsed": false,
    "pycharm": {
     "name": "#%% md\n"
    }
   }
  },
  {
   "cell_type": "markdown",
   "source": [
    "# Analysis on the wrestlers\n",
    "We'll work some analysis on the wrestler list. The work will be done on all of the wrestlers, not restricted to those that are ranked or have a match.\n",
    "\n",
    "First step will be to visualize the debut ages of various wrestlers"
   ],
   "metadata": {
    "collapsed": false,
    "pycharm": {
     "name": "#%% md\n"
    }
   }
  },
  {
   "cell_type": "code",
   "execution_count": 136,
   "outputs": [
    {
     "name": "stderr",
     "output_type": "stream",
     "text": [
      "C:\\Users\\lolco\\anaconda3\\lib\\site-packages\\seaborn\\_decorators.py:36: FutureWarning: Pass the following variable as a keyword arg: y. From version 0.12, the only valid positional argument will be `data`, and passing other arguments without an explicit keyword will result in an error or misinterpretation.\n",
      "  warnings.warn(\n"
     ]
    },
    {
     "data": {
      "text/plain": "<AxesSubplot:xlabel='Debut Age', ylabel='Date of Birth'>"
     },
     "execution_count": 136,
     "metadata": {},
     "output_type": "execute_result"
    },
    {
     "data": {
      "text/plain": "<Figure size 432x288 with 1 Axes>",
      "image/png": "[encoded data removed]"
     },
     "metadata": {
      "needs_background": "light"
     },
     "output_type": "display_data"
    }
   ],
   "source": [
    "import seaborn as sns\n",
    "sns.kdeplot(wrestler_df['Debut Age'], wrestler_df['Date of Birth'])\n",
    "#wrestler_df['Date of Birth']"
   ],
   "metadata": {
    "collapsed": false,
    "pycharm": {
     "name": "#%%\n"
    }
   }
  },
  {
   "cell_type": "markdown",
   "source": [
    "One interesting thing to note is that it seems that as time has passed, the wrestlers have been debuting younger. This does not look good for Jerry, but we believe in him!\n",
    "\n",
    "It also seems to be mainly contained within 40 years, but it's weird that it's plotting such old debut ages (it's going up to 80). I will try and see if there's any reason for that (maybe there are some really old wrestlers)."
   ],
   "metadata": {
    "collapsed": false,
    "pycharm": {
     "name": "#%% md\n"
    }
   }
  },
  {
   "cell_type": "code",
   "execution_count": 137,
   "outputs": [
    {
     "data": {
      "text/plain": "          id                      Real Name  \\\n422    18170                 Scott Stanford   \n1473   18888              Evander Holyfield   \n1569   15466         Herschel Junior Walker   \n1765    8450                John Tunney Jr.   \n3390   15028               Michael Hogewood   \n3587   16935                     Billy Gram   \n4910   18810                   Paul Reubens   \n4919    5756           Michael David Adamle   \n4951   16327          James Nathaniel Toney   \n5123    3225    Linda Marie Edwards-McMahon   \n5147   12987        José Canseco Capas, Jr.   \n5164   14846                   Cedric Kyles   \n5192    2297                        unknown   \n6429    3629                Marcelo Salomon   \n7889    5954                   Chris Dolman   \n8186    6437        James Douglas Muir Leno   \n9747    8561                Siamak Ghaffari   \n12328  12446                   Todd Bridges   \n13067  13389                     Ray Mercer   \n14613  15354                        unknown   \n15027  15872               Carolyn Kawasaki   \n15162  16066               Chikara Takeuchi   \n16627  17924                   Tom Gerhardt   \n17242  18681           Robert George Uecker   \n17248  18691               Warren Cromartie   \n17328  18812             Drew Allison Carey   \n17965  19602                        unknown   \n18230  19950                        unknown   \n20141  22436            José Isabel Jiménez   \n20158  22459  Niurka Melanie Marcos y Calle   \n20299  22624          Ernesto Chavana Cubos   \n21852  24532                    Daryl Kelly   \n22941  25903                   Debbie Bouch   \n23728  26967                        unknown   \n24731  28300           Erich Mathias Mayer    \n25026  28684                        unknown   \n26147  30066               Brigitte Narcise   \n26158  30080                    Joe Johnson   \n\n                                              Birthplace Date of Birth  \\\n422      Haverstraw, New York (United States of America)    1968-08-30   \n1473          Atmore, Alabama (United States of America)    1962-10-19   \n1569    Wrightsville, Georgia (United States of America)    1962-03-03   \n1765                           Toronto, Ontario (Canada)    1935-01-01   \n3390   Greensboro, North Carolina (United States of A...    1954-09-13   \n3587          Cleveland, Ohio (United States of America)    1960-02-16   \n4910                                                 NaN    1952-08-27   \n4919             Euclid, Ohio (United States of America)    1949-10-04   \n4951   Grand Rapids, Michigan (United States of America)    1968-08-24   \n5123   New Bern, North Carolina (United States of Ame...    1948-10-04   \n5147                                    La Habana (Cuba)    1964-07-02   \n5164   Jefferson City, Missouri (United States of Ame...    1964-04-24   \n5192         Ciudad de México, Ciudad de México (Mexico)    1960-08-20   \n6429   Buenos Aires, Ciudad Autónoma de Buenos Aires ...    1965-09-05   \n7889              Amsterdam, Noord-Holland (Netherlands)    1945-02-17   \n8186   New Rochelle, New York (United States of America)    1950-04-28   \n9747                                      Teheran (Iran)    1961-11-11   \n12328  San Francisco, California (United States of Am...    1965-05-27   \n13067   Jacksonville, Florida (United States of America)    1961-04-04   \n14613        Ciudad de México, Ciudad de México (Mexico)    1957-05-26   \n15027  German Valley, Illinois (United States of Amer...    1962-05-25   \n15162                                Saiki, Oita (Japan)    1964-01-04   \n16627                Köln, Nordrhein-Westfalen (Germany)    1957-12-12   \n17242    Milwaukee, Wisconsin (United States of America)    1935-01-26   \n17248    Miami Beach, Florida (United States of America)    1953-09-29   \n17328         Cleveland, Ohio (United States of America)    1958-05-23   \n17965                                                NaN    1958-08-29   \n18230                                              Japan    1966-04-06   \n20141                                 Zacatecas (Mexico)    1915-04-19   \n20158                                   La Habana (Cuba)    1967-11-25   \n20299                     Monterrey, Nuevo León (Mexico)    1967-11-07   \n21852                Kentucky (United States of America)    1963-12-23   \n22941                                                NaN    1965-03-17   \n23728     Verdigris, Oklahoma (United States of America)    1970-05-13   \n24731                               Steiermark (Austria)    1950-11-03   \n25026                     Stockholm, Stockholms (Sweden)    1970-11-16   \n26147     Boonton, New Jersey (United States of America)    1970-08-17   \n26158       Surfside, Florida (United States of America)    1965-04-28   \n\n           Debut           wrestler_name Date of Death  Height  Weight  Alias  \\\n422   2009-12-01          Scott Stanford           NaT     NaN     NaN      1   \n1473  2007-08-13       Evander Holyfield           NaT     NaN     NaN      1   \n1569  2010-01-30         Herschel Walker           NaT    1.85   100.0      1   \n1765  1984-01-01             Jack Tunney    2004-01-24     NaN     NaN      1   \n3390  2009-02-28           Mike Hogewood    2018-09-05     NaN     NaN      1   \n3587  2007-01-01              Billy Gram           NaT    1.93    82.0      1   \n4910  2010-11-01          Pee-wee Herman           NaT     NaN     NaN      1   \n4919  2008-01-27             Mike Adamle           NaT     NaN     NaN      1   \n4951  2010-08-28             James Toney           NaT    1.78   107.0      1   \n5123  1999-01-01          Linda McMahon            NaT     NaN     NaN      1   \n5147  2009-05-26            Jose Canseco           NaT    1.88   113.0      1   \n5164  2009-09-21  Cedric the Entertainer           NaT     NaN     NaN      1   \n5192  2004-01-01               Gronda #2           NaT    1.85   100.0      1   \n6429  2006-10-23              Hoshitango           NaT    1.83   130.0      1   \n7889  1989-05-04            Chris Dolman           NaT     NaN     NaN      1   \n8186  1998-08-08                Jay Leno           NaT     NaN     NaN      1   \n9747  2002-12-08           Matt Ghaffari           NaT    1.96   127.0      1   \n12328 2009-02-28            Todd Bridges           NaT     NaN     NaN      1   \n13067 2009-06-13              Ray Mercer           NaT     NaN     NaN      1   \n14613 1999-04-30   El Hijo del Enfermero           NaT     NaN     NaN      1   \n15027 2006-06-17                  Caiya            NaT     NaN     NaN      1   \n15162 2009-07-26               King RIKI           NaT     NaN     NaN      1   \n16627 2000-02-12            Tom Gerhardt           NaT     NaN     NaN      1   \n17242 1987-03-29              Bob Uecker           NaT    1.85    86.0      1   \n17248 2007-06-17        Warren Cromartie           NaT     NaN     NaN      1   \n17328 2001-01-21              Drew Carey           NaT     NaN     NaN      1   \n17965 2008-03-01         Michael Okamoto           NaT     NaN     NaN      1   \n18230 2007-12-08            Nishi Kazuma           NaT    1.65    65.0      1   \n20141 2011-12-18         Chabelo Jimenez           NaT     NaN     NaN      1   \n20158 2011-12-27                 Niurka            NaT    1.65    64.0      1   \n20299 2012-01-15         Ernesto Chavana           NaT     NaN     NaN      1   \n21852 2012-01-01             King Hustle           NaT     NaN     NaN      1   \n22941 2012-12-08        Momma Excellent            NaT     NaN     NaN      1   \n23728 2012-11-10           Psycho Sawyer           NaT    1.83   109.0      1   \n24731 1994-06-11                    Hias    2007-07-07     NaN     NaN      1   \n25026 2014-08-17                 LiLiCo            NaT     NaN     NaN      1   \n26147 2014-06-27        Brigitte Narcise           NaT    1.60    54.0      1   \n26158 2010-09-04             Joe Johnson           NaT     NaN     NaN      1   \n\n       ...  Familiy Tie             Birth Country  Region  Name Known  \\\n422    ...            0  United States of America     USA        True   \n1473   ...            0  United States of America     USA        True   \n1569   ...            0  United States of America     USA        True   \n1765   ...            0                    Canada     USA        True   \n3390   ...            0  United States of America     USA        True   \n3587   ...            0  United States of America     USA        True   \n4910   ...            0                       NaN   Other        True   \n4919   ...            0  United States of America     USA        True   \n4951   ...            0  United States of America     USA        True   \n5123   ...            0  United States of America     USA        True   \n5147   ...            0                      Cuba   Other        True   \n5164   ...            0  United States of America     USA        True   \n5192   ...            0                    Mexico  Mexico       False   \n6429   ...            0                 Argentina   Other        True   \n7889   ...            0               Netherlands   Other        True   \n8186   ...            0  United States of America     USA        True   \n9747   ...            0                      Iran   Other        True   \n12328  ...            0  United States of America     USA        True   \n13067  ...            0  United States of America     USA        True   \n14613  ...            0                    Mexico  Mexico       False   \n15027  ...            0  United States of America     USA        True   \n15162  ...            0                     Japan   Japan        True   \n16627  ...            0                   Germany   Other        True   \n17242  ...            0  United States of America     USA        True   \n17248  ...            0  United States of America     USA        True   \n17328  ...            0  United States of America     USA        True   \n17965  ...            0                       NaN   Other       False   \n18230  ...            0                     Japan   Japan       False   \n20141  ...            0                    Mexico  Mexico        True   \n20158  ...            0                      Cuba   Other        True   \n20299  ...            0                    Mexico  Mexico        True   \n21852  ...            0  United States of America     USA        True   \n22941  ...            1                       NaN   Other        True   \n23728  ...            0  United States of America     USA       False   \n24731  ...            0                   Austria   Other        True   \n25026  ...            0                    Sweden   Other       False   \n26147  ...            0  United States of America     USA        True   \n26158  ...            0  United States of America     USA        True   \n\n       Debut Age  Gimmick Matches Won  Gimmick Matches Lost  \\\n422         41.0                    0                     0   \n1473        44.0                    0                     0   \n1569        47.0                    0                     0   \n1765        49.0                    0                     0   \n3390        54.0                    0                     0   \n3587        46.0                    0                     0   \n4910        58.0                    0                     0   \n4919        58.0                    0                     0   \n4951        42.0                    0                     0   \n5123        50.0                    0                     0   \n5147        44.0                    0                     0   \n5164        45.0                    0                     0   \n5192        43.0                    0                     0   \n6429        41.0                    0                     1   \n7889        44.0                    0                     0   \n8186        48.0                    0                     0   \n9747        41.0                    0                     0   \n12328       43.0                    0                     0   \n13067       48.0                    0                     0   \n14613       41.0                    0                     0   \n15027       44.0                    0                     0   \n15162       45.0                    0                     0   \n16627       42.0                    0                     0   \n17242       52.0                    0                     0   \n17248       53.0                    0                     0   \n17328       42.0                    0                     0   \n17965       49.0                    0                     0   \n18230       41.0                    0                     0   \n20141       96.0                    0                     0   \n20158       44.0                    0                     0   \n20299       44.0                    1                     0   \n21852       48.0                    0                     0   \n22941       47.0                    0                     0   \n23728       42.0                    0                     0   \n24731       43.0                    0                     0   \n25026       43.0                    0                     0   \n26147       43.0                    0                     0   \n26158       45.0                    0                     0   \n\n       Participated in Gimmick Match  Had Students  Had 5 star match  \n422                            False         False             False  \n1473                           False         False             False  \n1569                           False         False             False  \n1765                           False         False             False  \n3390                           False         False             False  \n3587                           False         False             False  \n4910                           False         False             False  \n4919                           False         False             False  \n4951                           False         False             False  \n5123                           False         False             False  \n5147                           False         False             False  \n5164                           False         False             False  \n5192                           False         False             False  \n6429                            True         False             False  \n7889                           False          True             False  \n8186                           False         False             False  \n9747                           False         False             False  \n12328                          False         False             False  \n13067                          False         False             False  \n14613                          False         False             False  \n15027                          False         False             False  \n15162                          False         False             False  \n16627                          False         False             False  \n17242                          False         False             False  \n17248                          False         False             False  \n17328                          False         False             False  \n17965                          False         False             False  \n18230                          False         False             False  \n20141                          False         False             False  \n20158                          False         False             False  \n20299                           True         False             False  \n21852                          False         False             False  \n22941                          False         False             False  \n23728                          False         False             False  \n24731                          False         False             False  \n25026                          False         False             False  \n26147                          False         False             False  \n26158                          False         False             False  \n\n[38 rows x 37 columns]",
      "text/html": "<div>\n<style scoped>\n    .dataframe tbody tr th:only-of-type {\n        vertical-align: middle;\n    }\n\n    .dataframe tbody tr th {\n        vertical-align: top;\n    }\n\n    .dataframe thead th {\n        text-align: right;\n    }\n</style>\n<table border=\"1\" class=\"dataframe\">\n  <thead>\n    <tr style=\"text-align: right;\">\n      <th></th>\n      <th>id</th>\n      <th>Real Name</th>\n      <th>Birthplace</th>\n      <th>Date of Birth</th>\n      <th>Debut</th>\n      <th>wrestler_name</th>\n      <th>Date of Death</th>\n      <th>Height</th>\n      <th>Weight</th>\n      <th>Alias</th>\n      <th>...</th>\n      <th>Familiy Tie</th>\n      <th>Birth Country</th>\n      <th>Region</th>\n      <th>Name Known</th>\n      <th>Debut Age</th>\n      <th>Gimmick Matches Won</th>\n      <th>Gimmick Matches Lost</th>\n      <th>Participated in Gimmick Match</th>\n      <th>Had Students</th>\n      <th>Had 5 star match</th>\n    </tr>\n  </thead>\n  <tbody>\n    <tr>\n      <th>422</th>\n      <td>18170</td>\n      <td>Scott Stanford</td>\n      <td>Haverstraw, New York (United States of America)</td>\n      <td>1968-08-30</td>\n      <td>2009-12-01</td>\n      <td>Scott Stanford</td>\n      <td>NaT</td>\n      <td>NaN</td>\n      <td>NaN</td>\n      <td>1</td>\n      <td>...</td>\n      <td>0</td>\n      <td>United States of America</td>\n      <td>USA</td>\n      <td>True</td>\n      <td>41.0</td>\n      <td>0</td>\n      <td>0</td>\n      <td>False</td>\n      <td>False</td>\n      <td>False</td>\n    </tr>\n    <tr>\n      <th>1473</th>\n      <td>18888</td>\n      <td>Evander Holyfield</td>\n      <td>Atmore, Alabama (United States of America)</td>\n      <td>1962-10-19</td>\n      <td>2007-08-13</td>\n      <td>Evander Holyfield</td>\n      <td>NaT</td>\n      <td>NaN</td>\n      <td>NaN</td>\n      <td>1</td>\n      <td>...</td>\n      <td>0</td>\n      <td>United States of America</td>\n      <td>USA</td>\n      <td>True</td>\n      <td>44.0</td>\n      <td>0</td>\n      <td>0</td>\n      <td>False</td>\n      <td>False</td>\n      <td>False</td>\n    </tr>\n    <tr>\n      <th>1569</th>\n      <td>15466</td>\n      <td>Herschel Junior Walker</td>\n      <td>Wrightsville, Georgia (United States of America)</td>\n      <td>1962-03-03</td>\n      <td>2010-01-30</td>\n      <td>Herschel Walker</td>\n      <td>NaT</td>\n      <td>1.85</td>\n      <td>100.0</td>\n      <td>1</td>\n      <td>...</td>\n      <td>0</td>\n      <td>United States of America</td>\n      <td>USA</td>\n      <td>True</td>\n      <td>47.0</td>\n      <td>0</td>\n      <td>0</td>\n      <td>False</td>\n      <td>False</td>\n      <td>False</td>\n    </tr>\n    <tr>\n      <th>1765</th>\n      <td>8450</td>\n      <td>John Tunney Jr.</td>\n      <td>Toronto, Ontario (Canada)</td>\n      <td>1935-01-01</td>\n      <td>1984-01-01</td>\n      <td>Jack Tunney</td>\n      <td>2004-01-24</td>\n      <td>NaN</td>\n      <td>NaN</td>\n      <td>1</td>\n      <td>...</td>\n      <td>0</td>\n      <td>Canada</td>\n      <td>USA</td>\n      <td>True</td>\n      <td>49.0</td>\n      <td>0</td>\n      <td>0</td>\n      <td>False</td>\n      <td>False</td>\n      <td>False</td>\n    </tr>\n    <tr>\n      <th>3390</th>\n      <td>15028</td>\n      <td>Michael Hogewood</td>\n      <td>Greensboro, North Carolina (United States of A...</td>\n      <td>1954-09-13</td>\n      <td>2009-02-28</td>\n      <td>Mike Hogewood</td>\n      <td>2018-09-05</td>\n      <td>NaN</td>\n      <td>NaN</td>\n      <td>1</td>\n      <td>...</td>\n      <td>0</td>\n      <td>United States of America</td>\n      <td>USA</td>\n      <td>True</td>\n      <td>54.0</td>\n      <td>0</td>\n      <td>0</td>\n      <td>False</td>\n      <td>False</td>\n      <td>False</td>\n    </tr>\n    <tr>\n      <th>3587</th>\n      <td>16935</td>\n      <td>Billy Gram</td>\n      <td>Cleveland, Ohio (United States of America)</td>\n      <td>1960-02-16</td>\n      <td>2007-01-01</td>\n      <td>Billy Gram</td>\n      <td>NaT</td>\n      <td>1.93</td>\n      <td>82.0</td>\n      <td>1</td>\n      <td>...</td>\n      <td>0</td>\n      <td>United States of America</td>\n      <td>USA</td>\n      <td>True</td>\n      <td>46.0</td>\n      <td>0</td>\n      <td>0</td>\n      <td>False</td>\n      <td>False</td>\n      <td>False</td>\n    </tr>\n    <tr>\n      <th>4910</th>\n      <td>18810</td>\n      <td>Paul Reubens</td>\n      <td>NaN</td>\n      <td>1952-08-27</td>\n      <td>2010-11-01</td>\n      <td>Pee-wee Herman</td>\n      <td>NaT</td>\n      <td>NaN</td>\n      <td>NaN</td>\n      <td>1</td>\n      <td>...</td>\n      <td>0</td>\n      <td>NaN</td>\n      <td>Other</td>\n      <td>True</td>\n      <td>58.0</td>\n      <td>0</td>\n      <td>0</td>\n      <td>False</td>\n      <td>False</td>\n      <td>False</td>\n    </tr>\n    <tr>\n      <th>4919</th>\n      <td>5756</td>\n      <td>Michael David Adamle</td>\n      <td>Euclid, Ohio (United States of America)</td>\n      <td>1949-10-04</td>\n      <td>2008-01-27</td>\n      <td>Mike Adamle</td>\n      <td>NaT</td>\n      <td>NaN</td>\n      <td>NaN</td>\n      <td>1</td>\n      <td>...</td>\n      <td>0</td>\n      <td>United States of America</td>\n      <td>USA</td>\n      <td>True</td>\n      <td>58.0</td>\n      <td>0</td>\n      <td>0</td>\n      <td>False</td>\n      <td>False</td>\n      <td>False</td>\n    </tr>\n    <tr>\n      <th>4951</th>\n      <td>16327</td>\n      <td>James Nathaniel Toney</td>\n      <td>Grand Rapids, Michigan (United States of America)</td>\n      <td>1968-08-24</td>\n      <td>2010-08-28</td>\n      <td>James Toney</td>\n      <td>NaT</td>\n      <td>1.78</td>\n      <td>107.0</td>\n      <td>1</td>\n      <td>...</td>\n      <td>0</td>\n      <td>United States of America</td>\n      <td>USA</td>\n      <td>True</td>\n      <td>42.0</td>\n      <td>0</td>\n      <td>0</td>\n      <td>False</td>\n      <td>False</td>\n      <td>False</td>\n    </tr>\n    <tr>\n      <th>5123</th>\n      <td>3225</td>\n      <td>Linda Marie Edwards-McMahon</td>\n      <td>New Bern, North Carolina (United States of Ame...</td>\n      <td>1948-10-04</td>\n      <td>1999-01-01</td>\n      <td>Linda McMahon</td>\n      <td>NaT</td>\n      <td>NaN</td>\n      <td>NaN</td>\n      <td>1</td>\n      <td>...</td>\n      <td>0</td>\n      <td>United States of America</td>\n      <td>USA</td>\n      <td>True</td>\n      <td>50.0</td>\n      <td>0</td>\n      <td>0</td>\n      <td>False</td>\n      <td>False</td>\n      <td>False</td>\n    </tr>\n    <tr>\n      <th>5147</th>\n      <td>12987</td>\n      <td>José Canseco Capas, Jr.</td>\n      <td>La Habana (Cuba)</td>\n      <td>1964-07-02</td>\n      <td>2009-05-26</td>\n      <td>Jose Canseco</td>\n      <td>NaT</td>\n      <td>1.88</td>\n      <td>113.0</td>\n      <td>1</td>\n      <td>...</td>\n      <td>0</td>\n      <td>Cuba</td>\n      <td>Other</td>\n      <td>True</td>\n      <td>44.0</td>\n      <td>0</td>\n      <td>0</td>\n      <td>False</td>\n      <td>False</td>\n      <td>False</td>\n    </tr>\n    <tr>\n      <th>5164</th>\n      <td>14846</td>\n      <td>Cedric Kyles</td>\n      <td>Jefferson City, Missouri (United States of Ame...</td>\n      <td>1964-04-24</td>\n      <td>2009-09-21</td>\n      <td>Cedric the Entertainer</td>\n      <td>NaT</td>\n      <td>NaN</td>\n      <td>NaN</td>\n      <td>1</td>\n      <td>...</td>\n      <td>0</td>\n      <td>United States of America</td>\n      <td>USA</td>\n      <td>True</td>\n      <td>45.0</td>\n      <td>0</td>\n      <td>0</td>\n      <td>False</td>\n      <td>False</td>\n      <td>False</td>\n    </tr>\n    <tr>\n      <th>5192</th>\n      <td>2297</td>\n      <td>unknown</td>\n      <td>Ciudad de México, Ciudad de México (Mexico)</td>\n      <td>1960-08-20</td>\n      <td>2004-01-01</td>\n      <td>Gronda #2</td>\n      <td>NaT</td>\n      <td>1.85</td>\n      <td>100.0</td>\n      <td>1</td>\n      <td>...</td>\n      <td>0</td>\n      <td>Mexico</td>\n      <td>Mexico</td>\n      <td>False</td>\n      <td>43.0</td>\n      <td>0</td>\n      <td>0</td>\n      <td>False</td>\n      <td>False</td>\n      <td>False</td>\n    </tr>\n    <tr>\n      <th>6429</th>\n      <td>3629</td>\n      <td>Marcelo Salomon</td>\n      <td>Buenos Aires, Ciudad Autónoma de Buenos Aires ...</td>\n      <td>1965-09-05</td>\n      <td>2006-10-23</td>\n      <td>Hoshitango</td>\n      <td>NaT</td>\n      <td>1.83</td>\n      <td>130.0</td>\n      <td>1</td>\n      <td>...</td>\n      <td>0</td>\n      <td>Argentina</td>\n      <td>Other</td>\n      <td>True</td>\n      <td>41.0</td>\n      <td>0</td>\n      <td>1</td>\n      <td>True</td>\n      <td>False</td>\n      <td>False</td>\n    </tr>\n    <tr>\n      <th>7889</th>\n      <td>5954</td>\n      <td>Chris Dolman</td>\n      <td>Amsterdam, Noord-Holland (Netherlands)</td>\n      <td>1945-02-17</td>\n      <td>1989-05-04</td>\n      <td>Chris Dolman</td>\n      <td>NaT</td>\n      <td>NaN</td>\n      <td>NaN</td>\n      <td>1</td>\n      <td>...</td>\n      <td>0</td>\n      <td>Netherlands</td>\n      <td>Other</td>\n      <td>True</td>\n      <td>44.0</td>\n      <td>0</td>\n      <td>0</td>\n      <td>False</td>\n      <td>True</td>\n      <td>False</td>\n    </tr>\n    <tr>\n      <th>8186</th>\n      <td>6437</td>\n      <td>James Douglas Muir Leno</td>\n      <td>New Rochelle, New York (United States of America)</td>\n      <td>1950-04-28</td>\n      <td>1998-08-08</td>\n      <td>Jay Leno</td>\n      <td>NaT</td>\n      <td>NaN</td>\n      <td>NaN</td>\n      <td>1</td>\n      <td>...</td>\n      <td>0</td>\n      <td>United States of America</td>\n      <td>USA</td>\n      <td>True</td>\n      <td>48.0</td>\n      <td>0</td>\n      <td>0</td>\n      <td>False</td>\n      <td>False</td>\n      <td>False</td>\n    </tr>\n    <tr>\n      <th>9747</th>\n      <td>8561</td>\n      <td>Siamak Ghaffari</td>\n      <td>Teheran (Iran)</td>\n      <td>1961-11-11</td>\n      <td>2002-12-08</td>\n      <td>Matt Ghaffari</td>\n      <td>NaT</td>\n      <td>1.96</td>\n      <td>127.0</td>\n      <td>1</td>\n      <td>...</td>\n      <td>0</td>\n      <td>Iran</td>\n      <td>Other</td>\n      <td>True</td>\n      <td>41.0</td>\n      <td>0</td>\n      <td>0</td>\n      <td>False</td>\n      <td>False</td>\n      <td>False</td>\n    </tr>\n    <tr>\n      <th>12328</th>\n      <td>12446</td>\n      <td>Todd Bridges</td>\n      <td>San Francisco, California (United States of Am...</td>\n      <td>1965-05-27</td>\n      <td>2009-02-28</td>\n      <td>Todd Bridges</td>\n      <td>NaT</td>\n      <td>NaN</td>\n      <td>NaN</td>\n      <td>1</td>\n      <td>...</td>\n      <td>0</td>\n      <td>United States of America</td>\n      <td>USA</td>\n      <td>True</td>\n      <td>43.0</td>\n      <td>0</td>\n      <td>0</td>\n      <td>False</td>\n      <td>False</td>\n      <td>False</td>\n    </tr>\n    <tr>\n      <th>13067</th>\n      <td>13389</td>\n      <td>Ray Mercer</td>\n      <td>Jacksonville, Florida (United States of America)</td>\n      <td>1961-04-04</td>\n      <td>2009-06-13</td>\n      <td>Ray Mercer</td>\n      <td>NaT</td>\n      <td>NaN</td>\n      <td>NaN</td>\n      <td>1</td>\n      <td>...</td>\n      <td>0</td>\n      <td>United States of America</td>\n      <td>USA</td>\n      <td>True</td>\n      <td>48.0</td>\n      <td>0</td>\n      <td>0</td>\n      <td>False</td>\n      <td>False</td>\n      <td>False</td>\n    </tr>\n    <tr>\n      <th>14613</th>\n      <td>15354</td>\n      <td>unknown</td>\n      <td>Ciudad de México, Ciudad de México (Mexico)</td>\n      <td>1957-05-26</td>\n      <td>1999-04-30</td>\n      <td>El Hijo del Enfermero</td>\n      <td>NaT</td>\n      <td>NaN</td>\n      <td>NaN</td>\n      <td>1</td>\n      <td>...</td>\n      <td>0</td>\n      <td>Mexico</td>\n      <td>Mexico</td>\n      <td>False</td>\n      <td>41.0</td>\n      <td>0</td>\n      <td>0</td>\n      <td>False</td>\n      <td>False</td>\n      <td>False</td>\n    </tr>\n    <tr>\n      <th>15027</th>\n      <td>15872</td>\n      <td>Carolyn Kawasaki</td>\n      <td>German Valley, Illinois (United States of Amer...</td>\n      <td>1962-05-25</td>\n      <td>2006-06-17</td>\n      <td>Caiya</td>\n      <td>NaT</td>\n      <td>NaN</td>\n      <td>NaN</td>\n      <td>1</td>\n      <td>...</td>\n      <td>0</td>\n      <td>United States of America</td>\n      <td>USA</td>\n      <td>True</td>\n      <td>44.0</td>\n      <td>0</td>\n      <td>0</td>\n      <td>False</td>\n      <td>False</td>\n      <td>False</td>\n    </tr>\n    <tr>\n      <th>15162</th>\n      <td>16066</td>\n      <td>Chikara Takeuchi</td>\n      <td>Saiki, Oita (Japan)</td>\n      <td>1964-01-04</td>\n      <td>2009-07-26</td>\n      <td>King RIKI</td>\n      <td>NaT</td>\n      <td>NaN</td>\n      <td>NaN</td>\n      <td>1</td>\n      <td>...</td>\n      <td>0</td>\n      <td>Japan</td>\n      <td>Japan</td>\n      <td>True</td>\n      <td>45.0</td>\n      <td>0</td>\n      <td>0</td>\n      <td>False</td>\n      <td>False</td>\n      <td>False</td>\n    </tr>\n    <tr>\n      <th>16627</th>\n      <td>17924</td>\n      <td>Tom Gerhardt</td>\n      <td>Köln, Nordrhein-Westfalen (Germany)</td>\n      <td>1957-12-12</td>\n      <td>2000-02-12</td>\n      <td>Tom Gerhardt</td>\n      <td>NaT</td>\n      <td>NaN</td>\n      <td>NaN</td>\n      <td>1</td>\n      <td>...</td>\n      <td>0</td>\n      <td>Germany</td>\n      <td>Other</td>\n      <td>True</td>\n      <td>42.0</td>\n      <td>0</td>\n      <td>0</td>\n      <td>False</td>\n      <td>False</td>\n      <td>False</td>\n    </tr>\n    <tr>\n      <th>17242</th>\n      <td>18681</td>\n      <td>Robert George Uecker</td>\n      <td>Milwaukee, Wisconsin (United States of America)</td>\n      <td>1935-01-26</td>\n      <td>1987-03-29</td>\n      <td>Bob Uecker</td>\n      <td>NaT</td>\n      <td>1.85</td>\n      <td>86.0</td>\n      <td>1</td>\n      <td>...</td>\n      <td>0</td>\n      <td>United States of America</td>\n      <td>USA</td>\n      <td>True</td>\n      <td>52.0</td>\n      <td>0</td>\n      <td>0</td>\n      <td>False</td>\n      <td>False</td>\n      <td>False</td>\n    </tr>\n    <tr>\n      <th>17248</th>\n      <td>18691</td>\n      <td>Warren Cromartie</td>\n      <td>Miami Beach, Florida (United States of America)</td>\n      <td>1953-09-29</td>\n      <td>2007-06-17</td>\n      <td>Warren Cromartie</td>\n      <td>NaT</td>\n      <td>NaN</td>\n      <td>NaN</td>\n      <td>1</td>\n      <td>...</td>\n      <td>0</td>\n      <td>United States of America</td>\n      <td>USA</td>\n      <td>True</td>\n      <td>53.0</td>\n      <td>0</td>\n      <td>0</td>\n      <td>False</td>\n      <td>False</td>\n      <td>False</td>\n    </tr>\n    <tr>\n      <th>17328</th>\n      <td>18812</td>\n      <td>Drew Allison Carey</td>\n      <td>Cleveland, Ohio (United States of America)</td>\n      <td>1958-05-23</td>\n      <td>2001-01-21</td>\n      <td>Drew Carey</td>\n      <td>NaT</td>\n      <td>NaN</td>\n      <td>NaN</td>\n      <td>1</td>\n      <td>...</td>\n      <td>0</td>\n      <td>United States of America</td>\n      <td>USA</td>\n      <td>True</td>\n      <td>42.0</td>\n      <td>0</td>\n      <td>0</td>\n      <td>False</td>\n      <td>False</td>\n      <td>False</td>\n    </tr>\n    <tr>\n      <th>17965</th>\n      <td>19602</td>\n      <td>unknown</td>\n      <td>NaN</td>\n      <td>1958-08-29</td>\n      <td>2008-03-01</td>\n      <td>Michael Okamoto</td>\n      <td>NaT</td>\n      <td>NaN</td>\n      <td>NaN</td>\n      <td>1</td>\n      <td>...</td>\n      <td>0</td>\n      <td>NaN</td>\n      <td>Other</td>\n      <td>False</td>\n      <td>49.0</td>\n      <td>0</td>\n      <td>0</td>\n      <td>False</td>\n      <td>False</td>\n      <td>False</td>\n    </tr>\n    <tr>\n      <th>18230</th>\n      <td>19950</td>\n      <td>unknown</td>\n      <td>Japan</td>\n      <td>1966-04-06</td>\n      <td>2007-12-08</td>\n      <td>Nishi Kazuma</td>\n      <td>NaT</td>\n      <td>1.65</td>\n      <td>65.0</td>\n      <td>1</td>\n      <td>...</td>\n      <td>0</td>\n      <td>Japan</td>\n      <td>Japan</td>\n      <td>False</td>\n      <td>41.0</td>\n      <td>0</td>\n      <td>0</td>\n      <td>False</td>\n      <td>False</td>\n      <td>False</td>\n    </tr>\n    <tr>\n      <th>20141</th>\n      <td>22436</td>\n      <td>José Isabel Jiménez</td>\n      <td>Zacatecas (Mexico)</td>\n      <td>1915-04-19</td>\n      <td>2011-12-18</td>\n      <td>Chabelo Jimenez</td>\n      <td>NaT</td>\n      <td>NaN</td>\n      <td>NaN</td>\n      <td>1</td>\n      <td>...</td>\n      <td>0</td>\n      <td>Mexico</td>\n      <td>Mexico</td>\n      <td>True</td>\n      <td>96.0</td>\n      <td>0</td>\n      <td>0</td>\n      <td>False</td>\n      <td>False</td>\n      <td>False</td>\n    </tr>\n    <tr>\n      <th>20158</th>\n      <td>22459</td>\n      <td>Niurka Melanie Marcos y Calle</td>\n      <td>La Habana (Cuba)</td>\n      <td>1967-11-25</td>\n      <td>2011-12-27</td>\n      <td>Niurka</td>\n      <td>NaT</td>\n      <td>1.65</td>\n      <td>64.0</td>\n      <td>1</td>\n      <td>...</td>\n      <td>0</td>\n      <td>Cuba</td>\n      <td>Other</td>\n      <td>True</td>\n      <td>44.0</td>\n      <td>0</td>\n      <td>0</td>\n      <td>False</td>\n      <td>False</td>\n      <td>False</td>\n    </tr>\n    <tr>\n      <th>20299</th>\n      <td>22624</td>\n      <td>Ernesto Chavana Cubos</td>\n      <td>Monterrey, Nuevo León (Mexico)</td>\n      <td>1967-11-07</td>\n      <td>2012-01-15</td>\n      <td>Ernesto Chavana</td>\n      <td>NaT</td>\n      <td>NaN</td>\n      <td>NaN</td>\n      <td>1</td>\n      <td>...</td>\n      <td>0</td>\n      <td>Mexico</td>\n      <td>Mexico</td>\n      <td>True</td>\n      <td>44.0</td>\n      <td>1</td>\n      <td>0</td>\n      <td>True</td>\n      <td>False</td>\n      <td>False</td>\n    </tr>\n    <tr>\n      <th>21852</th>\n      <td>24532</td>\n      <td>Daryl Kelly</td>\n      <td>Kentucky (United States of America)</td>\n      <td>1963-12-23</td>\n      <td>2012-01-01</td>\n      <td>King Hustle</td>\n      <td>NaT</td>\n      <td>NaN</td>\n      <td>NaN</td>\n      <td>1</td>\n      <td>...</td>\n      <td>0</td>\n      <td>United States of America</td>\n      <td>USA</td>\n      <td>True</td>\n      <td>48.0</td>\n      <td>0</td>\n      <td>0</td>\n      <td>False</td>\n      <td>False</td>\n      <td>False</td>\n    </tr>\n    <tr>\n      <th>22941</th>\n      <td>25903</td>\n      <td>Debbie Bouch</td>\n      <td>NaN</td>\n      <td>1965-03-17</td>\n      <td>2012-12-08</td>\n      <td>Momma Excellent</td>\n      <td>NaT</td>\n      <td>NaN</td>\n      <td>NaN</td>\n      <td>1</td>\n      <td>...</td>\n      <td>1</td>\n      <td>NaN</td>\n      <td>Other</td>\n      <td>True</td>\n      <td>47.0</td>\n      <td>0</td>\n      <td>0</td>\n      <td>False</td>\n      <td>False</td>\n      <td>False</td>\n    </tr>\n    <tr>\n      <th>23728</th>\n      <td>26967</td>\n      <td>unknown</td>\n      <td>Verdigris, Oklahoma (United States of America)</td>\n      <td>1970-05-13</td>\n      <td>2012-11-10</td>\n      <td>Psycho Sawyer</td>\n      <td>NaT</td>\n      <td>1.83</td>\n      <td>109.0</td>\n      <td>1</td>\n      <td>...</td>\n      <td>0</td>\n      <td>United States of America</td>\n      <td>USA</td>\n      <td>False</td>\n      <td>42.0</td>\n      <td>0</td>\n      <td>0</td>\n      <td>False</td>\n      <td>False</td>\n      <td>False</td>\n    </tr>\n    <tr>\n      <th>24731</th>\n      <td>28300</td>\n      <td>Erich Mathias Mayer</td>\n      <td>Steiermark (Austria)</td>\n      <td>1950-11-03</td>\n      <td>1994-06-11</td>\n      <td>Hias</td>\n      <td>2007-07-07</td>\n      <td>NaN</td>\n      <td>NaN</td>\n      <td>1</td>\n      <td>...</td>\n      <td>0</td>\n      <td>Austria</td>\n      <td>Other</td>\n      <td>True</td>\n      <td>43.0</td>\n      <td>0</td>\n      <td>0</td>\n      <td>False</td>\n      <td>False</td>\n      <td>False</td>\n    </tr>\n    <tr>\n      <th>25026</th>\n      <td>28684</td>\n      <td>unknown</td>\n      <td>Stockholm, Stockholms (Sweden)</td>\n      <td>1970-11-16</td>\n      <td>2014-08-17</td>\n      <td>LiLiCo</td>\n      <td>NaT</td>\n      <td>NaN</td>\n      <td>NaN</td>\n      <td>1</td>\n      <td>...</td>\n      <td>0</td>\n      <td>Sweden</td>\n      <td>Other</td>\n      <td>False</td>\n      <td>43.0</td>\n      <td>0</td>\n      <td>0</td>\n      <td>False</td>\n      <td>False</td>\n      <td>False</td>\n    </tr>\n    <tr>\n      <th>26147</th>\n      <td>30066</td>\n      <td>Brigitte Narcise</td>\n      <td>Boonton, New Jersey (United States of America)</td>\n      <td>1970-08-17</td>\n      <td>2014-06-27</td>\n      <td>Brigitte Narcise</td>\n      <td>NaT</td>\n      <td>1.60</td>\n      <td>54.0</td>\n      <td>1</td>\n      <td>...</td>\n      <td>0</td>\n      <td>United States of America</td>\n      <td>USA</td>\n      <td>True</td>\n      <td>43.0</td>\n      <td>0</td>\n      <td>0</td>\n      <td>False</td>\n      <td>False</td>\n      <td>False</td>\n    </tr>\n    <tr>\n      <th>26158</th>\n      <td>30080</td>\n      <td>Joe Johnson</td>\n      <td>Surfside, Florida (United States of America)</td>\n      <td>1965-04-28</td>\n      <td>2010-09-04</td>\n      <td>Joe Johnson</td>\n      <td>NaT</td>\n      <td>NaN</td>\n      <td>NaN</td>\n      <td>1</td>\n      <td>...</td>\n      <td>0</td>\n      <td>United States of America</td>\n      <td>USA</td>\n      <td>True</td>\n      <td>45.0</td>\n      <td>0</td>\n      <td>0</td>\n      <td>False</td>\n      <td>False</td>\n      <td>False</td>\n    </tr>\n  </tbody>\n</table>\n<p>38 rows × 37 columns</p>\n</div>"
     },
     "execution_count": 137,
     "metadata": {},
     "output_type": "execute_result"
    }
   ],
   "source": [
    "wrestler_df[wrestler_df['Debut Age'] > 40]"
   ],
   "metadata": {
    "collapsed": false,
    "pycharm": {
     "name": "#%%\n"
    }
   }
  },
  {
   "cell_type": "markdown",
   "source": [
    "Some of these were checked manually, and it seems that most of these are just celebrities that were invited at some point to join a match as a guest wrestler. For example, Evander Holyfield was a famous boxer that joined for a match.\n",
    "\n",
    "These won't be excluded, as it is absolutely a pathway into wrestling to just be famous or an athlete beforehand and get a boost from that (for example, Kurt Angle and The Miz fit into this description).\n",
    "\n",
    "It would be viable to just manually add information of \"had a career beforehand\", but that would have to be done by hand and would take way too long to be viable."
   ],
   "metadata": {
    "collapsed": false,
    "pycharm": {
     "name": "#%% md\n"
    }
   }
  },
  {
   "cell_type": "markdown",
   "source": [
    "## Likelihood of getting a 5 star match\n",
    "We'll use the explainable boosting machine to get more information about the wrestlers that have had 5 star matches, and see if there is anything in their history that can provide additional information.\n",
    "\n",
    "So we'll be working on having a classifier that predicts the likelihood of having a 5 star match. We'll drop any names, and we won't work on NLP stuff for now."
   ],
   "metadata": {
    "collapsed": false,
    "pycharm": {
     "name": "#%% md\n"
    }
   }
  },
  {
   "cell_type": "code",
   "source": [
    "# The first thing to do is to add a column that says whether a wrestler has had a 5 star match or not.\n",
    "# We will run the boosted glass box classification model that was explained on it. To try and see if there is anything of value that we can learn.\n",
    "\n",
    "# I looked into how ebm handles categorical variables, for strings it pretty much just does label encoding\n",
    "# I will still remove names, as they should have some NLP done to properly process them. This was deemed as too much effort\n",
    "# But countries will remain\n",
    "match_wrestler_ids = merged_df['id'].unique()\n",
    "y_var = np.where(wrestler_df['id'].isin(match_wrestler_ids), True, False)\n",
    "\n",
    "X_var = wrestler_df.drop(['id', 'Real Name', 'Birthplace', 'wrestler_name'], axis=1)"
   ],
   "metadata": {
    "collapsed": false,
    "pycharm": {
     "name": "#%%\n"
    }
   },
   "execution_count": 192,
   "outputs": []
  },
  {
   "cell_type": "code",
   "execution_count": 197,
   "outputs": [],
   "source": [
    "# We have to deal with missing values, for now I'll take a very simple approach to most of them and hope it's enough\n",
    "values_to_fill_nans = {'Height':0, 'Weight':0, 'Managed by': 0, 'Managed Promotions': 0, 'Booked Promotions':0, 'Debut Age': 0, 'Date of Birth': pd.Timestamp.min, 'Date of Death': pd.Timestamp.max, 'Debut': pd.Timestamp.min, 'Birth Country': ''}\n",
    "X_var.fillna(values_to_fill_nans, inplace=True)\n",
    "\n",
    "# I'm just gonna drop the dates for now, I just want something to run\n",
    "X_var.drop(['Date of Death', 'Date of Birth', 'Debut'], axis=1, inplace=True)\n",
    "\n",
    "# X_var['Date of Birth'] = X_var['Date of Birth'].dt.total_seconds()\n",
    "# X_var['Debut'] = X_var['Debut'].dt.total_seconds()\n",
    "# X_var['Date of Death'] = X_var['Date of Death'].dt.total_seconds()"
   ],
   "metadata": {
    "collapsed": false,
    "pycharm": {
     "name": "#%%\n"
    }
   }
  },
  {
   "cell_type": "code",
   "execution_count": 198,
   "outputs": [
    {
     "data": {
      "text/plain": "ExplainableBoostingClassifier(feature_names=['Height', 'Weight', 'Alias',\n                                             'Finisher', 'Interesting Weblinks',\n                                             'Management', 'Nickname',\n                                             'Stables', 'Tag Teams',\n                                             'Tournament Wins',\n                                             'Trademark Moves', 'Trainer',\n                                             'Familiy Ties', 'Managed by',\n                                             'Shows Commentated',\n                                             'Booked Promotion',\n                                             'Managed Promotions', 'Nicknames',\n                                             'Managed Promotion',\n                                             'Booked Promotions', 'Familiy Tie',\n                                             'Birth Count...\n                                             'continuous', 'categorical',\n                                             'categorical', 'continuous',\n                                             'continuous', 'continuous',\n                                             'continuous', 'categorical',\n                                             'categorical', 'categorical',\n                                             'categorical', 'categorical',\n                                             'categorical', 'categorical',\n                                             'categorical', 'categorical',\n                                             'categorical', 'categorical',\n                                             'categorical', 'categorical',\n                                             'continuous', 'continuous',\n                                             'continuous', 'categorical',\n                                             'categorical', 'interaction', ...],\n                              random_state=1)"
     },
     "execution_count": 198,
     "metadata": {},
     "output_type": "execute_result"
    }
   ],
   "source": [
    "from sklearn.model_selection import train_test_split\n",
    "X_train, X_test, y_train, y_test = train_test_split(X_var, y_var, stratify=y_var)\n",
    "\n",
    "from interpret import show\n",
    "from interpret.glassbox import ExplainableBoostingClassifier\n",
    "\n",
    "seed = 1\n",
    "ebm = ExplainableBoostingClassifier(random_state=seed)\n",
    "ebm.fit(X_train, y_train)"
   ],
   "metadata": {
    "collapsed": false,
    "pycharm": {
     "name": "#%%\n"
    }
   }
  },
  {
   "cell_type": "code",
   "execution_count": 201,
   "outputs": [
    {
     "name": "stderr",
     "output_type": "stream",
     "text": [
      "C:\\Users\\lolco\\anaconda3\\lib\\site-packages\\interpret\\visual\\udash.py:5: UserWarning: \n",
      "The dash_html_components package is deprecated. Please replace\n",
      "`import dash_html_components as html` with `from dash import html`\n",
      "  import dash_html_components as html\n",
      "C:\\Users\\lolco\\anaconda3\\lib\\site-packages\\interpret\\visual\\udash.py:6: UserWarning: \n",
      "The dash_core_components package is deprecated. Please replace\n",
      "`import dash_core_components as dcc` with `from dash import dcc`\n",
      "  import dash_core_components as dcc\n",
      "C:\\Users\\lolco\\anaconda3\\lib\\site-packages\\interpret\\visual\\udash.py:7: UserWarning: \n",
      "The dash_table package is deprecated. Please replace\n",
      "`import dash_table` with `from dash import dash_table`\n",
      "\n",
      "Also, if you're using any of the table format helpers (e.g. Group), replace \n",
      "`from dash_table.Format import Group` with \n",
      "`from dash.dash_table.Format import Group`\n",
      "  import dash_table as dt\n"
     ]
    },
    {
     "data": {
      "text/html": "<!-- http://127.0.0.1:7001/2492515045184/ -->\n<iframe src=\"http://127.0.0.1:7001/2492515045184/\" width=100% height=800 frameBorder=\"0\"></iframe>"
     },
     "metadata": {},
     "output_type": "display_data"
    }
   ],
   "source": [
    "ebm_global = ebm.explain_global(name='EBM')\n",
    "show(ebm_global)"
   ],
   "metadata": {
    "collapsed": false,
    "pycharm": {
     "name": "#%%\n"
    }
   }
  },
  {
   "cell_type": "markdown",
   "source": [
    "# Match analysis\n",
    "While the match analysis is more restricted (our focus was on scraping the wrestlers, not the event info), there can still be some interesting analysis to be done.\n",
    "\n",
    "Another thing that is added to the matches is the 'gender' of the promotion. Japanese promotions tend to only focus on one gender of wrestling, and for the other regions a quick check was done to see where their wrestlers came from.\n",
    "\n",
    "Some of these features would be interesting for the whole set of wrestlers, but they would be near impossible to add to the wrestler list itself without additional scraping.\n",
    "\n",
    "Also, WWE and WWF are essentially the same company, but had to go through a name change due to legal problems with the World Wide Fund. There are other cases where a company is 'descended' from a different one, or where they've bought each other, but we will keep the original promotions to try and represent the 'spirit' of the original booking."
   ],
   "metadata": {
    "collapsed": false,
    "pycharm": {
     "name": "#%% md\n"
    }
   }
  },
  {
   "cell_type": "code",
   "execution_count": 161,
   "outputs": [],
   "source": [
    "# To the match info, I'll add whether the wrestler was in their home \"region\"\n",
    "# TODO: Add this to the match info\n",
    "\n",
    "merged_df['Home wrestler'] = merged_df['Region'] == merged_df['Promotion Country']\n",
    "\n",
    "# TODO: Add the gender info of the promotion\n",
    "# It's easier to list the female promotions, and then just to an np where\n",
    "female_promotions = ['AJW', 'JWP', 'Stardom']\n",
    "\n",
    "merged_df['Female promotion'] = np.where(merged_df['Promotion'].isin(female_promotions), True, False)\n",
    "\n",
    "merged_df['Promotion'] = np.where(merged_df['Promotion'] == 'WWF', 'WWE', merged_df['Promotion'])"
   ],
   "metadata": {
    "collapsed": false,
    "pycharm": {
     "name": "#%%\n"
    }
   }
  }
 ],
 "metadata": {
  "kernelspec": {
   "display_name": "Python 3",
   "language": "python",
   "name": "python3"
  },
  "language_info": {
   "codemirror_mode": {
    "name": "ipython",
    "version": 2
   },
   "file_extension": ".py",
   "mimetype": "text/x-python",
   "name": "python",
   "nbconvert_exporter": "python",
   "pygments_lexer": "ipython2",
   "version": "2.7.6"
  }
 },
 "nbformat": 4,
 "nbformat_minor": 0
}