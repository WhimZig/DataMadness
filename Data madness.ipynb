{
 "cells": [
  {
   "cell_type": "code",
   "execution_count": 1,
   "metadata": {},
   "outputs": [],
   "source": [
    "import pandas as pd\n",
    "import numpy as np\n",
    "from unidecode import unidecode\n",
    "import matplotlib.pyplot as plt\n",
    "\n",
    "# This seems to just make all plots wider, which is nice and makes visualizing easier\n",
    "plt.rcParams['figure.figsize'] = [20,10]"
   ]
  },
  {
   "cell_type": "markdown",
   "metadata": {
    "pycharm": {
     "name": "#%% md\n"
    }
   },
   "source": [
    "# Cleaning up the data\n",
    "\n",
    "The first step will be to clean up (more) the two datasets. The code is given, but the general idea of the cleaning is just to make the data easier to parse.\n",
    "\n",
    "## Cleaning wrestler info\n",
    "\n",
    "We'll start with cleaning up the wrestling info that's contained. The first two methods are just helper methods used later, the core of the cleaning is in the clean_wrestler _info method.\n",
    "\n"
   ]
  },
  {
   "cell_type": "code",
   "execution_count": 2,
   "metadata": {
    "collapsed": false,
    "jupyter": {
     "outputs_hidden": false
    },
    "pycharm": {
     "name": "#%%\n"
    }
   },
   "outputs": [],
   "source": [
    "def country_simplifier(row):\n",
    "    \"\"\"Due to the countries where pro wrestling is more popular, we will simplify the countries. This is mainly using only the 'main' wrestling countries, and leaving the others as 'other'.\n",
    "\n",
    "    The decision on keeping these 4 countries (USA, Japan, Mexico, and UK) as the 'main' wrestling countries was done due to knowledge of the field, as well as information obtained from the 5 star match dataframe.\n",
    "\n",
    "    This is also to deal with issues of the names being mispelled for whatever reason\"\"\"\n",
    "    if (row['Birth Country'] == 'United States of America') or (row['Birth Country'] == 'United States of Americ'):\n",
    "        return 'USA'\n",
    "    elif (row['Birth Country'] == 'Canada') or (row['Birth Country'] == 'Canad'):\n",
    "        # Because of how canada and US are linked in wrestling world, I'll mark the two together\n",
    "        return 'USA'\n",
    "    elif (row['Birth Country'] == 'Japa') or (row['Birth Country'] == 'Japan'):\n",
    "        return 'Japan'\n",
    "    elif (row['Birth Country'] == 'Mexico') or (row['Birth Country'] == 'Mexic'):\n",
    "        return 'Mexico'\n",
    "    elif (row['Birth Country'] == 'United Kingdom') or (row['Birth Country'] == 'United Kingdo'):\n",
    "        return 'UK'\n",
    "    else:\n",
    "        return 'Other'"
   ]
  },
  {
   "cell_type": "code",
   "execution_count": 3,
   "metadata": {
    "collapsed": false,
    "jupyter": {
     "outputs_hidden": false
    },
    "pycharm": {
     "name": "#%%\n"
    }
   },
   "outputs": [],
   "source": [
    "def extract_country(str_to_eval):\n",
    "    \"\"\"Birthplace has the country hidden inside, so this method exists to extract whatever the country might be.\n",
    "\n",
    "    This method was done because sometimes the place has extra location info (IE the city, or state), sometimes it's just a country. So an extra method is needed to distinguish between these two cases\"\"\"\n",
    "    #print(str_to_eval)\n",
    "    # should check if the string is empty?\n",
    "\n",
    "    start_index = str_to_eval.find('(')\n",
    "\n",
    "    # Start index being -1 means there's no (, so I'll assume that if there's no (, then the birthplace is already a country\n",
    "    if start_index == -1:\n",
    "        return str_to_eval\n",
    "    else:\n",
    "        # Have to increase it by one, I don't care about the (, but what's inside them\n",
    "        start_index += 1\n",
    "        end_index = str_to_eval.find(\")\")\n",
    "        return str_to_eval[start_index: end_index]\n"
   ]
  },
  {
   "cell_type": "code",
   "execution_count": 4,
   "metadata": {
    "collapsed": false,
    "jupyter": {
     "outputs_hidden": false
    },
    "pycharm": {
     "name": "#%%\n"
    }
   },
   "outputs": [],
   "source": [
    "def clean_wrestler_info(wrestler_info: pd.DataFrame):\n",
    "    \"\"\"Method to make the general wreslter info easier to parse\n",
    "\n",
    "    Modifies it in place, so it does not return anything\"\"\"\n",
    "    # This adds the country of birth as a column to the dataframe\n",
    "    # Done because country is usually easier to work with\n",
    "    birth_countries = wrestler_info[~wrestler_info['Birthplace'].isnull()]['Birthplace'].apply(extract_country)\n",
    "    wrestler_info['Birth Country'] = birth_countries\n",
    "\n",
    "    # Obtains the height and weight, and allows them to be input into the system\n",
    "    height_and_weight = wrestler_info[~wrestler_info['Weight and Height'].isnull()]['Weight and Height'].str.split('at', expand=True)\n",
    "\n",
    "    # Processing the weight\n",
    "    weight = height_and_weight[~height_and_weight[0].isnull()][0].apply(lambda st: st[st.find(\"(\")+1:st.find(\")\")])\n",
    "    weight = pd.to_numeric(weight.str[:-3], errors='coerce')\n",
    "    weight = weight[~weight.isnull()]\n",
    "    wrestler_info['Weight'] = weight\n",
    "\n",
    "    # Processing the height\n",
    "    height = height_and_weight[~height_and_weight[1].isnull()][1].apply(lambda st: st[st.find(\"(\")+1:st.find(\")\")])\n",
    "    height = pd.to_numeric(height.str[:-2], errors='coerce')\n",
    "    height = height[~height.isnull()]\n",
    "    wrestler_info['Height'] = height\n",
    "\n",
    "    wrestler_info.drop(['Weight and Height'], axis=1, inplace=True)\n",
    "\n",
    "    # Date of birth, debut, and death are contained in a weird string format. These lines take care of\n",
    "    # cleaning stuff up and transforming the inputs into datetime values. Which makes later operations easier\n",
    "    dob = wrestler_info['Date of Birth'].str.replace(r\"\\(.*\\)\",\"\", regex=True)\n",
    "    dob = pd.to_datetime(dob, errors='coerce')\n",
    "\n",
    "    debut = wrestler_info['Debut'].str.replace(r\"\\(.*\\)\",\"\", regex=True)\n",
    "    debut = pd.to_datetime(debut, errors='coerce')\n",
    "\n",
    "    death = wrestler_info['Date of Death'].str.replace(r\"\\(.*\\)\",\"\", regex=True)\n",
    "    death = pd.to_datetime(death, errors='coerce')\n",
    "\n",
    "    wrestler_info['Date of Birth'] = dob\n",
    "    wrestler_info['Debut'] = debut\n",
    "    wrestler_info['Date of Death'] = death\n",
    "\n",
    "    # Region based on the 'main' wrestling countries that was explained earlier on\n",
    "    wrestler_info['Region'] = wrestler_info.apply(lambda row: country_simplifier(row), axis=1)\n",
    "\n",
    "    # New column on whether the real name is known or not\n",
    "    wrestler_info['Name Known'] = np.where(wrestler_info['Real Name'] == 'unknown', False, True)\n",
    "\n",
    "    # Age when they had their debut\n",
    "    wrestler_info['Debut Age'] = ((wrestler_info['Debut'] - wrestler_info['Date of Birth']) / np.timedelta64(1, 'Y')).apply(np.floor)\n",
    "\n",
    "    # These columns aren't useful with the way we parsed them, so I'm just getting rid of them.\n",
    "    # Matches fought would've had the number of matches, but with the way we extracted it, it just told us if they had a match (which everyone did)\n",
    "    # Typical errors was used mainly for typos related to the wrestler's name\n",
    "    wrestler_info.drop(['Matches Fought', 'Typical Error(s)'], axis=1, inplace=True)\n",
    "\n",
    "    # Hair and mask matches are both types of betting matches, so we'll merge their information\n",
    "    wrestler_info['Betting Matches Won'] = (wrestler_info['Hair Matches Won'] + wrestler_info['Mask Wins'] + wrestler_info['Hair Match Won'] + wrestler_info['Mask Win']).fillna(0).astype(int)\n",
    "    wrestler_info['Betting Matches Lost'] = (wrestler_info['Hair Matches Lost'] + wrestler_info['Mask Losses'] + wrestler_info['Hair Match Lost'] + wrestler_info['Mask Loss']).fillna(0).astype(int)\n",
    "    wrestler_info['Participated in Betting Match'] = np.where((wrestler_info['Betting Matches Lost'] > 0) | (wrestler_info['Betting Matches Won']>0), True, False)\n",
    "\n",
    "    # Then dropping the 8 columns related to these gimmick matches\n",
    "    wrestler_info.drop(['Hair Matches Won', 'Mask Wins', 'Hair Match Won', 'Mask Win', 'Hair Matches Lost', 'Mask Losses', 'Hair Match Lost', 'Mask Loss'], axis=1, inplace=True)\n",
    "\n",
    "    # Family ties just means they're related to another wrestler. The difference between plural and singular is just amount\n",
    "    # We'll consider them to be equal\n",
    "    wrestler_info['Family Ties'] = np.where(wrestler_info['Familiy Tie'] | wrestler_info['Familiy Ties'], True, False)\n",
    "    wrestler_info.drop(['Familiy Tie', 'Familiy Ties'], axis=1, inplace=True)\n",
    "\n",
    "    # This is just not helpful\n",
    "    wrestler_info.drop(['Alias'], inplace=True, axis=1)\n",
    "\n"
   ]
  },
  {
   "cell_type": "code",
   "execution_count": 5,
   "metadata": {
    "collapsed": false,
    "jupyter": {
     "outputs_hidden": false
    },
    "pycharm": {
     "name": "#%%\n"
    }
   },
   "outputs": [],
   "source": [
    "wrestler_df = pd.read_csv('all_info_wrestlers.csv')\n",
    "wrestler_df.drop(['Unnamed: 0'], axis=1, inplace=True)\n",
    "\n",
    "# Extra step for consistency at some other point\n",
    "wrestler_df['wrestler_name'] = wrestler_df['wrestler_name'].apply(lambda x: unidecode(x))\n",
    "\n",
    "clean_wrestler_info(wrestler_df)\n",
    "\n",
    "match_wrestler_info = pd.read_csv('Data/5_star_matches_wrestler_list.csv')\n",
    "match_wrestler_info.drop(['Unnamed: 0'], axis=1, inplace=True)\n",
    "\n",
    "# WWF and WWE are pretty much the same company, we'll just merge them directly.\n",
    "match_wrestler_info['Promotion'] = np.where(match_wrestler_info['Promotion'] == 'WWF', 'WWE', match_wrestler_info['Promotion'])"
   ]
  },
  {
   "cell_type": "code",
   "execution_count": 6,
   "metadata": {
    "collapsed": false,
    "jupyter": {
     "outputs_hidden": false
    },
    "pycharm": {
     "name": "#%%\n"
    }
   },
   "outputs": [
    {
     "data": {
      "text/html": [
       "<div>\n",
       "<style scoped>\n",
       "    .dataframe tbody tr th:only-of-type {\n",
       "        vertical-align: middle;\n",
       "    }\n",
       "\n",
       "    .dataframe tbody tr th {\n",
       "        vertical-align: top;\n",
       "    }\n",
       "\n",
       "    .dataframe thead th {\n",
       "        text-align: right;\n",
       "    }\n",
       "</style>\n",
       "<table border=\"1\" class=\"dataframe\">\n",
       "  <thead>\n",
       "    <tr style=\"text-align: right;\">\n",
       "      <th></th>\n",
       "      <th>id</th>\n",
       "      <th>Real Name</th>\n",
       "      <th>Birthplace</th>\n",
       "      <th>Date of Birth</th>\n",
       "      <th>Debut</th>\n",
       "      <th>wrestler_name</th>\n",
       "      <th>Date of Death</th>\n",
       "      <th>Height</th>\n",
       "      <th>Weight</th>\n",
       "      <th>Finisher</th>\n",
       "      <th>...</th>\n",
       "      <th>Student</th>\n",
       "      <th>Booked Promotions</th>\n",
       "      <th>Birth Country</th>\n",
       "      <th>Region</th>\n",
       "      <th>Name Known</th>\n",
       "      <th>Debut Age</th>\n",
       "      <th>Betting Matches Won</th>\n",
       "      <th>Betting Matches Lost</th>\n",
       "      <th>Participated in Betting Match</th>\n",
       "      <th>Family Ties</th>\n",
       "    </tr>\n",
       "  </thead>\n",
       "  <tbody>\n",
       "    <tr>\n",
       "      <th>0</th>\n",
       "      <td>6990</td>\n",
       "      <td>Kazuchika Okada</td>\n",
       "      <td>Anjo, Aichi (Japan)</td>\n",
       "      <td>1987-11-08</td>\n",
       "      <td>2004-08-29</td>\n",
       "      <td>Kazuchika Okada</td>\n",
       "      <td>NaT</td>\n",
       "      <td>1.91</td>\n",
       "      <td>109.0</td>\n",
       "      <td>3</td>\n",
       "      <td>...</td>\n",
       "      <td>0</td>\n",
       "      <td>0.0</td>\n",
       "      <td>Japan</td>\n",
       "      <td>Japan</td>\n",
       "      <td>True</td>\n",
       "      <td>16.0</td>\n",
       "      <td>0</td>\n",
       "      <td>0</td>\n",
       "      <td>False</td>\n",
       "      <td>False</td>\n",
       "    </tr>\n",
       "    <tr>\n",
       "      <th>1</th>\n",
       "      <td>216</td>\n",
       "      <td>Curtis Michael Hennig</td>\n",
       "      <td>Robbinsdale, Minnesota (United States of America)</td>\n",
       "      <td>1958-03-28</td>\n",
       "      <td>1981-01-30</td>\n",
       "      <td>Curt Hennig</td>\n",
       "      <td>2003-02-10</td>\n",
       "      <td>1.91</td>\n",
       "      <td>118.0</td>\n",
       "      <td>1</td>\n",
       "      <td>...</td>\n",
       "      <td>0</td>\n",
       "      <td>0.0</td>\n",
       "      <td>United States of America</td>\n",
       "      <td>USA</td>\n",
       "      <td>True</td>\n",
       "      <td>22.0</td>\n",
       "      <td>0</td>\n",
       "      <td>0</td>\n",
       "      <td>False</td>\n",
       "      <td>True</td>\n",
       "    </tr>\n",
       "    <tr>\n",
       "      <th>2</th>\n",
       "      <td>458</td>\n",
       "      <td>Keiichi Yamada</td>\n",
       "      <td>Hiroshima, Hiroshima (Japan)</td>\n",
       "      <td>1964-11-30</td>\n",
       "      <td>1984-03-03</td>\n",
       "      <td>Jushin Thunder Liger</td>\n",
       "      <td>NaT</td>\n",
       "      <td>1.68</td>\n",
       "      <td>94.0</td>\n",
       "      <td>3</td>\n",
       "      <td>...</td>\n",
       "      <td>0</td>\n",
       "      <td>0.0</td>\n",
       "      <td>Japan</td>\n",
       "      <td>Japan</td>\n",
       "      <td>True</td>\n",
       "      <td>19.0</td>\n",
       "      <td>1</td>\n",
       "      <td>0</td>\n",
       "      <td>True</td>\n",
       "      <td>False</td>\n",
       "    </tr>\n",
       "    <tr>\n",
       "      <th>3</th>\n",
       "      <td>766</td>\n",
       "      <td>Satoru Sayama</td>\n",
       "      <td>Shimonoseki, Yamaguchi (Japan)</td>\n",
       "      <td>1957-11-24</td>\n",
       "      <td>1976-05-28</td>\n",
       "      <td>First Tiger Mask</td>\n",
       "      <td>NaT</td>\n",
       "      <td>1.73</td>\n",
       "      <td>96.0</td>\n",
       "      <td>2</td>\n",
       "      <td>...</td>\n",
       "      <td>0</td>\n",
       "      <td>0.0</td>\n",
       "      <td>Japan</td>\n",
       "      <td>Japan</td>\n",
       "      <td>True</td>\n",
       "      <td>18.0</td>\n",
       "      <td>2</td>\n",
       "      <td>0</td>\n",
       "      <td>True</td>\n",
       "      <td>False</td>\n",
       "    </tr>\n",
       "    <tr>\n",
       "      <th>4</th>\n",
       "      <td>64</td>\n",
       "      <td>Eduardo Gori Guerrero Llanes</td>\n",
       "      <td>El Paso, Texas (United States of America)</td>\n",
       "      <td>1967-10-09</td>\n",
       "      <td>1987-09-18</td>\n",
       "      <td>Eddie Guerrero</td>\n",
       "      <td>2005-11-13</td>\n",
       "      <td>1.73</td>\n",
       "      <td>100.0</td>\n",
       "      <td>4</td>\n",
       "      <td>...</td>\n",
       "      <td>0</td>\n",
       "      <td>0.0</td>\n",
       "      <td>United States of America</td>\n",
       "      <td>USA</td>\n",
       "      <td>True</td>\n",
       "      <td>19.0</td>\n",
       "      <td>1</td>\n",
       "      <td>1</td>\n",
       "      <td>True</td>\n",
       "      <td>True</td>\n",
       "    </tr>\n",
       "    <tr>\n",
       "      <th>...</th>\n",
       "      <td>...</td>\n",
       "      <td>...</td>\n",
       "      <td>...</td>\n",
       "      <td>...</td>\n",
       "      <td>...</td>\n",
       "      <td>...</td>\n",
       "      <td>...</td>\n",
       "      <td>...</td>\n",
       "      <td>...</td>\n",
       "      <td>...</td>\n",
       "      <td>...</td>\n",
       "      <td>...</td>\n",
       "      <td>...</td>\n",
       "      <td>...</td>\n",
       "      <td>...</td>\n",
       "      <td>...</td>\n",
       "      <td>...</td>\n",
       "      <td>...</td>\n",
       "      <td>...</td>\n",
       "      <td>...</td>\n",
       "      <td>...</td>\n",
       "    </tr>\n",
       "    <tr>\n",
       "      <th>26260</th>\n",
       "      <td>30188</td>\n",
       "      <td>Catherine Costigan</td>\n",
       "      <td>Limerick (Ireland)</td>\n",
       "      <td>NaT</td>\n",
       "      <td>2010-12-18</td>\n",
       "      <td>Catherine Costigan</td>\n",
       "      <td>NaT</td>\n",
       "      <td>1.63</td>\n",
       "      <td>48.0</td>\n",
       "      <td>0</td>\n",
       "      <td>...</td>\n",
       "      <td>0</td>\n",
       "      <td>NaN</td>\n",
       "      <td>Ireland</td>\n",
       "      <td>Other</td>\n",
       "      <td>True</td>\n",
       "      <td>NaN</td>\n",
       "      <td>0</td>\n",
       "      <td>0</td>\n",
       "      <td>False</td>\n",
       "      <td>False</td>\n",
       "    </tr>\n",
       "    <tr>\n",
       "      <th>26261</th>\n",
       "      <td>30189</td>\n",
       "      <td>Amber Leibrock</td>\n",
       "      <td>Hayward, California (United States of America)</td>\n",
       "      <td>1988-02-08</td>\n",
       "      <td>2015-06-09</td>\n",
       "      <td>Amber Leibrock</td>\n",
       "      <td>NaT</td>\n",
       "      <td>1.80</td>\n",
       "      <td>66.0</td>\n",
       "      <td>0</td>\n",
       "      <td>...</td>\n",
       "      <td>0</td>\n",
       "      <td>NaN</td>\n",
       "      <td>United States of America</td>\n",
       "      <td>USA</td>\n",
       "      <td>True</td>\n",
       "      <td>27.0</td>\n",
       "      <td>0</td>\n",
       "      <td>0</td>\n",
       "      <td>False</td>\n",
       "      <td>False</td>\n",
       "    </tr>\n",
       "    <tr>\n",
       "      <th>26262</th>\n",
       "      <td>30190</td>\n",
       "      <td>Gonzalo Mendiola Ortega</td>\n",
       "      <td>San Antonio, Texas (United States of America)</td>\n",
       "      <td>1933-04-09</td>\n",
       "      <td>NaT</td>\n",
       "      <td>Pancho Lomas</td>\n",
       "      <td>2011-10-22</td>\n",
       "      <td>NaN</td>\n",
       "      <td>NaN</td>\n",
       "      <td>0</td>\n",
       "      <td>...</td>\n",
       "      <td>0</td>\n",
       "      <td>NaN</td>\n",
       "      <td>United States of America</td>\n",
       "      <td>USA</td>\n",
       "      <td>True</td>\n",
       "      <td>NaN</td>\n",
       "      <td>0</td>\n",
       "      <td>0</td>\n",
       "      <td>False</td>\n",
       "      <td>False</td>\n",
       "    </tr>\n",
       "    <tr>\n",
       "      <th>26263</th>\n",
       "      <td>30191</td>\n",
       "      <td>Otto Frederick Roehm</td>\n",
       "      <td>NaN</td>\n",
       "      <td>1882-08-02</td>\n",
       "      <td>NaT</td>\n",
       "      <td>Otto Roehm</td>\n",
       "      <td>1958-05-29</td>\n",
       "      <td>1.65</td>\n",
       "      <td>70.0</td>\n",
       "      <td>0</td>\n",
       "      <td>...</td>\n",
       "      <td>0</td>\n",
       "      <td>NaN</td>\n",
       "      <td>NaN</td>\n",
       "      <td>Other</td>\n",
       "      <td>True</td>\n",
       "      <td>NaN</td>\n",
       "      <td>0</td>\n",
       "      <td>0</td>\n",
       "      <td>False</td>\n",
       "      <td>False</td>\n",
       "    </tr>\n",
       "    <tr>\n",
       "      <th>26264</th>\n",
       "      <td>30192</td>\n",
       "      <td>Isidor Gadar Niflot</td>\n",
       "      <td>Warszawa, Mazowieckie (Poland)</td>\n",
       "      <td>1881-04-16</td>\n",
       "      <td>1908-04-15</td>\n",
       "      <td>John Niflot</td>\n",
       "      <td>1950-03-29</td>\n",
       "      <td>1.60</td>\n",
       "      <td>61.0</td>\n",
       "      <td>0</td>\n",
       "      <td>...</td>\n",
       "      <td>0</td>\n",
       "      <td>NaN</td>\n",
       "      <td>Poland</td>\n",
       "      <td>Other</td>\n",
       "      <td>True</td>\n",
       "      <td>26.0</td>\n",
       "      <td>0</td>\n",
       "      <td>0</td>\n",
       "      <td>False</td>\n",
       "      <td>False</td>\n",
       "    </tr>\n",
       "  </tbody>\n",
       "</table>\n",
       "<p>26265 rows × 35 columns</p>\n",
       "</div>"
      ],
      "text/plain": [
       "          id                     Real Name  \\\n",
       "0       6990               Kazuchika Okada   \n",
       "1        216         Curtis Michael Hennig   \n",
       "2        458                Keiichi Yamada   \n",
       "3        766                 Satoru Sayama   \n",
       "4         64  Eduardo Gori Guerrero Llanes   \n",
       "...      ...                           ...   \n",
       "26260  30188            Catherine Costigan   \n",
       "26261  30189                Amber Leibrock   \n",
       "26262  30190       Gonzalo Mendiola Ortega   \n",
       "26263  30191          Otto Frederick Roehm   \n",
       "26264  30192          Isidor Gadar Niflot    \n",
       "\n",
       "                                              Birthplace Date of Birth  \\\n",
       "0                                    Anjo, Aichi (Japan)    1987-11-08   \n",
       "1      Robbinsdale, Minnesota (United States of America)    1958-03-28   \n",
       "2                           Hiroshima, Hiroshima (Japan)    1964-11-30   \n",
       "3                         Shimonoseki, Yamaguchi (Japan)    1957-11-24   \n",
       "4              El Paso, Texas (United States of America)    1967-10-09   \n",
       "...                                                  ...           ...   \n",
       "26260                                 Limerick (Ireland)           NaT   \n",
       "26261     Hayward, California (United States of America)    1988-02-08   \n",
       "26262      San Antonio, Texas (United States of America)    1933-04-09   \n",
       "26263                                                NaN    1882-08-02   \n",
       "26264                     Warszawa, Mazowieckie (Poland)    1881-04-16   \n",
       "\n",
       "           Debut         wrestler_name Date of Death  Height  Weight  \\\n",
       "0     2004-08-29       Kazuchika Okada           NaT    1.91   109.0   \n",
       "1     1981-01-30           Curt Hennig    2003-02-10    1.91   118.0   \n",
       "2     1984-03-03  Jushin Thunder Liger           NaT    1.68    94.0   \n",
       "3     1976-05-28      First Tiger Mask           NaT    1.73    96.0   \n",
       "4     1987-09-18        Eddie Guerrero    2005-11-13    1.73   100.0   \n",
       "...          ...                   ...           ...     ...     ...   \n",
       "26260 2010-12-18   Catherine Costigan            NaT    1.63    48.0   \n",
       "26261 2015-06-09       Amber Leibrock            NaT    1.80    66.0   \n",
       "26262        NaT          Pancho Lomas    2011-10-22     NaN     NaN   \n",
       "26263        NaT           Otto Roehm     1958-05-29    1.65    70.0   \n",
       "26264 1908-04-15           John Niflot    1950-03-29    1.60    61.0   \n",
       "\n",
       "       Finisher  ...  Student  Booked Promotions             Birth Country  \\\n",
       "0             3  ...        0                0.0                     Japan   \n",
       "1             1  ...        0                0.0  United States of America   \n",
       "2             3  ...        0                0.0                     Japan   \n",
       "3             2  ...        0                0.0                     Japan   \n",
       "4             4  ...        0                0.0  United States of America   \n",
       "...         ...  ...      ...                ...                       ...   \n",
       "26260         0  ...        0                NaN                   Ireland   \n",
       "26261         0  ...        0                NaN  United States of America   \n",
       "26262         0  ...        0                NaN  United States of America   \n",
       "26263         0  ...        0                NaN                       NaN   \n",
       "26264         0  ...        0                NaN                    Poland   \n",
       "\n",
       "       Region  Name Known  Debut Age  Betting Matches Won  \\\n",
       "0       Japan        True       16.0                    0   \n",
       "1         USA        True       22.0                    0   \n",
       "2       Japan        True       19.0                    1   \n",
       "3       Japan        True       18.0                    2   \n",
       "4         USA        True       19.0                    1   \n",
       "...       ...         ...        ...                  ...   \n",
       "26260   Other        True        NaN                    0   \n",
       "26261     USA        True       27.0                    0   \n",
       "26262     USA        True        NaN                    0   \n",
       "26263   Other        True        NaN                    0   \n",
       "26264   Other        True       26.0                    0   \n",
       "\n",
       "       Betting Matches Lost  Participated in Betting Match  Family Ties  \n",
       "0                         0                          False        False  \n",
       "1                         0                          False         True  \n",
       "2                         0                           True        False  \n",
       "3                         0                           True        False  \n",
       "4                         1                           True         True  \n",
       "...                     ...                            ...          ...  \n",
       "26260                     0                          False        False  \n",
       "26261                     0                          False        False  \n",
       "26262                     0                          False        False  \n",
       "26263                     0                          False        False  \n",
       "26264                     0                          False        False  \n",
       "\n",
       "[26265 rows x 35 columns]"
      ]
     },
     "execution_count": 6,
     "metadata": {},
     "output_type": "execute_result"
    }
   ],
   "source": [
    "wrestler_df"
   ]
  },
  {
   "cell_type": "markdown",
   "metadata": {
    "pycharm": {
     "name": "#%% md\n"
    }
   },
   "source": [
    "## Cleaning the 5 star matches\n",
    "\n",
    "The cleaning is adding the country of the promotion for each match, adding the 'gender' of the promotion, and adding a unique ID for each match.\n",
    "\n",
    "The country follows the same form as the region, it's done for analysis further on."
   ]
  },
  {
   "cell_type": "code",
   "execution_count": 7,
   "metadata": {
    "collapsed": false,
    "jupyter": {
     "outputs_hidden": false
    },
    "pycharm": {
     "name": "#%%\n"
    }
   },
   "outputs": [],
   "source": [
    "promotion_country = {'CWF': 'USA', 'NJPW': 'Japan', 'UWF': 'Japan', 'AJPW': 'Japan', 'AJW': 'Japan', 'JCP': 'USA', 'WCW': 'USA', 'JWP': 'Japan', 'WWF': 'USA', 'AAA': 'Mexico', 'ECW': 'USA', 'Michinoku Pro': 'Japan', 'RINGS': 'Japan', 'Noah': 'Japan', 'ROH': 'USA', 'TNA': 'USA', 'WWE': 'USA', 'PWG': 'USA', 'La Triple W': 'Other', 'AEW': 'USA', 'OTT': 'Other', 'RPW': 'UK', 'Stardom': 'Japan'}"
   ]
  },
  {
   "cell_type": "code",
   "execution_count": 8,
   "metadata": {
    "collapsed": false,
    "jupyter": {
     "outputs_hidden": false
    },
    "pycharm": {
     "name": "#%%\n"
    }
   },
   "outputs": [],
   "source": [
    "match_wrestler_info['Promotion Country'] = match_wrestler_info['Promotion'].map(promotion_country)\n",
    "match_wrestler_info['match_id'] = (match_wrestler_info.index + 1)\n",
    "\n",
    "# This is an ugly way of rearranging the columns, but it helps so much with visualization\n",
    "cols = match_wrestler_info.columns.tolist()\n",
    "cols = cols[:8] + cols[-2:] + cols[8:-2]\n",
    "\n",
    "match_wrestler_info = match_wrestler_info[cols]"
   ]
  },
  {
   "cell_type": "code",
   "execution_count": 9,
   "metadata": {
    "collapsed": false,
    "jupyter": {
     "outputs_hidden": false
    },
    "pycharm": {
     "name": "#%%\n"
    }
   },
   "outputs": [
    {
     "data": {
      "text/html": [
       "<div>\n",
       "<style scoped>\n",
       "    .dataframe tbody tr th:only-of-type {\n",
       "        vertical-align: middle;\n",
       "    }\n",
       "\n",
       "    .dataframe tbody tr th {\n",
       "        vertical-align: top;\n",
       "    }\n",
       "\n",
       "    .dataframe thead th {\n",
       "        text-align: right;\n",
       "    }\n",
       "</style>\n",
       "<table border=\"1\" class=\"dataframe\">\n",
       "  <thead>\n",
       "    <tr style=\"text-align: right;\">\n",
       "      <th></th>\n",
       "      <th>Date</th>\n",
       "      <th>Match</th>\n",
       "      <th>Promotion</th>\n",
       "      <th>Event</th>\n",
       "      <th>Rating</th>\n",
       "      <th># of teams</th>\n",
       "      <th>Team Size</th>\n",
       "      <th>PPV</th>\n",
       "      <th>Promotion Country</th>\n",
       "      <th>match_id</th>\n",
       "      <th>...</th>\n",
       "      <th>Wrestler 3</th>\n",
       "      <th>Wrestler 4</th>\n",
       "      <th>Wrestler 5</th>\n",
       "      <th>Wrestler 6</th>\n",
       "      <th>Wrestler 7</th>\n",
       "      <th>Wrestler 8</th>\n",
       "      <th>Wrestler 9</th>\n",
       "      <th>Wrestler 10</th>\n",
       "      <th>Wrestler 11</th>\n",
       "      <th>Wrestler 12</th>\n",
       "    </tr>\n",
       "  </thead>\n",
       "  <tbody>\n",
       "    <tr>\n",
       "      <th>0</th>\n",
       "      <td>April 7, 1982</td>\n",
       "      <td>Ric Flair vs. Butch Reed</td>\n",
       "      <td>CWF</td>\n",
       "      <td>Miami Beach show</td>\n",
       "      <td>5.00</td>\n",
       "      <td>2</td>\n",
       "      <td>1</td>\n",
       "      <td>False</td>\n",
       "      <td>USA</td>\n",
       "      <td>1</td>\n",
       "      <td>...</td>\n",
       "      <td>NaN</td>\n",
       "      <td>NaN</td>\n",
       "      <td>NaN</td>\n",
       "      <td>NaN</td>\n",
       "      <td>NaN</td>\n",
       "      <td>NaN</td>\n",
       "      <td>NaN</td>\n",
       "      <td>NaN</td>\n",
       "      <td>NaN</td>\n",
       "      <td>NaN</td>\n",
       "    </tr>\n",
       "    <tr>\n",
       "      <th>1</th>\n",
       "      <td>April 21, 1983</td>\n",
       "      <td>Dynamite Kid vs. Tiger Mask</td>\n",
       "      <td>NJPW</td>\n",
       "      <td>Big Fight Series IINight 19</td>\n",
       "      <td>5.00</td>\n",
       "      <td>2</td>\n",
       "      <td>1</td>\n",
       "      <td>True</td>\n",
       "      <td>Japan</td>\n",
       "      <td>2</td>\n",
       "      <td>...</td>\n",
       "      <td>NaN</td>\n",
       "      <td>NaN</td>\n",
       "      <td>NaN</td>\n",
       "      <td>NaN</td>\n",
       "      <td>NaN</td>\n",
       "      <td>NaN</td>\n",
       "      <td>NaN</td>\n",
       "      <td>NaN</td>\n",
       "      <td>NaN</td>\n",
       "      <td>NaN</td>\n",
       "    </tr>\n",
       "    <tr>\n",
       "      <th>2</th>\n",
       "      <td>December 5, 1984</td>\n",
       "      <td>Kazuo Yamazaki vs. Nobuhiko Takada</td>\n",
       "      <td>UWF</td>\n",
       "      <td>Year-End SpecialDay 10</td>\n",
       "      <td>5.00</td>\n",
       "      <td>2</td>\n",
       "      <td>1</td>\n",
       "      <td>True</td>\n",
       "      <td>Japan</td>\n",
       "      <td>3</td>\n",
       "      <td>...</td>\n",
       "      <td>NaN</td>\n",
       "      <td>NaN</td>\n",
       "      <td>NaN</td>\n",
       "      <td>NaN</td>\n",
       "      <td>NaN</td>\n",
       "      <td>NaN</td>\n",
       "      <td>NaN</td>\n",
       "      <td>NaN</td>\n",
       "      <td>NaN</td>\n",
       "      <td>NaN</td>\n",
       "    </tr>\n",
       "    <tr>\n",
       "      <th>3</th>\n",
       "      <td>December 8, 1984</td>\n",
       "      <td>Bruiser Brody and Stan Hansen vs. Dory Funk Jr...</td>\n",
       "      <td>AJPW</td>\n",
       "      <td>Real World Tag LeagueNight 15</td>\n",
       "      <td>5.00</td>\n",
       "      <td>2</td>\n",
       "      <td>2</td>\n",
       "      <td>True</td>\n",
       "      <td>Japan</td>\n",
       "      <td>4</td>\n",
       "      <td>...</td>\n",
       "      <td>Dory Funk Jr.</td>\n",
       "      <td>Terry Funk</td>\n",
       "      <td>NaN</td>\n",
       "      <td>NaN</td>\n",
       "      <td>NaN</td>\n",
       "      <td>NaN</td>\n",
       "      <td>NaN</td>\n",
       "      <td>NaN</td>\n",
       "      <td>NaN</td>\n",
       "      <td>NaN</td>\n",
       "    </tr>\n",
       "    <tr>\n",
       "      <th>4</th>\n",
       "      <td>March 9, 1985</td>\n",
       "      <td>Kuniaki Kobayashi vs. Tiger Mask</td>\n",
       "      <td>AJPW</td>\n",
       "      <td>85 Gekitoh! Exciting WarsNight 14</td>\n",
       "      <td>5.00</td>\n",
       "      <td>2</td>\n",
       "      <td>1</td>\n",
       "      <td>True</td>\n",
       "      <td>Japan</td>\n",
       "      <td>5</td>\n",
       "      <td>...</td>\n",
       "      <td>NaN</td>\n",
       "      <td>NaN</td>\n",
       "      <td>NaN</td>\n",
       "      <td>NaN</td>\n",
       "      <td>NaN</td>\n",
       "      <td>NaN</td>\n",
       "      <td>NaN</td>\n",
       "      <td>NaN</td>\n",
       "      <td>NaN</td>\n",
       "      <td>NaN</td>\n",
       "    </tr>\n",
       "    <tr>\n",
       "      <th>...</th>\n",
       "      <td>...</td>\n",
       "      <td>...</td>\n",
       "      <td>...</td>\n",
       "      <td>...</td>\n",
       "      <td>...</td>\n",
       "      <td>...</td>\n",
       "      <td>...</td>\n",
       "      <td>...</td>\n",
       "      <td>...</td>\n",
       "      <td>...</td>\n",
       "      <td>...</td>\n",
       "      <td>...</td>\n",
       "      <td>...</td>\n",
       "      <td>...</td>\n",
       "      <td>...</td>\n",
       "      <td>...</td>\n",
       "      <td>...</td>\n",
       "      <td>...</td>\n",
       "      <td>...</td>\n",
       "      <td>...</td>\n",
       "      <td>...</td>\n",
       "    </tr>\n",
       "    <tr>\n",
       "      <th>191</th>\n",
       "      <td>November 13, 2021</td>\n",
       "      <td>Adam Page vs. Kenny Omega</td>\n",
       "      <td>AEW</td>\n",
       "      <td>Full Gear</td>\n",
       "      <td>5.50</td>\n",
       "      <td>2</td>\n",
       "      <td>1</td>\n",
       "      <td>True</td>\n",
       "      <td>USA</td>\n",
       "      <td>192</td>\n",
       "      <td>...</td>\n",
       "      <td>NaN</td>\n",
       "      <td>NaN</td>\n",
       "      <td>NaN</td>\n",
       "      <td>NaN</td>\n",
       "      <td>NaN</td>\n",
       "      <td>NaN</td>\n",
       "      <td>NaN</td>\n",
       "      <td>NaN</td>\n",
       "      <td>NaN</td>\n",
       "      <td>NaN</td>\n",
       "    </tr>\n",
       "    <tr>\n",
       "      <th>192</th>\n",
       "      <td>December 15, 2021</td>\n",
       "      <td>Adam Page vs. Bryan Danielson</td>\n",
       "      <td>AEW</td>\n",
       "      <td>Winter is Coming</td>\n",
       "      <td>5.00</td>\n",
       "      <td>2</td>\n",
       "      <td>1</td>\n",
       "      <td>False</td>\n",
       "      <td>USA</td>\n",
       "      <td>193</td>\n",
       "      <td>...</td>\n",
       "      <td>NaN</td>\n",
       "      <td>NaN</td>\n",
       "      <td>NaN</td>\n",
       "      <td>NaN</td>\n",
       "      <td>NaN</td>\n",
       "      <td>NaN</td>\n",
       "      <td>NaN</td>\n",
       "      <td>NaN</td>\n",
       "      <td>NaN</td>\n",
       "      <td>NaN</td>\n",
       "    </tr>\n",
       "    <tr>\n",
       "      <th>193</th>\n",
       "      <td>January 5, 2022</td>\n",
       "      <td>Kazuchika Okada vs. Will Ospreay</td>\n",
       "      <td>NJPW</td>\n",
       "      <td>Wrestle Kingdom 16Night 2</td>\n",
       "      <td>5.75</td>\n",
       "      <td>2</td>\n",
       "      <td>1</td>\n",
       "      <td>True</td>\n",
       "      <td>Japan</td>\n",
       "      <td>194</td>\n",
       "      <td>...</td>\n",
       "      <td>NaN</td>\n",
       "      <td>NaN</td>\n",
       "      <td>NaN</td>\n",
       "      <td>NaN</td>\n",
       "      <td>NaN</td>\n",
       "      <td>NaN</td>\n",
       "      <td>NaN</td>\n",
       "      <td>NaN</td>\n",
       "      <td>NaN</td>\n",
       "      <td>NaN</td>\n",
       "    </tr>\n",
       "    <tr>\n",
       "      <th>194</th>\n",
       "      <td>January 26, 2022</td>\n",
       "      <td>Cody Rhodes vs. Sammy Guevara</td>\n",
       "      <td>AEW</td>\n",
       "      <td>Beach Break</td>\n",
       "      <td>5.00</td>\n",
       "      <td>2</td>\n",
       "      <td>1</td>\n",
       "      <td>False</td>\n",
       "      <td>USA</td>\n",
       "      <td>195</td>\n",
       "      <td>...</td>\n",
       "      <td>NaN</td>\n",
       "      <td>NaN</td>\n",
       "      <td>NaN</td>\n",
       "      <td>NaN</td>\n",
       "      <td>NaN</td>\n",
       "      <td>NaN</td>\n",
       "      <td>NaN</td>\n",
       "      <td>NaN</td>\n",
       "      <td>NaN</td>\n",
       "      <td>NaN</td>\n",
       "    </tr>\n",
       "    <tr>\n",
       "      <th>195</th>\n",
       "      <td>January 29, 2022</td>\n",
       "      <td>Will Ospreay vs. Michael Oku</td>\n",
       "      <td>RPW</td>\n",
       "      <td>High Stakes</td>\n",
       "      <td>5.00</td>\n",
       "      <td>2</td>\n",
       "      <td>1</td>\n",
       "      <td>False</td>\n",
       "      <td>UK</td>\n",
       "      <td>196</td>\n",
       "      <td>...</td>\n",
       "      <td>NaN</td>\n",
       "      <td>NaN</td>\n",
       "      <td>NaN</td>\n",
       "      <td>NaN</td>\n",
       "      <td>NaN</td>\n",
       "      <td>NaN</td>\n",
       "      <td>NaN</td>\n",
       "      <td>NaN</td>\n",
       "      <td>NaN</td>\n",
       "      <td>NaN</td>\n",
       "    </tr>\n",
       "  </tbody>\n",
       "</table>\n",
       "<p>196 rows × 22 columns</p>\n",
       "</div>"
      ],
      "text/plain": [
       "                  Date                                              Match  \\\n",
       "0        April 7, 1982                           Ric Flair vs. Butch Reed   \n",
       "1       April 21, 1983                        Dynamite Kid vs. Tiger Mask   \n",
       "2     December 5, 1984                 Kazuo Yamazaki vs. Nobuhiko Takada   \n",
       "3     December 8, 1984  Bruiser Brody and Stan Hansen vs. Dory Funk Jr...   \n",
       "4        March 9, 1985                   Kuniaki Kobayashi vs. Tiger Mask   \n",
       "..                 ...                                                ...   \n",
       "191  November 13, 2021                          Adam Page vs. Kenny Omega   \n",
       "192  December 15, 2021                      Adam Page vs. Bryan Danielson   \n",
       "193    January 5, 2022                   Kazuchika Okada vs. Will Ospreay   \n",
       "194   January 26, 2022                      Cody Rhodes vs. Sammy Guevara   \n",
       "195   January 29, 2022                       Will Ospreay vs. Michael Oku   \n",
       "\n",
       "    Promotion                              Event  Rating  # of teams  \\\n",
       "0         CWF                   Miami Beach show    5.00           2   \n",
       "1        NJPW        Big Fight Series IINight 19    5.00           2   \n",
       "2         UWF             Year-End SpecialDay 10    5.00           2   \n",
       "3        AJPW      Real World Tag LeagueNight 15    5.00           2   \n",
       "4        AJPW  85 Gekitoh! Exciting WarsNight 14    5.00           2   \n",
       "..        ...                                ...     ...         ...   \n",
       "191       AEW                          Full Gear    5.50           2   \n",
       "192       AEW                   Winter is Coming    5.00           2   \n",
       "193      NJPW          Wrestle Kingdom 16Night 2    5.75           2   \n",
       "194       AEW                        Beach Break    5.00           2   \n",
       "195       RPW                        High Stakes    5.00           2   \n",
       "\n",
       "     Team Size    PPV Promotion Country  match_id  ...     Wrestler 3  \\\n",
       "0            1  False               USA         1  ...            NaN   \n",
       "1            1   True             Japan         2  ...            NaN   \n",
       "2            1   True             Japan         3  ...            NaN   \n",
       "3            2   True             Japan         4  ...  Dory Funk Jr.   \n",
       "4            1   True             Japan         5  ...            NaN   \n",
       "..         ...    ...               ...       ...  ...            ...   \n",
       "191          1   True               USA       192  ...            NaN   \n",
       "192          1  False               USA       193  ...            NaN   \n",
       "193          1   True             Japan       194  ...            NaN   \n",
       "194          1  False               USA       195  ...            NaN   \n",
       "195          1  False                UK       196  ...            NaN   \n",
       "\n",
       "     Wrestler 4 Wrestler 5 Wrestler 6 Wrestler 7 Wrestler 8 Wrestler 9  \\\n",
       "0           NaN        NaN        NaN        NaN        NaN        NaN   \n",
       "1           NaN        NaN        NaN        NaN        NaN        NaN   \n",
       "2           NaN        NaN        NaN        NaN        NaN        NaN   \n",
       "3    Terry Funk        NaN        NaN        NaN        NaN        NaN   \n",
       "4           NaN        NaN        NaN        NaN        NaN        NaN   \n",
       "..          ...        ...        ...        ...        ...        ...   \n",
       "191         NaN        NaN        NaN        NaN        NaN        NaN   \n",
       "192         NaN        NaN        NaN        NaN        NaN        NaN   \n",
       "193         NaN        NaN        NaN        NaN        NaN        NaN   \n",
       "194         NaN        NaN        NaN        NaN        NaN        NaN   \n",
       "195         NaN        NaN        NaN        NaN        NaN        NaN   \n",
       "\n",
       "    Wrestler 10 Wrestler 11 Wrestler 12  \n",
       "0           NaN         NaN         NaN  \n",
       "1           NaN         NaN         NaN  \n",
       "2           NaN         NaN         NaN  \n",
       "3           NaN         NaN         NaN  \n",
       "4           NaN         NaN         NaN  \n",
       "..          ...         ...         ...  \n",
       "191         NaN         NaN         NaN  \n",
       "192         NaN         NaN         NaN  \n",
       "193         NaN         NaN         NaN  \n",
       "194         NaN         NaN         NaN  \n",
       "195         NaN         NaN         NaN  \n",
       "\n",
       "[196 rows x 22 columns]"
      ]
     },
     "execution_count": 9,
     "metadata": {},
     "output_type": "execute_result"
    }
   ],
   "source": [
    "match_wrestler_info"
   ]
  },
  {
   "cell_type": "markdown",
   "metadata": {
    "pycharm": {
     "name": "#%% md\n"
    }
   },
   "source": [
    "# Merging the datasets\n",
    "\n",
    "Here we merge the datasets.\n",
    "\n",
    "Because we're relying on the names of the wrestlers and the names contained in the matches to be the same, this does lead to problems. So this section is a bit longer than it would be if there was just an index to work with. The main way this is done is by matching up the names of the wrestlers on both datasets.\n",
    "\n",
    "There are additional steps, but that is to remove extra information that is no longer helpful (mainly the names of the other wrestlers in a match)"
   ]
  },
  {
   "cell_type": "code",
   "execution_count": 10,
   "metadata": {
    "collapsed": false,
    "jupyter": {
     "outputs_hidden": false
    },
    "pycharm": {
     "name": "#%%\n"
    }
   },
   "outputs": [],
   "source": [
    "problems = []\n",
    "\n",
    "# Used for creating the resulting merged dataframe\n",
    "cur_row = 0\n",
    "\n",
    "# So it's the info stored in the wrestler_df, plus 8 (which is the match info that actually matters)5151\n",
    "merged_df = pd.DataFrame(index=range(12*len(match_wrestler_info.index)), columns=range(len(wrestler_df.columns)+10))\n",
    "\n",
    "for i in range(len(match_wrestler_info.index)):\n",
    "    # First for loop is to go through all of the rows\n",
    "    cur_match_info = match_wrestler_info.iloc[i][:10]\n",
    "    # Weird transpose it to make some concats easier later on\n",
    "    cur_match_info = pd.DataFrame(cur_match_info).transpose()\n",
    "\n",
    "    cur_wrestler_set = match_wrestler_info.iloc[i][10:]\n",
    "    #print(cur_match_info)\n",
    "\n",
    "    # Might be more efficient to precreate it as a df or something, but whatev for now\n",
    "    new_rows_to_add = []\n",
    "\n",
    "    for j in range(12):\n",
    "        # There's max 12 wrestlers in a match, so hard coding is good let's gooooo\n",
    "        cur_wrestler = cur_wrestler_set[j]\n",
    "\n",
    "        if pd.isna(cur_wrestler):\n",
    "            # Break should be valid, the wrestlers should be somewhat ordered\n",
    "            break\n",
    "\n",
    "        to_append = wrestler_df[wrestler_df['wrestler_name'] == cur_wrestler]\n",
    "\n",
    "        if len(to_append.index) != 1:\n",
    "            # It means that it's a different number than 1, so there's a problem somewhere\n",
    "            problems.append((cur_wrestler, i))\n",
    "            continue\n",
    "\n",
    "        merged_df.iloc[cur_row] = pd.concat([cur_match_info.reset_index(drop=True), to_append.reset_index(drop=True)], axis=1)\n",
    "\n",
    "        cur_row += 1\n",
    "\n",
    "merged_df.dropna(how='all', inplace=True)"
   ]
  },
  {
   "cell_type": "markdown",
   "metadata": {
    "pycharm": {
     "name": "#%% md\n"
    }
   },
   "source": [
    "Due to how the wrestler's names can change, it was assumed that there would be some issues with the names. So the wrestlers for which the names didn't line up where separated. Then a manual fix was done with them, which was just looking up their names on the database to find their id's.\n",
    "\n",
    "There were some misc. issues, which are mentioned later on."
   ]
  },
  {
   "cell_type": "code",
   "execution_count": 11,
   "metadata": {
    "collapsed": false,
    "jupyter": {
     "outputs_hidden": false
    },
    "pycharm": {
     "name": "#%%\n"
    }
   },
   "outputs": [],
   "source": [
    "problem_wrestlers = set()\n",
    "for i in range(len(problems)):\n",
    "    problem_wrestlers.add(problems[i][0])"
   ]
  },
  {
   "cell_type": "code",
   "execution_count": 12,
   "metadata": {
    "collapsed": false,
    "jupyter": {
     "outputs_hidden": false
    },
    "pycharm": {
     "name": "#%%\n"
    }
   },
   "outputs": [
    {
     "data": {
      "text/plain": [
       "{'A.J. Styles',\n",
       " 'Aja Kong',\n",
       " 'Akira Hokuto',\n",
       " 'Andrade \"Cien\" Almas',\n",
       " 'Bandido',\n",
       " 'Big Van Vader',\n",
       " 'Black Taurus',\n",
       " 'Bull Nakano',\n",
       " 'Chigusa Nagayo',\n",
       " 'Cima',\n",
       " 'Cutie Suzuki',\n",
       " 'Dan Kroffat',\n",
       " 'Devil Masami',\n",
       " 'Donovan Dijak',\n",
       " 'Dragon Kid',\n",
       " 'Dynamite Kansai',\n",
       " 'Eddy Guerrero',\n",
       " 'El Hijo Del Santo',\n",
       " 'Etsuko Mita',\n",
       " 'Flamita',\n",
       " 'Fénix',\n",
       " 'Genichiro Tenryu',\n",
       " 'Hawk',\n",
       " 'Hikari Fukuoka',\n",
       " 'Jaguar Yokota',\n",
       " 'Kazue Nagahori',\n",
       " 'Keiji Mutoh',\n",
       " 'Killian Dain',\n",
       " 'Kyoko Inoue',\n",
       " 'Lioness Asuka',\n",
       " 'Luchasaurus',\n",
       " 'Manami Toyota',\n",
       " 'Mayumi Ozaki',\n",
       " \"Men's Teioh\",\n",
       " 'Michael Oku',\n",
       " 'Mika Komatsu',\n",
       " 'Mika Suzuki',\n",
       " 'Mika Takahashi',\n",
       " 'Mima Shimoda',\n",
       " 'Mitsuko Nishiwaki',\n",
       " 'Naoki Sano',\n",
       " 'Octagón',\n",
       " 'Pac',\n",
       " 'Pentagon Jr.',\n",
       " 'Pentagón Jr.',\n",
       " 'Psicosis',\n",
       " 'Razor Ramon',\n",
       " 'Rey Misterio Jr.',\n",
       " 'Sachiko Nakamura',\n",
       " 'Sakie Hasegawa',\n",
       " 'Samson Fuyuki',\n",
       " 'Sanada',\n",
       " 'Satoru Sayama',\n",
       " 'Shinobu Kandori',\n",
       " 'Shiryu',\n",
       " 'Shoichi Funaki',\n",
       " 'Sid Vicious',\n",
       " 'Stone Cold Steve Austin',\n",
       " 'Syuri',\n",
       " 'Taka Michinoku',\n",
       " 'Takako Inoue',\n",
       " 'The War Machine',\n",
       " 'Tiger Mask IV',\n",
       " 'Toshiyo Yamada',\n",
       " 'Tsuyoshi Kohsaka',\n",
       " 'Utami Hayashishita',\n",
       " 'Walter',\n",
       " 'Wild Pegasus',\n",
       " 'Yachiya Hirata',\n",
       " 'Yumi Ogura',\n",
       " 'Yumiko Hotta'}"
      ]
     },
     "execution_count": 12,
     "metadata": {},
     "output_type": "execute_result"
    }
   ],
   "source": [
    "problem_wrestlers"
   ]
  },
  {
   "cell_type": "code",
   "execution_count": 13,
   "metadata": {
    "collapsed": false,
    "jupyter": {
     "outputs_hidden": false
    },
    "pycharm": {
     "name": "#%%\n"
    }
   },
   "outputs": [],
   "source": [
    "problem_wrestler_fix = {'A.J. Styles': 350, 'Aja Kong': 577, 'Akira Hokuto': 578, 'Andrade \"Cien\" Almas' : 2581, 'Animal': 98,'Bandido': 27228, 'Big Van Vader': 51, 'Black Taurus': 5533, 'Bull Nakano': 595, 'Chigusa Nagayo': 2020, 'Cima': 968, 'Cutie Suzuki': 2070, 'Dan Kroffat': 839, 'Devil Masami': 2016, 'Donovan Dijak': 28415, 'Dragon Kid': 970, 'Dynamite Kansai': 2023, 'Eddy Guerrero': 64, 'El Hijo Del Santo': 835, 'Etsuko Mita': 2025, 'Flamita': 18326, 'Fénix': 17005, 'Genichiro Tenryu': 938, 'Hawk': 99, 'Hikari Fukuoka': 8758, 'Jaguar Yokota': 3161, 'Johnny Ace': 638, 'Kazue Nagahori': 18980, 'Killian Dain': 7723, 'Keiji Mutoh': 276, 'Kyoko Inoue': 674, 'Lioness Asuka': 623, 'Luchasaurus': 23527, 'Manami Toyota': 1380, 'Masanobu Fuchi': 1057, 'Mayumi Ozaki': 2022, \"Men's Teioh\": 1449, 'Michael Oku': 34867, 'Mika Komatsu': 18981, 'Mika Suzuki': 3181, 'Mika Takahashi': 27017, 'Mima Shimoda': 2026, 'Mitsuko Nishiwaki': 27168, 'Naoki Sano': 995, 'Octagón': 1576, 'Pac': 2606, 'Pentagon Jr.': 13328, 'Pentagón Jr.': 13328, 'Psicosis': 779, 'Razor Ramon': 44, 'Rey Misterio Jr.': 66, 'Sakie Hasegawa': 2489, 'Samson Fuyuki': 1008, 'Sanada': 3194, 'Satoru Asako': 1058, 'Shinobu Kandori': 2035, 'Shiryu': 150, 'Shoichi Funaki': 111, 'Sid Vicious': 82, 'Stone Cold Steve Austin': 9, 'Syuri': 10764, 'Taka Michinoku': 127, 'Takako Inoue': 675, 'The War Machine': 104, 'Tiger Mask IV': 351, 'Toshiyo Yamada': 2044, 'Tsuyoshi Kohsaka': 11796, 'Utami Hayashishita': 35239, 'Walter': 2372, 'Wild Pegasus': 24, 'Yumi Ogura': 3151, 'Yumiko Hotta': 2033, 'Satoru Sayama': 766}\n",
    "\n",
    "# I have to fix tiger mask separately because there's two of them :(\n",
    "# First is the first with NJPW, second is the first with AJPW\n",
    "tiger_masks = [766, 745]\n",
    "\n",
    "# These are the wrestlers that just aren't contained in the database, for whatever reason\n",
    "# They're both women, and both worked with AJW. Their matches were in house shows\n",
    "to_remove = ['Sachiko Nakamura', 'Yachiya Hirata']"
   ]
  },
  {
   "cell_type": "markdown",
   "metadata": {
    "pycharm": {
     "name": "#%% md\n"
    }
   },
   "source": [
    "I'll document the parsing issues for posterity's sake:\n",
    "- A bunch of the wrestlers weren't found directly for some of the following reasons:\n",
    "    - Different spelling of name (for example, different subtitles, or adjectives)\n",
    "    - Accents, and other language specific things\n",
    "    - Multiple wrestlers with same name\n",
    "- Tiger mask appears in multiple matches, but in each match he represents a different person\n",
    "    - This was fixed by modifying the 5 star matches to have the name of the wrestler who fought, not just 'Tiger Mask'\n",
    "- Two wrestlers didn't exist in the database. Searching for them elsewhere also gave no significant results\n",
    "    - Both were female AJW wrestlers, whose match was in a 5 star house show\n",
    "    - They are: Sachiko Nakamura and Yachiya Hirata\n",
    "    - Manually searching for them gave few results, and most of it was mentioning how they appeared in this match.\n",
    "    - It was decided to just manually drop them\n",
    "- Wrestlers that are famous but have multiple people with same name:\n",
    "    - Johnny ace (John Laurinaitis)"
   ]
  },
  {
   "cell_type": "code",
   "execution_count": 27,
   "metadata": {
    "collapsed": false,
    "jupyter": {
     "outputs_hidden": false
    },
    "pycharm": {
     "name": "#%%\n"
    }
   },
   "outputs": [],
   "source": [
    "ultra_problems = []\n",
    "\n",
    "# Used for creating the resulting merged dataframe\n",
    "cur_row = 0\n",
    "merged_df = pd.DataFrame(index=range(12*len(match_wrestler_info.index)), columns=range(len(wrestler_df.columns)+10))\n",
    "merged_df.columns = match_wrestler_info.columns[:10].union(wrestler_df.columns, sort=False)\n",
    "\n",
    "for i in range(len(match_wrestler_info.index)):\n",
    "    # First for loop is to go through all of the rows\n",
    "    cur_match_info = match_wrestler_info.iloc[i][:10]\n",
    "    # Weird transpose it to make some concats easier later on\n",
    "    cur_match_info = pd.DataFrame(cur_match_info).transpose()\n",
    "\n",
    "    cur_wrestler_set = match_wrestler_info.iloc[i][10:]\n",
    "    #print(cur_match_info)\n",
    "\n",
    "    # Might be more efficient to precreate it as a df or something, but whatev for now\n",
    "    new_rows_to_add = []\n",
    "\n",
    "    for j in range(12):\n",
    "        # There's max 12 wrestlers, so hard coding is good let's gooooo\n",
    "        cur_wrestler = cur_wrestler_set[j]\n",
    "\n",
    "        if pd.isna(cur_wrestler):\n",
    "            # Break should be valid, the wrestlers should be somewhat ordered\n",
    "            break\n",
    "\n",
    "        if cur_wrestler in to_remove:\n",
    "            # This is just a way of dealing with the few wrestlers that are not listed\n",
    "            break\n",
    "\n",
    "        if cur_wrestler in problem_wrestler_fix:\n",
    "            # So this is just a way of manually searching through the problem wrestler list\n",
    "\n",
    "            to_append = wrestler_df[wrestler_df['id'] == problem_wrestler_fix[cur_wrestler]]\n",
    "        else:\n",
    "            to_append = wrestler_df[wrestler_df['wrestler_name'] == cur_wrestler]\n",
    "\n",
    "        if len(to_append.index) != 1:\n",
    "            # It means that the wrestler wasn't parsed at all, which is not cool tbh\n",
    "            ultra_problems.append((cur_wrestler, i))\n",
    "            continue\n",
    "\n",
    "        merged_df.iloc[cur_row] = pd.concat([cur_match_info.reset_index(drop=True), to_append.reset_index(drop=True)], axis=1)\n",
    "\n",
    "        cur_row += 1\n",
    "\n",
    "merged_df.dropna(how='all', inplace=True)"
   ]
  },
  {
   "cell_type": "code",
   "execution_count": 15,
   "metadata": {
    "collapsed": false,
    "jupyter": {
     "outputs_hidden": false
    },
    "pycharm": {
     "name": "#%%\n"
    }
   },
   "outputs": [
    {
     "data": {
      "text/plain": [
       "[]"
      ]
     },
     "execution_count": 15,
     "metadata": {},
     "output_type": "execute_result"
    }
   ],
   "source": [
    "ultra_problems"
   ]
  },
  {
   "cell_type": "markdown",
   "metadata": {
    "pycharm": {
     "name": "#%% md\n"
    }
   },
   "source": [
    "We checked one last time for problems, and thankfully no problems were found!\n",
    "\n",
    "Here's the final dataset now."
   ]
  },
  {
   "cell_type": "code",
   "execution_count": 16,
   "metadata": {
    "collapsed": false,
    "jupyter": {
     "outputs_hidden": false
    },
    "pycharm": {
     "name": "#%%\n"
    }
   },
   "outputs": [
    {
     "data": {
      "text/html": [
       "<div>\n",
       "<style scoped>\n",
       "    .dataframe tbody tr th:only-of-type {\n",
       "        vertical-align: middle;\n",
       "    }\n",
       "\n",
       "    .dataframe tbody tr th {\n",
       "        vertical-align: top;\n",
       "    }\n",
       "\n",
       "    .dataframe thead th {\n",
       "        text-align: right;\n",
       "    }\n",
       "</style>\n",
       "<table border=\"1\" class=\"dataframe\">\n",
       "  <thead>\n",
       "    <tr style=\"text-align: right;\">\n",
       "      <th></th>\n",
       "      <th>Date</th>\n",
       "      <th>Match</th>\n",
       "      <th>Promotion</th>\n",
       "      <th>Event</th>\n",
       "      <th>Rating</th>\n",
       "      <th># of teams</th>\n",
       "      <th>Team Size</th>\n",
       "      <th>PPV</th>\n",
       "      <th>Promotion Country</th>\n",
       "      <th>match_id</th>\n",
       "      <th>...</th>\n",
       "      <th>Wrestler 3</th>\n",
       "      <th>Wrestler 4</th>\n",
       "      <th>Wrestler 5</th>\n",
       "      <th>Wrestler 6</th>\n",
       "      <th>Wrestler 7</th>\n",
       "      <th>Wrestler 8</th>\n",
       "      <th>Wrestler 9</th>\n",
       "      <th>Wrestler 10</th>\n",
       "      <th>Wrestler 11</th>\n",
       "      <th>Wrestler 12</th>\n",
       "    </tr>\n",
       "  </thead>\n",
       "  <tbody>\n",
       "    <tr>\n",
       "      <th>0</th>\n",
       "      <td>April 7, 1982</td>\n",
       "      <td>Ric Flair vs. Butch Reed</td>\n",
       "      <td>CWF</td>\n",
       "      <td>Miami Beach show</td>\n",
       "      <td>5.00</td>\n",
       "      <td>2</td>\n",
       "      <td>1</td>\n",
       "      <td>False</td>\n",
       "      <td>USA</td>\n",
       "      <td>1</td>\n",
       "      <td>...</td>\n",
       "      <td>NaN</td>\n",
       "      <td>NaN</td>\n",
       "      <td>NaN</td>\n",
       "      <td>NaN</td>\n",
       "      <td>NaN</td>\n",
       "      <td>NaN</td>\n",
       "      <td>NaN</td>\n",
       "      <td>NaN</td>\n",
       "      <td>NaN</td>\n",
       "      <td>NaN</td>\n",
       "    </tr>\n",
       "    <tr>\n",
       "      <th>1</th>\n",
       "      <td>April 21, 1983</td>\n",
       "      <td>Dynamite Kid vs. Tiger Mask</td>\n",
       "      <td>NJPW</td>\n",
       "      <td>Big Fight Series IINight 19</td>\n",
       "      <td>5.00</td>\n",
       "      <td>2</td>\n",
       "      <td>1</td>\n",
       "      <td>True</td>\n",
       "      <td>Japan</td>\n",
       "      <td>2</td>\n",
       "      <td>...</td>\n",
       "      <td>NaN</td>\n",
       "      <td>NaN</td>\n",
       "      <td>NaN</td>\n",
       "      <td>NaN</td>\n",
       "      <td>NaN</td>\n",
       "      <td>NaN</td>\n",
       "      <td>NaN</td>\n",
       "      <td>NaN</td>\n",
       "      <td>NaN</td>\n",
       "      <td>NaN</td>\n",
       "    </tr>\n",
       "    <tr>\n",
       "      <th>2</th>\n",
       "      <td>December 5, 1984</td>\n",
       "      <td>Kazuo Yamazaki vs. Nobuhiko Takada</td>\n",
       "      <td>UWF</td>\n",
       "      <td>Year-End SpecialDay 10</td>\n",
       "      <td>5.00</td>\n",
       "      <td>2</td>\n",
       "      <td>1</td>\n",
       "      <td>True</td>\n",
       "      <td>Japan</td>\n",
       "      <td>3</td>\n",
       "      <td>...</td>\n",
       "      <td>NaN</td>\n",
       "      <td>NaN</td>\n",
       "      <td>NaN</td>\n",
       "      <td>NaN</td>\n",
       "      <td>NaN</td>\n",
       "      <td>NaN</td>\n",
       "      <td>NaN</td>\n",
       "      <td>NaN</td>\n",
       "      <td>NaN</td>\n",
       "      <td>NaN</td>\n",
       "    </tr>\n",
       "    <tr>\n",
       "      <th>3</th>\n",
       "      <td>December 8, 1984</td>\n",
       "      <td>Bruiser Brody and Stan Hansen vs. Dory Funk Jr...</td>\n",
       "      <td>AJPW</td>\n",
       "      <td>Real World Tag LeagueNight 15</td>\n",
       "      <td>5.00</td>\n",
       "      <td>2</td>\n",
       "      <td>2</td>\n",
       "      <td>True</td>\n",
       "      <td>Japan</td>\n",
       "      <td>4</td>\n",
       "      <td>...</td>\n",
       "      <td>Dory Funk Jr.</td>\n",
       "      <td>Terry Funk</td>\n",
       "      <td>NaN</td>\n",
       "      <td>NaN</td>\n",
       "      <td>NaN</td>\n",
       "      <td>NaN</td>\n",
       "      <td>NaN</td>\n",
       "      <td>NaN</td>\n",
       "      <td>NaN</td>\n",
       "      <td>NaN</td>\n",
       "    </tr>\n",
       "    <tr>\n",
       "      <th>4</th>\n",
       "      <td>March 9, 1985</td>\n",
       "      <td>Kuniaki Kobayashi vs. Tiger Mask</td>\n",
       "      <td>AJPW</td>\n",
       "      <td>85 Gekitoh! Exciting WarsNight 14</td>\n",
       "      <td>5.00</td>\n",
       "      <td>2</td>\n",
       "      <td>1</td>\n",
       "      <td>True</td>\n",
       "      <td>Japan</td>\n",
       "      <td>5</td>\n",
       "      <td>...</td>\n",
       "      <td>NaN</td>\n",
       "      <td>NaN</td>\n",
       "      <td>NaN</td>\n",
       "      <td>NaN</td>\n",
       "      <td>NaN</td>\n",
       "      <td>NaN</td>\n",
       "      <td>NaN</td>\n",
       "      <td>NaN</td>\n",
       "      <td>NaN</td>\n",
       "      <td>NaN</td>\n",
       "    </tr>\n",
       "    <tr>\n",
       "      <th>...</th>\n",
       "      <td>...</td>\n",
       "      <td>...</td>\n",
       "      <td>...</td>\n",
       "      <td>...</td>\n",
       "      <td>...</td>\n",
       "      <td>...</td>\n",
       "      <td>...</td>\n",
       "      <td>...</td>\n",
       "      <td>...</td>\n",
       "      <td>...</td>\n",
       "      <td>...</td>\n",
       "      <td>...</td>\n",
       "      <td>...</td>\n",
       "      <td>...</td>\n",
       "      <td>...</td>\n",
       "      <td>...</td>\n",
       "      <td>...</td>\n",
       "      <td>...</td>\n",
       "      <td>...</td>\n",
       "      <td>...</td>\n",
       "      <td>...</td>\n",
       "    </tr>\n",
       "    <tr>\n",
       "      <th>191</th>\n",
       "      <td>November 13, 2021</td>\n",
       "      <td>Adam Page vs. Kenny Omega</td>\n",
       "      <td>AEW</td>\n",
       "      <td>Full Gear</td>\n",
       "      <td>5.50</td>\n",
       "      <td>2</td>\n",
       "      <td>1</td>\n",
       "      <td>True</td>\n",
       "      <td>USA</td>\n",
       "      <td>192</td>\n",
       "      <td>...</td>\n",
       "      <td>NaN</td>\n",
       "      <td>NaN</td>\n",
       "      <td>NaN</td>\n",
       "      <td>NaN</td>\n",
       "      <td>NaN</td>\n",
       "      <td>NaN</td>\n",
       "      <td>NaN</td>\n",
       "      <td>NaN</td>\n",
       "      <td>NaN</td>\n",
       "      <td>NaN</td>\n",
       "    </tr>\n",
       "    <tr>\n",
       "      <th>192</th>\n",
       "      <td>December 15, 2021</td>\n",
       "      <td>Adam Page vs. Bryan Danielson</td>\n",
       "      <td>AEW</td>\n",
       "      <td>Winter is Coming</td>\n",
       "      <td>5.00</td>\n",
       "      <td>2</td>\n",
       "      <td>1</td>\n",
       "      <td>False</td>\n",
       "      <td>USA</td>\n",
       "      <td>193</td>\n",
       "      <td>...</td>\n",
       "      <td>NaN</td>\n",
       "      <td>NaN</td>\n",
       "      <td>NaN</td>\n",
       "      <td>NaN</td>\n",
       "      <td>NaN</td>\n",
       "      <td>NaN</td>\n",
       "      <td>NaN</td>\n",
       "      <td>NaN</td>\n",
       "      <td>NaN</td>\n",
       "      <td>NaN</td>\n",
       "    </tr>\n",
       "    <tr>\n",
       "      <th>193</th>\n",
       "      <td>January 5, 2022</td>\n",
       "      <td>Kazuchika Okada vs. Will Ospreay</td>\n",
       "      <td>NJPW</td>\n",
       "      <td>Wrestle Kingdom 16Night 2</td>\n",
       "      <td>5.75</td>\n",
       "      <td>2</td>\n",
       "      <td>1</td>\n",
       "      <td>True</td>\n",
       "      <td>Japan</td>\n",
       "      <td>194</td>\n",
       "      <td>...</td>\n",
       "      <td>NaN</td>\n",
       "      <td>NaN</td>\n",
       "      <td>NaN</td>\n",
       "      <td>NaN</td>\n",
       "      <td>NaN</td>\n",
       "      <td>NaN</td>\n",
       "      <td>NaN</td>\n",
       "      <td>NaN</td>\n",
       "      <td>NaN</td>\n",
       "      <td>NaN</td>\n",
       "    </tr>\n",
       "    <tr>\n",
       "      <th>194</th>\n",
       "      <td>January 26, 2022</td>\n",
       "      <td>Cody Rhodes vs. Sammy Guevara</td>\n",
       "      <td>AEW</td>\n",
       "      <td>Beach Break</td>\n",
       "      <td>5.00</td>\n",
       "      <td>2</td>\n",
       "      <td>1</td>\n",
       "      <td>False</td>\n",
       "      <td>USA</td>\n",
       "      <td>195</td>\n",
       "      <td>...</td>\n",
       "      <td>NaN</td>\n",
       "      <td>NaN</td>\n",
       "      <td>NaN</td>\n",
       "      <td>NaN</td>\n",
       "      <td>NaN</td>\n",
       "      <td>NaN</td>\n",
       "      <td>NaN</td>\n",
       "      <td>NaN</td>\n",
       "      <td>NaN</td>\n",
       "      <td>NaN</td>\n",
       "    </tr>\n",
       "    <tr>\n",
       "      <th>195</th>\n",
       "      <td>January 29, 2022</td>\n",
       "      <td>Will Ospreay vs. Michael Oku</td>\n",
       "      <td>RPW</td>\n",
       "      <td>High Stakes</td>\n",
       "      <td>5.00</td>\n",
       "      <td>2</td>\n",
       "      <td>1</td>\n",
       "      <td>False</td>\n",
       "      <td>UK</td>\n",
       "      <td>196</td>\n",
       "      <td>...</td>\n",
       "      <td>NaN</td>\n",
       "      <td>NaN</td>\n",
       "      <td>NaN</td>\n",
       "      <td>NaN</td>\n",
       "      <td>NaN</td>\n",
       "      <td>NaN</td>\n",
       "      <td>NaN</td>\n",
       "      <td>NaN</td>\n",
       "      <td>NaN</td>\n",
       "      <td>NaN</td>\n",
       "    </tr>\n",
       "  </tbody>\n",
       "</table>\n",
       "<p>196 rows × 22 columns</p>\n",
       "</div>"
      ],
      "text/plain": [
       "                  Date                                              Match  \\\n",
       "0        April 7, 1982                           Ric Flair vs. Butch Reed   \n",
       "1       April 21, 1983                        Dynamite Kid vs. Tiger Mask   \n",
       "2     December 5, 1984                 Kazuo Yamazaki vs. Nobuhiko Takada   \n",
       "3     December 8, 1984  Bruiser Brody and Stan Hansen vs. Dory Funk Jr...   \n",
       "4        March 9, 1985                   Kuniaki Kobayashi vs. Tiger Mask   \n",
       "..                 ...                                                ...   \n",
       "191  November 13, 2021                          Adam Page vs. Kenny Omega   \n",
       "192  December 15, 2021                      Adam Page vs. Bryan Danielson   \n",
       "193    January 5, 2022                   Kazuchika Okada vs. Will Ospreay   \n",
       "194   January 26, 2022                      Cody Rhodes vs. Sammy Guevara   \n",
       "195   January 29, 2022                       Will Ospreay vs. Michael Oku   \n",
       "\n",
       "    Promotion                              Event  Rating  # of teams  \\\n",
       "0         CWF                   Miami Beach show    5.00           2   \n",
       "1        NJPW        Big Fight Series IINight 19    5.00           2   \n",
       "2         UWF             Year-End SpecialDay 10    5.00           2   \n",
       "3        AJPW      Real World Tag LeagueNight 15    5.00           2   \n",
       "4        AJPW  85 Gekitoh! Exciting WarsNight 14    5.00           2   \n",
       "..        ...                                ...     ...         ...   \n",
       "191       AEW                          Full Gear    5.50           2   \n",
       "192       AEW                   Winter is Coming    5.00           2   \n",
       "193      NJPW          Wrestle Kingdom 16Night 2    5.75           2   \n",
       "194       AEW                        Beach Break    5.00           2   \n",
       "195       RPW                        High Stakes    5.00           2   \n",
       "\n",
       "     Team Size    PPV Promotion Country  match_id  ...     Wrestler 3  \\\n",
       "0            1  False               USA         1  ...            NaN   \n",
       "1            1   True             Japan         2  ...            NaN   \n",
       "2            1   True             Japan         3  ...            NaN   \n",
       "3            2   True             Japan         4  ...  Dory Funk Jr.   \n",
       "4            1   True             Japan         5  ...            NaN   \n",
       "..         ...    ...               ...       ...  ...            ...   \n",
       "191          1   True               USA       192  ...            NaN   \n",
       "192          1  False               USA       193  ...            NaN   \n",
       "193          1   True             Japan       194  ...            NaN   \n",
       "194          1  False               USA       195  ...            NaN   \n",
       "195          1  False                UK       196  ...            NaN   \n",
       "\n",
       "     Wrestler 4 Wrestler 5 Wrestler 6 Wrestler 7 Wrestler 8 Wrestler 9  \\\n",
       "0           NaN        NaN        NaN        NaN        NaN        NaN   \n",
       "1           NaN        NaN        NaN        NaN        NaN        NaN   \n",
       "2           NaN        NaN        NaN        NaN        NaN        NaN   \n",
       "3    Terry Funk        NaN        NaN        NaN        NaN        NaN   \n",
       "4           NaN        NaN        NaN        NaN        NaN        NaN   \n",
       "..          ...        ...        ...        ...        ...        ...   \n",
       "191         NaN        NaN        NaN        NaN        NaN        NaN   \n",
       "192         NaN        NaN        NaN        NaN        NaN        NaN   \n",
       "193         NaN        NaN        NaN        NaN        NaN        NaN   \n",
       "194         NaN        NaN        NaN        NaN        NaN        NaN   \n",
       "195         NaN        NaN        NaN        NaN        NaN        NaN   \n",
       "\n",
       "    Wrestler 10 Wrestler 11 Wrestler 12  \n",
       "0           NaN         NaN         NaN  \n",
       "1           NaN         NaN         NaN  \n",
       "2           NaN         NaN         NaN  \n",
       "3           NaN         NaN         NaN  \n",
       "4           NaN         NaN         NaN  \n",
       "..          ...         ...         ...  \n",
       "191         NaN         NaN         NaN  \n",
       "192         NaN         NaN         NaN  \n",
       "193         NaN         NaN         NaN  \n",
       "194         NaN         NaN         NaN  \n",
       "195         NaN         NaN         NaN  \n",
       "\n",
       "[196 rows x 22 columns]"
      ]
     },
     "execution_count": 16,
     "metadata": {},
     "output_type": "execute_result"
    }
   ],
   "source": [
    "match_wrestler_info"
   ]
  },
  {
   "cell_type": "markdown",
   "metadata": {
    "pycharm": {
     "name": "#%% md\n"
    }
   },
   "source": [
    "# Why we're using these ratings\n",
    "Before proceeding with the analysis, we want to quickly explain why we're focusing on 5 star matches for wrestling, instead of something like number of matches won, titles, or something else.\n",
    "\n",
    "As the wikipedia entry for 5 star matches states (https://en.wikipedia.org/wiki/List_of_professional_wrestling_matches_rated_5_or_more_stars_by_Dave_Meltzer), getting one is a great achievement. We've decided to use these matches instead of other wrestling info (for example, titles or matches won) because it is one of the few metrics that remains solely under the discretion of the wrestler. The other metrics might be influenced by company politics, popularity, or storyline requirements. These matches at the very least guarantee a quality performance regardless of other things that might affect.\n",
    "\n",
    "This is not a perfect judge of a wrestler's quality. Knowing how to play the politics game to your advantage is a skill. Knowing how to become popular with the crowd is a skill (or if you're a heel, knowing how to make them hate you). Promo work (having them argue to create tension) is another metric that is mainly ignored. Another factor that is not addressed directly is teamwork, which is important for tag team matches. Knowing how to make a storyline work and advance it through more than just direct fighting is another important skill not mentioned here.\n",
    "\n",
    "Another important detail is that this does not measure consistency. For some of the most famous wrestlers they might not have had the 5 star matches, but their skills in other fields were consistent enough that they excelled (for example The Rock). This is reflected in the fact that these are only the highlights. It might be the case that other wrestlers haven't reached the heights, but consistently put out enjoyable shows and as such might be considered \"better\".\n",
    "\n",
    "Lastly, this commentary is taken from profightdb (http://www.profightdb.com/wrestler-star-ratings/darby-allin-12652.html), but is very accurate as a reminder:\n",
    "    \"Please note that ratings are given to the overall match; not to the performers within them. Therefore, high or low ratings may reflect aspects of the match including booking, length and performance of partners/opponents, over which the performers may have little or no control. Please also note that a match that received a particular rating many years ago may have been judged on a different criteria from today's.\""
   ]
  },
  {
   "cell_type": "markdown",
   "metadata": {
    "pycharm": {
     "name": "#%% md\n"
    }
   },
   "source": [
    "# Analysis on the wrestlers\n",
    "We'll work some analysis on the wrestler list. The work will be done on all of the wrestlers, not restricted to those that are ranked or have a match.\n",
    "\n",
    "First step will be to add the rank info for various of the wrestlers to see if it is helpful later on.\n",
    "\n",
    "Given that not all wrestlers are ranked, we've decided to add the rank in an inverted manner. IE the 1st wrestler will have a rank value = to the highest number. The worst ranked wrestler will be = 1. That way the unranked wrestlers can be equal to 0, which for us made sense for the data representation."
   ]
  },
  {
   "cell_type": "code",
   "execution_count": 17,
   "metadata": {
    "collapsed": false,
    "jupyter": {
     "outputs_hidden": false
    },
    "pycharm": {
     "name": "#%%\n"
    }
   },
   "outputs": [],
   "source": [
    "ranked_wrestler_list = open('wrestler_index_ordered.txt', 'r').read().split('\\n')\n",
    "# Last element is a '', so this is my bad way of removing it\n",
    "ranked_wrestler_list.pop()\n",
    "ranked_wrestler_list = [int(x) for x in ranked_wrestler_list]\n",
    "\n",
    "ranked_wrestler_list = pd.Series(ranked_wrestler_list).reset_index()\n",
    "ranked_wrestler_list['rank'] = (ranked_wrestler_list['index'].max() - ranked_wrestler_list['index']) + 1\n",
    "ranked_wrestler_list.rename({0:'id'}, axis=1, inplace=True)\n",
    "ranked_wrestler_list.drop(['index'],axis=1, inplace=True)\n",
    "\n",
    "wrestler_df = wrestler_df.merge(ranked_wrestler_list, how='left', on='id')\n",
    "\n",
    "wrestler_df['rank'].fillna(0, inplace=True)\n",
    "wrestler_df['rank'] = wrestler_df['rank'].astype(int)"
   ]
  },
  {
   "cell_type": "markdown",
   "metadata": {
    "pycharm": {
     "name": "#%% md\n"
    }
   },
   "source": [
    "Plot of the debut age vs the date of birth is included."
   ]
  },
  {
   "cell_type": "code",
   "execution_count": 18,
   "metadata": {
    "collapsed": false,
    "jupyter": {
     "outputs_hidden": false
    },
    "pycharm": {
     "name": "#%%\n"
    }
   },
   "outputs": [
    {
     "data": {
      "text/plain": [
       "Text(0.5, 0.98, 'Contour and KDE estimate')"
      ]
     },
     "execution_count": 18,
     "metadata": {},
     "output_type": "execute_result"
    },
    {
     "data": {
      "image/png": "[encoded data removed]",
      "text/plain": [
       "<Figure size 432x432 with 3 Axes>"
      ]
     },
     "metadata": {
      "needs_background": "light"
     },
     "output_type": "display_data"
    }
   ],
   "source": [
    "import seaborn as sns\n",
    "#sns.kdeplot(wrestler_df['Debut Age'], wrestler_df['Date of Birth'])\n",
    "h = sns.jointplot(data=wrestler_df, x='Debut Age', y='Date of Birth', kind='kde')\n",
    "h.set_axis_labels('Debut Age', 'Date of Birth')\n",
    "h.fig.suptitle(t='Contour and KDE estimate')"
   ]
  },
  {
   "cell_type": "markdown",
   "metadata": {
    "pycharm": {
     "name": "#%% md\n"
    }
   },
   "source": [
    "It seems that no matter what, wrestlers usually debut around their 20s. The reason there is a bigger focus on recent years is probably because it is easier to now keep track of any pro wrestlers, so for many of the older wrestlers it is likely that hte information is lost.\n",
    "\n",
    "The reason the date of birth goes as low as the 1880s is probably just due to there being a long history of wrestling, so this isn't particularly interesting. It is interesting on the other hand that there seems to be such old debut ages, even though they don't appear in the contour directly. It is worth investigating this to see if there is anything of value there. We will look for wrestlers older than 40."
   ]
  },
  {
   "cell_type": "code",
   "execution_count": 19,
   "metadata": {
    "collapsed": false,
    "jupyter": {
     "outputs_hidden": false
    },
    "pycharm": {
     "name": "#%%\n"
    }
   },
   "outputs": [
    {
     "data": {
      "text/html": [
       "<div>\n",
       "<style scoped>\n",
       "    .dataframe tbody tr th:only-of-type {\n",
       "        vertical-align: middle;\n",
       "    }\n",
       "\n",
       "    .dataframe tbody tr th {\n",
       "        vertical-align: top;\n",
       "    }\n",
       "\n",
       "    .dataframe thead th {\n",
       "        text-align: right;\n",
       "    }\n",
       "</style>\n",
       "<table border=\"1\" class=\"dataframe\">\n",
       "  <thead>\n",
       "    <tr style=\"text-align: right;\">\n",
       "      <th></th>\n",
       "      <th>id</th>\n",
       "      <th>Real Name</th>\n",
       "      <th>Birthplace</th>\n",
       "      <th>Date of Birth</th>\n",
       "      <th>Debut</th>\n",
       "      <th>wrestler_name</th>\n",
       "      <th>Date of Death</th>\n",
       "      <th>Height</th>\n",
       "      <th>Weight</th>\n",
       "      <th>Finisher</th>\n",
       "      <th>...</th>\n",
       "      <th>Booked Promotions</th>\n",
       "      <th>Birth Country</th>\n",
       "      <th>Region</th>\n",
       "      <th>Name Known</th>\n",
       "      <th>Debut Age</th>\n",
       "      <th>Betting Matches Won</th>\n",
       "      <th>Betting Matches Lost</th>\n",
       "      <th>Participated in Betting Match</th>\n",
       "      <th>Family Ties</th>\n",
       "      <th>rank</th>\n",
       "    </tr>\n",
       "  </thead>\n",
       "  <tbody>\n",
       "    <tr>\n",
       "      <th>423</th>\n",
       "      <td>18170</td>\n",
       "      <td>Scott Stanford</td>\n",
       "      <td>Haverstraw, New York (United States of America)</td>\n",
       "      <td>1968-08-30</td>\n",
       "      <td>2009-12-01</td>\n",
       "      <td>Scott Stanford</td>\n",
       "      <td>NaT</td>\n",
       "      <td>NaN</td>\n",
       "      <td>NaN</td>\n",
       "      <td>0</td>\n",
       "      <td>...</td>\n",
       "      <td>0.0</td>\n",
       "      <td>United States of America</td>\n",
       "      <td>USA</td>\n",
       "      <td>True</td>\n",
       "      <td>41.0</td>\n",
       "      <td>0</td>\n",
       "      <td>0</td>\n",
       "      <td>False</td>\n",
       "      <td>False</td>\n",
       "      <td>4824</td>\n",
       "    </tr>\n",
       "    <tr>\n",
       "      <th>1474</th>\n",
       "      <td>18888</td>\n",
       "      <td>Evander Holyfield</td>\n",
       "      <td>Atmore, Alabama (United States of America)</td>\n",
       "      <td>1962-10-19</td>\n",
       "      <td>2007-08-13</td>\n",
       "      <td>Evander Holyfield</td>\n",
       "      <td>NaT</td>\n",
       "      <td>NaN</td>\n",
       "      <td>NaN</td>\n",
       "      <td>0</td>\n",
       "      <td>...</td>\n",
       "      <td>0.0</td>\n",
       "      <td>United States of America</td>\n",
       "      <td>USA</td>\n",
       "      <td>True</td>\n",
       "      <td>44.0</td>\n",
       "      <td>0</td>\n",
       "      <td>0</td>\n",
       "      <td>False</td>\n",
       "      <td>False</td>\n",
       "      <td>3773</td>\n",
       "    </tr>\n",
       "    <tr>\n",
       "      <th>1570</th>\n",
       "      <td>15466</td>\n",
       "      <td>Herschel Junior Walker</td>\n",
       "      <td>Wrightsville, Georgia (United States of America)</td>\n",
       "      <td>1962-03-03</td>\n",
       "      <td>2010-01-30</td>\n",
       "      <td>Herschel Walker</td>\n",
       "      <td>NaT</td>\n",
       "      <td>1.85</td>\n",
       "      <td>100.0</td>\n",
       "      <td>0</td>\n",
       "      <td>...</td>\n",
       "      <td>0.0</td>\n",
       "      <td>United States of America</td>\n",
       "      <td>USA</td>\n",
       "      <td>True</td>\n",
       "      <td>47.0</td>\n",
       "      <td>0</td>\n",
       "      <td>0</td>\n",
       "      <td>False</td>\n",
       "      <td>False</td>\n",
       "      <td>3677</td>\n",
       "    </tr>\n",
       "    <tr>\n",
       "      <th>1767</th>\n",
       "      <td>8450</td>\n",
       "      <td>John Tunney Jr.</td>\n",
       "      <td>Toronto, Ontario (Canada)</td>\n",
       "      <td>1935-01-01</td>\n",
       "      <td>1984-01-01</td>\n",
       "      <td>Jack Tunney</td>\n",
       "      <td>2004-01-24</td>\n",
       "      <td>NaN</td>\n",
       "      <td>NaN</td>\n",
       "      <td>0</td>\n",
       "      <td>...</td>\n",
       "      <td>0.0</td>\n",
       "      <td>Canada</td>\n",
       "      <td>USA</td>\n",
       "      <td>True</td>\n",
       "      <td>49.0</td>\n",
       "      <td>0</td>\n",
       "      <td>0</td>\n",
       "      <td>False</td>\n",
       "      <td>True</td>\n",
       "      <td>3480</td>\n",
       "    </tr>\n",
       "    <tr>\n",
       "      <th>3395</th>\n",
       "      <td>15028</td>\n",
       "      <td>Michael Hogewood</td>\n",
       "      <td>Greensboro, North Carolina (United States of A...</td>\n",
       "      <td>1954-09-13</td>\n",
       "      <td>2009-02-28</td>\n",
       "      <td>Mike Hogewood</td>\n",
       "      <td>2018-09-05</td>\n",
       "      <td>NaN</td>\n",
       "      <td>NaN</td>\n",
       "      <td>0</td>\n",
       "      <td>...</td>\n",
       "      <td>0.0</td>\n",
       "      <td>United States of America</td>\n",
       "      <td>USA</td>\n",
       "      <td>True</td>\n",
       "      <td>54.0</td>\n",
       "      <td>0</td>\n",
       "      <td>0</td>\n",
       "      <td>False</td>\n",
       "      <td>False</td>\n",
       "      <td>1843</td>\n",
       "    </tr>\n",
       "    <tr>\n",
       "      <th>3592</th>\n",
       "      <td>16935</td>\n",
       "      <td>Billy Gram</td>\n",
       "      <td>Cleveland, Ohio (United States of America)</td>\n",
       "      <td>1960-02-16</td>\n",
       "      <td>2007-01-01</td>\n",
       "      <td>Billy Gram</td>\n",
       "      <td>NaT</td>\n",
       "      <td>1.93</td>\n",
       "      <td>82.0</td>\n",
       "      <td>0</td>\n",
       "      <td>...</td>\n",
       "      <td>0.0</td>\n",
       "      <td>United States of America</td>\n",
       "      <td>USA</td>\n",
       "      <td>True</td>\n",
       "      <td>46.0</td>\n",
       "      <td>0</td>\n",
       "      <td>0</td>\n",
       "      <td>False</td>\n",
       "      <td>False</td>\n",
       "      <td>1646</td>\n",
       "    </tr>\n",
       "    <tr>\n",
       "      <th>4918</th>\n",
       "      <td>18810</td>\n",
       "      <td>Paul Reubens</td>\n",
       "      <td>NaN</td>\n",
       "      <td>1952-08-27</td>\n",
       "      <td>2010-11-01</td>\n",
       "      <td>Pee-wee Herman</td>\n",
       "      <td>NaT</td>\n",
       "      <td>NaN</td>\n",
       "      <td>NaN</td>\n",
       "      <td>0</td>\n",
       "      <td>...</td>\n",
       "      <td>0.0</td>\n",
       "      <td>NaN</td>\n",
       "      <td>Other</td>\n",
       "      <td>True</td>\n",
       "      <td>58.0</td>\n",
       "      <td>0</td>\n",
       "      <td>0</td>\n",
       "      <td>False</td>\n",
       "      <td>False</td>\n",
       "      <td>306</td>\n",
       "    </tr>\n",
       "    <tr>\n",
       "      <th>4927</th>\n",
       "      <td>5756</td>\n",
       "      <td>Michael David Adamle</td>\n",
       "      <td>Euclid, Ohio (United States of America)</td>\n",
       "      <td>1949-10-04</td>\n",
       "      <td>2008-01-27</td>\n",
       "      <td>Mike Adamle</td>\n",
       "      <td>NaT</td>\n",
       "      <td>NaN</td>\n",
       "      <td>NaN</td>\n",
       "      <td>0</td>\n",
       "      <td>...</td>\n",
       "      <td>0.0</td>\n",
       "      <td>United States of America</td>\n",
       "      <td>USA</td>\n",
       "      <td>True</td>\n",
       "      <td>58.0</td>\n",
       "      <td>0</td>\n",
       "      <td>0</td>\n",
       "      <td>False</td>\n",
       "      <td>False</td>\n",
       "      <td>297</td>\n",
       "    </tr>\n",
       "    <tr>\n",
       "      <th>4960</th>\n",
       "      <td>16327</td>\n",
       "      <td>James Nathaniel Toney</td>\n",
       "      <td>Grand Rapids, Michigan (United States of America)</td>\n",
       "      <td>1968-08-24</td>\n",
       "      <td>2010-08-28</td>\n",
       "      <td>James Toney</td>\n",
       "      <td>NaT</td>\n",
       "      <td>1.78</td>\n",
       "      <td>107.0</td>\n",
       "      <td>0</td>\n",
       "      <td>...</td>\n",
       "      <td>0.0</td>\n",
       "      <td>United States of America</td>\n",
       "      <td>USA</td>\n",
       "      <td>True</td>\n",
       "      <td>42.0</td>\n",
       "      <td>0</td>\n",
       "      <td>0</td>\n",
       "      <td>False</td>\n",
       "      <td>False</td>\n",
       "      <td>264</td>\n",
       "    </tr>\n",
       "    <tr>\n",
       "      <th>5132</th>\n",
       "      <td>3225</td>\n",
       "      <td>Linda Marie Edwards-McMahon</td>\n",
       "      <td>New Bern, North Carolina (United States of Ame...</td>\n",
       "      <td>1948-10-04</td>\n",
       "      <td>1999-01-01</td>\n",
       "      <td>Linda McMahon</td>\n",
       "      <td>NaT</td>\n",
       "      <td>NaN</td>\n",
       "      <td>NaN</td>\n",
       "      <td>0</td>\n",
       "      <td>...</td>\n",
       "      <td>0.0</td>\n",
       "      <td>United States of America</td>\n",
       "      <td>USA</td>\n",
       "      <td>True</td>\n",
       "      <td>50.0</td>\n",
       "      <td>0</td>\n",
       "      <td>0</td>\n",
       "      <td>False</td>\n",
       "      <td>True</td>\n",
       "      <td>92</td>\n",
       "    </tr>\n",
       "    <tr>\n",
       "      <th>5156</th>\n",
       "      <td>12987</td>\n",
       "      <td>José Canseco Capas, Jr.</td>\n",
       "      <td>La Habana (Cuba)</td>\n",
       "      <td>1964-07-02</td>\n",
       "      <td>2009-05-26</td>\n",
       "      <td>Jose Canseco</td>\n",
       "      <td>NaT</td>\n",
       "      <td>1.88</td>\n",
       "      <td>113.0</td>\n",
       "      <td>0</td>\n",
       "      <td>...</td>\n",
       "      <td>0.0</td>\n",
       "      <td>Cuba</td>\n",
       "      <td>Other</td>\n",
       "      <td>True</td>\n",
       "      <td>44.0</td>\n",
       "      <td>0</td>\n",
       "      <td>0</td>\n",
       "      <td>False</td>\n",
       "      <td>False</td>\n",
       "      <td>68</td>\n",
       "    </tr>\n",
       "    <tr>\n",
       "      <th>5173</th>\n",
       "      <td>14846</td>\n",
       "      <td>Cedric Kyles</td>\n",
       "      <td>Jefferson City, Missouri (United States of Ame...</td>\n",
       "      <td>1964-04-24</td>\n",
       "      <td>2009-09-21</td>\n",
       "      <td>Cedric the Entertainer</td>\n",
       "      <td>NaT</td>\n",
       "      <td>NaN</td>\n",
       "      <td>NaN</td>\n",
       "      <td>0</td>\n",
       "      <td>...</td>\n",
       "      <td>0.0</td>\n",
       "      <td>United States of America</td>\n",
       "      <td>USA</td>\n",
       "      <td>True</td>\n",
       "      <td>45.0</td>\n",
       "      <td>0</td>\n",
       "      <td>0</td>\n",
       "      <td>False</td>\n",
       "      <td>False</td>\n",
       "      <td>51</td>\n",
       "    </tr>\n",
       "    <tr>\n",
       "      <th>5201</th>\n",
       "      <td>2297</td>\n",
       "      <td>unknown</td>\n",
       "      <td>Ciudad de México, Ciudad de México (Mexico)</td>\n",
       "      <td>1960-08-20</td>\n",
       "      <td>2004-01-01</td>\n",
       "      <td>Gronda #2</td>\n",
       "      <td>NaT</td>\n",
       "      <td>1.85</td>\n",
       "      <td>100.0</td>\n",
       "      <td>0</td>\n",
       "      <td>...</td>\n",
       "      <td>0.0</td>\n",
       "      <td>Mexico</td>\n",
       "      <td>Mexico</td>\n",
       "      <td>False</td>\n",
       "      <td>43.0</td>\n",
       "      <td>0</td>\n",
       "      <td>0</td>\n",
       "      <td>False</td>\n",
       "      <td>False</td>\n",
       "      <td>23</td>\n",
       "    </tr>\n",
       "    <tr>\n",
       "      <th>6438</th>\n",
       "      <td>3629</td>\n",
       "      <td>Marcelo Salomon</td>\n",
       "      <td>Buenos Aires, Ciudad Autónoma de Buenos Aires ...</td>\n",
       "      <td>1965-09-05</td>\n",
       "      <td>2006-10-23</td>\n",
       "      <td>Hoshitango</td>\n",
       "      <td>NaT</td>\n",
       "      <td>1.83</td>\n",
       "      <td>130.0</td>\n",
       "      <td>0</td>\n",
       "      <td>...</td>\n",
       "      <td>0.0</td>\n",
       "      <td>Argentina</td>\n",
       "      <td>Other</td>\n",
       "      <td>True</td>\n",
       "      <td>41.0</td>\n",
       "      <td>0</td>\n",
       "      <td>1</td>\n",
       "      <td>True</td>\n",
       "      <td>False</td>\n",
       "      <td>0</td>\n",
       "    </tr>\n",
       "    <tr>\n",
       "      <th>7898</th>\n",
       "      <td>5954</td>\n",
       "      <td>Chris Dolman</td>\n",
       "      <td>Amsterdam, Noord-Holland (Netherlands)</td>\n",
       "      <td>1945-02-17</td>\n",
       "      <td>1989-05-04</td>\n",
       "      <td>Chris Dolman</td>\n",
       "      <td>NaT</td>\n",
       "      <td>NaN</td>\n",
       "      <td>NaN</td>\n",
       "      <td>0</td>\n",
       "      <td>...</td>\n",
       "      <td>0.0</td>\n",
       "      <td>Netherlands</td>\n",
       "      <td>Other</td>\n",
       "      <td>True</td>\n",
       "      <td>44.0</td>\n",
       "      <td>0</td>\n",
       "      <td>0</td>\n",
       "      <td>False</td>\n",
       "      <td>False</td>\n",
       "      <td>0</td>\n",
       "    </tr>\n",
       "    <tr>\n",
       "      <th>8195</th>\n",
       "      <td>6437</td>\n",
       "      <td>James Douglas Muir Leno</td>\n",
       "      <td>New Rochelle, New York (United States of America)</td>\n",
       "      <td>1950-04-28</td>\n",
       "      <td>1998-08-08</td>\n",
       "      <td>Jay Leno</td>\n",
       "      <td>NaT</td>\n",
       "      <td>NaN</td>\n",
       "      <td>NaN</td>\n",
       "      <td>0</td>\n",
       "      <td>...</td>\n",
       "      <td>0.0</td>\n",
       "      <td>United States of America</td>\n",
       "      <td>USA</td>\n",
       "      <td>True</td>\n",
       "      <td>48.0</td>\n",
       "      <td>0</td>\n",
       "      <td>0</td>\n",
       "      <td>False</td>\n",
       "      <td>False</td>\n",
       "      <td>0</td>\n",
       "    </tr>\n",
       "    <tr>\n",
       "      <th>9756</th>\n",
       "      <td>8561</td>\n",
       "      <td>Siamak Ghaffari</td>\n",
       "      <td>Teheran (Iran)</td>\n",
       "      <td>1961-11-11</td>\n",
       "      <td>2002-12-08</td>\n",
       "      <td>Matt Ghaffari</td>\n",
       "      <td>NaT</td>\n",
       "      <td>1.96</td>\n",
       "      <td>127.0</td>\n",
       "      <td>0</td>\n",
       "      <td>...</td>\n",
       "      <td>0.0</td>\n",
       "      <td>Iran</td>\n",
       "      <td>Other</td>\n",
       "      <td>True</td>\n",
       "      <td>41.0</td>\n",
       "      <td>0</td>\n",
       "      <td>0</td>\n",
       "      <td>False</td>\n",
       "      <td>False</td>\n",
       "      <td>0</td>\n",
       "    </tr>\n",
       "    <tr>\n",
       "      <th>12337</th>\n",
       "      <td>12446</td>\n",
       "      <td>Todd Bridges</td>\n",
       "      <td>San Francisco, California (United States of Am...</td>\n",
       "      <td>1965-05-27</td>\n",
       "      <td>2009-02-28</td>\n",
       "      <td>Todd Bridges</td>\n",
       "      <td>NaT</td>\n",
       "      <td>NaN</td>\n",
       "      <td>NaN</td>\n",
       "      <td>0</td>\n",
       "      <td>...</td>\n",
       "      <td>0.0</td>\n",
       "      <td>United States of America</td>\n",
       "      <td>USA</td>\n",
       "      <td>True</td>\n",
       "      <td>43.0</td>\n",
       "      <td>0</td>\n",
       "      <td>0</td>\n",
       "      <td>False</td>\n",
       "      <td>False</td>\n",
       "      <td>0</td>\n",
       "    </tr>\n",
       "    <tr>\n",
       "      <th>13076</th>\n",
       "      <td>13389</td>\n",
       "      <td>Ray Mercer</td>\n",
       "      <td>Jacksonville, Florida (United States of America)</td>\n",
       "      <td>1961-04-04</td>\n",
       "      <td>2009-06-13</td>\n",
       "      <td>Ray Mercer</td>\n",
       "      <td>NaT</td>\n",
       "      <td>NaN</td>\n",
       "      <td>NaN</td>\n",
       "      <td>0</td>\n",
       "      <td>...</td>\n",
       "      <td>0.0</td>\n",
       "      <td>United States of America</td>\n",
       "      <td>USA</td>\n",
       "      <td>True</td>\n",
       "      <td>48.0</td>\n",
       "      <td>0</td>\n",
       "      <td>0</td>\n",
       "      <td>False</td>\n",
       "      <td>False</td>\n",
       "      <td>0</td>\n",
       "    </tr>\n",
       "    <tr>\n",
       "      <th>14622</th>\n",
       "      <td>15354</td>\n",
       "      <td>unknown</td>\n",
       "      <td>Ciudad de México, Ciudad de México (Mexico)</td>\n",
       "      <td>1957-05-26</td>\n",
       "      <td>1999-04-30</td>\n",
       "      <td>El Hijo del Enfermero</td>\n",
       "      <td>NaT</td>\n",
       "      <td>NaN</td>\n",
       "      <td>NaN</td>\n",
       "      <td>0</td>\n",
       "      <td>...</td>\n",
       "      <td>0.0</td>\n",
       "      <td>Mexico</td>\n",
       "      <td>Mexico</td>\n",
       "      <td>False</td>\n",
       "      <td>41.0</td>\n",
       "      <td>0</td>\n",
       "      <td>0</td>\n",
       "      <td>False</td>\n",
       "      <td>False</td>\n",
       "      <td>0</td>\n",
       "    </tr>\n",
       "    <tr>\n",
       "      <th>15036</th>\n",
       "      <td>15872</td>\n",
       "      <td>Carolyn Kawasaki</td>\n",
       "      <td>German Valley, Illinois (United States of Amer...</td>\n",
       "      <td>1962-05-25</td>\n",
       "      <td>2006-06-17</td>\n",
       "      <td>Caiya</td>\n",
       "      <td>NaT</td>\n",
       "      <td>NaN</td>\n",
       "      <td>NaN</td>\n",
       "      <td>0</td>\n",
       "      <td>...</td>\n",
       "      <td>0.0</td>\n",
       "      <td>United States of America</td>\n",
       "      <td>USA</td>\n",
       "      <td>True</td>\n",
       "      <td>44.0</td>\n",
       "      <td>0</td>\n",
       "      <td>0</td>\n",
       "      <td>False</td>\n",
       "      <td>False</td>\n",
       "      <td>0</td>\n",
       "    </tr>\n",
       "    <tr>\n",
       "      <th>15171</th>\n",
       "      <td>16066</td>\n",
       "      <td>Chikara Takeuchi</td>\n",
       "      <td>Saiki, Oita (Japan)</td>\n",
       "      <td>1964-01-04</td>\n",
       "      <td>2009-07-26</td>\n",
       "      <td>King RIKI</td>\n",
       "      <td>NaT</td>\n",
       "      <td>NaN</td>\n",
       "      <td>NaN</td>\n",
       "      <td>0</td>\n",
       "      <td>...</td>\n",
       "      <td>0.0</td>\n",
       "      <td>Japan</td>\n",
       "      <td>Japan</td>\n",
       "      <td>True</td>\n",
       "      <td>45.0</td>\n",
       "      <td>0</td>\n",
       "      <td>0</td>\n",
       "      <td>False</td>\n",
       "      <td>False</td>\n",
       "      <td>0</td>\n",
       "    </tr>\n",
       "    <tr>\n",
       "      <th>16636</th>\n",
       "      <td>17924</td>\n",
       "      <td>Tom Gerhardt</td>\n",
       "      <td>Köln, Nordrhein-Westfalen (Germany)</td>\n",
       "      <td>1957-12-12</td>\n",
       "      <td>2000-02-12</td>\n",
       "      <td>Tom Gerhardt</td>\n",
       "      <td>NaT</td>\n",
       "      <td>NaN</td>\n",
       "      <td>NaN</td>\n",
       "      <td>0</td>\n",
       "      <td>...</td>\n",
       "      <td>NaN</td>\n",
       "      <td>Germany</td>\n",
       "      <td>Other</td>\n",
       "      <td>True</td>\n",
       "      <td>42.0</td>\n",
       "      <td>0</td>\n",
       "      <td>0</td>\n",
       "      <td>False</td>\n",
       "      <td>False</td>\n",
       "      <td>0</td>\n",
       "    </tr>\n",
       "    <tr>\n",
       "      <th>17251</th>\n",
       "      <td>18681</td>\n",
       "      <td>Robert George Uecker</td>\n",
       "      <td>Milwaukee, Wisconsin (United States of America)</td>\n",
       "      <td>1935-01-26</td>\n",
       "      <td>1987-03-29</td>\n",
       "      <td>Bob Uecker</td>\n",
       "      <td>NaT</td>\n",
       "      <td>1.85</td>\n",
       "      <td>86.0</td>\n",
       "      <td>0</td>\n",
       "      <td>...</td>\n",
       "      <td>NaN</td>\n",
       "      <td>United States of America</td>\n",
       "      <td>USA</td>\n",
       "      <td>True</td>\n",
       "      <td>52.0</td>\n",
       "      <td>0</td>\n",
       "      <td>0</td>\n",
       "      <td>False</td>\n",
       "      <td>False</td>\n",
       "      <td>0</td>\n",
       "    </tr>\n",
       "    <tr>\n",
       "      <th>17257</th>\n",
       "      <td>18691</td>\n",
       "      <td>Warren Cromartie</td>\n",
       "      <td>Miami Beach, Florida (United States of America)</td>\n",
       "      <td>1953-09-29</td>\n",
       "      <td>2007-06-17</td>\n",
       "      <td>Warren Cromartie</td>\n",
       "      <td>NaT</td>\n",
       "      <td>NaN</td>\n",
       "      <td>NaN</td>\n",
       "      <td>0</td>\n",
       "      <td>...</td>\n",
       "      <td>NaN</td>\n",
       "      <td>United States of America</td>\n",
       "      <td>USA</td>\n",
       "      <td>True</td>\n",
       "      <td>53.0</td>\n",
       "      <td>0</td>\n",
       "      <td>0</td>\n",
       "      <td>False</td>\n",
       "      <td>False</td>\n",
       "      <td>0</td>\n",
       "    </tr>\n",
       "    <tr>\n",
       "      <th>17337</th>\n",
       "      <td>18812</td>\n",
       "      <td>Drew Allison Carey</td>\n",
       "      <td>Cleveland, Ohio (United States of America)</td>\n",
       "      <td>1958-05-23</td>\n",
       "      <td>2001-01-21</td>\n",
       "      <td>Drew Carey</td>\n",
       "      <td>NaT</td>\n",
       "      <td>NaN</td>\n",
       "      <td>NaN</td>\n",
       "      <td>0</td>\n",
       "      <td>...</td>\n",
       "      <td>NaN</td>\n",
       "      <td>United States of America</td>\n",
       "      <td>USA</td>\n",
       "      <td>True</td>\n",
       "      <td>42.0</td>\n",
       "      <td>0</td>\n",
       "      <td>0</td>\n",
       "      <td>False</td>\n",
       "      <td>False</td>\n",
       "      <td>0</td>\n",
       "    </tr>\n",
       "    <tr>\n",
       "      <th>17974</th>\n",
       "      <td>19602</td>\n",
       "      <td>unknown</td>\n",
       "      <td>NaN</td>\n",
       "      <td>1958-08-29</td>\n",
       "      <td>2008-03-01</td>\n",
       "      <td>Michael Okamoto</td>\n",
       "      <td>NaT</td>\n",
       "      <td>NaN</td>\n",
       "      <td>NaN</td>\n",
       "      <td>0</td>\n",
       "      <td>...</td>\n",
       "      <td>NaN</td>\n",
       "      <td>NaN</td>\n",
       "      <td>Other</td>\n",
       "      <td>False</td>\n",
       "      <td>49.0</td>\n",
       "      <td>0</td>\n",
       "      <td>0</td>\n",
       "      <td>False</td>\n",
       "      <td>False</td>\n",
       "      <td>0</td>\n",
       "    </tr>\n",
       "    <tr>\n",
       "      <th>18239</th>\n",
       "      <td>19950</td>\n",
       "      <td>unknown</td>\n",
       "      <td>Japan</td>\n",
       "      <td>1966-04-06</td>\n",
       "      <td>2007-12-08</td>\n",
       "      <td>Nishi Kazuma</td>\n",
       "      <td>NaT</td>\n",
       "      <td>1.65</td>\n",
       "      <td>65.0</td>\n",
       "      <td>0</td>\n",
       "      <td>...</td>\n",
       "      <td>NaN</td>\n",
       "      <td>Japan</td>\n",
       "      <td>Japan</td>\n",
       "      <td>False</td>\n",
       "      <td>41.0</td>\n",
       "      <td>0</td>\n",
       "      <td>0</td>\n",
       "      <td>False</td>\n",
       "      <td>False</td>\n",
       "      <td>0</td>\n",
       "    </tr>\n",
       "    <tr>\n",
       "      <th>20150</th>\n",
       "      <td>22436</td>\n",
       "      <td>José Isabel Jiménez</td>\n",
       "      <td>Zacatecas (Mexico)</td>\n",
       "      <td>1915-04-19</td>\n",
       "      <td>2011-12-18</td>\n",
       "      <td>Chabelo Jimenez</td>\n",
       "      <td>NaT</td>\n",
       "      <td>NaN</td>\n",
       "      <td>NaN</td>\n",
       "      <td>0</td>\n",
       "      <td>...</td>\n",
       "      <td>0.0</td>\n",
       "      <td>Mexico</td>\n",
       "      <td>Mexico</td>\n",
       "      <td>True</td>\n",
       "      <td>96.0</td>\n",
       "      <td>0</td>\n",
       "      <td>0</td>\n",
       "      <td>False</td>\n",
       "      <td>False</td>\n",
       "      <td>0</td>\n",
       "    </tr>\n",
       "    <tr>\n",
       "      <th>20167</th>\n",
       "      <td>22459</td>\n",
       "      <td>Niurka Melanie Marcos y Calle</td>\n",
       "      <td>La Habana (Cuba)</td>\n",
       "      <td>1967-11-25</td>\n",
       "      <td>2011-12-27</td>\n",
       "      <td>Niurka</td>\n",
       "      <td>NaT</td>\n",
       "      <td>1.65</td>\n",
       "      <td>64.0</td>\n",
       "      <td>0</td>\n",
       "      <td>...</td>\n",
       "      <td>0.0</td>\n",
       "      <td>Cuba</td>\n",
       "      <td>Other</td>\n",
       "      <td>True</td>\n",
       "      <td>44.0</td>\n",
       "      <td>0</td>\n",
       "      <td>0</td>\n",
       "      <td>False</td>\n",
       "      <td>False</td>\n",
       "      <td>0</td>\n",
       "    </tr>\n",
       "    <tr>\n",
       "      <th>20308</th>\n",
       "      <td>22624</td>\n",
       "      <td>Ernesto Chavana Cubos</td>\n",
       "      <td>Monterrey, Nuevo León (Mexico)</td>\n",
       "      <td>1967-11-07</td>\n",
       "      <td>2012-01-15</td>\n",
       "      <td>Ernesto Chavana</td>\n",
       "      <td>NaT</td>\n",
       "      <td>NaN</td>\n",
       "      <td>NaN</td>\n",
       "      <td>0</td>\n",
       "      <td>...</td>\n",
       "      <td>0.0</td>\n",
       "      <td>Mexico</td>\n",
       "      <td>Mexico</td>\n",
       "      <td>True</td>\n",
       "      <td>44.0</td>\n",
       "      <td>1</td>\n",
       "      <td>0</td>\n",
       "      <td>True</td>\n",
       "      <td>False</td>\n",
       "      <td>0</td>\n",
       "    </tr>\n",
       "    <tr>\n",
       "      <th>21861</th>\n",
       "      <td>24532</td>\n",
       "      <td>Daryl Kelly</td>\n",
       "      <td>Kentucky (United States of America)</td>\n",
       "      <td>1963-12-23</td>\n",
       "      <td>2012-01-01</td>\n",
       "      <td>King Hustle</td>\n",
       "      <td>NaT</td>\n",
       "      <td>NaN</td>\n",
       "      <td>NaN</td>\n",
       "      <td>0</td>\n",
       "      <td>...</td>\n",
       "      <td>0.0</td>\n",
       "      <td>United States of America</td>\n",
       "      <td>USA</td>\n",
       "      <td>True</td>\n",
       "      <td>48.0</td>\n",
       "      <td>0</td>\n",
       "      <td>0</td>\n",
       "      <td>False</td>\n",
       "      <td>False</td>\n",
       "      <td>0</td>\n",
       "    </tr>\n",
       "    <tr>\n",
       "      <th>22950</th>\n",
       "      <td>25903</td>\n",
       "      <td>Debbie Bouch</td>\n",
       "      <td>NaN</td>\n",
       "      <td>1965-03-17</td>\n",
       "      <td>2012-12-08</td>\n",
       "      <td>Momma Excellent</td>\n",
       "      <td>NaT</td>\n",
       "      <td>NaN</td>\n",
       "      <td>NaN</td>\n",
       "      <td>0</td>\n",
       "      <td>...</td>\n",
       "      <td>NaN</td>\n",
       "      <td>NaN</td>\n",
       "      <td>Other</td>\n",
       "      <td>True</td>\n",
       "      <td>47.0</td>\n",
       "      <td>0</td>\n",
       "      <td>0</td>\n",
       "      <td>False</td>\n",
       "      <td>True</td>\n",
       "      <td>0</td>\n",
       "    </tr>\n",
       "    <tr>\n",
       "      <th>23737</th>\n",
       "      <td>26967</td>\n",
       "      <td>unknown</td>\n",
       "      <td>Verdigris, Oklahoma (United States of America)</td>\n",
       "      <td>1970-05-13</td>\n",
       "      <td>2012-11-10</td>\n",
       "      <td>Psycho Sawyer</td>\n",
       "      <td>NaT</td>\n",
       "      <td>1.83</td>\n",
       "      <td>109.0</td>\n",
       "      <td>0</td>\n",
       "      <td>...</td>\n",
       "      <td>NaN</td>\n",
       "      <td>United States of America</td>\n",
       "      <td>USA</td>\n",
       "      <td>False</td>\n",
       "      <td>42.0</td>\n",
       "      <td>0</td>\n",
       "      <td>0</td>\n",
       "      <td>False</td>\n",
       "      <td>False</td>\n",
       "      <td>0</td>\n",
       "    </tr>\n",
       "    <tr>\n",
       "      <th>24740</th>\n",
       "      <td>28300</td>\n",
       "      <td>Erich Mathias Mayer</td>\n",
       "      <td>Steiermark (Austria)</td>\n",
       "      <td>1950-11-03</td>\n",
       "      <td>1994-06-11</td>\n",
       "      <td>Hias</td>\n",
       "      <td>2007-07-07</td>\n",
       "      <td>NaN</td>\n",
       "      <td>NaN</td>\n",
       "      <td>0</td>\n",
       "      <td>...</td>\n",
       "      <td>NaN</td>\n",
       "      <td>Austria</td>\n",
       "      <td>Other</td>\n",
       "      <td>True</td>\n",
       "      <td>43.0</td>\n",
       "      <td>0</td>\n",
       "      <td>0</td>\n",
       "      <td>False</td>\n",
       "      <td>False</td>\n",
       "      <td>0</td>\n",
       "    </tr>\n",
       "    <tr>\n",
       "      <th>25035</th>\n",
       "      <td>28684</td>\n",
       "      <td>unknown</td>\n",
       "      <td>Stockholm, Stockholms (Sweden)</td>\n",
       "      <td>1970-11-16</td>\n",
       "      <td>2014-08-17</td>\n",
       "      <td>LiLiCo</td>\n",
       "      <td>NaT</td>\n",
       "      <td>NaN</td>\n",
       "      <td>NaN</td>\n",
       "      <td>0</td>\n",
       "      <td>...</td>\n",
       "      <td>NaN</td>\n",
       "      <td>Sweden</td>\n",
       "      <td>Other</td>\n",
       "      <td>False</td>\n",
       "      <td>43.0</td>\n",
       "      <td>0</td>\n",
       "      <td>0</td>\n",
       "      <td>False</td>\n",
       "      <td>False</td>\n",
       "      <td>0</td>\n",
       "    </tr>\n",
       "    <tr>\n",
       "      <th>26156</th>\n",
       "      <td>30066</td>\n",
       "      <td>Brigitte Narcise</td>\n",
       "      <td>Boonton, New Jersey (United States of America)</td>\n",
       "      <td>1970-08-17</td>\n",
       "      <td>2014-06-27</td>\n",
       "      <td>Brigitte Narcise</td>\n",
       "      <td>NaT</td>\n",
       "      <td>1.60</td>\n",
       "      <td>54.0</td>\n",
       "      <td>0</td>\n",
       "      <td>...</td>\n",
       "      <td>NaN</td>\n",
       "      <td>United States of America</td>\n",
       "      <td>USA</td>\n",
       "      <td>True</td>\n",
       "      <td>43.0</td>\n",
       "      <td>0</td>\n",
       "      <td>0</td>\n",
       "      <td>False</td>\n",
       "      <td>False</td>\n",
       "      <td>0</td>\n",
       "    </tr>\n",
       "    <tr>\n",
       "      <th>26167</th>\n",
       "      <td>30080</td>\n",
       "      <td>Joe Johnson</td>\n",
       "      <td>Surfside, Florida (United States of America)</td>\n",
       "      <td>1965-04-28</td>\n",
       "      <td>2010-09-04</td>\n",
       "      <td>Joe Johnson</td>\n",
       "      <td>NaT</td>\n",
       "      <td>NaN</td>\n",
       "      <td>NaN</td>\n",
       "      <td>0</td>\n",
       "      <td>...</td>\n",
       "      <td>NaN</td>\n",
       "      <td>United States of America</td>\n",
       "      <td>USA</td>\n",
       "      <td>True</td>\n",
       "      <td>45.0</td>\n",
       "      <td>0</td>\n",
       "      <td>0</td>\n",
       "      <td>False</td>\n",
       "      <td>False</td>\n",
       "      <td>0</td>\n",
       "    </tr>\n",
       "  </tbody>\n",
       "</table>\n",
       "<p>38 rows × 36 columns</p>\n",
       "</div>"
      ],
      "text/plain": [
       "          id                      Real Name  \\\n",
       "423    18170                 Scott Stanford   \n",
       "1474   18888              Evander Holyfield   \n",
       "1570   15466         Herschel Junior Walker   \n",
       "1767    8450                John Tunney Jr.   \n",
       "3395   15028               Michael Hogewood   \n",
       "3592   16935                     Billy Gram   \n",
       "4918   18810                   Paul Reubens   \n",
       "4927    5756           Michael David Adamle   \n",
       "4960   16327          James Nathaniel Toney   \n",
       "5132    3225    Linda Marie Edwards-McMahon   \n",
       "5156   12987        José Canseco Capas, Jr.   \n",
       "5173   14846                   Cedric Kyles   \n",
       "5201    2297                        unknown   \n",
       "6438    3629                Marcelo Salomon   \n",
       "7898    5954                   Chris Dolman   \n",
       "8195    6437        James Douglas Muir Leno   \n",
       "9756    8561                Siamak Ghaffari   \n",
       "12337  12446                   Todd Bridges   \n",
       "13076  13389                     Ray Mercer   \n",
       "14622  15354                        unknown   \n",
       "15036  15872               Carolyn Kawasaki   \n",
       "15171  16066               Chikara Takeuchi   \n",
       "16636  17924                   Tom Gerhardt   \n",
       "17251  18681           Robert George Uecker   \n",
       "17257  18691               Warren Cromartie   \n",
       "17337  18812             Drew Allison Carey   \n",
       "17974  19602                        unknown   \n",
       "18239  19950                        unknown   \n",
       "20150  22436            José Isabel Jiménez   \n",
       "20167  22459  Niurka Melanie Marcos y Calle   \n",
       "20308  22624          Ernesto Chavana Cubos   \n",
       "21861  24532                    Daryl Kelly   \n",
       "22950  25903                   Debbie Bouch   \n",
       "23737  26967                        unknown   \n",
       "24740  28300           Erich Mathias Mayer    \n",
       "25035  28684                        unknown   \n",
       "26156  30066               Brigitte Narcise   \n",
       "26167  30080                    Joe Johnson   \n",
       "\n",
       "                                              Birthplace Date of Birth  \\\n",
       "423      Haverstraw, New York (United States of America)    1968-08-30   \n",
       "1474          Atmore, Alabama (United States of America)    1962-10-19   \n",
       "1570    Wrightsville, Georgia (United States of America)    1962-03-03   \n",
       "1767                           Toronto, Ontario (Canada)    1935-01-01   \n",
       "3395   Greensboro, North Carolina (United States of A...    1954-09-13   \n",
       "3592          Cleveland, Ohio (United States of America)    1960-02-16   \n",
       "4918                                                 NaN    1952-08-27   \n",
       "4927             Euclid, Ohio (United States of America)    1949-10-04   \n",
       "4960   Grand Rapids, Michigan (United States of America)    1968-08-24   \n",
       "5132   New Bern, North Carolina (United States of Ame...    1948-10-04   \n",
       "5156                                    La Habana (Cuba)    1964-07-02   \n",
       "5173   Jefferson City, Missouri (United States of Ame...    1964-04-24   \n",
       "5201         Ciudad de México, Ciudad de México (Mexico)    1960-08-20   \n",
       "6438   Buenos Aires, Ciudad Autónoma de Buenos Aires ...    1965-09-05   \n",
       "7898              Amsterdam, Noord-Holland (Netherlands)    1945-02-17   \n",
       "8195   New Rochelle, New York (United States of America)    1950-04-28   \n",
       "9756                                      Teheran (Iran)    1961-11-11   \n",
       "12337  San Francisco, California (United States of Am...    1965-05-27   \n",
       "13076   Jacksonville, Florida (United States of America)    1961-04-04   \n",
       "14622        Ciudad de México, Ciudad de México (Mexico)    1957-05-26   \n",
       "15036  German Valley, Illinois (United States of Amer...    1962-05-25   \n",
       "15171                                Saiki, Oita (Japan)    1964-01-04   \n",
       "16636                Köln, Nordrhein-Westfalen (Germany)    1957-12-12   \n",
       "17251    Milwaukee, Wisconsin (United States of America)    1935-01-26   \n",
       "17257    Miami Beach, Florida (United States of America)    1953-09-29   \n",
       "17337         Cleveland, Ohio (United States of America)    1958-05-23   \n",
       "17974                                                NaN    1958-08-29   \n",
       "18239                                              Japan    1966-04-06   \n",
       "20150                                 Zacatecas (Mexico)    1915-04-19   \n",
       "20167                                   La Habana (Cuba)    1967-11-25   \n",
       "20308                     Monterrey, Nuevo León (Mexico)    1967-11-07   \n",
       "21861                Kentucky (United States of America)    1963-12-23   \n",
       "22950                                                NaN    1965-03-17   \n",
       "23737     Verdigris, Oklahoma (United States of America)    1970-05-13   \n",
       "24740                               Steiermark (Austria)    1950-11-03   \n",
       "25035                     Stockholm, Stockholms (Sweden)    1970-11-16   \n",
       "26156     Boonton, New Jersey (United States of America)    1970-08-17   \n",
       "26167       Surfside, Florida (United States of America)    1965-04-28   \n",
       "\n",
       "           Debut           wrestler_name Date of Death  Height  Weight  \\\n",
       "423   2009-12-01          Scott Stanford           NaT     NaN     NaN   \n",
       "1474  2007-08-13       Evander Holyfield           NaT     NaN     NaN   \n",
       "1570  2010-01-30         Herschel Walker           NaT    1.85   100.0   \n",
       "1767  1984-01-01             Jack Tunney    2004-01-24     NaN     NaN   \n",
       "3395  2009-02-28           Mike Hogewood    2018-09-05     NaN     NaN   \n",
       "3592  2007-01-01              Billy Gram           NaT    1.93    82.0   \n",
       "4918  2010-11-01          Pee-wee Herman           NaT     NaN     NaN   \n",
       "4927  2008-01-27             Mike Adamle           NaT     NaN     NaN   \n",
       "4960  2010-08-28             James Toney           NaT    1.78   107.0   \n",
       "5132  1999-01-01          Linda McMahon            NaT     NaN     NaN   \n",
       "5156  2009-05-26            Jose Canseco           NaT    1.88   113.0   \n",
       "5173  2009-09-21  Cedric the Entertainer           NaT     NaN     NaN   \n",
       "5201  2004-01-01               Gronda #2           NaT    1.85   100.0   \n",
       "6438  2006-10-23              Hoshitango           NaT    1.83   130.0   \n",
       "7898  1989-05-04            Chris Dolman           NaT     NaN     NaN   \n",
       "8195  1998-08-08                Jay Leno           NaT     NaN     NaN   \n",
       "9756  2002-12-08           Matt Ghaffari           NaT    1.96   127.0   \n",
       "12337 2009-02-28            Todd Bridges           NaT     NaN     NaN   \n",
       "13076 2009-06-13              Ray Mercer           NaT     NaN     NaN   \n",
       "14622 1999-04-30   El Hijo del Enfermero           NaT     NaN     NaN   \n",
       "15036 2006-06-17                  Caiya            NaT     NaN     NaN   \n",
       "15171 2009-07-26               King RIKI           NaT     NaN     NaN   \n",
       "16636 2000-02-12            Tom Gerhardt           NaT     NaN     NaN   \n",
       "17251 1987-03-29              Bob Uecker           NaT    1.85    86.0   \n",
       "17257 2007-06-17        Warren Cromartie           NaT     NaN     NaN   \n",
       "17337 2001-01-21              Drew Carey           NaT     NaN     NaN   \n",
       "17974 2008-03-01         Michael Okamoto           NaT     NaN     NaN   \n",
       "18239 2007-12-08            Nishi Kazuma           NaT    1.65    65.0   \n",
       "20150 2011-12-18         Chabelo Jimenez           NaT     NaN     NaN   \n",
       "20167 2011-12-27                 Niurka            NaT    1.65    64.0   \n",
       "20308 2012-01-15         Ernesto Chavana           NaT     NaN     NaN   \n",
       "21861 2012-01-01             King Hustle           NaT     NaN     NaN   \n",
       "22950 2012-12-08        Momma Excellent            NaT     NaN     NaN   \n",
       "23737 2012-11-10           Psycho Sawyer           NaT    1.83   109.0   \n",
       "24740 1994-06-11                    Hias    2007-07-07     NaN     NaN   \n",
       "25035 2014-08-17                 LiLiCo            NaT     NaN     NaN   \n",
       "26156 2014-06-27        Brigitte Narcise           NaT    1.60    54.0   \n",
       "26167 2010-09-04             Joe Johnson           NaT     NaN     NaN   \n",
       "\n",
       "       Finisher  ...  Booked Promotions             Birth Country  Region  \\\n",
       "423           0  ...                0.0  United States of America     USA   \n",
       "1474          0  ...                0.0  United States of America     USA   \n",
       "1570          0  ...                0.0  United States of America     USA   \n",
       "1767          0  ...                0.0                    Canada     USA   \n",
       "3395          0  ...                0.0  United States of America     USA   \n",
       "3592          0  ...                0.0  United States of America     USA   \n",
       "4918          0  ...                0.0                       NaN   Other   \n",
       "4927          0  ...                0.0  United States of America     USA   \n",
       "4960          0  ...                0.0  United States of America     USA   \n",
       "5132          0  ...                0.0  United States of America     USA   \n",
       "5156          0  ...                0.0                      Cuba   Other   \n",
       "5173          0  ...                0.0  United States of America     USA   \n",
       "5201          0  ...                0.0                    Mexico  Mexico   \n",
       "6438          0  ...                0.0                 Argentina   Other   \n",
       "7898          0  ...                0.0               Netherlands   Other   \n",
       "8195          0  ...                0.0  United States of America     USA   \n",
       "9756          0  ...                0.0                      Iran   Other   \n",
       "12337         0  ...                0.0  United States of America     USA   \n",
       "13076         0  ...                0.0  United States of America     USA   \n",
       "14622         0  ...                0.0                    Mexico  Mexico   \n",
       "15036         0  ...                0.0  United States of America     USA   \n",
       "15171         0  ...                0.0                     Japan   Japan   \n",
       "16636         0  ...                NaN                   Germany   Other   \n",
       "17251         0  ...                NaN  United States of America     USA   \n",
       "17257         0  ...                NaN  United States of America     USA   \n",
       "17337         0  ...                NaN  United States of America     USA   \n",
       "17974         0  ...                NaN                       NaN   Other   \n",
       "18239         0  ...                NaN                     Japan   Japan   \n",
       "20150         0  ...                0.0                    Mexico  Mexico   \n",
       "20167         0  ...                0.0                      Cuba   Other   \n",
       "20308         0  ...                0.0                    Mexico  Mexico   \n",
       "21861         0  ...                0.0  United States of America     USA   \n",
       "22950         0  ...                NaN                       NaN   Other   \n",
       "23737         0  ...                NaN  United States of America     USA   \n",
       "24740         0  ...                NaN                   Austria   Other   \n",
       "25035         0  ...                NaN                    Sweden   Other   \n",
       "26156         0  ...                NaN  United States of America     USA   \n",
       "26167         0  ...                NaN  United States of America     USA   \n",
       "\n",
       "       Name Known  Debut Age  Betting Matches Won  Betting Matches Lost  \\\n",
       "423          True       41.0                    0                     0   \n",
       "1474         True       44.0                    0                     0   \n",
       "1570         True       47.0                    0                     0   \n",
       "1767         True       49.0                    0                     0   \n",
       "3395         True       54.0                    0                     0   \n",
       "3592         True       46.0                    0                     0   \n",
       "4918         True       58.0                    0                     0   \n",
       "4927         True       58.0                    0                     0   \n",
       "4960         True       42.0                    0                     0   \n",
       "5132         True       50.0                    0                     0   \n",
       "5156         True       44.0                    0                     0   \n",
       "5173         True       45.0                    0                     0   \n",
       "5201        False       43.0                    0                     0   \n",
       "6438         True       41.0                    0                     1   \n",
       "7898         True       44.0                    0                     0   \n",
       "8195         True       48.0                    0                     0   \n",
       "9756         True       41.0                    0                     0   \n",
       "12337        True       43.0                    0                     0   \n",
       "13076        True       48.0                    0                     0   \n",
       "14622       False       41.0                    0                     0   \n",
       "15036        True       44.0                    0                     0   \n",
       "15171        True       45.0                    0                     0   \n",
       "16636        True       42.0                    0                     0   \n",
       "17251        True       52.0                    0                     0   \n",
       "17257        True       53.0                    0                     0   \n",
       "17337        True       42.0                    0                     0   \n",
       "17974       False       49.0                    0                     0   \n",
       "18239       False       41.0                    0                     0   \n",
       "20150        True       96.0                    0                     0   \n",
       "20167        True       44.0                    0                     0   \n",
       "20308        True       44.0                    1                     0   \n",
       "21861        True       48.0                    0                     0   \n",
       "22950        True       47.0                    0                     0   \n",
       "23737       False       42.0                    0                     0   \n",
       "24740        True       43.0                    0                     0   \n",
       "25035       False       43.0                    0                     0   \n",
       "26156        True       43.0                    0                     0   \n",
       "26167        True       45.0                    0                     0   \n",
       "\n",
       "       Participated in Betting Match  Family Ties  rank  \n",
       "423                            False        False  4824  \n",
       "1474                           False        False  3773  \n",
       "1570                           False        False  3677  \n",
       "1767                           False         True  3480  \n",
       "3395                           False        False  1843  \n",
       "3592                           False        False  1646  \n",
       "4918                           False        False   306  \n",
       "4927                           False        False   297  \n",
       "4960                           False        False   264  \n",
       "5132                           False         True    92  \n",
       "5156                           False        False    68  \n",
       "5173                           False        False    51  \n",
       "5201                           False        False    23  \n",
       "6438                            True        False     0  \n",
       "7898                           False        False     0  \n",
       "8195                           False        False     0  \n",
       "9756                           False        False     0  \n",
       "12337                          False        False     0  \n",
       "13076                          False        False     0  \n",
       "14622                          False        False     0  \n",
       "15036                          False        False     0  \n",
       "15171                          False        False     0  \n",
       "16636                          False        False     0  \n",
       "17251                          False        False     0  \n",
       "17257                          False        False     0  \n",
       "17337                          False        False     0  \n",
       "17974                          False        False     0  \n",
       "18239                          False        False     0  \n",
       "20150                          False        False     0  \n",
       "20167                          False        False     0  \n",
       "20308                           True        False     0  \n",
       "21861                          False        False     0  \n",
       "22950                          False         True     0  \n",
       "23737                          False        False     0  \n",
       "24740                          False        False     0  \n",
       "25035                          False        False     0  \n",
       "26156                          False        False     0  \n",
       "26167                          False        False     0  \n",
       "\n",
       "[38 rows x 36 columns]"
      ]
     },
     "execution_count": 19,
     "metadata": {},
     "output_type": "execute_result"
    }
   ],
   "source": [
    "wrestler_df[wrestler_df['Debut Age'] > 40]"
   ]
  },
  {
   "cell_type": "markdown",
   "metadata": {
    "pycharm": {
     "name": "#%% md\n"
    }
   },
   "source": [
    "Some of these were checked manually, and it seems that most of these are just celebrities that were invited at some point to join a match as a guest wrestler. For example, Evander Holyfield was a famous boxer that joined for a match.\n",
    "\n",
    "These won't be excluded, as it is absolutely a pathway into wrestling to just be famous or an athlete beforehand and get a boost from that (for example, Kurt Angle and The Miz fit into this description).\n",
    "\n",
    "It would be viable to just manually add information of \"had a career beforehand\", but that would have to be done by hand and would take way too long to be viable."
   ]
  },
  {
   "cell_type": "code",
   "execution_count": 20,
   "metadata": {
    "collapsed": false,
    "jupyter": {
     "outputs_hidden": false
    },
    "pycharm": {
     "name": "#%%\n"
    }
   },
   "outputs": [
    {
     "name": "stderr",
     "output_type": "stream",
     "text": [
      "E:\\Users\\Anema\\anaconda3\\lib\\site-packages\\seaborn\\_decorators.py:36: FutureWarning: Pass the following variables as keyword args: x, y. From version 0.12, the only valid positional argument will be `data`, and passing other arguments without an explicit keyword will result in an error or misinterpretation.\n",
      "  warnings.warn(\n"
     ]
    },
    {
     "data": {
      "text/plain": [
       "<AxesSubplot:xlabel='Finisher', ylabel='Trademark Moves'>"
      ]
     },
     "execution_count": 20,
     "metadata": {},
     "output_type": "execute_result"
    },
    {
     "data": {
      "image/png": "[encoded data removed]",
      "text/plain": [
       "<Figure size 1440x720 with 1 Axes>"
      ]
     },
     "metadata": {
      "needs_background": "light"
     },
     "output_type": "display_data"
    }
   ],
   "source": [
    "sns.scatterplot(wrestler_df['Finisher'], wrestler_df['Trademark Moves'])"
   ]
  },
  {
   "cell_type": "markdown",
   "metadata": {
    "pycharm": {
     "name": "#%% md\n"
    }
   },
   "source": [
    "It seems weird that it goes so high, when there are few wrestlers that seem to have so many trademark moves. Let's try and look at those wrestlers. remove"
   ]
  },
  {
   "cell_type": "code",
   "execution_count": 21,
   "metadata": {
    "collapsed": false,
    "jupyter": {
     "outputs_hidden": false
    },
    "pycharm": {
     "name": "#%%\n"
    }
   },
   "outputs": [
    {
     "data": {
      "text/plain": [
       "37     4\n",
       "114    5\n",
       "827    4\n",
       "Name: Finisher, dtype: int64"
      ]
     },
     "execution_count": 21,
     "metadata": {},
     "output_type": "execute_result"
    }
   ],
   "source": [
    "wrestler_df[wrestler_df['Trademark Moves'] > 20]['Finisher']"
   ]
  },
  {
   "cell_type": "markdown",
   "metadata": {
    "pycharm": {
     "name": "#%% md\n"
    }
   },
   "source": [
    "Quickly checking, there seems to be nothing in particular that marks these wrestlers are outliers. They are really good, and one of them has gotten a 5 star match, but it is not enough to mark them as outliers. I will still remove them to see if I can make the plot more visual"
   ]
  },
  {
   "cell_type": "code",
   "execution_count": 22,
   "metadata": {
    "collapsed": false,
    "jupyter": {
     "outputs_hidden": false
    },
    "pycharm": {
     "name": "#%%\n"
    }
   },
   "outputs": [
    {
     "name": "stderr",
     "output_type": "stream",
     "text": [
      "E:\\Users\\Anema\\anaconda3\\lib\\site-packages\\seaborn\\_decorators.py:36: FutureWarning: Pass the following variables as keyword args: x, y. From version 0.12, the only valid positional argument will be `data`, and passing other arguments without an explicit keyword will result in an error or misinterpretation.\n",
      "  warnings.warn(\n"
     ]
    },
    {
     "data": {
      "text/plain": [
       "<AxesSubplot:xlabel='Finisher', ylabel='Trademark Moves'>"
      ]
     },
     "execution_count": 22,
     "metadata": {},
     "output_type": "execute_result"
    },
    {
     "data": {
      "image/png": "[encoded data removed]",
      "text/plain": [
       "<Figure size 1440x720 with 1 Axes>"
      ]
     },
     "metadata": {
      "needs_background": "light"
     },
     "output_type": "display_data"
    }
   ],
   "source": [
    "sns.stripplot(wrestler_df[wrestler_df['Trademark Moves'] <= 20]['Finisher'], wrestler_df[wrestler_df['Trademark Moves'] <= 20]['Trademark Moves'])"
   ]
  },
  {
   "cell_type": "code",
   "execution_count": 23,
   "metadata": {
    "collapsed": false,
    "jupyter": {
     "outputs_hidden": false
    },
    "pycharm": {
     "name": "#%%\n"
    }
   },
   "outputs": [
    {
     "name": "stderr",
     "output_type": "stream",
     "text": [
      "E:\\Users\\Anema\\anaconda3\\lib\\site-packages\\seaborn\\_decorators.py:36: FutureWarning: Pass the following variable as a keyword arg: y. From version 0.12, the only valid positional argument will be `data`, and passing other arguments without an explicit keyword will result in an error or misinterpretation.\n",
      "  warnings.warn(\n"
     ]
    },
    {
     "data": {
      "text/plain": [
       "<AxesSubplot:xlabel='Finisher', ylabel='Trademark Moves'>"
      ]
     },
     "execution_count": 23,
     "metadata": {},
     "output_type": "execute_result"
    },
    {
     "data": {
      "image/png": "[encoded data removed]",
      "text/plain": [
       "<Figure size 1440x720 with 1 Axes>"
      ]
     },
     "metadata": {
      "needs_background": "light"
     },
     "output_type": "display_data"
    }
   ],
   "source": [
    "sns.kdeplot(wrestler_df[wrestler_df['Trademark Moves'] <= 20]['Finisher'], wrestler_df[wrestler_df['Trademark Moves'] <= 20]['Trademark Moves'])"
   ]
  },
  {
   "cell_type": "markdown",
   "metadata": {
    "pycharm": {
     "name": "#%% md\n"
    }
   },
   "source": [
    "The pyramid shape is interesting enough I"
   ]
  },
  {
   "cell_type": "markdown",
   "metadata": {
    "pycharm": {
     "name": "#%% md\n"
    }
   },
   "source": [
    "Now to do some analysis on whether a wrestler had a 5 star match or not. Woo"
   ]
  },
  {
   "cell_type": "code",
   "execution_count": 24,
   "metadata": {
    "collapsed": false,
    "jupyter": {
     "outputs_hidden": false
    },
    "pycharm": {
     "name": "#%%\n"
    }
   },
   "outputs": [
    {
     "name": "stderr",
     "output_type": "stream",
     "text": [
      "C:\\Users\\anema\\AppData\\Local\\Temp/ipykernel_57044/2135833720.py:16: FutureWarning: casting datetime64[ns] values to int64 with .astype(...) is deprecated and will raise in a future version. Use .view(...) instead.\n",
      "  X_var['Date of Birth'] = X_var['Date of Birth'].astype(np.int64)\n",
      "C:\\Users\\anema\\AppData\\Local\\Temp/ipykernel_57044/2135833720.py:17: FutureWarning: casting datetime64[ns] values to int64 with .astype(...) is deprecated and will raise in a future version. Use .view(...) instead.\n",
      "  X_var['Date of Death'] = X_var['Date of Death'].astype(np.int64)\n",
      "C:\\Users\\anema\\AppData\\Local\\Temp/ipykernel_57044/2135833720.py:18: FutureWarning: casting datetime64[ns] values to int64 with .astype(...) is deprecated and will raise in a future version. Use .view(...) instead.\n",
      "  X_var['Debut'] = X_var['Debut'].astype(np.int64)\n"
     ]
    },
    {
     "ename": "AttributeError",
     "evalue": "'OneHotEncoder' object has no attribute 'get_feature_names_out'",
     "output_type": "error",
     "traceback": [
      "\u001b[1;31m---------------------------------------------------------------------------\u001b[0m",
      "\u001b[1;31mAttributeError\u001b[0m                            Traceback (most recent call last)",
      "\u001b[1;32m~\\AppData\\Local\\Temp/ipykernel_57044/2135833720.py\u001b[0m in \u001b[0;36m<module>\u001b[1;34m\u001b[0m\n\u001b[0;32m     22\u001b[0m \u001b[0menc\u001b[0m \u001b[1;33m=\u001b[0m \u001b[0mOneHotEncoder\u001b[0m\u001b[1;33m(\u001b[0m\u001b[0msparse\u001b[0m\u001b[1;33m=\u001b[0m\u001b[1;32mFalse\u001b[0m\u001b[1;33m)\u001b[0m\u001b[1;33m\u001b[0m\u001b[1;33m\u001b[0m\u001b[0m\n\u001b[0;32m     23\u001b[0m \u001b[0mregion_encoded\u001b[0m \u001b[1;33m=\u001b[0m \u001b[0menc\u001b[0m\u001b[1;33m.\u001b[0m\u001b[0mfit_transform\u001b[0m\u001b[1;33m(\u001b[0m\u001b[0mX_var\u001b[0m\u001b[1;33m[\u001b[0m\u001b[1;33m[\u001b[0m\u001b[1;34m'Region'\u001b[0m\u001b[1;33m]\u001b[0m\u001b[1;33m]\u001b[0m\u001b[1;33m)\u001b[0m\u001b[1;33m\u001b[0m\u001b[1;33m\u001b[0m\u001b[0m\n\u001b[1;32m---> 24\u001b[1;33m \u001b[0mX_var\u001b[0m \u001b[1;33m=\u001b[0m \u001b[0mX_var\u001b[0m\u001b[1;33m.\u001b[0m\u001b[0mjoin\u001b[0m\u001b[1;33m(\u001b[0m\u001b[0mpd\u001b[0m\u001b[1;33m.\u001b[0m\u001b[0mDataFrame\u001b[0m\u001b[1;33m(\u001b[0m\u001b[0mregion_encoded\u001b[0m\u001b[1;33m,\u001b[0m \u001b[0mcolumns\u001b[0m\u001b[1;33m=\u001b[0m\u001b[0menc\u001b[0m\u001b[1;33m.\u001b[0m\u001b[0mget_feature_names_out\u001b[0m\u001b[1;33m(\u001b[0m\u001b[1;33m)\u001b[0m\u001b[1;33m)\u001b[0m\u001b[1;33m)\u001b[0m\u001b[1;33m\u001b[0m\u001b[1;33m\u001b[0m\u001b[0m\n\u001b[0m\u001b[0;32m     25\u001b[0m \u001b[0mX_var\u001b[0m\u001b[1;33m.\u001b[0m\u001b[0mdrop\u001b[0m\u001b[1;33m(\u001b[0m\u001b[1;33m[\u001b[0m\u001b[1;34m'Region'\u001b[0m\u001b[1;33m]\u001b[0m\u001b[1;33m,\u001b[0m \u001b[0maxis\u001b[0m\u001b[1;33m=\u001b[0m\u001b[1;36m1\u001b[0m\u001b[1;33m,\u001b[0m \u001b[0minplace\u001b[0m\u001b[1;33m=\u001b[0m\u001b[1;32mTrue\u001b[0m\u001b[1;33m)\u001b[0m\u001b[1;33m\u001b[0m\u001b[1;33m\u001b[0m\u001b[0m\n\u001b[0;32m     26\u001b[0m \u001b[0mX_var\u001b[0m\u001b[1;33m.\u001b[0m\u001b[0mfillna\u001b[0m\u001b[1;33m(\u001b[0m\u001b[1;36m0\u001b[0m\u001b[1;33m,\u001b[0m \u001b[0minplace\u001b[0m\u001b[1;33m=\u001b[0m\u001b[1;32mTrue\u001b[0m\u001b[1;33m)\u001b[0m\u001b[1;33m\u001b[0m\u001b[1;33m\u001b[0m\u001b[0m\n",
      "\u001b[1;31mAttributeError\u001b[0m: 'OneHotEncoder' object has no attribute 'get_feature_names_out'"
     ]
    }
   ],
   "source": [
    "#wrestler_df['Had 5 star match'] = np.where(wrestler_df['id'].isin(merged_df['id'].unique()), True, False)\n",
    "\n",
    "from sklearn.feature_selection import chi2, f_classif\n",
    "import datetime as dt\n",
    "match_wrestler_ids = merged_df['id'].unique()\n",
    "y_var = np.where(wrestler_df['id'].isin(match_wrestler_ids), True, False)\n",
    "\n",
    "# These are all variables that either require separate NLP processing (Real Name, wrestler name, birthplace)\n",
    "X_var = wrestler_df.drop(['Real Name', 'Birthplace', 'wrestler_name', 'id'], axis=1)\n",
    "# This is the laziest way of transforming the dates into usable numbers, which is just calculating them as seconds since the epoch\n",
    "# We just overwrite the columns in the original dataset\n",
    "# 1800 was picked as the year because it's the earliest available date in the dataset.\n",
    "values_to_fill_nans = {'Height':0, 'Weight':0, 'Managed by': 0, 'Managed Promotions': 0, 'Booked Promotions':0, 'Debut Age': 0, 'Date of Birth': dt.datetime(1800, 1,1), 'Date of Death': dt.datetime(2100, 1,1), 'Debut': dt.datetime(1800, 1,1), 'Birth Country': ''}\n",
    "X_var.fillna(values_to_fill_nans, inplace=True)\n",
    "\n",
    "X_var['Date of Birth'] = X_var['Date of Birth'].astype(np.int64)\n",
    "X_var['Date of Death'] = X_var['Date of Death'].astype(np.int64)\n",
    "X_var['Debut'] = X_var['Debut'].astype(np.int64)\n",
    "# For this particular analysis I'll just drop the birth country and just use the region\n",
    "from sklearn.preprocessing import OneHotEncoder\n",
    "X_var.drop(['Birth Country'], axis=1, inplace=True)\n",
    "enc = OneHotEncoder(sparse=False)\n",
    "region_encoded = enc.fit_transform(X_var[['Region']])\n",
    "X_var = X_var.join(pd.DataFrame(region_encoded, columns=enc.get_feature_names_out()))\n",
    "X_var.drop(['Region'], axis=1, inplace=True)\n",
    "X_var.fillna(0, inplace=True)\n",
    "\n",
    "chi_res, chi_p = chi2(X_var, y_var)\n",
    "\n",
    "classif_res, classif_p = f_classif(X_var, y_var)"
   ]
  },
  {
   "cell_type": "code",
   "execution_count": null,
   "metadata": {
    "collapsed": false,
    "jupyter": {
     "outputs_hidden": false
    },
    "pycharm": {
     "name": "#%%\n"
    }
   },
   "outputs": [],
   "source": [
    "chi_df = pd.DataFrame([chi_res, chi_p], columns=X_var.columns, index=['Chi res', 'P-Values']).transpose()\n",
    "chi_df.sort_values(by='Chi res', inplace=True, ascending=False)\n",
    "\n",
    "classif_df = pd.DataFrame([classif_res, classif_p], columns=X_var.columns, index=['F Score', 'P-Values']).transpose()\n",
    "classif_df.sort_values(by='F Score', inplace=True, ascending=False)"
   ]
  },
  {
   "cell_type": "code",
   "execution_count": null,
   "metadata": {
    "collapsed": false,
    "jupyter": {
     "outputs_hidden": false
    },
    "pycharm": {
     "name": "#%%\n"
    }
   },
   "outputs": [],
   "source": [
    "fig, axes = plt.subplots(ncols=2)\n",
    "\n",
    "classif_df.iloc[:10, :]['F Score'].plot(kind='bar', ax=axes[0], title='Top 10 F-Scores')\n",
    "chi_df.iloc[:10, :]['Chi res'].plot(kind='bar', ax=axes[1], title='Top 10 Chi squared scores')"
   ]
  },
  {
   "cell_type": "markdown",
   "metadata": {
    "pycharm": {
     "name": "#%% md\n"
    }
   },
   "source": [
    "4-14 best Based on this, it seems that a couple of common traits show up as the most desirable. It is not particularly suprising that rank is such a good determiner, for them to appear in the rank list they seem to both require a certain number of reviews, so they would already be popular. And it makes sense that a popular wrestler is one that has very good matches."
   ]
  },
  {
   "cell_type": "markdown",
   "metadata": {
    "tags": []
   },
   "source": [
    "## Additional Plots"
   ]
  },
  {
   "cell_type": "code",
   "execution_count": 51,
   "metadata": {},
   "outputs": [
    {
     "data": {
      "text/plain": [
       "Index(['id', 'Real Name', 'Birthplace', 'Date of Birth', 'Debut',\n",
       "       'wrestler_name', 'Date of Death', 'Height', 'Weight', 'Finisher',\n",
       "       'Interesting Weblinks', 'Management', 'Nickname', 'Stables',\n",
       "       'Tag Teams', 'Tournament Wins', 'Trademark Moves', 'Trainer',\n",
       "       'Managed by', 'Shows Commentated', 'Students', 'Booked Promotion',\n",
       "       'Managed Promotions', 'Nicknames', 'Managed Promotion', 'Student',\n",
       "       'Booked Promotions', 'Birth Country', 'Region', 'Name Known',\n",
       "       'Debut Age', 'Betting Matches Won', 'Betting Matches Lost',\n",
       "       'Participated in Betting Match', 'Family Ties', 'rank'],\n",
       "      dtype='object')"
      ]
     },
     "execution_count": 97,
     "metadata": {},
     "output_type": "execute_result"
    }
   ],
   "source": [
    "all_wrestlers = wrestler_df # 30k wrestlers\n",
    "ranked_wrestlers = wrestler_df[wrestler_df['rank'] > 0] # 5k ranked wrestlers\n",
    "fivestar_wrestlers = merged_df; # 5-star-match wrestlers (554 wrestlers)\n",
    "all_wrestlers.columns"
   ]
  },
  {
   "cell_type": "code",
   "execution_count": 120,
   "metadata": {},
   "outputs": [
    {
     "data": {
      "text/plain": [
       "24617                A Coruña, Galicia (Spain)\n",
       "23143    Aachen, Nordrhein-Westfalen (Germany)\n",
       "8472            Aalborg, Nordjylland (Denmark)\n",
       "2978                Abashiri, Hokkaido (Japan)\n",
       "13234    Abbotsford, British Columbia (Canada)\n",
       "                         ...                  \n",
       "16316                         umen (Bulgaria)\n",
       "16760                           Árgos (Greece)\n",
       "9390              Århus, Midtjylland (Denmark)\n",
       "8291                   Érmihályfalva (Hungary)\n",
       "9096              Évry, Île-de-France (France)\n",
       "Name: Birthplace, Length: 4589, dtype: object"
      ]
     },
     "execution_count": 120,
     "metadata": {},
     "output_type": "execute_result"
    }
   ],
   "source": [
    "all_wrestlers['Birthplace'].dropna().sort_values().drop_duplicates()"
   ]
  },
  {
   "cell_type": "code",
   "execution_count": 313,
   "metadata": {
    "tags": []
   },
   "outputs": [
    {
     "data": {
      "image/png": "[encoded data removed]",
      "text/plain": [
       "<Figure size 1440x720 with 1 Axes>"
      ]
     },
     "metadata": {
      "needs_background": "light"
     },
     "output_type": "display_data"
    }
   ],
   "source": [
    "wrestlers_2000 = ranked_wrestlers[ranked_wrestlers['rank'] <= 2000][['id', 'Birthplace']].dropna()\n",
    "b_2000_i = wrestlers_2000.drop_duplicates('Birthplace').index\n",
    "birthplaces_2000 = pd.read_csv('Data\\misc\\wrestler_birthplaces_top2000.csv')\n",
    "birthplaces_2000.index = b_2000_i\n",
    "\n",
    "wrestlers_5star = fivestar_wrestlers[['id', 'Birthplace']].dropna()\n",
    "b_5star_i = wrestlers_5star.drop_duplicates('Birthplace').index\n",
    "birthplaces_5star = pd.read_csv('Data\\misc\\wrestler_birthplaces_5star.csv')\n",
    "birthplaces_5star.index = b_5star_i\n",
    "plt.scatter(birthplaces_2000.lon, birthplaces_2000.lat, s=20, label='top-2000 wrestlers')\n",
    "plt.scatter(birthplaces_5star.lon, birthplaces_5star.lat, s=20, label='5star wrestlers')\n",
    "plt.title('The World In Wrestlers');\n",
    "plt.legend()\n",
    "plt.savefig('Wrestler World Map');"
   ]
  },
  {
   "cell_type": "code",
   "execution_count": 318,
   "metadata": {},
   "outputs": [
    {
     "data": {
      "image/png": "[encoded data removed]",
      "text/plain": [
       "<Figure size 1440x720 with 1 Axes>"
      ]
     },
     "metadata": {
      "needs_background": "light"
     },
     "output_type": "display_data"
    }
   ],
   "source": [
    "plt.scatter(birthplaces_2000.lon, birthplaces_2000.lat, s=20, label='top-2000 wrestlers')\n",
    "plt.scatter(birthplaces_5star.lon, birthplaces_5star.lat, s=20, label='5star wrestlers')\n",
    "plt.title('Japan In Wrestlers');\n",
    "plt.legend()\n",
    "plt.xlim((120, 150))\n",
    "plt.ylim((30, 45))\n",
    "plt.savefig('Wrestler Japan Map');"
   ]
  },
  {
   "cell_type": "markdown",
   "metadata": {
    "pycharm": {
     "name": "#%% md\n"
    }
   },
   "source": [
    "## Predicting the rank info\n",
    "We want to see if there are any interesting correlations between the wrestler's rank and the other information."
   ]
  },
  {
   "cell_type": "code",
   "execution_count": null,
   "metadata": {
    "collapsed": false,
    "jupyter": {
     "outputs_hidden": false
    },
    "pycharm": {
     "name": "#%%\n"
    }
   },
   "outputs": [],
   "source": [
    "# These are all variables that either require separate NLP processing (Real Name, wrestler name, birthplace)\n",
    "y_var = wrestler_df['rank']\n",
    "X_var = wrestler_df.drop(['Real Name', 'Birthplace', 'wrestler_name', 'rank', 'id'], axis=1)\n",
    "# This is the laziest way of transforming the dates into usable numbers, which is just calculating them as seconds since the epoch\n",
    "# We just overwrite the columns in the original dataset\n",
    "# 1837 was picked as the year because it's the earliest available date in the dataset.\n",
    "values_to_fill_nans = {'Height':0, 'Weight':0, 'Managed by': 0, 'Managed Promotions': 0, 'Booked Promotions':0, 'Debut Age': 0, 'Date of Birth': dt.datetime(1800, 1,1), 'Date of Death': dt.datetime(2100, 1,1), 'Debut': dt.datetime(1800, 1,1), 'Birth Country': ''}\n",
    "X_var.fillna(values_to_fill_nans, inplace=True)\n",
    "\n",
    "X_var['Date of Birth'] = X_var['Date of Birth'].astype(np.int64)\n",
    "X_var['Date of Death'] = X_var['Date of Death'].astype(np.int64)\n",
    "X_var['Debut'] = X_var['Debut'].astype(np.int64)\n",
    "# For this particular analysis I'll just drop the birth country and just use the region\n",
    "from sklearn.preprocessing import OneHotEncoder\n",
    "from sklearn.feature_selection import f_regression, mutual_info_regression\n",
    "X_var.drop(['Birth Country'], axis=1, inplace=True)\n",
    "enc = OneHotEncoder(sparse=False)\n",
    "region_encoded = enc.fit_transform(X_var[['Region']])\n",
    "X_var = X_var.join(pd.DataFrame(region_encoded, columns=enc.get_feature_names_out()))\n",
    "X_var.drop(['Region'], axis=1, inplace=True)\n",
    "\n",
    "mi = mutual_info_regression(X_var, y_var)\n",
    "\n",
    "f_res, f_p = f_regression(X_var, y_var)"
   ]
  },
  {
   "cell_type": "code",
   "execution_count": null,
   "metadata": {
    "collapsed": false,
    "jupyter": {
     "outputs_hidden": false
    },
    "pycharm": {
     "name": "#%%\n"
    }
   },
   "outputs": [],
   "source": [
    "mi_df = pd.Series(mi, index=X_var.columns)\n",
    "mi_df.sort_values(inplace=True, ascending=False)\n",
    "mi_df.iloc[:10].plot(kind='bar')"
   ]
  },
  {
   "cell_type": "code",
   "execution_count": null,
   "metadata": {
    "collapsed": false,
    "jupyter": {
     "outputs_hidden": false
    },
    "pycharm": {
     "name": "#%%\n"
    }
   },
   "outputs": [],
   "source": [
    "f_df = pd.DataFrame([f_res, f_p], columns=X_var.columns, index=['F Score', 'P-Values']).transpose()\n",
    "f_df.sort_values(by='P-Values', inplace=True)\n",
    "\n",
    "f_df.iloc[:10, :]['F Score'].plot(kind='bar')"
   ]
  },
  {
   "cell_type": "code",
   "execution_count": null,
   "metadata": {
    "collapsed": false,
    "jupyter": {
     "outputs_hidden": false
    },
    "pycharm": {
     "name": "#%%\n"
    }
   },
   "outputs": [],
   "source": [
    "y_var = wrestler_df['rank']\n",
    "X_var = wrestler_df.drop(['Real Name', 'Birthplace', 'wrestler_name', 'rank', 'id'], axis=1)\n",
    "# This is the laziest way of transforming the dates into usable numbers, which is just calculating them as seconds since the epoch\n",
    "# We just overwrite the columns in the original dataset\n",
    "# 1837 was picked as the year because it's the earliest available date in the dataset.\n",
    "values_to_fill_nans = {'Height':0, 'Weight':0, 'Managed by': 0, 'Managed Promotions': 0, 'Booked Promotions':0, 'Debut Age': 0, 'Date of Birth': dt.datetime(1800, 1,1), 'Date of Death': dt.datetime(2100, 1,1), 'Debut': dt.datetime(1800, 1,1), 'Birth Country': ''}\n",
    "X_var.fillna(values_to_fill_nans, inplace=True)\n",
    "\n",
    "X_var['Date of Birth'] = X_var['Date of Birth'].astype(np.int64)\n",
    "X_var['Date of Death'] = X_var['Date of Death'].astype(np.int64)\n",
    "X_var['Debut'] = X_var['Debut'].astype(np.int64)"
   ]
  },
  {
   "cell_type": "code",
   "execution_count": null,
   "metadata": {
    "collapsed": false,
    "jupyter": {
     "outputs_hidden": false
    },
    "pycharm": {
     "name": "#%%\n"
    }
   },
   "outputs": [],
   "source": [
    "from interpret.glassbox import ExplainableBoostingRegressor\n",
    "from interpret import show\n",
    "from sklearn.model_selection import train_test_split\n",
    "X_train, X_test, y_train, y_test = train_test_split(X_var, y_var)\n",
    "\n",
    "seed = 1\n",
    "\n",
    "ebr = ExplainableBoostingRegressor(random_state=seed)\n",
    "ebr.fit(X_train, y_train)"
   ]
  },
  {
   "cell_type": "code",
   "execution_count": null,
   "metadata": {
    "collapsed": false,
    "jupyter": {
     "outputs_hidden": false
    },
    "pycharm": {
     "name": "#%%\n"
    }
   },
   "outputs": [],
   "source": [
    "ebr_global = ebr.explain_global()\n",
    "show(ebr_global)"
   ]
  },
  {
   "cell_type": "code",
   "execution_count": null,
   "metadata": {
    "collapsed": false,
    "jupyter": {
     "outputs_hidden": false
    },
    "pycharm": {
     "name": "#%%\n"
    }
   },
   "outputs": [],
   "source": [
    "y_pred = ebr.predict(X_test)\n",
    "\n",
    "from sklearn.metrics import explained_variance_score, mean_squared_error, r2_score\n",
    "print(explained_variance_score(y_test, y_pred))\n",
    "print(mean_squared_error(y_test, y_pred))\n",
    "print(r2_score(y_test, y_pred))"
   ]
  },
  {
   "cell_type": "markdown",
   "metadata": {
    "pycharm": {
     "name": "#%% md\n"
    }
   },
   "source": [
    "It is not the best predictor. Considering the amount of entries without any rank, this does make some sense."
   ]
  },
  {
   "cell_type": "markdown",
   "metadata": {
    "pycharm": {
     "name": "#%% md\n"
    }
   },
   "source": [
    "## Likelihood of getting a 5 star match\n",
    "We'll use the explainable boosting machine to get more information about the wrestlers that have had 5 star matches, and see if there is anything in their history that can provide additional information.\n",
    "\n",
    "So we'll be working on having a classifier that predicts the likelihood of having a 5 star match. We'll drop any names, and we won't work on NLP stuff for now."
   ]
  },
  {
   "cell_type": "code",
   "execution_count": null,
   "metadata": {
    "collapsed": false,
    "jupyter": {
     "outputs_hidden": false
    },
    "pycharm": {
     "name": "#%%\n"
    }
   },
   "outputs": [],
   "source": [
    "# The first thing to do is to add a column that says whether a wrestler has had a 5 star match or not.\n",
    "# We will run the boosted glass box classification model that was explained on it. To try and see if there is anything of value that we can learn.\n",
    "\n",
    "# Dropping the column so that we can train on it separately\n",
    "#wrestler_df.drop(['Had 5 star match'], axis=1, inplace=True)\n",
    "\n",
    "# I looked into how ebm handles categorical variables, for strings it pretty much just does label encoding\n",
    "# I will still remove names, as they should have some NLP done to properly process them. This was deemed as too much effort\n",
    "# But countries will remain\n",
    "match_wrestler_ids = merged_df['id'].unique()\n",
    "y_var = np.where(wrestler_df['id'].isin(match_wrestler_ids), True, False)\n",
    "\n",
    "X_var = wrestler_df.drop(['id', 'Real Name', 'Birthplace', 'wrestler_name'], axis=1)"
   ]
  },
  {
   "cell_type": "code",
   "execution_count": null,
   "metadata": {
    "collapsed": false,
    "jupyter": {
     "outputs_hidden": false
    },
    "pycharm": {
     "name": "#%%\n"
    }
   },
   "outputs": [],
   "source": [
    "# We have to deal with missing values, for now I'll take a very simple approach to most of them and hope it's enough\n",
    "values_to_fill_nans = {'Height':0, 'Weight':0, 'Managed by': 0, 'Managed Promotions': 0, 'Booked Promotions':0, 'Debut Age': 0, 'Date of Birth': dt.datetime(1800, 1,1), 'Date of Death': dt.datetime(2100, 1,1), 'Debut': dt.datetime(1800, 1,1), 'Birth Country': ''}\n",
    "X_var.fillna(values_to_fill_nans, inplace=True)\n",
    "\n",
    "X_var['Date of Birth'] = X_var['Date of Birth'].astype(np.int64)\n",
    "X_var['Date of Death'] = X_var['Date of Death'].astype(np.int64)\n",
    "X_var['Debut'] = X_var['Debut'].astype(np.int64)"
   ]
  },
  {
   "cell_type": "code",
   "execution_count": null,
   "metadata": {
    "collapsed": false,
    "jupyter": {
     "outputs_hidden": false
    },
    "pycharm": {
     "name": "#%%\n"
    }
   },
   "outputs": [],
   "source": [
    "from sklearn.model_selection import train_test_split\n",
    "X_train, X_test, y_train, y_test = train_test_split(X_var, y_var, stratify=y_var)\n",
    "\n",
    "from interpret import show\n",
    "from interpret.glassbox import ExplainableBoostingClassifier\n",
    "\n",
    "seed = 1\n",
    "ebm = ExplainableBoostingClassifier(random_state=seed)\n",
    "ebm.fit(X_train, y_train)"
   ]
  },
  {
   "cell_type": "code",
   "execution_count": null,
   "metadata": {
    "collapsed": false,
    "jupyter": {
     "outputs_hidden": false
    },
    "pycharm": {
     "name": "#%%\n"
    }
   },
   "outputs": [],
   "source": [
    "plt.rcParams['figure.figsize'] = [10,5]\n",
    "ebm_global = ebm.explain_global()\n",
    "show(ebm_global)"
   ]
  },
  {
   "cell_type": "code",
   "execution_count": null,
   "metadata": {
    "collapsed": false,
    "jupyter": {
     "outputs_hidden": false
    },
    "pycharm": {
     "name": "#%%\n"
    }
   },
   "outputs": [],
   "source": [
    "from sklearn.metrics import accuracy_score, balanced_accuracy_score, classification_report\n",
    "y_pred = ebm.predict(X_test)\n",
    "print(\"Always false accuracy: \" + str((len(y_test) - y_test.sum())/len(y_test)))\n",
    "print(accuracy_score(y_test, y_pred))\n",
    "print(balanced_accuracy_score(y_test, y_pred))\n",
    "print(classification_report(y_test, y_pred))"
   ]
  },
  {
   "cell_type": "code",
   "execution_count": null,
   "metadata": {
    "collapsed": false,
    "jupyter": {
     "outputs_hidden": false
    },
    "pycharm": {
     "name": "#%%\n"
    }
   },
   "outputs": [],
   "source": [
    "# He has optimal stats (according to the trained classifier)\n",
    "super_jerry = pd.Series({'Date of Birth': (dt.datetime(1983,12,27)).astype(np.int64), 'Debut': (dt.datetime.today()).astype(np.int64), 'Date of Death': (dt.datetime(2100, 1,1)).astype(np.int64), 'Height': 1.84, 'Weight': 84.0, 'Finisher': 5, 'Interesting Weblinks': 4, 'Management': 0, 'Nickname': 0, 'Stables': 10, 'Tag Teams': 6, 'Tournament Wins': 8, 'Trademark Moves': 15, 'Trainer': 1, 'Managed by': 1, 'Shows Commentated': 1, 'Students': 1, 'Booked Promotion': 1, 'Managed Promotions': 1, 'Nicknames': 1, 'Managed Promotion': 1, 'Student': 1, 'Booked Promotions': 1, 'Birth Country': 'Greece', 'Region': 'Other', 'Name Known': 1, 'Debut Age': 38, 'Betting Matches Won': 6, 'Betting Matches Lost': 0, 'Participated in Betting Match': 1, 'Family Ties': 1, 'rank': 5247})"
   ]
  },
  {
   "cell_type": "code",
   "execution_count": null,
   "metadata": {
    "collapsed": false,
    "jupyter": {
     "outputs_hidden": false
    },
    "pycharm": {
     "name": "#%%\n"
    }
   },
   "outputs": [],
   "source": [
    "ebm.predict_proba(pd.DataFrame([super_jerry]))"
   ]
  },
  {
   "cell_type": "markdown",
   "metadata": {
    "pycharm": {
     "name": "#%% md\n"
    }
   },
   "source": [
    "I am not sure if this counts as overpredicting for the false values or not. The other metrics for True do make it seem like that, but the classifier does have a lower accuracy than if it just predicted false all the time. So it does seem to be at least trying, even if it is not perfect.\n",
    "\n",
    "You can see that when you look at the precision, recall and f1-score for True, it is much much lower. Which does make sense, it is a heavily imbalanced dataset and we used very default parameters. It did try to predict some of the True values with middling results, so it does seem like it learned something.\n",
    "\n",
    "The more interesting thing to note is that this classifier gives Jerry a very high chance of getting a five star match! This is a super inflated Jerry, but it does mean that it is possible, he just has to make his dreams a reality!"
   ]
  },
  {
   "cell_type": "markdown",
   "metadata": {
    "pycharm": {
     "name": "#%% md\n"
    }
   },
   "source": [
    "## Difference between rank and classifier\n",
    "\n",
    "It also seems that a predictor for rank is much than a predictor for 5 star matches. Even though rank is a somewhat important value.\n",
    "\n",
    "How can we explain this disconnect between the two columns? The first likely candidate is due to the way we're dealing with unranked wrestlers. As of now, we just mark them all as having a score of 0. This means it's likely the system is learning to just mark things as 0, just because it has learned that it is the most common score.\n",
    "\n",
    "To test this hypothesis, we will try two options:\n",
    "- Regression only on ranked wrestlers\n",
    "- Classification on ranked vs unranked wrestlers\n",
    "\n",
    "We will also do some on analysis on the number of NaNs per row comparing the ranked vs the unranked wrestlers (as the number of wrestlers with 5 star matches is a relatively small amount).\n",
    "\n",
    "Last thing to do is create a separate classifier model that will drop even more columns, focusing on those filled with NaNs. We will have to manually check them to be sure which ones should be dropped though.\n"
   ]
  },
  {
   "cell_type": "code",
   "execution_count": null,
   "metadata": {
    "collapsed": false,
    "jupyter": {
     "outputs_hidden": false
    },
    "pycharm": {
     "name": "#%%\n"
    }
   },
   "outputs": [],
   "source": [
    "# First thing to run is a regression only on the ranked wrestlers\n",
    "y_var = wrestler_df[wrestler_df['rank'] > 0]['rank']\n",
    "X_var = wrestler_df[wrestler_df['rank'] > 0].drop(['Real Name', 'Birthplace', 'wrestler_name', 'rank', 'id'], axis=1)\n",
    "# This is the laziest way of transforming the dates into usable numbers, which is just calculating them as seconds since the epoch\n",
    "# We just overwrite the columns in the original dataset\n",
    "values_to_fill_nans = {'Height':0, 'Weight':0, 'Managed by': 0, 'Managed Promotions': 0, 'Booked Promotions':0, 'Debut Age': 0, 'Date of Birth': dt.datetime(1800, 1,1), 'Date of Death': dt.datetime(2100, 1,1), 'Debut': dt.datetime(1800, 1,1), 'Birth Country': ''}\n",
    "X_var.fillna(values_to_fill_nans, inplace=True)\n",
    "\n",
    "X_var['Date of Birth'] = X_var['Date of Birth'].astype(np.int64)\n",
    "X_var['Date of Death'] = X_var['Date of Death'].astype(np.int64)\n",
    "X_var['Debut'] = X_var['Debut'].astype(np.int64)\n",
    "\n",
    "from interpret.glassbox import ExplainableBoostingRegressor\n",
    "from interpret import show\n",
    "from sklearn.model_selection import train_test_split\n",
    "X_train, X_test, y_train, y_test = train_test_split(X_var, y_var)\n",
    "\n",
    "seed = 1\n",
    "\n",
    "ebr = ExplainableBoostingRegressor(random_state=seed)\n",
    "ebr.fit(X_train, y_train)"
   ]
  },
  {
   "cell_type": "code",
   "execution_count": null,
   "metadata": {
    "collapsed": false,
    "jupyter": {
     "outputs_hidden": false
    },
    "pycharm": {
     "name": "#%%\n"
    }
   },
   "outputs": [],
   "source": [
    "y_pred = ebr.predict(X_test)\n",
    "\n",
    "from sklearn.metrics import explained_variance_score, mean_squared_error, r2_score\n",
    "print(explained_variance_score(y_test, y_pred))\n",
    "print(mean_squared_error(y_test, y_pred))\n",
    "print(r2_score(y_test, y_pred))\n",
    "\n",
    "ebr_global = ebr.explain_global()\n",
    "show(ebr_global)"
   ]
  },
  {
   "cell_type": "markdown",
   "metadata": {
    "pycharm": {
     "name": "#%% md\n"
    }
   },
   "source": [
    "Now we'll run a classification on whether a wrestler is ranked or not"
   ]
  },
  {
   "cell_type": "code",
   "execution_count": null,
   "metadata": {
    "collapsed": false,
    "jupyter": {
     "outputs_hidden": false
    },
    "pycharm": {
     "name": "#%%\n"
    }
   },
   "outputs": [],
   "source": [
    "y_var = wrestler_df['rank'] > 0\n",
    "\n",
    "X_var = wrestler_df.drop(['id', 'Real Name', 'Birthplace', 'wrestler_name', 'rank'], axis=1)\n",
    "\n",
    "# We have to deal with missing values, for now I'll take a very simple approach to most of them and hope it's enough\n",
    "values_to_fill_nans = {'Height':0, 'Weight':0, 'Managed by': 0, 'Managed Promotions': 0, 'Booked Promotions':0, 'Debut Age': 0, 'Date of Birth': dt.datetime(1800, 1,1), 'Date of Death': dt.datetime(2100, 1,1), 'Debut': dt.datetime(1800, 1,1), 'Birth Country': ''}\n",
    "X_var.fillna(values_to_fill_nans, inplace=True)\n",
    "\n",
    "X_var['Date of Birth'] = X_var['Date of Birth'].astype(np.int64)\n",
    "X_var['Date of Death'] = X_var['Date of Death'].astype(np.int64)\n",
    "X_var['Debut'] = X_var['Debut'].astype(np.int64)\n",
    "\n",
    "from sklearn.model_selection import train_test_split\n",
    "X_train, X_test, y_train, y_test = train_test_split(X_var, y_var, stratify=y_var)\n",
    "\n",
    "from interpret.glassbox import ExplainableBoostingClassifier\n",
    "\n",
    "seed = 1\n",
    "ebm = ExplainableBoostingClassifier(random_state=seed)\n",
    "ebm.fit(X_train, y_train)"
   ]
  },
  {
   "cell_type": "code",
   "execution_count": null,
   "metadata": {
    "collapsed": false,
    "jupyter": {
     "outputs_hidden": false
    },
    "pycharm": {
     "name": "#%%\n"
    }
   },
   "outputs": [],
   "source": [
    "from sklearn.metrics import accuracy_score, balanced_accuracy_score, classification_report\n",
    "y_pred = ebm.predict(X_test)\n",
    "print(\"Always false accuracy: \" + str((len(y_test) - y_test.sum())/len(y_test)))\n",
    "print(accuracy_score(y_test, y_pred))\n",
    "print(balanced_accuracy_score(y_test, y_pred))\n",
    "print(classification_report(y_test, y_pred))"
   ]
  },
  {
   "cell_type": "code",
   "execution_count": null,
   "metadata": {
    "collapsed": false,
    "jupyter": {
     "outputs_hidden": false
    },
    "pycharm": {
     "name": "#%%\n"
    }
   },
   "outputs": [],
   "source": [
    "plt.rcParams['figure.figsize'] = [10,5]\n",
    "ebm_global = ebm.explain_global()\n",
    "show(ebm_global)"
   ]
  },
  {
   "cell_type": "markdown",
   "metadata": {
    "pycharm": {
     "name": "#%% md\n"
    }
   },
   "source": [
    "# Match analysis\n",
    "While the match analysis is more restricted (our focus was on scraping the wrestlers, not the event info), there can still be some interesting analysis to be done.\n",
    "\n",
    "Another thing that is added to the matches is the 'gender' of the promotion. Japanese promotions tend to only focus on one gender of wrestling, and for the other regions a quick check was done to see where their wrestlers came from.\n",
    "\n",
    "Some of these features would be interesting for the whole set of wrestlers, but they would be near impossible to add to the wrestler list itself without additional scraping.\n",
    "\n",
    "Also, WWE and WWF are essentially the same company, but had to go through a name change due to legal problems with the World Wide Fund. There are other cases where a company is 'descended' from a different one, or where they've bought each other, but we will keep the original promotions to try and represent the 'spirit' of the original booking."
   ]
  },
  {
   "cell_type": "code",
   "execution_count": null,
   "metadata": {
    "collapsed": false,
    "jupyter": {
     "outputs_hidden": false
    },
    "pycharm": {
     "name": "#%%\n"
    }
   },
   "outputs": [],
   "source": [
    "# To the match info, I'll add whether the wrestler was in their home \"region\"\n",
    "# TODO: Add this to the match info\n",
    "merged_df['Home wrestler'] = merged_df['Region'] == merged_df['Promotion Country']\n",
    "\n",
    "# TODO: Add the gender info of the promotion\n",
    "# It's easier to list the female promotions, and then just to an np where\n",
    "female_promotions = ['AJW', 'JWP', 'Stardom']\n",
    "\n",
    "merged_df['Female promotion'] = np.where(merged_df['Promotion'].isin(female_promotions), True, False)\n",
    "\n"
   ]
  },
  {
   "cell_type": "code",
   "execution_count": null,
   "metadata": {
    "collapsed": false,
    "jupyter": {
     "outputs_hidden": false
    },
    "pycharm": {
     "name": "#%%\n"
    }
   },
   "outputs": [],
   "source": [
    "# First I'll start by plotting the relation between it being a local wrestler or a foreign one\n",
    "# I'll use the counts for each of the four regions that are used\n",
    "temp = merged_df.groupby(['Promotion Country', 'Home wrestler'])\n",
    "\n",
    "# I just input the values manually, because thinking of how to code such a small df was suffering\n",
    "local_temp = pd.DataFrame({'True': [314, 8, 2, 4, 123], 'False': [59, 4, 2, 0, 38]}, index=['Japan', 'Mexico', 'Other', 'UK', 'USA'])\n",
    "\n",
    "local_temp.plot(kind='bar', stacked=True, ylabel='Count of locals')\n",
    "plt.legend(['Local', 'Foreign'])"
   ]
  },
  {
   "cell_type": "code",
   "execution_count": null,
   "metadata": {
    "collapsed": false,
    "jupyter": {
     "outputs_hidden": false
    },
    "pycharm": {
     "name": "#%%\n"
    }
   },
   "outputs": [],
   "source": [
    "# The previous plot wasn't good for getting percentages,\n",
    "local_temp.divide(local_temp.sum(axis=1), axis=0).plot(kind='bar', stacked=True, ylabel='Percent of locals')\n",
    "plt.legend(['Local', 'Foreign'])"
   ]
  },
  {
   "cell_type": "code",
   "execution_count": null,
   "metadata": {
    "collapsed": false,
    "jupyter": {
     "outputs_hidden": false
    },
    "pycharm": {
     "name": "#%%\n"
    }
   },
   "outputs": [],
   "source": [
    "match_wrestler_info.groupby(['Promotion']).size().sort_values()"
   ]
  },
  {
   "cell_type": "code",
   "execution_count": null,
   "metadata": {
    "collapsed": false,
    "jupyter": {
     "outputs_hidden": false
    },
    "pycharm": {
     "name": "#%%\n"
    }
   },
   "outputs": [],
   "source": [
    "year_matches = pd.to_datetime(match_wrestler_info['Date']).dt.year.value_counts()\n",
    "year_matches.sort_index().plot()"
   ]
  },
  {
   "cell_type": "markdown",
   "metadata": {
    "pycharm": {
     "name": "#%% md\n"
    }
   },
   "source": [
    "The last plot is actually super interesting, as the eras where the best matches were had don't line up with the two biggest wrestling booms (golden age and attitude era). This might be because these periods of popularity were held in the US. Which (considering the market size of their promotions), tends to have relatively few matches.\n",
    "\n",
    "An interesting plot would be worldwide income of wrestling vs the number of matches, but for most companies this is private. On top of that, just parsing the information would be really hard when you take into account the number of companies, even if you were to restricted only to \"important\" companies."
   ]
  },
  {
   "cell_type": "code",
   "execution_count": null,
   "metadata": {
    "collapsed": false,
    "jupyter": {
     "outputs_hidden": false
    },
    "pycharm": {
     "name": "#%%\n"
    }
   },
   "outputs": [],
   "source": [
    "temp_year_match = match_wrestler_info.copy()\n",
    "temp_year_match = temp_year_match.iloc[:, :-12]\n",
    "temp_year_match['Year'] = pd.to_datetime(match_wrestler_info['Date']).dt.year\n",
    "\n",
    "temp = temp_year_match.groupby(['Year', 'Promotion Country']).size().reset_index()\n",
    "\n",
    "res = pd.DataFrame(0, index=temp['Year'].unique(), columns=temp['Promotion Country'].unique())\n",
    "for index, row in temp.iterrows():\n",
    "    res.loc[row['Year']][row['Promotion Country']] = row[0]\n",
    "\n",
    "res.plot(kind='bar', stacked=True, ylabel='Counts')"
   ]
  },
  {
   "cell_type": "code",
   "execution_count": null,
   "metadata": {
    "collapsed": false,
    "jupyter": {
     "outputs_hidden": false
    },
    "pycharm": {
     "name": "#%%\n"
    }
   },
   "outputs": [],
   "source": [
    "temp_year_match = match_wrestler_info.copy()\n",
    "temp_year_match = temp_year_match.iloc[:, :-12]\n",
    "temp_year_match['Year'] = pd.to_datetime(match_wrestler_info['Date']).dt.year\n",
    "\n",
    "temp = temp_year_match.groupby(['Year', 'Promotion Country']).size().reset_index()\n",
    "\n",
    "res = pd.DataFrame(0, index=temp['Year'].unique(), columns=temp['Promotion Country'].unique())\n",
    "for index, row in temp.iterrows():\n",
    "    res.loc[row['Year']][row['Promotion Country']] = row[0]\n",
    "\n",
    "res.plot(kind='bar', stacked=True, ylabel='Counts')"
   ]
  },
  {
   "cell_type": "code",
   "execution_count": null,
   "metadata": {
    "collapsed": false,
    "jupyter": {
     "outputs_hidden": false
    },
    "pycharm": {
     "name": "#%%\n"
    }
   },
   "outputs": [],
   "source": [
    "local_wrestlers_per_year = merged_df[~merged_df['Home wrestler']].copy()\n",
    "local_wrestlers_per_year['Year'] = pd.to_datetime(local_wrestlers_per_year['Date']).dt.year\n",
    "\n",
    "temp = local_wrestlers_per_year.groupby(['Year', 'Promotion Country']).size().reset_index()\n",
    "\n",
    "res = pd.DataFrame(0, index=temp['Year'].unique(), columns=temp['Promotion Country'].unique())\n",
    "for index, row in temp.iterrows():\n",
    "    res.loc[row['Year']][row['Promotion Country']] = row[0]\n",
    "\n",
    "res.plot(kind='bar', stacked=True, ylabel='Counts')"
   ]
  }
 ],
 "metadata": {
  "kernelspec": {
   "display_name": "Python 3 (ipykernel)",
   "language": "python",
   "name": "python3"
  },
  "language_info": {
   "codemirror_mode": {
    "name": "ipython",
    "version": 3
   },
   "file_extension": ".py",
   "mimetype": "text/x-python",
   "name": "python",
   "nbconvert_exporter": "python",
   "pygments_lexer": "ipython3",
   "version": "3.9.7"
  }
 },
 "nbformat": 4,
 "nbformat_minor": 4
}
