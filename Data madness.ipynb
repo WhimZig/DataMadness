{
 "cells": [
  {
   "cell_type": "code",
   "execution_count": 87,
   "metadata": {
    "collapsed": true
   },
   "outputs": [],
   "source": [
    "import pandas as pd\n",
    "import numpy as np\n",
    "from unidecode import unidecode"
   ]
  },
  {
   "cell_type": "code",
   "execution_count": 2,
   "outputs": [],
   "source": [
    "def clean_wrestler_info(wrestler_info: pd.DataFrame):\n",
    "    \"\"\"Method to make the general wreslter info easier to parse\n",
    "\n",
    "    Modifies it in place, so it does not return anything\"\"\"\n",
    "    # This adds the country of birth as a column to the dataframe\n",
    "    birth_countries = wrestler_info[~wrestler_info['Birthplace'].isnull()]['Birthplace'].apply(lambda st: st[st.find(\"(\")+1:st.find(\")\")])\n",
    "\n",
    "    wrestler_info['Birth Country'] = birth_countries\n",
    "    height_and_weight = wrestler_info[~wrestler_info['Weight and Height'].isnull()]['Weight and Height'].str.split('at', expand=True)\n",
    "\n",
    "    weight = height_and_weight[~height_and_weight[0].isnull()][0].apply(lambda st: st[st.find(\"(\")+1:st.find(\")\")])\n",
    "    weight = pd.to_numeric(weight.str[:-3], errors='coerce')\n",
    "    weight = weight[~weight.isnull()]\n",
    "    wrestler_info['Weight'] = weight\n",
    "\n",
    "    height = height_and_weight[~height_and_weight[1].isnull()][1].apply(lambda st: st[st.find(\"(\")+1:st.find(\")\")])\n",
    "    height = pd.to_numeric(height.str[:-2], errors='coerce')\n",
    "    height = height[~height.isnull()]\n",
    "    wrestler_info['Height'] = height\n",
    "\n",
    "    wrestler_info.drop(['Weight and Height'], axis=1, inplace=True)\n",
    "\n",
    "    dob = wrestler_info['Date of Birth'].str.replace(r\"\\(.*\\)\",\"\", regex=True)\n",
    "    dob = pd.to_datetime(dob, errors='coerce')\n",
    "\n",
    "    debut = wrestler_info['Debut'].str.replace(r\"\\(.*\\)\",\"\", regex=True)\n",
    "    debut = pd.to_datetime(debut, errors='coerce')\n",
    "\n",
    "    death = wrestler_info['Date of Death'].str.replace(r\"\\(.*\\)\",\"\", regex=True)\n",
    "    death = pd.to_datetime(dob, errors='coerce')\n",
    "\n",
    "    wrestler_info['Date of Birth'] = dob\n",
    "    wrestler_info['Debut'] = debut\n",
    "    wrestler_info['Date of Death'] = death"
   ],
   "metadata": {
    "collapsed": false,
    "pycharm": {
     "name": "#%%\n"
    }
   }
  },
  {
   "cell_type": "code",
   "execution_count": 119,
   "outputs": [],
   "source": [
    "wrestler_df = pd.read_csv('Data/general_info_per_wrestler_final.csv')\n",
    "\n",
    "wrestler_df['wrestler_name'] = wrestler_df['wrestler_name'].apply(lambda x: unidecode(x))\n",
    "\n",
    "clean_wrestler_info(wrestler_df)\n",
    "\n",
    "fact_counts = pd.read_csv('facts_counts_final.csv')\n",
    "\n",
    "match_wrestler_info = pd.read_csv('Data/5_star_matches_wrestler_list.csv')\n",
    "match_wrestler_info.drop(['Unnamed: 0'], axis=1, inplace=True)"
   ],
   "metadata": {
    "collapsed": false,
    "pycharm": {
     "name": "#%%\n"
    }
   }
  },
  {
   "cell_type": "code",
   "execution_count": 120,
   "outputs": [],
   "source": [
    "problems = []\n",
    "\n",
    "# Used for creating the resulting merged dataframe\n",
    "cur_row = 0\n",
    "merged_df = pd.DataFrame(index=range(12*len(match_wrestler_info.index)), columns=range(18))\n",
    "\n",
    "for i in range(len(match_wrestler_info.index)):\n",
    "    # First for loop is to go through all of the rows\n",
    "    cur_match_info = match_wrestler_info.iloc[i][:8]\n",
    "    # Weird transpose it to make some concats easier later on\n",
    "    cur_match_info = pd.DataFrame(cur_match_info).transpose()\n",
    "\n",
    "    cur_wrestler_set = match_wrestler_info.iloc[i][8:]\n",
    "    #print(cur_match_info)\n",
    "\n",
    "    # Might be more efficient to precreate it as a df or something, but whatev for now\n",
    "    new_rows_to_add = []\n",
    "\n",
    "    for j in range(12):\n",
    "        # There's max 12 wrestlers, so hard coding is good let's gooooo\n",
    "        cur_wrestler = cur_wrestler_set[j]\n",
    "\n",
    "        if pd.isna(cur_wrestler):\n",
    "            # Break should be valid, the wrestlers should be somewhat ordered\n",
    "            break\n",
    "\n",
    "        to_append = wrestler_df[wrestler_df['wrestler_name'] == cur_wrestler]\n",
    "\n",
    "        if len(to_append.index) != 1:\n",
    "            # It means that it's a different number than 1, so there's a problem somewhere\n",
    "            problems.append((cur_wrestler, i))\n",
    "            continue\n",
    "\n",
    "        merged_df.iloc[cur_row] = pd.concat([cur_match_info.reset_index(drop=True), to_append.reset_index(drop=True)], axis=1)\n",
    "\n",
    "        cur_row += 1\n",
    "\n",
    "merged_df.dropna(how='all', inplace=True)"
   ],
   "metadata": {
    "collapsed": false,
    "pycharm": {
     "name": "#%%\n"
    }
   }
  },
  {
   "cell_type": "code",
   "execution_count": 125,
   "outputs": [],
   "source": [
    "problem_wrestlers = set()\n",
    "for i in range(len(problems)):\n",
    "    problem_wrestlers.add(problems[i][0])"
   ],
   "metadata": {
    "collapsed": false,
    "pycharm": {
     "name": "#%%\n"
    }
   }
  },
  {
   "cell_type": "code",
   "execution_count": 126,
   "outputs": [
    {
     "data": {
      "text/plain": "{'A.J. Styles',\n 'Aja Kong',\n 'Akira Hokuto',\n 'Andrade \"Cien\" Almas',\n 'Animal',\n 'Bandido',\n 'Big Van Vader',\n 'Black Taurus',\n 'Bull Nakano',\n 'Chigusa Nagayo',\n 'Cima',\n 'Cutie Suzuki',\n 'Devil Masami',\n 'Donovan Dijak',\n 'Dynamite Kansai',\n 'Eddy Guerrero',\n 'El Hijo Del Santo',\n 'Etsuko Mita',\n 'Flamita',\n 'Fénix',\n 'Genichiro Tenryu',\n 'Hawk',\n 'Hikari Fukuoka',\n 'Jaguar Yokota',\n 'Johnny Ace',\n 'Kazue Nagahori',\n 'Keiji Mutoh',\n 'Kyoko Inoue',\n 'Lioness Asuka',\n 'Luchasaurus',\n 'Manami Toyota',\n 'Mayumi Ozaki',\n \"Men's Teioh\",\n 'Michael Oku',\n 'Mika Komatsu',\n 'Mika Suzuki',\n 'Mika Takahashi',\n 'Mima Shimoda',\n 'Mitsuko Nishiwaki',\n 'Naoki Sano',\n 'Octagón',\n 'Pac',\n 'Pentagon Jr.',\n 'Pentagón Jr.',\n 'Psicosis',\n 'Razor Ramon',\n 'Rey Misterio Jr.',\n 'Sachiko Nakamura',\n 'Sakie Hasegawa',\n 'Samson Fuyuki',\n 'Sanada',\n 'Satoru Asako',\n 'Satoru Sayama',\n 'Shinobu Kandori',\n 'Shiryu',\n 'Shoichi Funaki',\n 'Sid Vicious',\n 'Stone Cold Steve Austin',\n 'Syuri',\n 'Taka Michinoku',\n 'Takako Inoue',\n 'The War Machine',\n 'Tiger Mask IV',\n 'Toshiyo Yamada',\n 'Tsuyoshi Kohsaka',\n 'Utami Hayashishita',\n 'Walter',\n 'Wild Pegasus',\n 'Yachiya Hirata',\n 'Yumi Ogura',\n 'Yumiko Hotta'}"
     },
     "execution_count": 126,
     "metadata": {},
     "output_type": "execute_result"
    }
   ],
   "source": [
    "problem_wrestlers"
   ],
   "metadata": {
    "collapsed": false,
    "pycharm": {
     "name": "#%%\n"
    }
   }
  },
  {
   "cell_type": "code",
   "execution_count": 146,
   "outputs": [],
   "source": [
    "# I think it's easier to fix the matches than it is to fix the wrestler list, so this is just that.\n",
    "problem_wrestler_fix = {'A.J. Styles': 350, 'Aja Kong': 577, 'Akira Hokuto': 578, 'Andrade \"Cien\" Almas' : 2581, 'Animal': 98,'Bandido': 27228, 'Big Van Vader': 51, 'Black Taurus': 5533, 'Bull Nakano': 595, 'Chigusa Nagayo': 2020, 'Cima': 968, 'Cutie Suzuki': 2070, 'Devil Masami': 2016, 'Donovan Dijak': 28415, 'Dynamite Kansai': 2023, 'Eddy Guerrero': 64, 'El Hijo Del Santo': 835, 'Etsuko Mita': 2025, 'Flamita': 18326, 'Fénix': 17005, 'Genichiro Tenryu': 938, 'Hawk': 99, 'Hikari Fukuoka': 8758, 'Jaguar Yokota': 3161, 'Johnny Ace': 638, 'Kazue Nagahori': 18980, 'Keiji Mutoh': 276, 'Kyoko Inoue': 674, 'Lioness Asuka': 623, 'Luchasaurus': 23527, 'Manami Toyota': 1380, 'Mayumi Ozaki': 2022, \"Men's Teioh\": 1449, 'Michael Oku': 34867, 'Mika Komatsu': 18981, 'Mika Suzuki': 3181, 'Mika Takahashi': 27017, 'Mima Shimoda': 2026, 'Mitsuko Nishiwaki': 27168, 'Naoki Sano': 995, 'Octagón': 1576, 'Pac': 2606, 'Pentagon Jr.': 13328, 'Pentagón Jr.': 13328, 'Psicosis': 779, 'Razor Ramon': 44, 'Rey Misterio Jr.': 66, 'Sakie Hasegawa': 2489, 'Samson Fuyuki': 1008, 'Sanada': 3194, 'Satoru Asako': 1058, 'Shinobu Kandori': 2035, 'Shiryu': 150, 'Shoichi Funaki': 111, 'Sid Vicious': 82, 'Stone Cold Steve Austin': 9, 'Syuri': 10764, 'Taka Michinoku': 127, 'Takako Inoue': 675, 'The War Machine': 104, 'Tiger Mask IV': 351, 'Toshiyo Yamada': 2044, 'Tsuyoshi Kohsaka': 11796, 'Utami Hayashishita': 35239, 'Walter': 2372, 'Wild Pegasus': 24, 'Yumi Ogura': 3151, 'Yumiko Hotta': 2033, 'Satoru Sayama': 766}\n",
    "\n",
    "# I have to fix tiger mask separately because there's two of them :(\n",
    "# First is the first with NJPW, second is the first with AJPW\n",
    "tiger_masks = [766, 745]\n",
    "\n",
    "# These are the wrestlers that just aren't contained in the database, for whatever reason\n",
    "# They're both women, and both worked with AJW. Their matches were in house shows\n",
    "to_remove = ['Sachiko Nakamura', 'Yachiya Hirata']"
   ],
   "metadata": {
    "collapsed": false,
    "pycharm": {
     "name": "#%%\n"
    }
   }
  },
  {
   "cell_type": "markdown",
   "source": [
    "I'll document the parsing issues for posterity's sake:\n",
    "- A bunch of the wrestlers weren't found directly for some of the following reasons:\n",
    "    - Different spelling of name (for example, different subtitles, or adjectives)\n",
    "    - Accents, and other language specific things\n",
    "    - Multiple wrestlers with same name\n",
    "- Tiger mask appears in multiple matches, but in each match he represents a different person\n",
    "- Two wrestlers didn't exist in the database. Searching for them elsewhere also gave no significant results\n",
    "    - Both were female AJW wrestlers, whose match was in a 5 star house show\n",
    "    - They are: Sachiko Nakamura and Yachiya Hirata\n",
    "\n",
    "To fix this up I just ran the code again. Is it efficient? No. Is it easy to program? Hell yeah"
   ],
   "metadata": {
    "collapsed": false,
    "pycharm": {
     "name": "#%% md\n"
    }
   }
  },
  {
   "cell_type": "code",
   "execution_count": 147,
   "outputs": [
    {
     "ename": "IndexError",
     "evalue": "single positional indexer is out-of-bounds",
     "output_type": "error",
     "traceback": [
      "\u001B[1;31m---------------------------------------------------------------------------\u001B[0m",
      "\u001B[1;31mIndexError\u001B[0m                                Traceback (most recent call last)",
      "\u001B[1;32m<ipython-input-147-8465eabd2fb7>\u001B[0m in \u001B[0;36m<module>\u001B[1;34m\u001B[0m\n\u001B[0;32m     28\u001B[0m             \u001B[1;31m# So this is just a way of manually searching through the problem wrestler list\u001B[0m\u001B[1;33m\u001B[0m\u001B[1;33m\u001B[0m\u001B[1;33m\u001B[0m\u001B[0m\n\u001B[0;32m     29\u001B[0m             \u001B[1;31m# Hopefully it works, for my sanity\u001B[0m\u001B[1;33m\u001B[0m\u001B[1;33m\u001B[0m\u001B[1;33m\u001B[0m\u001B[0m\n\u001B[1;32m---> 30\u001B[1;33m             \u001B[0mcur_wrestler\u001B[0m \u001B[1;33m=\u001B[0m \u001B[0mwrestler_df\u001B[0m\u001B[1;33m[\u001B[0m\u001B[0mwrestler_df\u001B[0m\u001B[1;33m[\u001B[0m\u001B[1;34m'Unnamed: 0'\u001B[0m\u001B[1;33m]\u001B[0m \u001B[1;33m==\u001B[0m \u001B[0mproblem_wrestler_fix\u001B[0m\u001B[1;33m[\u001B[0m\u001B[0mcur_wrestler\u001B[0m\u001B[1;33m]\u001B[0m\u001B[1;33m]\u001B[0m\u001B[1;33m[\u001B[0m\u001B[1;34m'wrestler_name'\u001B[0m\u001B[1;33m]\u001B[0m\u001B[1;33m.\u001B[0m\u001B[0miloc\u001B[0m\u001B[1;33m[\u001B[0m\u001B[1;36m0\u001B[0m\u001B[1;33m]\u001B[0m\u001B[1;33m\u001B[0m\u001B[1;33m\u001B[0m\u001B[0m\n\u001B[0m\u001B[0;32m     31\u001B[0m \u001B[1;33m\u001B[0m\u001B[0m\n\u001B[0;32m     32\u001B[0m         \u001B[0mto_append\u001B[0m \u001B[1;33m=\u001B[0m \u001B[0mwrestler_df\u001B[0m\u001B[1;33m[\u001B[0m\u001B[0mwrestler_df\u001B[0m\u001B[1;33m[\u001B[0m\u001B[1;34m'wrestler_name'\u001B[0m\u001B[1;33m]\u001B[0m \u001B[1;33m==\u001B[0m \u001B[0mcur_wrestler\u001B[0m\u001B[1;33m]\u001B[0m\u001B[1;33m\u001B[0m\u001B[1;33m\u001B[0m\u001B[0m\n",
      "\u001B[1;32m~\\anaconda3\\lib\\site-packages\\pandas\\core\\indexing.py\u001B[0m in \u001B[0;36m__getitem__\u001B[1;34m(self, key)\u001B[0m\n\u001B[0;32m    893\u001B[0m \u001B[1;33m\u001B[0m\u001B[0m\n\u001B[0;32m    894\u001B[0m             \u001B[0mmaybe_callable\u001B[0m \u001B[1;33m=\u001B[0m \u001B[0mcom\u001B[0m\u001B[1;33m.\u001B[0m\u001B[0mapply_if_callable\u001B[0m\u001B[1;33m(\u001B[0m\u001B[0mkey\u001B[0m\u001B[1;33m,\u001B[0m \u001B[0mself\u001B[0m\u001B[1;33m.\u001B[0m\u001B[0mobj\u001B[0m\u001B[1;33m)\u001B[0m\u001B[1;33m\u001B[0m\u001B[1;33m\u001B[0m\u001B[0m\n\u001B[1;32m--> 895\u001B[1;33m             \u001B[1;32mreturn\u001B[0m \u001B[0mself\u001B[0m\u001B[1;33m.\u001B[0m\u001B[0m_getitem_axis\u001B[0m\u001B[1;33m(\u001B[0m\u001B[0mmaybe_callable\u001B[0m\u001B[1;33m,\u001B[0m \u001B[0maxis\u001B[0m\u001B[1;33m=\u001B[0m\u001B[0maxis\u001B[0m\u001B[1;33m)\u001B[0m\u001B[1;33m\u001B[0m\u001B[1;33m\u001B[0m\u001B[0m\n\u001B[0m\u001B[0;32m    896\u001B[0m \u001B[1;33m\u001B[0m\u001B[0m\n\u001B[0;32m    897\u001B[0m     \u001B[1;32mdef\u001B[0m \u001B[0m_is_scalar_access\u001B[0m\u001B[1;33m(\u001B[0m\u001B[0mself\u001B[0m\u001B[1;33m,\u001B[0m \u001B[0mkey\u001B[0m\u001B[1;33m:\u001B[0m \u001B[0mTuple\u001B[0m\u001B[1;33m)\u001B[0m\u001B[1;33m:\u001B[0m\u001B[1;33m\u001B[0m\u001B[1;33m\u001B[0m\u001B[0m\n",
      "\u001B[1;32m~\\anaconda3\\lib\\site-packages\\pandas\\core\\indexing.py\u001B[0m in \u001B[0;36m_getitem_axis\u001B[1;34m(self, key, axis)\u001B[0m\n\u001B[0;32m   1499\u001B[0m \u001B[1;33m\u001B[0m\u001B[0m\n\u001B[0;32m   1500\u001B[0m             \u001B[1;31m# validate the location\u001B[0m\u001B[1;33m\u001B[0m\u001B[1;33m\u001B[0m\u001B[1;33m\u001B[0m\u001B[0m\n\u001B[1;32m-> 1501\u001B[1;33m             \u001B[0mself\u001B[0m\u001B[1;33m.\u001B[0m\u001B[0m_validate_integer\u001B[0m\u001B[1;33m(\u001B[0m\u001B[0mkey\u001B[0m\u001B[1;33m,\u001B[0m \u001B[0maxis\u001B[0m\u001B[1;33m)\u001B[0m\u001B[1;33m\u001B[0m\u001B[1;33m\u001B[0m\u001B[0m\n\u001B[0m\u001B[0;32m   1502\u001B[0m \u001B[1;33m\u001B[0m\u001B[0m\n\u001B[0;32m   1503\u001B[0m             \u001B[1;32mreturn\u001B[0m \u001B[0mself\u001B[0m\u001B[1;33m.\u001B[0m\u001B[0mobj\u001B[0m\u001B[1;33m.\u001B[0m\u001B[0m_ixs\u001B[0m\u001B[1;33m(\u001B[0m\u001B[0mkey\u001B[0m\u001B[1;33m,\u001B[0m \u001B[0maxis\u001B[0m\u001B[1;33m=\u001B[0m\u001B[0maxis\u001B[0m\u001B[1;33m)\u001B[0m\u001B[1;33m\u001B[0m\u001B[1;33m\u001B[0m\u001B[0m\n",
      "\u001B[1;32m~\\anaconda3\\lib\\site-packages\\pandas\\core\\indexing.py\u001B[0m in \u001B[0;36m_validate_integer\u001B[1;34m(self, key, axis)\u001B[0m\n\u001B[0;32m   1442\u001B[0m         \u001B[0mlen_axis\u001B[0m \u001B[1;33m=\u001B[0m \u001B[0mlen\u001B[0m\u001B[1;33m(\u001B[0m\u001B[0mself\u001B[0m\u001B[1;33m.\u001B[0m\u001B[0mobj\u001B[0m\u001B[1;33m.\u001B[0m\u001B[0m_get_axis\u001B[0m\u001B[1;33m(\u001B[0m\u001B[0maxis\u001B[0m\u001B[1;33m)\u001B[0m\u001B[1;33m)\u001B[0m\u001B[1;33m\u001B[0m\u001B[1;33m\u001B[0m\u001B[0m\n\u001B[0;32m   1443\u001B[0m         \u001B[1;32mif\u001B[0m \u001B[0mkey\u001B[0m \u001B[1;33m>=\u001B[0m \u001B[0mlen_axis\u001B[0m \u001B[1;32mor\u001B[0m \u001B[0mkey\u001B[0m \u001B[1;33m<\u001B[0m \u001B[1;33m-\u001B[0m\u001B[0mlen_axis\u001B[0m\u001B[1;33m:\u001B[0m\u001B[1;33m\u001B[0m\u001B[1;33m\u001B[0m\u001B[0m\n\u001B[1;32m-> 1444\u001B[1;33m             \u001B[1;32mraise\u001B[0m \u001B[0mIndexError\u001B[0m\u001B[1;33m(\u001B[0m\u001B[1;34m\"single positional indexer is out-of-bounds\"\u001B[0m\u001B[1;33m)\u001B[0m\u001B[1;33m\u001B[0m\u001B[1;33m\u001B[0m\u001B[0m\n\u001B[0m\u001B[0;32m   1445\u001B[0m \u001B[1;33m\u001B[0m\u001B[0m\n\u001B[0;32m   1446\u001B[0m     \u001B[1;31m# -------------------------------------------------------------------\u001B[0m\u001B[1;33m\u001B[0m\u001B[1;33m\u001B[0m\u001B[1;33m\u001B[0m\u001B[0m\n",
      "\u001B[1;31mIndexError\u001B[0m: single positional indexer is out-of-bounds"
     ]
    }
   ],
   "source": [
    "ultra_problems = []\n",
    "\n",
    "# Used for creating the resulting merged dataframe\n",
    "cur_row = 0\n",
    "merged_df = pd.DataFrame(index=range(12*len(match_wrestler_info.index)), columns=range(18))\n",
    "\n",
    "for i in range(len(match_wrestler_info.index)):\n",
    "    # First for loop is to go through all of the rows\n",
    "    cur_match_info = match_wrestler_info.iloc[i][:8]\n",
    "    # Weird transpose it to make some concats easier later on\n",
    "    cur_match_info = pd.DataFrame(cur_match_info).transpose()\n",
    "\n",
    "    cur_wrestler_set = match_wrestler_info.iloc[i][8:]\n",
    "    #print(cur_match_info)\n",
    "\n",
    "    # Might be more efficient to precreate it as a df or something, but whatev for now\n",
    "    new_rows_to_add = []\n",
    "\n",
    "    for j in range(12):\n",
    "        # There's max 12 wrestlers, so hard coding is good let's gooooo\n",
    "        cur_wrestler = cur_wrestler_set[j]\n",
    "\n",
    "        if pd.isna(cur_wrestler):\n",
    "            # Break should be valid, the wrestlers should be somewhat ordered\n",
    "            break\n",
    "\n",
    "        if cur_wrestler in problem_wrestlers:\n",
    "            # So this is just a way of manually searching through the problem wrestler list\n",
    "            # Hopefully it works, for my\n",
    "\n",
    "            # I also have to deal with a case where it is not in the problem wrestler fix... fml\n",
    "            # Or where the index wasn't parsed, for whatever reason...\n",
    "            cur_wrestler = wrestler_df[wrestler_df['Unnamed: 0'] == problem_wrestler_fix[cur_wrestler]]['wrestler_name'].iloc[0]\n",
    "\n",
    "        to_append = wrestler_df[wrestler_df['wrestler_name'] == cur_wrestler]\n",
    "\n",
    "        if len(to_append.index) != 1:\n",
    "            # It means that the wrestler wasn't parsed at all, which is not cool tbh\n",
    "            ultra_problems.append((cur_wrestler, i))\n",
    "            continue\n",
    "\n",
    "        merged_df.iloc[cur_row] = pd.concat([cur_match_info.reset_index(drop=True), to_append.reset_index(drop=True)], axis=1)\n",
    "\n",
    "        cur_row += 1\n",
    "\n",
    "merged_df.dropna(how='all', inplace=True)"
   ],
   "metadata": {
    "collapsed": false,
    "pycharm": {
     "name": "#%%\n"
    }
   }
  },
  {
   "cell_type": "code",
   "execution_count": 156,
   "outputs": [
    {
     "data": {
      "text/plain": "True"
     },
     "execution_count": 156,
     "metadata": {},
     "output_type": "execute_result"
    }
   ],
   "source": [
    "cur_wrestler in problem_wrestler_fix\n",
    "#wrestler_df[wrestler_df['Unnamed: 0'] == problem_wrestler_fix[cur_wrestler]]['wrestler_name']"
   ],
   "metadata": {
    "collapsed": false,
    "pycharm": {
     "name": "#%%\n"
    }
   }
  }
 ],
 "metadata": {
  "kernelspec": {
   "display_name": "Python 3",
   "language": "python",
   "name": "python3"
  },
  "language_info": {
   "codemirror_mode": {
    "name": "ipython",
    "version": 2
   },
   "file_extension": ".py",
   "mimetype": "text/x-python",
   "name": "python",
   "nbconvert_exporter": "python",
   "pygments_lexer": "ipython2",
   "version": "2.7.6"
  }
 },
 "nbformat": 4,
 "nbformat_minor": 0
}