{
 "cells": [
  {
   "cell_type": "code",
   "execution_count": 1,
   "metadata": {
    "collapsed": true
   },
   "outputs": [],
   "source": [
    "import pandas as pd\n",
    "import numpy as np\n",
    "from unidecode import unidecode"
   ]
  },
  {
   "cell_type": "markdown",
   "source": [
    "# Cleaning up the data\n",
    "\n",
    "The first step will be to clean up (more) the two datasets. The code is given, but the general idea of the cleaning is just to make the data easier to parse.\n",
    "\n",
    "## Cleaning wrestler info\n",
    "\n",
    "We'll start with cleaning up the wrestling info that's contained. Some processing has already been done, this cleaning is mainly done for the sake of making the analysis easier"
   ],
   "metadata": {
    "collapsed": false,
    "pycharm": {
     "name": "#%% md\n"
    }
   }
  },
  {
   "cell_type": "code",
   "execution_count": 2,
   "outputs": [],
   "source": [
    "def country_simplifier(row):\n",
    "    \"\"\"Due to the countries where pro wrestling is more popular, we will simplify the countries. This is mainly using only the 'main' wrestling countries, and leaving the others as 'other'.\n",
    "\n",
    "    This is also to deal with issues of the names being mispelled for whatever reason\"\"\"\n",
    "    if (row['Birth Country'] == 'United States of America') or (row['Birth Country'] == 'United States of Americ'):\n",
    "        return 'USA'\n",
    "    elif (row['Birth Country'] == 'Canada') or (row['Birth Country'] == 'Canad'):\n",
    "        # Because of how canada and US are linked in wrestling world, I'll mark the two together\n",
    "        return 'USA'\n",
    "    elif (row['Birth Country'] == 'Japa') or (row['Birth Country'] == 'Japan'):\n",
    "        return 'Japan'\n",
    "    elif (row['Birth Country'] == 'Mexico') or (row['Birth Country'] == 'Mexic'):\n",
    "        return 'Mexico'\n",
    "    elif (row['Birth Country'] == 'United Kingdom') or (row['Birth Country'] == 'United Kingdo'):\n",
    "        return 'UK'\n",
    "    else:\n",
    "        return 'Other'"
   ],
   "metadata": {
    "collapsed": false,
    "pycharm": {
     "name": "#%%\n"
    }
   }
  },
  {
   "cell_type": "code",
   "execution_count": 3,
   "outputs": [],
   "source": [
    "def clean_wrestler_info(wrestler_info: pd.DataFrame):\n",
    "    \"\"\"Method to make the general wreslter info easier to parse\n",
    "\n",
    "    Modifies it in place, so it does not return anything\"\"\"\n",
    "    # This adds the country of birth as a column to the dataframe\n",
    "    birth_countries = wrestler_info[~wrestler_info['Birthplace'].isnull()]['Birthplace'].apply(lambda st: st[st.find(\"(\")+1:st.find(\")\")])\n",
    "\n",
    "    wrestler_info['Birth Country'] = birth_countries\n",
    "    height_and_weight = wrestler_info[~wrestler_info['Weight and Height'].isnull()]['Weight and Height'].str.split('at', expand=True)\n",
    "\n",
    "    weight = height_and_weight[~height_and_weight[0].isnull()][0].apply(lambda st: st[st.find(\"(\")+1:st.find(\")\")])\n",
    "    weight = pd.to_numeric(weight.str[:-3], errors='coerce')\n",
    "    weight = weight[~weight.isnull()]\n",
    "    wrestler_info['Weight'] = weight\n",
    "\n",
    "    height = height_and_weight[~height_and_weight[1].isnull()][1].apply(lambda st: st[st.find(\"(\")+1:st.find(\")\")])\n",
    "    height = pd.to_numeric(height.str[:-2], errors='coerce')\n",
    "    height = height[~height.isnull()]\n",
    "    wrestler_info['Height'] = height\n",
    "\n",
    "    wrestler_info.drop(['Weight and Height'], axis=1, inplace=True)\n",
    "\n",
    "    # TODO: Modify DOB, Debut, and Date of Death so that the year can be parsed separately\n",
    "    # Needed because the year is sometimes all the info that's contained, due to how old info was stored\n",
    "    dob = wrestler_info['Date of Birth'].str.replace(r\"\\(.*\\)\",\"\", regex=True)\n",
    "    dob = pd.to_datetime(dob, errors='coerce')\n",
    "\n",
    "    debut = wrestler_info['Debut'].str.replace(r\"\\(.*\\)\",\"\", regex=True)\n",
    "    debut = pd.to_datetime(debut, errors='coerce')\n",
    "\n",
    "    death = wrestler_info['Date of Death'].str.replace(r\"\\(.*\\)\",\"\", regex=True)\n",
    "    death = pd.to_datetime(death, errors='coerce')\n",
    "\n",
    "    wrestler_info['Date of Birth'] = dob\n",
    "    wrestler_info['Debut'] = debut\n",
    "    wrestler_info['Date of Death'] = death\n",
    "\n",
    "    wrestler_info['Region'] = wrestler_info.apply(lambda row: country_simplifier(row), axis=1)\n"
   ],
   "metadata": {
    "collapsed": false,
    "pycharm": {
     "name": "#%%\n"
    }
   }
  },
  {
   "cell_type": "code",
   "execution_count": 4,
   "outputs": [],
   "source": [
    "wrestler_df = pd.read_csv('all_info_merged_old.csv')\n",
    "wrestler_df.drop(['Unnamed: 0'], axis=1, inplace=True)\n",
    "\n",
    "# Extra step for consistency at some other point\n",
    "wrestler_df['wrestler_name'] = wrestler_df['wrestler_name'].apply(lambda x: unidecode(x))\n",
    "\n",
    "clean_wrestler_info(wrestler_df)\n",
    "\n",
    "match_wrestler_info = pd.read_csv('Data/5_star_matches_wrestler_list.csv')\n",
    "match_wrestler_info.drop(['Unnamed: 0'], axis=1, inplace=True)"
   ],
   "metadata": {
    "collapsed": false,
    "pycharm": {
     "name": "#%%\n"
    }
   }
  },
  {
   "cell_type": "code",
   "execution_count": 5,
   "outputs": [
    {
     "data": {
      "text/plain": "          id                Real Name  \\\n0          1          Peter Senerchia   \n1          2       Scott Anthony Levy   \n2          3        Troy Shane Martin   \n3          4      James D. Fullington   \n4          5     Perry Arthur Satullo   \n...      ...                      ...   \n26245  30188       Catherine Costigan   \n26246  30189           Amber Leibrock   \n26247  30190  Gonzalo Mendiola Ortega   \n26248  30191     Otto Frederick Roehm   \n26249  30192     Isidor Gadar Niflot    \n\n                                              Birthplace Date of Birth  \\\n0      New York City, New York (United States of Amer...    1967-10-11   \n1      Short Hills, New Jersey (United States of Amer...    1964-09-08   \n2      Pittsburgh, Pennsylvania (United States of Ame...    1964-11-21   \n3      Philadelphia, Pennsylvania (United States of A...    1963-06-16   \n4             Cleveland, Ohio (United States of America)    1966-10-25   \n...                                                  ...           ...   \n26245                                 Limerick (Ireland)           NaT   \n26246     Hayward, California (United States of America)    1988-02-08   \n26247      San Antonio, Texas (United States of America)    1933-04-09   \n26248                                                NaN    1882-08-02   \n26249                     Warszawa, Mazowieckie (Poland)    1881-04-16   \n\n           Debut        wrestler_name Date of Death  Height  Weight  Alias  \\\n0     1987-06-03                  Taz           NaT    1.75   112.0      1   \n1     1988-02-20                Raven           NaT    1.83   111.0      1   \n2     1982-01-01        Shane Douglas           NaT    1.85   113.0      1   \n3     1989-01-01          The Sandman           NaT    1.91   111.0      1   \n4     1990-10-27         Perry Saturn           NaT    1.78   106.0      1   \n...          ...                  ...           ...     ...     ...    ...   \n26245 2010-12-18  Catherine Costigan            NaT    1.63    48.0      1   \n26246 2015-06-09      Amber Leibrock            NaT    1.80    66.0      1   \n26247        NaT         Pancho Lomas    2011-10-22     NaN     NaN      1   \n26248        NaT          Otto Roehm     1958-05-29    1.65    70.0      1   \n26249 1908-04-15          John Niflot    1950-03-29    1.60    61.0      1   \n\n       ...  Hair Matches Lost  Mask Loss  Mask Wins  Student  \\\n0      ...                0.0          0        0.0        0   \n1      ...                0.0          0        0.0        0   \n2      ...                0.0          0        0.0        0   \n3      ...                0.0          0        0.0        1   \n4      ...                0.0          0        2.0        0   \n...    ...                ...        ...        ...      ...   \n26245  ...                NaN          0        NaN        0   \n26246  ...                NaN          0        NaN        0   \n26247  ...                NaN          0        NaN        0   \n26248  ...                NaN          0        NaN        0   \n26249  ...                NaN          0        NaN        0   \n\n       Booked Promotions  Familiy Tie  Mask Losses  Fighting Style  \\\n0                    0.0            0          0.0               0   \n1                    0.0            0          0.0               0   \n2                    1.0            0          0.0               0   \n3                    0.0            0          0.0               0   \n4                    0.0            0          0.0               0   \n...                  ...          ...          ...             ...   \n26245                NaN            0          0.0               0   \n26246                NaN            0          0.0               0   \n26247                NaN            0          0.0               0   \n26248                NaN            0          0.0               0   \n26249                NaN            0          0.0               0   \n\n                  Birth Country  Region  \n0      United States of America     USA  \n1      United States of America     USA  \n2      United States of America     USA  \n3      United States of America     USA  \n4      United States of America     USA  \n...                         ...     ...  \n26245                   Ireland   Other  \n26246  United States of America     USA  \n26247  United States of America     USA  \n26248                       NaN   Other  \n26249                    Poland   Other  \n\n[26250 rows x 43 columns]",
      "text/html": "<div>\n<style scoped>\n    .dataframe tbody tr th:only-of-type {\n        vertical-align: middle;\n    }\n\n    .dataframe tbody tr th {\n        vertical-align: top;\n    }\n\n    .dataframe thead th {\n        text-align: right;\n    }\n</style>\n<table border=\"1\" class=\"dataframe\">\n  <thead>\n    <tr style=\"text-align: right;\">\n      <th></th>\n      <th>id</th>\n      <th>Real Name</th>\n      <th>Birthplace</th>\n      <th>Date of Birth</th>\n      <th>Debut</th>\n      <th>wrestler_name</th>\n      <th>Date of Death</th>\n      <th>Height</th>\n      <th>Weight</th>\n      <th>Alias</th>\n      <th>...</th>\n      <th>Hair Matches Lost</th>\n      <th>Mask Loss</th>\n      <th>Mask Wins</th>\n      <th>Student</th>\n      <th>Booked Promotions</th>\n      <th>Familiy Tie</th>\n      <th>Mask Losses</th>\n      <th>Fighting Style</th>\n      <th>Birth Country</th>\n      <th>Region</th>\n    </tr>\n  </thead>\n  <tbody>\n    <tr>\n      <th>0</th>\n      <td>1</td>\n      <td>Peter Senerchia</td>\n      <td>New York City, New York (United States of Amer...</td>\n      <td>1967-10-11</td>\n      <td>1987-06-03</td>\n      <td>Taz</td>\n      <td>NaT</td>\n      <td>1.75</td>\n      <td>112.0</td>\n      <td>1</td>\n      <td>...</td>\n      <td>0.0</td>\n      <td>0</td>\n      <td>0.0</td>\n      <td>0</td>\n      <td>0.0</td>\n      <td>0</td>\n      <td>0.0</td>\n      <td>0</td>\n      <td>United States of America</td>\n      <td>USA</td>\n    </tr>\n    <tr>\n      <th>1</th>\n      <td>2</td>\n      <td>Scott Anthony Levy</td>\n      <td>Short Hills, New Jersey (United States of Amer...</td>\n      <td>1964-09-08</td>\n      <td>1988-02-20</td>\n      <td>Raven</td>\n      <td>NaT</td>\n      <td>1.83</td>\n      <td>111.0</td>\n      <td>1</td>\n      <td>...</td>\n      <td>0.0</td>\n      <td>0</td>\n      <td>0.0</td>\n      <td>0</td>\n      <td>0.0</td>\n      <td>0</td>\n      <td>0.0</td>\n      <td>0</td>\n      <td>United States of America</td>\n      <td>USA</td>\n    </tr>\n    <tr>\n      <th>2</th>\n      <td>3</td>\n      <td>Troy Shane Martin</td>\n      <td>Pittsburgh, Pennsylvania (United States of Ame...</td>\n      <td>1964-11-21</td>\n      <td>1982-01-01</td>\n      <td>Shane Douglas</td>\n      <td>NaT</td>\n      <td>1.85</td>\n      <td>113.0</td>\n      <td>1</td>\n      <td>...</td>\n      <td>0.0</td>\n      <td>0</td>\n      <td>0.0</td>\n      <td>0</td>\n      <td>1.0</td>\n      <td>0</td>\n      <td>0.0</td>\n      <td>0</td>\n      <td>United States of America</td>\n      <td>USA</td>\n    </tr>\n    <tr>\n      <th>3</th>\n      <td>4</td>\n      <td>James D. Fullington</td>\n      <td>Philadelphia, Pennsylvania (United States of A...</td>\n      <td>1963-06-16</td>\n      <td>1989-01-01</td>\n      <td>The Sandman</td>\n      <td>NaT</td>\n      <td>1.91</td>\n      <td>111.0</td>\n      <td>1</td>\n      <td>...</td>\n      <td>0.0</td>\n      <td>0</td>\n      <td>0.0</td>\n      <td>1</td>\n      <td>0.0</td>\n      <td>0</td>\n      <td>0.0</td>\n      <td>0</td>\n      <td>United States of America</td>\n      <td>USA</td>\n    </tr>\n    <tr>\n      <th>4</th>\n      <td>5</td>\n      <td>Perry Arthur Satullo</td>\n      <td>Cleveland, Ohio (United States of America)</td>\n      <td>1966-10-25</td>\n      <td>1990-10-27</td>\n      <td>Perry Saturn</td>\n      <td>NaT</td>\n      <td>1.78</td>\n      <td>106.0</td>\n      <td>1</td>\n      <td>...</td>\n      <td>0.0</td>\n      <td>0</td>\n      <td>2.0</td>\n      <td>0</td>\n      <td>0.0</td>\n      <td>0</td>\n      <td>0.0</td>\n      <td>0</td>\n      <td>United States of America</td>\n      <td>USA</td>\n    </tr>\n    <tr>\n      <th>...</th>\n      <td>...</td>\n      <td>...</td>\n      <td>...</td>\n      <td>...</td>\n      <td>...</td>\n      <td>...</td>\n      <td>...</td>\n      <td>...</td>\n      <td>...</td>\n      <td>...</td>\n      <td>...</td>\n      <td>...</td>\n      <td>...</td>\n      <td>...</td>\n      <td>...</td>\n      <td>...</td>\n      <td>...</td>\n      <td>...</td>\n      <td>...</td>\n      <td>...</td>\n      <td>...</td>\n    </tr>\n    <tr>\n      <th>26245</th>\n      <td>30188</td>\n      <td>Catherine Costigan</td>\n      <td>Limerick (Ireland)</td>\n      <td>NaT</td>\n      <td>2010-12-18</td>\n      <td>Catherine Costigan</td>\n      <td>NaT</td>\n      <td>1.63</td>\n      <td>48.0</td>\n      <td>1</td>\n      <td>...</td>\n      <td>NaN</td>\n      <td>0</td>\n      <td>NaN</td>\n      <td>0</td>\n      <td>NaN</td>\n      <td>0</td>\n      <td>0.0</td>\n      <td>0</td>\n      <td>Ireland</td>\n      <td>Other</td>\n    </tr>\n    <tr>\n      <th>26246</th>\n      <td>30189</td>\n      <td>Amber Leibrock</td>\n      <td>Hayward, California (United States of America)</td>\n      <td>1988-02-08</td>\n      <td>2015-06-09</td>\n      <td>Amber Leibrock</td>\n      <td>NaT</td>\n      <td>1.80</td>\n      <td>66.0</td>\n      <td>1</td>\n      <td>...</td>\n      <td>NaN</td>\n      <td>0</td>\n      <td>NaN</td>\n      <td>0</td>\n      <td>NaN</td>\n      <td>0</td>\n      <td>0.0</td>\n      <td>0</td>\n      <td>United States of America</td>\n      <td>USA</td>\n    </tr>\n    <tr>\n      <th>26247</th>\n      <td>30190</td>\n      <td>Gonzalo Mendiola Ortega</td>\n      <td>San Antonio, Texas (United States of America)</td>\n      <td>1933-04-09</td>\n      <td>NaT</td>\n      <td>Pancho Lomas</td>\n      <td>2011-10-22</td>\n      <td>NaN</td>\n      <td>NaN</td>\n      <td>1</td>\n      <td>...</td>\n      <td>NaN</td>\n      <td>0</td>\n      <td>NaN</td>\n      <td>0</td>\n      <td>NaN</td>\n      <td>0</td>\n      <td>0.0</td>\n      <td>0</td>\n      <td>United States of America</td>\n      <td>USA</td>\n    </tr>\n    <tr>\n      <th>26248</th>\n      <td>30191</td>\n      <td>Otto Frederick Roehm</td>\n      <td>NaN</td>\n      <td>1882-08-02</td>\n      <td>NaT</td>\n      <td>Otto Roehm</td>\n      <td>1958-05-29</td>\n      <td>1.65</td>\n      <td>70.0</td>\n      <td>1</td>\n      <td>...</td>\n      <td>NaN</td>\n      <td>0</td>\n      <td>NaN</td>\n      <td>0</td>\n      <td>NaN</td>\n      <td>0</td>\n      <td>0.0</td>\n      <td>0</td>\n      <td>NaN</td>\n      <td>Other</td>\n    </tr>\n    <tr>\n      <th>26249</th>\n      <td>30192</td>\n      <td>Isidor Gadar Niflot</td>\n      <td>Warszawa, Mazowieckie (Poland)</td>\n      <td>1881-04-16</td>\n      <td>1908-04-15</td>\n      <td>John Niflot</td>\n      <td>1950-03-29</td>\n      <td>1.60</td>\n      <td>61.0</td>\n      <td>1</td>\n      <td>...</td>\n      <td>NaN</td>\n      <td>0</td>\n      <td>NaN</td>\n      <td>0</td>\n      <td>NaN</td>\n      <td>0</td>\n      <td>0.0</td>\n      <td>0</td>\n      <td>Poland</td>\n      <td>Other</td>\n    </tr>\n  </tbody>\n</table>\n<p>26250 rows × 43 columns</p>\n</div>"
     },
     "execution_count": 5,
     "metadata": {},
     "output_type": "execute_result"
    }
   ],
   "source": [
    "wrestler_df"
   ],
   "metadata": {
    "collapsed": false,
    "pycharm": {
     "name": "#%%\n"
    }
   }
  },
  {
   "cell_type": "markdown",
   "source": [
    "## Cleaning the 5 star matches\n",
    "\n",
    "The cleaning is mainly adding the country of the promotion for each match"
   ],
   "metadata": {
    "collapsed": false,
    "pycharm": {
     "name": "#%% md\n"
    }
   }
  },
  {
   "cell_type": "code",
   "execution_count": 6,
   "outputs": [],
   "source": [
    "promotion_country = {'CWF': 'USA', 'NJPW': 'Japan', 'UWF': 'Japan', 'AJPW': 'Japan', 'AJW': 'Japan', 'JCP': 'USA', 'WCW': 'USA', 'JWP': 'Japan', 'WWF': 'USA', 'AAA': 'Mexico', 'ECW': 'USA', 'Michinoku Pro': 'Japan', 'RINGS': 'Japan', 'Noah': 'Japan', 'ROH': 'USA', 'TNA': 'USA', 'WWE': 'USA', 'PWG': 'USA', 'La Triple W': 'Other', 'AEW': 'USA', 'OTT': 'Other', 'RPW': 'UK', 'Stardom': 'Japan'}"
   ],
   "metadata": {
    "collapsed": false,
    "pycharm": {
     "name": "#%%\n"
    }
   }
  },
  {
   "cell_type": "code",
   "execution_count": 7,
   "outputs": [],
   "source": [
    "match_wrestler_info['Promotion Country'] = match_wrestler_info['Promotion'].map(promotion_country)\n",
    "\n",
    "# This is an ugly way of rearranging the columns, but it helps so much with visualization\n",
    "cols = match_wrestler_info.columns.tolist()\n",
    "cols = cols[:8] + [cols[-1]] + cols[8:-1]\n",
    "\n",
    "match_wrestler_info = match_wrestler_info[cols]"
   ],
   "metadata": {
    "collapsed": false,
    "pycharm": {
     "name": "#%%\n"
    }
   }
  },
  {
   "cell_type": "code",
   "execution_count": 8,
   "outputs": [
    {
     "data": {
      "text/plain": "                  Date                                              Match  \\\n0        April 7, 1982                           Ric Flair vs. Butch Reed   \n1       April 21, 1983                        Dynamite Kid vs. Tiger Mask   \n2     December 5, 1984                 Kazuo Yamazaki vs. Nobuhiko Takada   \n3     December 8, 1984  Bruiser Brody and Stan Hansen vs. Dory Funk Jr...   \n4        March 9, 1985                   Kuniaki Kobayashi vs. Tiger Mask   \n..                 ...                                                ...   \n191  November 13, 2021                          Adam Page vs. Kenny Omega   \n192  December 15, 2021                      Adam Page vs. Bryan Danielson   \n193    January 5, 2022                   Kazuchika Okada vs. Will Ospreay   \n194   January 26, 2022                      Cody Rhodes vs. Sammy Guevara   \n195   January 29, 2022                       Will Ospreay vs. Michael Oku   \n\n    Promotion                              Event  Rating  # of teams  \\\n0         CWF                   Miami Beach show    5.00           2   \n1        NJPW        Big Fight Series IINight 19    5.00           2   \n2         UWF             Year-End SpecialDay 10    5.00           2   \n3        AJPW      Real World Tag LeagueNight 15    5.00           2   \n4        AJPW  85 Gekitoh! Exciting WarsNight 14    5.00           2   \n..        ...                                ...     ...         ...   \n191       AEW                          Full Gear    5.50           2   \n192       AEW                   Winter is Coming    5.00           2   \n193      NJPW          Wrestle Kingdom 16Night 2    5.75           2   \n194       AEW                        Beach Break    5.00           2   \n195       RPW                        High Stakes    5.00           2   \n\n     Team Size    PPV Promotion Country         Wrestler 1  ...  \\\n0            1  False               USA          Ric Flair  ...   \n1            1   True             Japan       Dynamite Kid  ...   \n2            1   True             Japan     Kazuo Yamazaki  ...   \n3            2   True             Japan      Bruiser Brody  ...   \n4            1   True             Japan  Kuniaki Kobayashi  ...   \n..         ...    ...               ...                ...  ...   \n191          1   True               USA          Adam Page  ...   \n192          1  False               USA          Adam Page  ...   \n193          1   True             Japan    Kazuchika Okada  ...   \n194          1  False               USA        Cody Rhodes  ...   \n195          1  False                UK       Will Ospreay  ...   \n\n        Wrestler 3  Wrestler 4 Wrestler 5 Wrestler 6 Wrestler 7 Wrestler 8  \\\n0              NaN         NaN        NaN        NaN        NaN        NaN   \n1              NaN         NaN        NaN        NaN        NaN        NaN   \n2              NaN         NaN        NaN        NaN        NaN        NaN   \n3    Dory Funk Jr.  Terry Funk        NaN        NaN        NaN        NaN   \n4              NaN         NaN        NaN        NaN        NaN        NaN   \n..             ...         ...        ...        ...        ...        ...   \n191            NaN         NaN        NaN        NaN        NaN        NaN   \n192            NaN         NaN        NaN        NaN        NaN        NaN   \n193            NaN         NaN        NaN        NaN        NaN        NaN   \n194            NaN         NaN        NaN        NaN        NaN        NaN   \n195            NaN         NaN        NaN        NaN        NaN        NaN   \n\n    Wrestler 9 Wrestler 10 Wrestler 11 Wrestler 12  \n0          NaN         NaN         NaN         NaN  \n1          NaN         NaN         NaN         NaN  \n2          NaN         NaN         NaN         NaN  \n3          NaN         NaN         NaN         NaN  \n4          NaN         NaN         NaN         NaN  \n..         ...         ...         ...         ...  \n191        NaN         NaN         NaN         NaN  \n192        NaN         NaN         NaN         NaN  \n193        NaN         NaN         NaN         NaN  \n194        NaN         NaN         NaN         NaN  \n195        NaN         NaN         NaN         NaN  \n\n[196 rows x 21 columns]",
      "text/html": "<div>\n<style scoped>\n    .dataframe tbody tr th:only-of-type {\n        vertical-align: middle;\n    }\n\n    .dataframe tbody tr th {\n        vertical-align: top;\n    }\n\n    .dataframe thead th {\n        text-align: right;\n    }\n</style>\n<table border=\"1\" class=\"dataframe\">\n  <thead>\n    <tr style=\"text-align: right;\">\n      <th></th>\n      <th>Date</th>\n      <th>Match</th>\n      <th>Promotion</th>\n      <th>Event</th>\n      <th>Rating</th>\n      <th># of teams</th>\n      <th>Team Size</th>\n      <th>PPV</th>\n      <th>Promotion Country</th>\n      <th>Wrestler 1</th>\n      <th>...</th>\n      <th>Wrestler 3</th>\n      <th>Wrestler 4</th>\n      <th>Wrestler 5</th>\n      <th>Wrestler 6</th>\n      <th>Wrestler 7</th>\n      <th>Wrestler 8</th>\n      <th>Wrestler 9</th>\n      <th>Wrestler 10</th>\n      <th>Wrestler 11</th>\n      <th>Wrestler 12</th>\n    </tr>\n  </thead>\n  <tbody>\n    <tr>\n      <th>0</th>\n      <td>April 7, 1982</td>\n      <td>Ric Flair vs. Butch Reed</td>\n      <td>CWF</td>\n      <td>Miami Beach show</td>\n      <td>5.00</td>\n      <td>2</td>\n      <td>1</td>\n      <td>False</td>\n      <td>USA</td>\n      <td>Ric Flair</td>\n      <td>...</td>\n      <td>NaN</td>\n      <td>NaN</td>\n      <td>NaN</td>\n      <td>NaN</td>\n      <td>NaN</td>\n      <td>NaN</td>\n      <td>NaN</td>\n      <td>NaN</td>\n      <td>NaN</td>\n      <td>NaN</td>\n    </tr>\n    <tr>\n      <th>1</th>\n      <td>April 21, 1983</td>\n      <td>Dynamite Kid vs. Tiger Mask</td>\n      <td>NJPW</td>\n      <td>Big Fight Series IINight 19</td>\n      <td>5.00</td>\n      <td>2</td>\n      <td>1</td>\n      <td>True</td>\n      <td>Japan</td>\n      <td>Dynamite Kid</td>\n      <td>...</td>\n      <td>NaN</td>\n      <td>NaN</td>\n      <td>NaN</td>\n      <td>NaN</td>\n      <td>NaN</td>\n      <td>NaN</td>\n      <td>NaN</td>\n      <td>NaN</td>\n      <td>NaN</td>\n      <td>NaN</td>\n    </tr>\n    <tr>\n      <th>2</th>\n      <td>December 5, 1984</td>\n      <td>Kazuo Yamazaki vs. Nobuhiko Takada</td>\n      <td>UWF</td>\n      <td>Year-End SpecialDay 10</td>\n      <td>5.00</td>\n      <td>2</td>\n      <td>1</td>\n      <td>True</td>\n      <td>Japan</td>\n      <td>Kazuo Yamazaki</td>\n      <td>...</td>\n      <td>NaN</td>\n      <td>NaN</td>\n      <td>NaN</td>\n      <td>NaN</td>\n      <td>NaN</td>\n      <td>NaN</td>\n      <td>NaN</td>\n      <td>NaN</td>\n      <td>NaN</td>\n      <td>NaN</td>\n    </tr>\n    <tr>\n      <th>3</th>\n      <td>December 8, 1984</td>\n      <td>Bruiser Brody and Stan Hansen vs. Dory Funk Jr...</td>\n      <td>AJPW</td>\n      <td>Real World Tag LeagueNight 15</td>\n      <td>5.00</td>\n      <td>2</td>\n      <td>2</td>\n      <td>True</td>\n      <td>Japan</td>\n      <td>Bruiser Brody</td>\n      <td>...</td>\n      <td>Dory Funk Jr.</td>\n      <td>Terry Funk</td>\n      <td>NaN</td>\n      <td>NaN</td>\n      <td>NaN</td>\n      <td>NaN</td>\n      <td>NaN</td>\n      <td>NaN</td>\n      <td>NaN</td>\n      <td>NaN</td>\n    </tr>\n    <tr>\n      <th>4</th>\n      <td>March 9, 1985</td>\n      <td>Kuniaki Kobayashi vs. Tiger Mask</td>\n      <td>AJPW</td>\n      <td>85 Gekitoh! Exciting WarsNight 14</td>\n      <td>5.00</td>\n      <td>2</td>\n      <td>1</td>\n      <td>True</td>\n      <td>Japan</td>\n      <td>Kuniaki Kobayashi</td>\n      <td>...</td>\n      <td>NaN</td>\n      <td>NaN</td>\n      <td>NaN</td>\n      <td>NaN</td>\n      <td>NaN</td>\n      <td>NaN</td>\n      <td>NaN</td>\n      <td>NaN</td>\n      <td>NaN</td>\n      <td>NaN</td>\n    </tr>\n    <tr>\n      <th>...</th>\n      <td>...</td>\n      <td>...</td>\n      <td>...</td>\n      <td>...</td>\n      <td>...</td>\n      <td>...</td>\n      <td>...</td>\n      <td>...</td>\n      <td>...</td>\n      <td>...</td>\n      <td>...</td>\n      <td>...</td>\n      <td>...</td>\n      <td>...</td>\n      <td>...</td>\n      <td>...</td>\n      <td>...</td>\n      <td>...</td>\n      <td>...</td>\n      <td>...</td>\n      <td>...</td>\n    </tr>\n    <tr>\n      <th>191</th>\n      <td>November 13, 2021</td>\n      <td>Adam Page vs. Kenny Omega</td>\n      <td>AEW</td>\n      <td>Full Gear</td>\n      <td>5.50</td>\n      <td>2</td>\n      <td>1</td>\n      <td>True</td>\n      <td>USA</td>\n      <td>Adam Page</td>\n      <td>...</td>\n      <td>NaN</td>\n      <td>NaN</td>\n      <td>NaN</td>\n      <td>NaN</td>\n      <td>NaN</td>\n      <td>NaN</td>\n      <td>NaN</td>\n      <td>NaN</td>\n      <td>NaN</td>\n      <td>NaN</td>\n    </tr>\n    <tr>\n      <th>192</th>\n      <td>December 15, 2021</td>\n      <td>Adam Page vs. Bryan Danielson</td>\n      <td>AEW</td>\n      <td>Winter is Coming</td>\n      <td>5.00</td>\n      <td>2</td>\n      <td>1</td>\n      <td>False</td>\n      <td>USA</td>\n      <td>Adam Page</td>\n      <td>...</td>\n      <td>NaN</td>\n      <td>NaN</td>\n      <td>NaN</td>\n      <td>NaN</td>\n      <td>NaN</td>\n      <td>NaN</td>\n      <td>NaN</td>\n      <td>NaN</td>\n      <td>NaN</td>\n      <td>NaN</td>\n    </tr>\n    <tr>\n      <th>193</th>\n      <td>January 5, 2022</td>\n      <td>Kazuchika Okada vs. Will Ospreay</td>\n      <td>NJPW</td>\n      <td>Wrestle Kingdom 16Night 2</td>\n      <td>5.75</td>\n      <td>2</td>\n      <td>1</td>\n      <td>True</td>\n      <td>Japan</td>\n      <td>Kazuchika Okada</td>\n      <td>...</td>\n      <td>NaN</td>\n      <td>NaN</td>\n      <td>NaN</td>\n      <td>NaN</td>\n      <td>NaN</td>\n      <td>NaN</td>\n      <td>NaN</td>\n      <td>NaN</td>\n      <td>NaN</td>\n      <td>NaN</td>\n    </tr>\n    <tr>\n      <th>194</th>\n      <td>January 26, 2022</td>\n      <td>Cody Rhodes vs. Sammy Guevara</td>\n      <td>AEW</td>\n      <td>Beach Break</td>\n      <td>5.00</td>\n      <td>2</td>\n      <td>1</td>\n      <td>False</td>\n      <td>USA</td>\n      <td>Cody Rhodes</td>\n      <td>...</td>\n      <td>NaN</td>\n      <td>NaN</td>\n      <td>NaN</td>\n      <td>NaN</td>\n      <td>NaN</td>\n      <td>NaN</td>\n      <td>NaN</td>\n      <td>NaN</td>\n      <td>NaN</td>\n      <td>NaN</td>\n    </tr>\n    <tr>\n      <th>195</th>\n      <td>January 29, 2022</td>\n      <td>Will Ospreay vs. Michael Oku</td>\n      <td>RPW</td>\n      <td>High Stakes</td>\n      <td>5.00</td>\n      <td>2</td>\n      <td>1</td>\n      <td>False</td>\n      <td>UK</td>\n      <td>Will Ospreay</td>\n      <td>...</td>\n      <td>NaN</td>\n      <td>NaN</td>\n      <td>NaN</td>\n      <td>NaN</td>\n      <td>NaN</td>\n      <td>NaN</td>\n      <td>NaN</td>\n      <td>NaN</td>\n      <td>NaN</td>\n      <td>NaN</td>\n    </tr>\n  </tbody>\n</table>\n<p>196 rows × 21 columns</p>\n</div>"
     },
     "execution_count": 8,
     "metadata": {},
     "output_type": "execute_result"
    }
   ],
   "source": [
    "match_wrestler_info"
   ],
   "metadata": {
    "collapsed": false,
    "pycharm": {
     "name": "#%%\n"
    }
   }
  },
  {
   "cell_type": "markdown",
   "source": [
    "# Merging the datasets\n",
    "\n",
    "Here we merge the datasets.\n",
    "\n",
    "Because we're relying on the names of the wrestlers and the names contained in the matches to be the same, this does lead to problems. So this section is a bit longer than it would be if there was just an index to work with"
   ],
   "metadata": {
    "collapsed": false,
    "pycharm": {
     "name": "#%% md\n"
    }
   }
  },
  {
   "cell_type": "code",
   "execution_count": 9,
   "outputs": [],
   "source": [
    "problems = []\n",
    "\n",
    "# Used for creating the resulting merged dataframe\n",
    "cur_row = 0\n",
    "\n",
    "# So it's the info stored in the wrestler_df, plus 8 (which is the match info that actually matters)5151\n",
    "merged_df = pd.DataFrame(index=range(12*len(match_wrestler_info.index)), columns=range(len(wrestler_df.columns)+9))\n",
    "\n",
    "for i in range(len(match_wrestler_info.index)):\n",
    "    # First for loop is to go through all of the rows\n",
    "    cur_match_info = match_wrestler_info.iloc[i][:9]\n",
    "    # Weird transpose it to make some concats easier later on\n",
    "    cur_match_info = pd.DataFrame(cur_match_info).transpose()\n",
    "\n",
    "    cur_wrestler_set = match_wrestler_info.iloc[i][9:]\n",
    "    #print(cur_match_info)\n",
    "\n",
    "    # Might be more efficient to precreate it as a df or something, but whatev for now\n",
    "    new_rows_to_add = []\n",
    "\n",
    "    for j in range(12):\n",
    "        # There's max 12 wrestlers in a match, so hard coding is good let's gooooo\n",
    "        cur_wrestler = cur_wrestler_set[j]\n",
    "\n",
    "        if pd.isna(cur_wrestler):\n",
    "            # Break should be valid, the wrestlers should be somewhat ordered\n",
    "            break\n",
    "\n",
    "        to_append = wrestler_df[wrestler_df['wrestler_name'] == cur_wrestler]\n",
    "\n",
    "        if len(to_append.index) != 1:\n",
    "            # It means that it's a different number than 1, so there's a problem somewhere\n",
    "            problems.append((cur_wrestler, i))\n",
    "            continue\n",
    "\n",
    "        merged_df.iloc[cur_row] = pd.concat([cur_match_info.reset_index(drop=True), to_append.reset_index(drop=True)], axis=1)\n",
    "\n",
    "        cur_row += 1\n",
    "\n",
    "merged_df.dropna(how='all', inplace=True)"
   ],
   "metadata": {
    "collapsed": false,
    "pycharm": {
     "name": "#%%\n"
    }
   }
  },
  {
   "cell_type": "code",
   "execution_count": 10,
   "outputs": [],
   "source": [
    "problem_wrestlers = set()\n",
    "for i in range(len(problems)):\n",
    "    problem_wrestlers.add(problems[i][0])"
   ],
   "metadata": {
    "collapsed": false,
    "pycharm": {
     "name": "#%%\n"
    }
   }
  },
  {
   "cell_type": "code",
   "execution_count": 11,
   "outputs": [
    {
     "data": {
      "text/plain": "{'A.J. Styles',\n 'Aja Kong',\n 'Akira Hokuto',\n 'Andrade \"Cien\" Almas',\n 'Bandido',\n 'Big Van Vader',\n 'Black Taurus',\n 'Bull Nakano',\n 'Chigusa Nagayo',\n 'Cima',\n 'Cutie Suzuki',\n 'Dan Kroffat',\n 'Devil Masami',\n 'Donovan Dijak',\n 'Dragon Kid',\n 'Dynamite Kansai',\n 'Eddy Guerrero',\n 'El Hijo Del Santo',\n 'Etsuko Mita',\n 'Flamita',\n 'Fénix',\n 'Genichiro Tenryu',\n 'Hawk',\n 'Hikari Fukuoka',\n 'Jaguar Yokota',\n 'Kazue Nagahori',\n 'Keiji Mutoh',\n 'Kyoko Inoue',\n 'Lioness Asuka',\n 'Luchasaurus',\n 'Manami Toyota',\n 'Mayumi Ozaki',\n \"Men's Teioh\",\n 'Michael Oku',\n 'Mika Komatsu',\n 'Mika Suzuki',\n 'Mika Takahashi',\n 'Mima Shimoda',\n 'Mitsuko Nishiwaki',\n 'Naoki Sano',\n 'Octagón',\n 'Pac',\n 'Pentagon Jr.',\n 'Pentagón Jr.',\n 'Psicosis',\n 'Razor Ramon',\n 'Rey Misterio Jr.',\n 'Sachiko Nakamura',\n 'Sakie Hasegawa',\n 'Samson Fuyuki',\n 'Sanada',\n 'Satoru Sayama',\n 'Shinobu Kandori',\n 'Shiryu',\n 'Shoichi Funaki',\n 'Sid Vicious',\n 'Stone Cold Steve Austin',\n 'Syuri',\n 'Taka Michinoku',\n 'Takako Inoue',\n 'The War Machine',\n 'Tiger Mask IV',\n 'Toshiyo Yamada',\n 'Tsuyoshi Kohsaka',\n 'Utami Hayashishita',\n 'Walter',\n 'Wild Pegasus',\n 'Yachiya Hirata',\n 'Yumi Ogura',\n 'Yumiko Hotta'}"
     },
     "execution_count": 11,
     "metadata": {},
     "output_type": "execute_result"
    }
   ],
   "source": [
    "problem_wrestlers"
   ],
   "metadata": {
    "collapsed": false,
    "pycharm": {
     "name": "#%%\n"
    }
   }
  },
  {
   "cell_type": "code",
   "execution_count": 12,
   "outputs": [],
   "source": [
    "# I think it's easier to fix the matches than it is to fix the wrestler list, so this is just that.\n",
    "\n",
    "# Wrestlers I'm unsure of the ID (because the website was down)\n",
    "# Dragon Kid: 970\n",
    "# Dan Kroffat\n",
    "problem_wrestler_fix = {'A.J. Styles': 350, 'Aja Kong': 577, 'Akira Hokuto': 578, 'Andrade \"Cien\" Almas' : 2581, 'Animal': 98,'Bandido': 27228, 'Big Van Vader': 51, 'Black Taurus': 5533, 'Bull Nakano': 595, 'Chigusa Nagayo': 2020, 'Cima': 968, 'Cutie Suzuki': 2070, 'Dan Kroffat': 839, 'Devil Masami': 2016, 'Donovan Dijak': 28415, 'Dragon Kid': 970, 'Dynamite Kansai': 2023, 'Eddy Guerrero': 64, 'El Hijo Del Santo': 835, 'Etsuko Mita': 2025, 'Flamita': 18326, 'Fénix': 17005, 'Genichiro Tenryu': 938, 'Hawk': 99, 'Hikari Fukuoka': 8758, 'Jaguar Yokota': 3161, 'Johnny Ace': 638, 'Kazue Nagahori': 18980, 'Keiji Mutoh': 276, 'Kyoko Inoue': 674, 'Lioness Asuka': 623, 'Luchasaurus': 23527, 'Manami Toyota': 1380, 'Mayumi Ozaki': 2022, \"Men's Teioh\": 1449, 'Michael Oku': 34867, 'Mika Komatsu': 18981, 'Mika Suzuki': 3181, 'Mika Takahashi': 27017, 'Mima Shimoda': 2026, 'Mitsuko Nishiwaki': 27168, 'Naoki Sano': 995, 'Octagón': 1576, 'Pac': 2606, 'Pentagon Jr.': 13328, 'Pentagón Jr.': 13328, 'Psicosis': 779, 'Razor Ramon': 44, 'Rey Misterio Jr.': 66, 'Sakie Hasegawa': 2489, 'Samson Fuyuki': 1008, 'Sanada': 3194, 'Satoru Asako': 1058, 'Shinobu Kandori': 2035, 'Shiryu': 150, 'Shoichi Funaki': 111, 'Sid Vicious': 82, 'Stone Cold Steve Austin': 9, 'Syuri': 10764, 'Taka Michinoku': 127, 'Takako Inoue': 675, 'The War Machine': 104, 'Tiger Mask IV': 351, 'Toshiyo Yamada': 2044, 'Tsuyoshi Kohsaka': 11796, 'Utami Hayashishita': 35239, 'Walter': 2372, 'Wild Pegasus': 24, 'Yumi Ogura': 3151, 'Yumiko Hotta': 2033, 'Satoru Sayama': 766}\n",
    "\n",
    "# I have to fix tiger mask separately because there's two of them :(\n",
    "# First is the first with NJPW, second is the first with AJPW\n",
    "tiger_masks = [766, 745]\n",
    "\n",
    "# These are the wrestlers that just aren't contained in the database, for whatever reason\n",
    "# They're both women, and both worked with AJW. Their matches were in house shows\n",
    "to_remove = ['Sachiko Nakamura', 'Yachiya Hirata']"
   ],
   "metadata": {
    "collapsed": false,
    "pycharm": {
     "name": "#%%\n"
    }
   }
  },
  {
   "cell_type": "markdown",
   "source": [
    "I'll document the parsing issues for posterity's sake:\n",
    "- A bunch of the wrestlers weren't found directly for some of the following reasons:\n",
    "    - Different spelling of name (for example, different subtitles, or adjectives)\n",
    "    - Accents, and other language specific things\n",
    "    - Multiple wrestlers with same name\n",
    "- Tiger mask appears in multiple matches, but in each match he represents a different person\n",
    "    - This was fixed by modifying the 5 star matches to have the name of the wrestler who fought\n",
    "- Two wrestlers didn't exist in the database. Searching for them elsewhere also gave no significant results\n",
    "    - Both were female AJW wrestlers, whose match was in a 5 star house show\n",
    "    - They are: Sachiko Nakamura and Yachiya Hirata\n",
    "- Wrestlers that are famous but have multiple people with same name:\n",
    "    - Johnny ace (John Laurinaitis)\n",
    "- Some wrestlers don't have a Real Name listed even if the name is public information:\n",
    "    -  Jordan Devlin\n",
    "\n",
    "To fix this up I just ran the code again. Is it efficient? No. Is it easy to program? Hell yeah"
   ],
   "metadata": {
    "collapsed": false,
    "pycharm": {
     "name": "#%% md\n"
    }
   }
  },
  {
   "cell_type": "code",
   "execution_count": 13,
   "outputs": [],
   "source": [
    "ultra_problems = []\n",
    "\n",
    "# Used for creating the resulting merged dataframe\n",
    "cur_row = 0\n",
    "merged_df = pd.DataFrame(index=range(12*len(match_wrestler_info.index)), columns=range(len(wrestler_df.columns)+9))\n",
    "merged_df.columns = match_wrestler_info.columns[:9].union(wrestler_df.columns, sort=False)\n",
    "\n",
    "for i in range(len(match_wrestler_info.index)):\n",
    "    # First for loop is to go through all of the rows\n",
    "    cur_match_info = match_wrestler_info.iloc[i][:9]\n",
    "    # Weird transpose it to make some concats easier later on\n",
    "    cur_match_info = pd.DataFrame(cur_match_info).transpose()\n",
    "\n",
    "    cur_wrestler_set = match_wrestler_info.iloc[i][9:]\n",
    "    #print(cur_match_info)\n",
    "\n",
    "    # Might be more efficient to precreate it as a df or something, but whatev for now\n",
    "    new_rows_to_add = []\n",
    "\n",
    "    for j in range(12):\n",
    "        # There's max 12 wrestlers, so hard coding is good let's gooooo\n",
    "        cur_wrestler = cur_wrestler_set[j]\n",
    "\n",
    "        if pd.isna(cur_wrestler):\n",
    "            # Break should be valid, the wrestlers should be somewhat ordered\n",
    "            break\n",
    "\n",
    "        if cur_wrestler in to_remove:\n",
    "            # This is just a way of dealing with the few wrestlers that are not listed\n",
    "            break\n",
    "\n",
    "        if cur_wrestler in problem_wrestler_fix:\n",
    "            # So this is just a way of manually searching through the problem wrestler list\n",
    "\n",
    "            to_append = wrestler_df[wrestler_df['id'] == problem_wrestler_fix[cur_wrestler]]\n",
    "        else:\n",
    "            to_append = wrestler_df[wrestler_df['wrestler_name'] == cur_wrestler]\n",
    "\n",
    "        if len(to_append.index) != 1:\n",
    "            # It means that the wrestler wasn't parsed at all, which is not cool tbh\n",
    "            ultra_problems.append((cur_wrestler, i))\n",
    "            continue\n",
    "\n",
    "        merged_df.iloc[cur_row] = pd.concat([cur_match_info.reset_index(drop=True), to_append.reset_index(drop=True)], axis=1)\n",
    "\n",
    "        cur_row += 1\n",
    "\n",
    "merged_df.dropna(how='all', inplace=True)"
   ],
   "metadata": {
    "collapsed": false,
    "pycharm": {
     "name": "#%%\n"
    }
   }
  },
  {
   "cell_type": "code",
   "execution_count": 14,
   "outputs": [
    {
     "data": {
      "text/plain": "[]"
     },
     "execution_count": 14,
     "metadata": {},
     "output_type": "execute_result"
    }
   ],
   "source": [
    "ultra_problems"
   ],
   "metadata": {
    "collapsed": false,
    "pycharm": {
     "name": "#%%\n"
    }
   }
  },
  {
   "cell_type": "markdown",
   "source": [
    "Means there are no more issues, woo!"
   ],
   "metadata": {
    "collapsed": false,
    "pycharm": {
     "name": "#%% md\n"
    }
   }
  },
  {
   "cell_type": "code",
   "execution_count": 15,
   "outputs": [
    {
     "data": {
      "text/plain": "array(['United States of America', 'United Kingdom', 'Japan',\n       'United States of Americ', 'New Zealand', 'Canada', 'Mexico',\n       'Japa', 'Austria', 'Spain', 'Mexic', 'Ireland', 'Russia'],\n      dtype=object)"
     },
     "execution_count": 15,
     "metadata": {},
     "output_type": "execute_result"
    }
   ],
   "source": [
    "merged_df['Birth Country'].unique()"
   ],
   "metadata": {
    "collapsed": false,
    "pycharm": {
     "name": "#%%\n"
    }
   }
  }
 ],
 "metadata": {
  "kernelspec": {
   "display_name": "Python 3",
   "language": "python",
   "name": "python3"
  },
  "language_info": {
   "codemirror_mode": {
    "name": "ipython",
    "version": 2
   },
   "file_extension": ".py",
   "mimetype": "text/x-python",
   "name": "python",
   "nbconvert_exporter": "python",
   "pygments_lexer": "ipython2",
   "version": "2.7.6"
  }
 },
 "nbformat": 4,
 "nbformat_minor": 0
}