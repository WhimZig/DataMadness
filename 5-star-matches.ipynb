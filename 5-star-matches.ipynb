{
 "cells": [
  {
   "cell_type": "code",
   "execution_count": 274,
   "metadata": {
    "collapsed": true
   },
   "outputs": [
    {
     "name": "stdout",
     "output_type": "stream",
     "text": [
      "Request terminated with status code 200\n",
      "Response encoded with UTF-8\n"
     ]
    }
   ],
   "source": [
    "from bs4 import BeautifulSoup\n",
    "import requests\n",
    "import pandas as pd\n",
    "import re\n",
    "import numpy as np\n",
    "\n",
    "url = 'https://en.wikipedia.org/wiki/List_of_professional_wrestling_matches_rated_5_or_more_stars_by_Dave_Meltzer#Wrestlers_with_the_most_5-or-higher-star_matches'\n",
    "\n",
    "req = requests.get(url)\n",
    "print(f\"Request terminated with status code {req.status_code}\")\n",
    "print(f\"Response encoded with {req.encoding}\")\n",
    "# as before, we can add the HTML to our soup\n",
    "wiki_soup = BeautifulSoup(req.text, 'html.parser')"
   ]
  },
  {
   "cell_type": "code",
   "execution_count": 283,
   "outputs": [
    {
     "name": "stderr",
     "output_type": "stream",
     "text": [
      "<ipython-input-283-202cdd16a680>:16: SettingWithCopyWarning: \n",
      "A value is trying to be set on a copy of a slice from a DataFrame\n",
      "\n",
      "See the caveats in the documentation: https://pandas.pydata.org/pandas-docs/stable/user_guide/indexing.html#returning-a-view-versus-a-copy\n",
      "  matches_df['Match'][0] = matches_df['Match'][0][:-3]\n"
     ]
    }
   ],
   "source": [
    "tables = wiki_soup('table') # your code goes here\n",
    "# and here we need to look the table titles to find id of the table that interests us\n",
    "\n",
    "matches_df = pd.read_html(str(tables[0]))[0]\n",
    "for i in range(1,5):\n",
    "    matches_df = pd.concat([matches_df, pd.read_html(str(tables[i]))[0]])\n",
    "\n",
    "# These columns are fluff that are only helpful in wikipedi\n",
    "matches_df = matches_df.drop(['Unnamed: 0', 'Ref.'], axis=1)\n",
    "matches_df = matches_df.reset_index(drop=True)\n",
    "\n",
    "# Reformatting the rating to be a series of floats\n",
    "matches_df['Rating'] = matches_df['Rating'].astype(str).map(lambda x: x.rstrip('[]abcd')).astype(float)\n",
    "\n",
    "# Manually fixing one of the entries, because this is honestly the easiest way to proceed\n",
    "matches_df['Match'][0] = matches_df['Match'][0][:-3]"
   ],
   "metadata": {
    "collapsed": false,
    "pycharm": {
     "name": "#%%\n"
    }
   }
  },
  {
   "cell_type": "code",
   "execution_count": 284,
   "outputs": [],
   "source": [
    "# Splitting who fought who\n",
    "temp_split = matches_df['Match'].str.split('vs.', expand=True)\n",
    "\n",
    "# Splitting each person in teams\n",
    "temp = temp_split.apply(lambda x: x.str.replace('and', ',')).apply(lambda x: x.str.split(','))\n",
    "\n",
    "def clean_up_list(x):\n",
    "    for col in x:\n",
    "        if col is not None:\n",
    "            if ' ' in col:\n",
    "                # At some point empty characters are created, beats me why\n",
    "                col.remove(' ')\n",
    "            for i in range(len(col)):\n",
    "                elem = col[i]\n",
    "                # This is to deal with tag team names, just removing them and only leave the wrestler's name\n",
    "                elem = re.sub(r'^.*?\\(', '', elem)\n",
    "                elem = elem.replace(')', '')\n",
    "                elem = elem.strip()\n",
    "                col[i] = elem\n",
    "    return x\n",
    "\n",
    "temp.apply(lambda row: clean_up_list(row))\n",
    "\n",
    "new_column_names = []\n",
    "for elem in temp.columns:\n",
    "    new_column_names.append('Participant ' + str(elem+1))\n",
    "\n",
    "temp.columns = new_column_names\n",
    "\n",
    "number_teams = pd.Series(temp.count(axis=1), name='# of teams')\n",
    "team_size = pd.Series(temp['Participant 1'].map(lambda a: len(a)), name='Team Size')\n",
    "\n",
    "matches_df = pd.concat([matches_df, temp, number_teams, team_size], axis=1)"
   ],
   "metadata": {
    "collapsed": false,
    "pycharm": {
     "name": "#%%\n"
    }
   }
  },
  {
   "cell_type": "code",
   "execution_count": 285,
   "outputs": [
    {
     "data": {
      "text/plain": "                  Date                                              Match  \\\n0        April 7, 1982                           Ric Flair vs. Butch Reed   \n1       April 21, 1983                        Dynamite Kid vs. Tiger Mask   \n2     December 5, 1984                 Kazuo Yamazaki vs. Nobuhiko Takada   \n3     December 8, 1984  Bruiser Brody and Stan Hansen vs. Dory Funk Jr...   \n4        March 9, 1985                   Kuniaki Kobayashi vs. Tiger Mask   \n..                 ...                                                ...   \n191  November 13, 2021                          Adam Page vs. Kenny Omega   \n192  December 15, 2021                      Adam Page vs. Bryan Danielson   \n193    January 5, 2022                   Kazuchika Okada vs. Will Ospreay   \n194   January 26, 2022                      Cody Rhodes vs. Sammy Guevara   \n195   January 29, 2022                       Will Ospreay vs. Michael Oku   \n\n    Promotion                              Event  Rating  \\\n0         CWF                   Miami Beach show    5.00   \n1        NJPW        Big Fight Series IINight 19    5.00   \n2         UWF             Year-End SpecialDay 10    5.00   \n3        AJPW      Real World Tag LeagueNight 15    5.00   \n4        AJPW  85 Gekitoh! Exciting WarsNight 14    5.00   \n..        ...                                ...     ...   \n191       AEW                          Full Gear    5.50   \n192       AEW                   Winter is Coming    5.00   \n193      NJPW          Wrestle Kingdom 16Night 2    5.75   \n194       AEW                        Beach Break    5.00   \n195       RPW                        High Stakes    5.00   \n\n                    Participant 1                Participant 2 Participant 3  \\\n0                     [Ric Flair]                 [Butch Reed]          None   \n1                  [Dynamite Kid]                 [Tiger Mask]          None   \n2                [Kazuo Yamazaki]            [Nobuhiko Takada]          None   \n3    [Bruiser Brody, Stan Hansen]  [Dory Funk Jr., Terry Funk]          None   \n4             [Kuniaki Kobayashi]                 [Tiger Mask]          None   \n..                            ...                          ...           ...   \n191                   [Adam Page]                [Kenny Omega]          None   \n192                   [Adam Page]            [Bryan Danielson]          None   \n193             [Kazuchika Okada]               [Will Ospreay]          None   \n194                 [Cody Rhodes]              [Sammy Guevara]          None   \n195                [Will Ospreay]                [Michael Oku]          None   \n\n    Participant 4 Participant 5 Participant 6  # of teams  Team Size  \n0            None          None          None           2          1  \n1            None          None          None           2          1  \n2            None          None          None           2          1  \n3            None          None          None           2          2  \n4            None          None          None           2          1  \n..            ...           ...           ...         ...        ...  \n191          None          None          None           2          1  \n192          None          None          None           2          1  \n193          None          None          None           2          1  \n194          None          None          None           2          1  \n195          None          None          None           2          1  \n\n[196 rows x 13 columns]",
      "text/html": "<div>\n<style scoped>\n    .dataframe tbody tr th:only-of-type {\n        vertical-align: middle;\n    }\n\n    .dataframe tbody tr th {\n        vertical-align: top;\n    }\n\n    .dataframe thead th {\n        text-align: right;\n    }\n</style>\n<table border=\"1\" class=\"dataframe\">\n  <thead>\n    <tr style=\"text-align: right;\">\n      <th></th>\n      <th>Date</th>\n      <th>Match</th>\n      <th>Promotion</th>\n      <th>Event</th>\n      <th>Rating</th>\n      <th>Participant 1</th>\n      <th>Participant 2</th>\n      <th>Participant 3</th>\n      <th>Participant 4</th>\n      <th>Participant 5</th>\n      <th>Participant 6</th>\n      <th># of teams</th>\n      <th>Team Size</th>\n    </tr>\n  </thead>\n  <tbody>\n    <tr>\n      <th>0</th>\n      <td>April 7, 1982</td>\n      <td>Ric Flair vs. Butch Reed</td>\n      <td>CWF</td>\n      <td>Miami Beach show</td>\n      <td>5.00</td>\n      <td>[Ric Flair]</td>\n      <td>[Butch Reed]</td>\n      <td>None</td>\n      <td>None</td>\n      <td>None</td>\n      <td>None</td>\n      <td>2</td>\n      <td>1</td>\n    </tr>\n    <tr>\n      <th>1</th>\n      <td>April 21, 1983</td>\n      <td>Dynamite Kid vs. Tiger Mask</td>\n      <td>NJPW</td>\n      <td>Big Fight Series IINight 19</td>\n      <td>5.00</td>\n      <td>[Dynamite Kid]</td>\n      <td>[Tiger Mask]</td>\n      <td>None</td>\n      <td>None</td>\n      <td>None</td>\n      <td>None</td>\n      <td>2</td>\n      <td>1</td>\n    </tr>\n    <tr>\n      <th>2</th>\n      <td>December 5, 1984</td>\n      <td>Kazuo Yamazaki vs. Nobuhiko Takada</td>\n      <td>UWF</td>\n      <td>Year-End SpecialDay 10</td>\n      <td>5.00</td>\n      <td>[Kazuo Yamazaki]</td>\n      <td>[Nobuhiko Takada]</td>\n      <td>None</td>\n      <td>None</td>\n      <td>None</td>\n      <td>None</td>\n      <td>2</td>\n      <td>1</td>\n    </tr>\n    <tr>\n      <th>3</th>\n      <td>December 8, 1984</td>\n      <td>Bruiser Brody and Stan Hansen vs. Dory Funk Jr...</td>\n      <td>AJPW</td>\n      <td>Real World Tag LeagueNight 15</td>\n      <td>5.00</td>\n      <td>[Bruiser Brody, Stan Hansen]</td>\n      <td>[Dory Funk Jr., Terry Funk]</td>\n      <td>None</td>\n      <td>None</td>\n      <td>None</td>\n      <td>None</td>\n      <td>2</td>\n      <td>2</td>\n    </tr>\n    <tr>\n      <th>4</th>\n      <td>March 9, 1985</td>\n      <td>Kuniaki Kobayashi vs. Tiger Mask</td>\n      <td>AJPW</td>\n      <td>85 Gekitoh! Exciting WarsNight 14</td>\n      <td>5.00</td>\n      <td>[Kuniaki Kobayashi]</td>\n      <td>[Tiger Mask]</td>\n      <td>None</td>\n      <td>None</td>\n      <td>None</td>\n      <td>None</td>\n      <td>2</td>\n      <td>1</td>\n    </tr>\n    <tr>\n      <th>...</th>\n      <td>...</td>\n      <td>...</td>\n      <td>...</td>\n      <td>...</td>\n      <td>...</td>\n      <td>...</td>\n      <td>...</td>\n      <td>...</td>\n      <td>...</td>\n      <td>...</td>\n      <td>...</td>\n      <td>...</td>\n      <td>...</td>\n    </tr>\n    <tr>\n      <th>191</th>\n      <td>November 13, 2021</td>\n      <td>Adam Page vs. Kenny Omega</td>\n      <td>AEW</td>\n      <td>Full Gear</td>\n      <td>5.50</td>\n      <td>[Adam Page]</td>\n      <td>[Kenny Omega]</td>\n      <td>None</td>\n      <td>None</td>\n      <td>None</td>\n      <td>None</td>\n      <td>2</td>\n      <td>1</td>\n    </tr>\n    <tr>\n      <th>192</th>\n      <td>December 15, 2021</td>\n      <td>Adam Page vs. Bryan Danielson</td>\n      <td>AEW</td>\n      <td>Winter is Coming</td>\n      <td>5.00</td>\n      <td>[Adam Page]</td>\n      <td>[Bryan Danielson]</td>\n      <td>None</td>\n      <td>None</td>\n      <td>None</td>\n      <td>None</td>\n      <td>2</td>\n      <td>1</td>\n    </tr>\n    <tr>\n      <th>193</th>\n      <td>January 5, 2022</td>\n      <td>Kazuchika Okada vs. Will Ospreay</td>\n      <td>NJPW</td>\n      <td>Wrestle Kingdom 16Night 2</td>\n      <td>5.75</td>\n      <td>[Kazuchika Okada]</td>\n      <td>[Will Ospreay]</td>\n      <td>None</td>\n      <td>None</td>\n      <td>None</td>\n      <td>None</td>\n      <td>2</td>\n      <td>1</td>\n    </tr>\n    <tr>\n      <th>194</th>\n      <td>January 26, 2022</td>\n      <td>Cody Rhodes vs. Sammy Guevara</td>\n      <td>AEW</td>\n      <td>Beach Break</td>\n      <td>5.00</td>\n      <td>[Cody Rhodes]</td>\n      <td>[Sammy Guevara]</td>\n      <td>None</td>\n      <td>None</td>\n      <td>None</td>\n      <td>None</td>\n      <td>2</td>\n      <td>1</td>\n    </tr>\n    <tr>\n      <th>195</th>\n      <td>January 29, 2022</td>\n      <td>Will Ospreay vs. Michael Oku</td>\n      <td>RPW</td>\n      <td>High Stakes</td>\n      <td>5.00</td>\n      <td>[Will Ospreay]</td>\n      <td>[Michael Oku]</td>\n      <td>None</td>\n      <td>None</td>\n      <td>None</td>\n      <td>None</td>\n      <td>2</td>\n      <td>1</td>\n    </tr>\n  </tbody>\n</table>\n<p>196 rows × 13 columns</p>\n</div>"
     },
     "execution_count": 285,
     "metadata": {},
     "output_type": "execute_result"
    }
   ],
   "source": [
    "matches_df"
   ],
   "metadata": {
    "collapsed": false,
    "pycharm": {
     "name": "#%%\n"
    }
   }
  },
  {
   "cell_type": "code",
   "execution_count": 286,
   "outputs": [],
   "source": [
    "non_ppv_events = ['Real World Tag League Night 15', 'Real World Tag League Night 23', 'Real World Tag League Night 15', 'Real World Tag League Night 16', 'Miami Beach show', 'Big Fight Series II Night 19', '85 Gekitoh! Exciting Wars Night 14', 'Summer Night Festival in Budokan', 'New Years War Super Battle Night 25', 'Battle of the Belts 2', 'World Wide Wrestling', 'Kawasaki show', 'Spring Flare Up Night 21', 'Unknown', 'New Year Giant Series Night 17', 'Landover, MD show', 'Super Power Series Night 18', 'Super Power Series Night 19', 'October Giant Series Night 2', 'October Giant Series Night 16', 'Korakuen Hall show', 'Fan Appreciation Day', 'Explosion Tour Night 13', 'Super Power Series Night 6', 'Super Power Series Night 8', 'Summer Action Series Night 2', 'Mid Summer Typhoon', 'Dream Slam I', 'Dream Slam II', 'Korakuen Hall show', 'Summer Action Series Night 1', 'Summer Action Series Night 22', 'Summer Action Series II Night 10', 'New Year Giant Series Night 20', 'Super Power Series Night 6', 'Super Power Series Night 16', '\tSummer Struggle', 'Wrestlemarinpiad', 'Matamoros show', 'Champion Carnival Night 19', 'Champion Carnival Night 19', 'Super Power Series Night 15', 'Summer Action Series Night 1', 'Destiny', 'Mexico City show', 'Big Ass Extreme Bash', 'Super Power Series Night 5', 'Super Power Series Night 15', '3rd Anniversary', 'Real World Tag League Night 16', 'Best of the Super Juniors IV Night 17', 'Super Power Series Night 16', 'Real World Tag League Night 15', 'Fourth Fighting Integration', '26th Anniversary Show', 'Super Power Series Night 14', 'October Giant Series Night 11', 'Navigate For Evolution', 'Joe vs. Punk II', 'Joe vs. Kobashi', 'Supercard of Honor', 'Battle of Los Angeles Night 2', 'Best of the Super Juniors Night 14', 'Battle of Los Angeles Night 3', 'All Star Weekend 13 Night 2', 'Wrestle Kingdom 12', 'NXT TakeOver: Philadelphia', 'Strong Style Evolved', 'Sakura Genesis', 'NXT TakeOver: New Orleans', 'Total Rumble 8', 'Wrestling Dontaku', 'Best of the Super Juniors Final', 'Dominion 6.9 in Osaka-jo Hall', 'NXT', 'G1 Climax 28 Night 2', 'G1 Climax 28 Night 4', 'G1 Climax 28 Night 6', 'G1 Climax 28 Night 14', 'G1 Climax 28 Night 17', 'G1 Climax 28 Night 18', 'G1 Climax 28 Night Final', 'Destruction in Kobe', 'Fighting Spirit Unleashed', 'Road to Tokyo Dome Night 2', 'Wrestle Kingdom 13', 'New Japan Cup Final', '\tBest of the Super Juniors Night 8', 'NXT TakeOver: New York', 'NXT TakeOver: XXV', 'Best of the Super Juniors Final', 'Dominion 6.9 in Osaka-jo Hall', 'G1 Climax 29 Night 5', 'G1 Climax 29 Night 6', 'G1 Climax 29 Night 7', 'Sixteen', 'G1 Climax 29 Night 13', 'G1 Climax 29 Night 14', 'G1 Climax 29 Night 16', 'G1 Climax 29 Night 17', 'G1 Climax 29 Night Finals', 'NXT UK TakeOver: Cardiff', 'Battle of Los Angeles Night 3', '5th Year Anniversary', 'High Stakes', 'Dynamite', 'G1 Climax 30 Night 5', 'G1 Climax 30 Night 13', 'NXT UK', 'The BEST ~Final Chronicle 2020~', \"New Year's Smash Night 1\", 'The New Beginning in Nagoya', 'New Japan Cup Night 8', 'New Japan Cup Night 13', 'Dynamite', 'Wrestling Dontaku 2021 Night 2', 'Tokyo Dream Cinderella', 'NXT TakeOver 36', 'G1 Climax 31 Night 1', 'AEW Grand Slam', 'Héroes Inmortales XIV', 'Winter is Coming', 'Beach Break', 'High Stakes']\n",
    "\n",
    "matches_df['PPV'] = pd.Series(np.where(matches_df['Event'].isin(non_ppv_events), False, True))"
   ],
   "metadata": {
    "collapsed": false,
    "pycharm": {
     "name": "#%%\n"
    }
   }
  },
  {
   "cell_type": "code",
   "execution_count": 287,
   "outputs": [],
   "source": [
    "matches_df.to_csv('5_star_matches_list.csv')"
   ],
   "metadata": {
    "collapsed": false,
    "pycharm": {
     "name": "#%%\n"
    }
   }
  },
  {
   "cell_type": "markdown",
   "source": [
    "# Alternate take\n",
    "This is another way of presenting the data, focusing on making the people wrestling the matches more accessible."
   ],
   "metadata": {
    "collapsed": false,
    "pycharm": {
     "name": "#%% md\n"
    }
   }
  },
  {
   "cell_type": "code",
   "execution_count": 316,
   "outputs": [
    {
     "name": "stderr",
     "output_type": "stream",
     "text": [
      "<ipython-input-316-ea6865796a2c>:2: FutureWarning: The default value of regex will change from True to False in a future version.\n",
      "  temp_split = matches_df['Match'].str.replace(', and', ',').str.replace('and', ',').str.replace('vs.', ',')\n"
     ]
    }
   ],
   "source": [
    "#temp_split = matches_df['Match'].str.split('vs.', expand=True)\n",
    "temp_split = matches_df['Match'].str.replace(', and', ',').str.replace('and', ',').str.replace('vs.', ',')\n",
    "# Splitting each person in teams\n",
    "#temp = temp_split.apply(lambda x: x.str.replace('and', ',')).apply(lambda x: x.str.split(',', expand=True))"
   ],
   "metadata": {
    "collapsed": false,
    "pycharm": {
     "name": "#%%\n"
    }
   }
  },
  {
   "cell_type": "code",
   "execution_count": 320,
   "outputs": [],
   "source": [
    "wreslters_in_match = temp_split.str.split(',', expand=True)\n",
    "\n",
    "def clean_up_wrestlers(x):\n",
    "    #print(x)\n",
    "    for i in range(len(x)):\n",
    "        elem = x[i]\n",
    "        if elem is not None:\n",
    "        # This is to deal with tag team names, just removing them and only leave the wrestler's name\n",
    "            elem = re.sub(r'^.*?\\(', '', elem)\n",
    "            elem = elem.replace(')', '')\n",
    "            elem = elem.strip()\n",
    "            x[i] = elem\n",
    "    return x\n",
    "\n",
    "\n",
    "wreslters_in_match.apply(lambda row: clean_up_wrestlers(row))\n",
    "\n",
    "new_column_names = []\n",
    "for elem in wreslters_in_match.columns:\n",
    "    new_column_names.append('Wrestler ' + str(elem+1))\n",
    "\n",
    "wreslters_in_match.columns = new_column_names"
   ],
   "metadata": {
    "collapsed": false,
    "pycharm": {
     "name": "#%%\n"
    }
   }
  },
  {
   "cell_type": "code",
   "execution_count": 321,
   "outputs": [
    {
     "data": {
      "text/plain": "            Wrestler 1       Wrestler 2     Wrestler 3  Wrestler 4 Wrestler 5  \\\n0            Ric Flair       Butch Reed           None        None       None   \n1         Dynamite Kid       Tiger Mask           None        None       None   \n2       Kazuo Yamazaki  Nobuhiko Takada           None        None       None   \n3        Bruiser Brody      Stan Hansen  Dory Funk Jr.  Terry Funk       None   \n4    Kuniaki Kobayashi       Tiger Mask           None        None       None   \n..                 ...              ...            ...         ...        ...   \n191          Adam Page      Kenny Omega           None        None       None   \n192          Adam Page  Bryan Danielson           None        None       None   \n193    Kazuchika Okada     Will Ospreay           None        None       None   \n194        Cody Rhodes    Sammy Guevara           None        None       None   \n195       Will Ospreay      Michael Oku           None        None       None   \n\n    Wrestler 6 Wrestler 7 Wrestler 8 Wrestler 9 Wrestler 10 Wrestler 11  \\\n0         None       None       None       None        None        None   \n1         None       None       None       None        None        None   \n2         None       None       None       None        None        None   \n3         None       None       None       None        None        None   \n4         None       None       None       None        None        None   \n..         ...        ...        ...        ...         ...         ...   \n191       None       None       None       None        None        None   \n192       None       None       None       None        None        None   \n193       None       None       None       None        None        None   \n194       None       None       None       None        None        None   \n195       None       None       None       None        None        None   \n\n    Wrestler 12  \n0          None  \n1          None  \n2          None  \n3          None  \n4          None  \n..          ...  \n191        None  \n192        None  \n193        None  \n194        None  \n195        None  \n\n[196 rows x 12 columns]",
      "text/html": "<div>\n<style scoped>\n    .dataframe tbody tr th:only-of-type {\n        vertical-align: middle;\n    }\n\n    .dataframe tbody tr th {\n        vertical-align: top;\n    }\n\n    .dataframe thead th {\n        text-align: right;\n    }\n</style>\n<table border=\"1\" class=\"dataframe\">\n  <thead>\n    <tr style=\"text-align: right;\">\n      <th></th>\n      <th>Wrestler 1</th>\n      <th>Wrestler 2</th>\n      <th>Wrestler 3</th>\n      <th>Wrestler 4</th>\n      <th>Wrestler 5</th>\n      <th>Wrestler 6</th>\n      <th>Wrestler 7</th>\n      <th>Wrestler 8</th>\n      <th>Wrestler 9</th>\n      <th>Wrestler 10</th>\n      <th>Wrestler 11</th>\n      <th>Wrestler 12</th>\n    </tr>\n  </thead>\n  <tbody>\n    <tr>\n      <th>0</th>\n      <td>Ric Flair</td>\n      <td>Butch Reed</td>\n      <td>None</td>\n      <td>None</td>\n      <td>None</td>\n      <td>None</td>\n      <td>None</td>\n      <td>None</td>\n      <td>None</td>\n      <td>None</td>\n      <td>None</td>\n      <td>None</td>\n    </tr>\n    <tr>\n      <th>1</th>\n      <td>Dynamite Kid</td>\n      <td>Tiger Mask</td>\n      <td>None</td>\n      <td>None</td>\n      <td>None</td>\n      <td>None</td>\n      <td>None</td>\n      <td>None</td>\n      <td>None</td>\n      <td>None</td>\n      <td>None</td>\n      <td>None</td>\n    </tr>\n    <tr>\n      <th>2</th>\n      <td>Kazuo Yamazaki</td>\n      <td>Nobuhiko Takada</td>\n      <td>None</td>\n      <td>None</td>\n      <td>None</td>\n      <td>None</td>\n      <td>None</td>\n      <td>None</td>\n      <td>None</td>\n      <td>None</td>\n      <td>None</td>\n      <td>None</td>\n    </tr>\n    <tr>\n      <th>3</th>\n      <td>Bruiser Brody</td>\n      <td>Stan Hansen</td>\n      <td>Dory Funk Jr.</td>\n      <td>Terry Funk</td>\n      <td>None</td>\n      <td>None</td>\n      <td>None</td>\n      <td>None</td>\n      <td>None</td>\n      <td>None</td>\n      <td>None</td>\n      <td>None</td>\n    </tr>\n    <tr>\n      <th>4</th>\n      <td>Kuniaki Kobayashi</td>\n      <td>Tiger Mask</td>\n      <td>None</td>\n      <td>None</td>\n      <td>None</td>\n      <td>None</td>\n      <td>None</td>\n      <td>None</td>\n      <td>None</td>\n      <td>None</td>\n      <td>None</td>\n      <td>None</td>\n    </tr>\n    <tr>\n      <th>...</th>\n      <td>...</td>\n      <td>...</td>\n      <td>...</td>\n      <td>...</td>\n      <td>...</td>\n      <td>...</td>\n      <td>...</td>\n      <td>...</td>\n      <td>...</td>\n      <td>...</td>\n      <td>...</td>\n      <td>...</td>\n    </tr>\n    <tr>\n      <th>191</th>\n      <td>Adam Page</td>\n      <td>Kenny Omega</td>\n      <td>None</td>\n      <td>None</td>\n      <td>None</td>\n      <td>None</td>\n      <td>None</td>\n      <td>None</td>\n      <td>None</td>\n      <td>None</td>\n      <td>None</td>\n      <td>None</td>\n    </tr>\n    <tr>\n      <th>192</th>\n      <td>Adam Page</td>\n      <td>Bryan Danielson</td>\n      <td>None</td>\n      <td>None</td>\n      <td>None</td>\n      <td>None</td>\n      <td>None</td>\n      <td>None</td>\n      <td>None</td>\n      <td>None</td>\n      <td>None</td>\n      <td>None</td>\n    </tr>\n    <tr>\n      <th>193</th>\n      <td>Kazuchika Okada</td>\n      <td>Will Ospreay</td>\n      <td>None</td>\n      <td>None</td>\n      <td>None</td>\n      <td>None</td>\n      <td>None</td>\n      <td>None</td>\n      <td>None</td>\n      <td>None</td>\n      <td>None</td>\n      <td>None</td>\n    </tr>\n    <tr>\n      <th>194</th>\n      <td>Cody Rhodes</td>\n      <td>Sammy Guevara</td>\n      <td>None</td>\n      <td>None</td>\n      <td>None</td>\n      <td>None</td>\n      <td>None</td>\n      <td>None</td>\n      <td>None</td>\n      <td>None</td>\n      <td>None</td>\n      <td>None</td>\n    </tr>\n    <tr>\n      <th>195</th>\n      <td>Will Ospreay</td>\n      <td>Michael Oku</td>\n      <td>None</td>\n      <td>None</td>\n      <td>None</td>\n      <td>None</td>\n      <td>None</td>\n      <td>None</td>\n      <td>None</td>\n      <td>None</td>\n      <td>None</td>\n      <td>None</td>\n    </tr>\n  </tbody>\n</table>\n<p>196 rows × 12 columns</p>\n</div>"
     },
     "execution_count": 321,
     "metadata": {},
     "output_type": "execute_result"
    }
   ],
   "source": [
    "wreslters_in_match"
   ],
   "metadata": {
    "collapsed": false,
    "pycharm": {
     "name": "#%%\n"
    }
   }
  },
  {
   "cell_type": "code",
   "execution_count": 322,
   "outputs": [],
   "source": [
    "to_make_csv_wrestlers = pd.concat([matches_df.drop(['Participant 1', 'Participant 2', 'Participant 3', 'Participant 4', 'Participant 5', 'Participant 6'], axis=1), wreslters_in_match], axis=1)"
   ],
   "metadata": {
    "collapsed": false,
    "pycharm": {
     "name": "#%%\n"
    }
   }
  },
  {
   "cell_type": "code",
   "execution_count": 325,
   "outputs": [],
   "source": [
    "to_make_csv_wrestlers.to_csv('5_star_matches_wrestler_list.csv')"
   ],
   "metadata": {
    "collapsed": false,
    "pycharm": {
     "name": "#%%\n"
    }
   }
  }
 ],
 "metadata": {
  "kernelspec": {
   "display_name": "Python 3",
   "language": "python",
   "name": "python3"
  },
  "language_info": {
   "codemirror_mode": {
    "name": "ipython",
    "version": 2
   },
   "file_extension": ".py",
   "mimetype": "text/x-python",
   "name": "python",
   "nbconvert_exporter": "python",
   "pygments_lexer": "ipython2",
   "version": "2.7.6"
  }
 },
 "nbformat": 4,
 "nbformat_minor": 0
}