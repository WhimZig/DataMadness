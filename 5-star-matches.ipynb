{
 "cells": [
  {
   "cell_type": "code",
   "execution_count": 2,
   "metadata": {
    "collapsed": true
   },
   "outputs": [
    {
     "name": "stdout",
     "output_type": "stream",
     "text": [
      "Request terminated with status code 200\n",
      "Response encoded with UTF-8\n"
     ]
    }
   ],
   "source": [
    "from bs4 import BeautifulSoup\n",
    "import requests\n",
    "import pandas as pd\n",
    "import re\n",
    "\n",
    "url = 'https://en.wikipedia.org/wiki/List_of_professional_wrestling_matches_rated_5_or_more_stars_by_Dave_Meltzer#Wrestlers_with_the_most_5-or-higher-star_matches'\n",
    "\n",
    "req = requests.get(url)\n",
    "print(f\"Request terminated with status code {req.status_code}\")\n",
    "print(f\"Response encoded with {req.encoding}\")\n",
    "# as before, we can add the HTML to our soup\n",
    "wiki_soup = BeautifulSoup(req.text, 'html.parser')"
   ]
  },
  {
   "cell_type": "code",
   "execution_count": 51,
   "outputs": [
    {
     "name": "stderr",
     "output_type": "stream",
     "text": [
      "<ipython-input-51-202cdd16a680>:16: SettingWithCopyWarning: \n",
      "A value is trying to be set on a copy of a slice from a DataFrame\n",
      "\n",
      "See the caveats in the documentation: https://pandas.pydata.org/pandas-docs/stable/user_guide/indexing.html#returning-a-view-versus-a-copy\n",
      "  matches_df['Match'][0] = matches_df['Match'][0][:-3]\n"
     ]
    }
   ],
   "source": [
    "tables = wiki_soup('table') # your code goes here\n",
    "# and here we need to look the table titles to find id of the table that interests us\n",
    "\n",
    "matches_df = pd.read_html(str(tables[0]))[0]\n",
    "for i in range(1,5):\n",
    "    matches_df = pd.concat([matches_df, pd.read_html(str(tables[i]))[0]])\n",
    "\n",
    "# These columns are fluff that are only helpful in wikipedi\n",
    "matches_df = matches_df.drop(['Unnamed: 0', 'Ref.'], axis=1)\n",
    "matches_df = matches_df.reset_index(drop=True)\n",
    "\n",
    "# Reformatting the rating to be a series of floats\n",
    "matches_df['Rating'] = matches_df['Rating'].astype(str).map(lambda x: x.rstrip('[]abcd')).astype(float)\n",
    "\n",
    "# Manually fixing one of the entries, because this is honestly the easiest way to proceed\n",
    "matches_df['Match'][0] = matches_df['Match'][0][:-3]"
   ],
   "metadata": {
    "collapsed": false,
    "pycharm": {
     "name": "#%%\n"
    }
   }
  },
  {
   "cell_type": "code",
   "execution_count": 251,
   "outputs": [],
   "source": [
    "# Splitting who fought who\n",
    "temp_split = matches_df['Match'].str.split('vs.', expand=True)\n",
    "\n",
    "# Splitting each person in teams\n",
    "temp = temp_split.apply(lambda x: x.str.replace('and', ',')).apply(lambda x: x.str.split(','))\n",
    "\n",
    "def clean_up_list(x):\n",
    "    for col in x:\n",
    "        if col is not None:\n",
    "            if ' ' in col:\n",
    "                # At some point empty characters are created, beats me why\n",
    "                col.remove(' ')\n",
    "            for i in range(len(col)):\n",
    "                elem = col[i]\n",
    "                # This is to deal with tag team names, just removing them and only leave the wrestler's name\n",
    "                elem = re.sub(r'^.*?\\(', '', elem)\n",
    "                elem = elem.replace(')', '')\n",
    "                elem = elem.strip()\n",
    "                col[i] = elem\n",
    "    return x\n",
    "\n",
    "temp.apply(lambda row: clean_up_list(row))\n",
    "\n",
    "new_column_names = []\n",
    "for elem in temp.columns:\n",
    "    new_column_names.append('Participant ' + str(elem+1))\n",
    "\n",
    "temp.columns = new_column_names\n",
    "\n",
    "matches_df = pd.concat([matches_df.drop('Match', axis=1), temp], axis=1)"
   ],
   "metadata": {
    "collapsed": false,
    "pycharm": {
     "name": "#%%\n"
    }
   }
  },
  {
   "cell_type": "code",
   "execution_count": 252,
   "outputs": [
    {
     "data": {
      "text/plain": "                  Date Promotion                              Event  Rating  \\\n0        April 7, 1982       CWF                   Miami Beach show    5.00   \n1       April 21, 1983      NJPW        Big Fight Series IINight 19    5.00   \n2     December 5, 1984       UWF             Year-End SpecialDay 10    5.00   \n3     December 8, 1984      AJPW      Real World Tag LeagueNight 15    5.00   \n4        March 9, 1985      AJPW  85 Gekitoh! Exciting WarsNight 14    5.00   \n..                 ...       ...                                ...     ...   \n191  November 13, 2021       AEW                          Full Gear    5.50   \n192  December 15, 2021       AEW                   Winter is Coming    5.00   \n193    January 5, 2022      NJPW          Wrestle Kingdom 16Night 2    5.75   \n194   January 26, 2022       AEW                        Beach Break    5.00   \n195   January 29, 2022       RPW                        High Stakes    5.00   \n\n                    Participant 1                Participant 2 Participant 3  \\\n0                     [Ric Flair]                 [Butch Reed]          None   \n1                  [Dynamite Kid]                 [Tiger Mask]          None   \n2                [Kazuo Yamazaki]            [Nobuhiko Takada]          None   \n3    [Bruiser Brody, Stan Hansen]  [Dory Funk Jr., Terry Funk]          None   \n4             [Kuniaki Kobayashi]                 [Tiger Mask]          None   \n..                            ...                          ...           ...   \n191                   [Adam Page]                [Kenny Omega]          None   \n192                   [Adam Page]            [Bryan Danielson]          None   \n193             [Kazuchika Okada]               [Will Ospreay]          None   \n194                 [Cody Rhodes]              [Sammy Guevara]          None   \n195                [Will Ospreay]                [Michael Oku]          None   \n\n    Participant 4 Participant 5 Participant 6  \n0            None          None          None  \n1            None          None          None  \n2            None          None          None  \n3            None          None          None  \n4            None          None          None  \n..            ...           ...           ...  \n191          None          None          None  \n192          None          None          None  \n193          None          None          None  \n194          None          None          None  \n195          None          None          None  \n\n[196 rows x 10 columns]",
      "text/html": "<div>\n<style scoped>\n    .dataframe tbody tr th:only-of-type {\n        vertical-align: middle;\n    }\n\n    .dataframe tbody tr th {\n        vertical-align: top;\n    }\n\n    .dataframe thead th {\n        text-align: right;\n    }\n</style>\n<table border=\"1\" class=\"dataframe\">\n  <thead>\n    <tr style=\"text-align: right;\">\n      <th></th>\n      <th>Date</th>\n      <th>Promotion</th>\n      <th>Event</th>\n      <th>Rating</th>\n      <th>Participant 1</th>\n      <th>Participant 2</th>\n      <th>Participant 3</th>\n      <th>Participant 4</th>\n      <th>Participant 5</th>\n      <th>Participant 6</th>\n    </tr>\n  </thead>\n  <tbody>\n    <tr>\n      <th>0</th>\n      <td>April 7, 1982</td>\n      <td>CWF</td>\n      <td>Miami Beach show</td>\n      <td>5.00</td>\n      <td>[Ric Flair]</td>\n      <td>[Butch Reed]</td>\n      <td>None</td>\n      <td>None</td>\n      <td>None</td>\n      <td>None</td>\n    </tr>\n    <tr>\n      <th>1</th>\n      <td>April 21, 1983</td>\n      <td>NJPW</td>\n      <td>Big Fight Series IINight 19</td>\n      <td>5.00</td>\n      <td>[Dynamite Kid]</td>\n      <td>[Tiger Mask]</td>\n      <td>None</td>\n      <td>None</td>\n      <td>None</td>\n      <td>None</td>\n    </tr>\n    <tr>\n      <th>2</th>\n      <td>December 5, 1984</td>\n      <td>UWF</td>\n      <td>Year-End SpecialDay 10</td>\n      <td>5.00</td>\n      <td>[Kazuo Yamazaki]</td>\n      <td>[Nobuhiko Takada]</td>\n      <td>None</td>\n      <td>None</td>\n      <td>None</td>\n      <td>None</td>\n    </tr>\n    <tr>\n      <th>3</th>\n      <td>December 8, 1984</td>\n      <td>AJPW</td>\n      <td>Real World Tag LeagueNight 15</td>\n      <td>5.00</td>\n      <td>[Bruiser Brody, Stan Hansen]</td>\n      <td>[Dory Funk Jr., Terry Funk]</td>\n      <td>None</td>\n      <td>None</td>\n      <td>None</td>\n      <td>None</td>\n    </tr>\n    <tr>\n      <th>4</th>\n      <td>March 9, 1985</td>\n      <td>AJPW</td>\n      <td>85 Gekitoh! Exciting WarsNight 14</td>\n      <td>5.00</td>\n      <td>[Kuniaki Kobayashi]</td>\n      <td>[Tiger Mask]</td>\n      <td>None</td>\n      <td>None</td>\n      <td>None</td>\n      <td>None</td>\n    </tr>\n    <tr>\n      <th>...</th>\n      <td>...</td>\n      <td>...</td>\n      <td>...</td>\n      <td>...</td>\n      <td>...</td>\n      <td>...</td>\n      <td>...</td>\n      <td>...</td>\n      <td>...</td>\n      <td>...</td>\n    </tr>\n    <tr>\n      <th>191</th>\n      <td>November 13, 2021</td>\n      <td>AEW</td>\n      <td>Full Gear</td>\n      <td>5.50</td>\n      <td>[Adam Page]</td>\n      <td>[Kenny Omega]</td>\n      <td>None</td>\n      <td>None</td>\n      <td>None</td>\n      <td>None</td>\n    </tr>\n    <tr>\n      <th>192</th>\n      <td>December 15, 2021</td>\n      <td>AEW</td>\n      <td>Winter is Coming</td>\n      <td>5.00</td>\n      <td>[Adam Page]</td>\n      <td>[Bryan Danielson]</td>\n      <td>None</td>\n      <td>None</td>\n      <td>None</td>\n      <td>None</td>\n    </tr>\n    <tr>\n      <th>193</th>\n      <td>January 5, 2022</td>\n      <td>NJPW</td>\n      <td>Wrestle Kingdom 16Night 2</td>\n      <td>5.75</td>\n      <td>[Kazuchika Okada]</td>\n      <td>[Will Ospreay]</td>\n      <td>None</td>\n      <td>None</td>\n      <td>None</td>\n      <td>None</td>\n    </tr>\n    <tr>\n      <th>194</th>\n      <td>January 26, 2022</td>\n      <td>AEW</td>\n      <td>Beach Break</td>\n      <td>5.00</td>\n      <td>[Cody Rhodes]</td>\n      <td>[Sammy Guevara]</td>\n      <td>None</td>\n      <td>None</td>\n      <td>None</td>\n      <td>None</td>\n    </tr>\n    <tr>\n      <th>195</th>\n      <td>January 29, 2022</td>\n      <td>RPW</td>\n      <td>High Stakes</td>\n      <td>5.00</td>\n      <td>[Will Ospreay]</td>\n      <td>[Michael Oku]</td>\n      <td>None</td>\n      <td>None</td>\n      <td>None</td>\n      <td>None</td>\n    </tr>\n  </tbody>\n</table>\n<p>196 rows × 10 columns</p>\n</div>"
     },
     "execution_count": 252,
     "metadata": {},
     "output_type": "execute_result"
    }
   ],
   "source": [
    "matches_df"
   ],
   "metadata": {
    "collapsed": false,
    "pycharm": {
     "name": "#%%\n"
    }
   }
  }
 ],
 "metadata": {
  "kernelspec": {
   "display_name": "Python 3",
   "language": "python",
   "name": "python3"
  },
  "language_info": {
   "codemirror_mode": {
    "name": "ipython",
    "version": 2
   },
   "file_extension": ".py",
   "mimetype": "text/x-python",
   "name": "python",
   "nbconvert_exporter": "python",
   "pygments_lexer": "ipython2",
   "version": "2.7.6"
  }
 },
 "nbformat": 4,
 "nbformat_minor": 0
}