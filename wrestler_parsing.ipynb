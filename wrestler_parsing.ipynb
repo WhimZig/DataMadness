{
 "cells": [
  {
   "cell_type": "code",
   "execution_count": 1,
   "id": "b66d8631",
   "metadata": {},
   "outputs": [],
   "source": [
    "import requests\n",
    "from bs4 import BeautifulSoup\n",
    "import pandas as pd\n",
    "import numpy as np\n",
    "from typing import List, Tuple"
   ]
  },
  {
   "cell_type": "markdown",
   "id": "dbfe021d",
   "metadata": {},
   "source": [
    "## To-Do\n",
    "* Tag Teams\n",
    "* Stables\n",
    "* Trainer\n",
    "* Finisher\n",
    "* Trademark Moves"
   ]
  },
  {
   "cell_type": "code",
   "execution_count": 2,
   "id": "4f29c239-ea56-4fc0-a597-233f18acdc48",
   "metadata": {},
   "outputs": [],
   "source": [
    "def getGeneralInfo(wrestlerID: int) -> Tuple[pd.DataFrame, pd.DataFrame]:\n",
    "    \"\"\"\n",
    "        Arguments:\n",
    "            wrestlerID: wrestlingdata index for this wrestler, minimum is 1, maximum is 30195\n",
    "            \n",
    "        Returns:\n",
    "            GeneralInfo, Facts\n",
    "    \"\"\"\n",
    "    A = requests.get('https://www.wrestlingdata.com/index.php?befehl=bios&wrestler=%d'%wrestlerID)\n",
    "    wrestler = BeautifulSoup(A.text, 'html.parser')\n",
    "    children = list(wrestler.find(title=\"General Information\").parent.parent.children)\n",
    "    GeneralInfo = {c.attrs['title'] : [list(c.children)[3].text.strip('\\n')] for c in wrestler.find(title=\"General Information\").parent.parent.children if 'attrs' in c.__dict__ and 'title' in c.attrs}\n",
    "    wrestler_name = list(wrestler.find(style=\"width:100%;\", cellpadding=\"4\", cellspacing=\"2\").children)[1].find(style=\"font-size: 14px;\").text.strip('\\n')\n",
    "    res = pd.DataFrame(GeneralInfo, index = [wrestlerID])\n",
    "    res['wrestler_name'] = [wrestler_name]\n",
    "    tables2 = wrestler.find(title='Facts')\n",
    "    B = pd.read_html(str(list(list(tables2.parent.parent.parent.parent.parent.children)[3].children)[1].table))\n",
    "    return res.transpose(), B[0]"
   ]
  },
  {
   "cell_type": "code",
   "execution_count": 3,
   "id": "4b21018d-f61b-4ccc-a1ac-3492ab091e99",
   "metadata": {},
   "outputs": [],
   "source": [
    "def get50wrestlers(top_index: int) -> List[int]:\n",
    "    \"\"\"\n",
    "        Arguments:\n",
    "            top_index: the index of the 'Rankings' page, minimum is 1, maximum is 105\n",
    "        \n",
    "        Returns:\n",
    "            A list of wrestlerID's corresponding to the list of wrestlers on the Rankings page with the given page number \"top_index\"\n",
    "    \"\"\"\n",
    "    B = requests.get('https://www.wrestlingdata.com/index.php?befehl=bios&letter=2&seite=%d'%top_index)\n",
    "    wrestlerlist = BeautifulSoup(B.text, 'html.parser')\n",
    "    return [int(list(list(x.children)[2].children)[1].attrs['href'][32:]) for x in list(wrestlerlist.find(title=\"Liste der Wrestler\").children)[3:]]"
   ]
  },
  {
   "cell_type": "code",
   "execution_count": 4,
   "id": "96021c50-cead-45f1-a1e6-861fe3099225",
   "metadata": {},
   "outputs": [],
   "source": [
    "def getSample(sample_indices: List[int]) -> Tuple[pd.DataFrame, pd.DataFrame]:\n",
    "    \"\"\"\n",
    "        Arguments:\n",
    "            sample_indices: A list of wrestlerID's to be used as index for this sample\n",
    "        \n",
    "        Returns:\n",
    "            generalInfo, allFacts\n",
    "    \"\"\"\n",
    "    sample_GeneralInfo = [None for _ in range(len(sample_indices))]\n",
    "    sample_Facts = [None for _ in range(len(sample_indices))]\n",
    "    for i in range(len(sample_indices)):\n",
    "        sample_GeneralInfo[i], sample_Facts[i] = getGeneralInfo(sample_indices[i])\n",
    "    generalInfo = pd.concat([x.transpose() for x in sample_GeneralInfo])\n",
    "    \n",
    "    res = pd.Index([])\n",
    "    for x in sample_Facts:\n",
    "        res = pd.concat([pd.Series(res), pd.Series(x[0].value_counts().index)])\n",
    "    fact_columns = res.value_counts().index\n",
    "    likely_columns = [x for x in fact_columns if len(x) < 40]\n",
    "    ts = [None for _ in generalInfo.index]\n",
    "    for i in range(len(generalInfo.index)):\n",
    "        t = sample_Facts[i].groupby(0).agg(**{\"%d\"%generalInfo.index[i]: (1, set)})\n",
    "        ts[i] = t.loc[t.index.intersection(likely_columns)].transpose()\n",
    "    allFacts = pd.concat(ts)\n",
    "    return generalInfo, allFacts"
   ]
  },
  {
   "cell_type": "code",
   "execution_count": 5,
   "id": "e510ce48-04e0-4c6a-b180-c244fed12eb9",
   "metadata": {},
   "outputs": [],
   "source": [
    "# indices = [4, 35, 41, 51, 81, 86, 93, 100] # these are the indices currently missing\n",
    "# w150 = []\n",
    "# for i in indices:\n",
    "#     print(i)\n",
    "#     w150 += get50wrestlers(i)"
   ]
  },
  {
   "cell_type": "code",
   "execution_count": 6,
   "id": "b3d90b9d-c3b6-45d1-8ff7-08818e520614",
   "metadata": {
    "pycharm": {
     "name": "#%%\n"
    }
   },
   "outputs": [],
   "source": [
    "# generalInfo, allFacts = getSample(w150)\n",
    "#\n",
    "# fact_counts = pd.DataFrame({col: allFacts[col].apply(lambda x : x.__len__() if type(x) == set else 0) for col in allFacts.columns})\n",
    "#\n",
    "# fact_counts.to_csv('facts_counts.csv')\n",
    "#\n",
    "# generalInfo.to_csv('Data/general_info_per_wrestler_10.csv')\n",
    "#\n",
    "# print('Finished writing')"
   ]
  },
  {
   "cell_type": "markdown",
   "source": [
    "Indexes that need to be manually done:\n",
    "4, 35, 41, 51, 81, 86, 93, 100"
   ],
   "metadata": {
    "collapsed": false,
    "pycharm": {
     "name": "#%% md\n"
    }
   }
  },
  {
   "cell_type": "code",
   "execution_count": 7,
   "outputs": [],
   "source": [
    "wrestler_info = pd.read_csv('Data/general_info_per_wrestler.csv')\n",
    "wrestler_info.rename(columns={'Unnamed: 0': 'key'}, inplace=True)\n",
    "wrestler_info.drop(['Height', 'Unnamed: 9'], axis=1, inplace=True)\n",
    "wrestler_info.astype({'Weight and Height': 'str', 'Birthplace' : 'str', 'Date of Birth': 'str', 'Debut': 'str', 'Date of Death': 'str'})"
   ],
   "metadata": {
    "collapsed": false,
    "pycharm": {
     "name": "#%%\n"
    }
   }
  },
  {
   "cell_type": "markdown",
   "source": [
    "# TODO\n",
    "There's a temporary list of wrestlers. We've gotta parse them to clean the list up. Parsing will focus on the following:\n",
    "- Separating height and weight (we'll use kilos and meters for easiness sake)\n",
    "- Separating country of birth\n",
    "- Parsing date columns into datetime format"
   ],
   "metadata": {
    "collapsed": false,
    "pycharm": {
     "name": "#%% md\n"
    }
   }
  },
  {
   "cell_type": "code",
   "execution_count": 37,
   "outputs": [],
   "source": [
    "# This adds the country of birth as a column to the dataframe\n",
    "birth_countries = wrestler_info[~wrestler_info['Birthplace'].isnull()]['Birthplace'].apply(lambda st: st[st.find(\"(\")+1:st.find(\")\")])\n",
    "\n",
    "wrestler_info['Birth Country'] = birth_countries"
   ],
   "metadata": {
    "collapsed": false,
    "pycharm": {
     "name": "#%%\n"
    }
   }
  },
  {
   "cell_type": "code",
   "execution_count": 88,
   "outputs": [],
   "source": [
    "height_and_weight = wrestler_info[~wrestler_info['Weight and Height'].isnull()]['Weight and Height'].str.split('at', expand=True)\n",
    "\n",
    "weight = height_and_weight[~height_and_weight[0].isnull()][0].apply(lambda st: st[st.find(\"(\")+1:st.find(\")\")])\n",
    "weight = pd.to_numeric(weight.str[:-3], errors='coerce')\n",
    "weight = weight[~weight.isnull()]\n",
    "wrestler_info['Weight'] = weight\n",
    "\n",
    "height = height_and_weight[~height_and_weight[1].isnull()][1].apply(lambda st: st[st.find(\"(\")+1:st.find(\")\")])\n",
    "height = pd.to_numeric(height.str[:-2], errors='coerce')\n",
    "height = height[~height.isnull()]\n",
    "wrestler_info['Height'] = height\n",
    "\n",
    "wrestler_info.drop(['Weight and Height'], axis=1, inplace=True)"
   ],
   "metadata": {
    "collapsed": false,
    "pycharm": {
     "name": "#%%\n"
    }
   }
  },
  {
   "cell_type": "code",
   "execution_count": 105,
   "outputs": [],
   "source": [
    "dob = wrestler_info['Date of Birth'].str.replace(r\"\\(.*\\)\",\"\", regex=True)\n",
    "dob = pd.to_datetime(dob, errors='coerce')\n",
    "\n",
    "debut = wrestler_info['Debut'].str.replace(r\"\\(.*\\)\",\"\", regex=True)\n",
    "debut = pd.to_datetime(debut, errors='coerce')\n",
    "\n",
    "death = wrestler_info['Date of Death'].str.replace(r\"\\(.*\\)\",\"\", regex=True)\n",
    "death = pd.to_datetime(dob, errors='coerce')\n",
    "\n",
    "wrestler_info['Date of Birth'] = dob\n",
    "wrestler_info['Debut'] = debut\n",
    "wrestler_info['Date of Death'] = death"
   ],
   "metadata": {
    "collapsed": false,
    "pycharm": {
     "name": "#%%\n"
    }
   }
  },
  {
   "cell_type": "code",
   "execution_count": 106,
   "outputs": [
    {
     "data": {
      "text/plain": "        key                     Real Name  \\\n0      6990               Kazuchika Okada   \n1       216         Curtis Michael Hennig   \n2       458                Keiichi Yamada   \n3       766                 Satoru Sayama   \n4        64  Eduardo Gori Guerrero Llanes   \n...     ...                           ...   \n4792  26139                   Kim Winslow   \n4793   6452         Héctor Pérez González   \n4794   4998                       unknown   \n4795   3262                       unknown   \n4796   4262         Scott Cameron Despres   \n\n                                             Birthplace Date of Birth  \\\n0                                   Anjo, Aichi (Japan)    1987-11-08   \n1     Robbinsdale, Minnesota (United States of America)    1958-03-28   \n2                          Hiroshima, Hiroshima (Japan)    1964-11-30   \n3                        Shimonoseki, Yamaguchi (Japan)    1957-11-24   \n4             El Paso, Texas (United States of America)    1967-10-09   \n...                                                 ...           ...   \n4792                  Nevada (United States of America)           NaT   \n4793                                             Mexico    1964-07-23   \n4794                                                NaN           NaT   \n4795                                                NaN           NaT   \n4796         Utica, New York (United States of America)    1970-09-04   \n\n          Debut         wrestler_name Date of Death             Birth Country  \\\n0    2004-08-29       Kazuchika Okada    1987-11-08                     Japan   \n1    1981-01-30           Curt Hennig    1958-03-28  United States of America   \n2    1984-03-03  Jushin Thunder Liger    1964-11-30                     Japan   \n3    1976-05-28      First Tiger Mask    1957-11-24                     Japan   \n4    1987-09-18        Eddie Guerrero    1967-10-09  United States of America   \n...         ...                   ...           ...                       ...   \n4792        NaT          Kim Winslow            NaT  United States of America   \n4793 1983-01-01       Ángel o Demonio    1964-07-23                     Mexic   \n4794        NaT       Jimmy Shoulders           NaT                       NaN   \n4795        NaT           Mike Khoury           NaT                       NaN   \n4796 1988-01-01         Maverick Wild    1970-09-04  United States of America   \n\n      Height  Weight  \n0       1.91   109.0  \n1       1.91   118.0  \n2       1.68    94.0  \n3       1.73    96.0  \n4       1.73   100.0  \n...      ...     ...  \n4792     NaN     NaN  \n4793     NaN     NaN  \n4794     NaN     NaN  \n4795     NaN     NaN  \n4796    1.80   100.0  \n\n[4797 rows x 10 columns]",
      "text/html": "<div>\n<style scoped>\n    .dataframe tbody tr th:only-of-type {\n        vertical-align: middle;\n    }\n\n    .dataframe tbody tr th {\n        vertical-align: top;\n    }\n\n    .dataframe thead th {\n        text-align: right;\n    }\n</style>\n<table border=\"1\" class=\"dataframe\">\n  <thead>\n    <tr style=\"text-align: right;\">\n      <th></th>\n      <th>key</th>\n      <th>Real Name</th>\n      <th>Birthplace</th>\n      <th>Date of Birth</th>\n      <th>Debut</th>\n      <th>wrestler_name</th>\n      <th>Date of Death</th>\n      <th>Birth Country</th>\n      <th>Height</th>\n      <th>Weight</th>\n    </tr>\n  </thead>\n  <tbody>\n    <tr>\n      <th>0</th>\n      <td>6990</td>\n      <td>Kazuchika Okada</td>\n      <td>Anjo, Aichi (Japan)</td>\n      <td>1987-11-08</td>\n      <td>2004-08-29</td>\n      <td>Kazuchika Okada</td>\n      <td>1987-11-08</td>\n      <td>Japan</td>\n      <td>1.91</td>\n      <td>109.0</td>\n    </tr>\n    <tr>\n      <th>1</th>\n      <td>216</td>\n      <td>Curtis Michael Hennig</td>\n      <td>Robbinsdale, Minnesota (United States of America)</td>\n      <td>1958-03-28</td>\n      <td>1981-01-30</td>\n      <td>Curt Hennig</td>\n      <td>1958-03-28</td>\n      <td>United States of America</td>\n      <td>1.91</td>\n      <td>118.0</td>\n    </tr>\n    <tr>\n      <th>2</th>\n      <td>458</td>\n      <td>Keiichi Yamada</td>\n      <td>Hiroshima, Hiroshima (Japan)</td>\n      <td>1964-11-30</td>\n      <td>1984-03-03</td>\n      <td>Jushin Thunder Liger</td>\n      <td>1964-11-30</td>\n      <td>Japan</td>\n      <td>1.68</td>\n      <td>94.0</td>\n    </tr>\n    <tr>\n      <th>3</th>\n      <td>766</td>\n      <td>Satoru Sayama</td>\n      <td>Shimonoseki, Yamaguchi (Japan)</td>\n      <td>1957-11-24</td>\n      <td>1976-05-28</td>\n      <td>First Tiger Mask</td>\n      <td>1957-11-24</td>\n      <td>Japan</td>\n      <td>1.73</td>\n      <td>96.0</td>\n    </tr>\n    <tr>\n      <th>4</th>\n      <td>64</td>\n      <td>Eduardo Gori Guerrero Llanes</td>\n      <td>El Paso, Texas (United States of America)</td>\n      <td>1967-10-09</td>\n      <td>1987-09-18</td>\n      <td>Eddie Guerrero</td>\n      <td>1967-10-09</td>\n      <td>United States of America</td>\n      <td>1.73</td>\n      <td>100.0</td>\n    </tr>\n    <tr>\n      <th>...</th>\n      <td>...</td>\n      <td>...</td>\n      <td>...</td>\n      <td>...</td>\n      <td>...</td>\n      <td>...</td>\n      <td>...</td>\n      <td>...</td>\n      <td>...</td>\n      <td>...</td>\n    </tr>\n    <tr>\n      <th>4792</th>\n      <td>26139</td>\n      <td>Kim Winslow</td>\n      <td>Nevada (United States of America)</td>\n      <td>NaT</td>\n      <td>NaT</td>\n      <td>Kim Winslow</td>\n      <td>NaT</td>\n      <td>United States of America</td>\n      <td>NaN</td>\n      <td>NaN</td>\n    </tr>\n    <tr>\n      <th>4793</th>\n      <td>6452</td>\n      <td>Héctor Pérez González</td>\n      <td>Mexico</td>\n      <td>1964-07-23</td>\n      <td>1983-01-01</td>\n      <td>Ángel o Demonio</td>\n      <td>1964-07-23</td>\n      <td>Mexic</td>\n      <td>NaN</td>\n      <td>NaN</td>\n    </tr>\n    <tr>\n      <th>4794</th>\n      <td>4998</td>\n      <td>unknown</td>\n      <td>NaN</td>\n      <td>NaT</td>\n      <td>NaT</td>\n      <td>Jimmy Shoulders</td>\n      <td>NaT</td>\n      <td>NaN</td>\n      <td>NaN</td>\n      <td>NaN</td>\n    </tr>\n    <tr>\n      <th>4795</th>\n      <td>3262</td>\n      <td>unknown</td>\n      <td>NaN</td>\n      <td>NaT</td>\n      <td>NaT</td>\n      <td>Mike Khoury</td>\n      <td>NaT</td>\n      <td>NaN</td>\n      <td>NaN</td>\n      <td>NaN</td>\n    </tr>\n    <tr>\n      <th>4796</th>\n      <td>4262</td>\n      <td>Scott Cameron Despres</td>\n      <td>Utica, New York (United States of America)</td>\n      <td>1970-09-04</td>\n      <td>1988-01-01</td>\n      <td>Maverick Wild</td>\n      <td>1970-09-04</td>\n      <td>United States of America</td>\n      <td>1.80</td>\n      <td>100.0</td>\n    </tr>\n  </tbody>\n</table>\n<p>4797 rows × 10 columns</p>\n</div>"
     },
     "execution_count": 106,
     "metadata": {},
     "output_type": "execute_result"
    }
   ],
   "source": [
    "wrestler_info"
   ],
   "metadata": {
    "collapsed": false,
    "pycharm": {
     "name": "#%%\n"
    }
   }
  }
 ],
 "metadata": {
  "kernelspec": {
   "display_name": "Python 3 (ipykernel)",
   "language": "python",
   "name": "python3"
  },
  "language_info": {
   "codemirror_mode": {
    "name": "ipython",
    "version": 3
   },
   "file_extension": ".py",
   "mimetype": "text/x-python",
   "name": "python",
   "nbconvert_exporter": "python",
   "pygments_lexer": "ipython3",
   "version": "3.9.7"
  }
 },
 "nbformat": 4,
 "nbformat_minor": 5
}